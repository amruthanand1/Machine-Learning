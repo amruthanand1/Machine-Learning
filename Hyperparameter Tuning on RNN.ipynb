{
 "cells": [
  {
   "cell_type": "code",
   "execution_count": 1,
   "metadata": {},
   "outputs": [],
   "source": [
    "import tensorflow as tf\n",
    "import numpy as np\n",
    "import pandas as pd\n",
    "#import numpy as np\n",
    "#import pandas as pd\n",
    "import matplotlib.pyplot as plt\n",
    "#import seaborn as sns\n",
    "from scipy import stats\n",
    "#from sklearn.ensemble import RandomForestRegressor\n",
    "from sklearn.metrics import mean_squared_error, mean_absolute_error\n",
    "from sklearn.model_selection import train_test_split\n",
    "from sklearn.metrics import r2_score\n",
    "import seaborn as sns"
   ]
  },
  {
   "cell_type": "code",
   "execution_count": 2,
   "metadata": {},
   "outputs": [
    {
     "data": {
      "text/html": [
       "<div>\n",
       "<style scoped>\n",
       "    .dataframe tbody tr th:only-of-type {\n",
       "        vertical-align: middle;\n",
       "    }\n",
       "\n",
       "    .dataframe tbody tr th {\n",
       "        vertical-align: top;\n",
       "    }\n",
       "\n",
       "    .dataframe thead th {\n",
       "        text-align: right;\n",
       "    }\n",
       "</style>\n",
       "<table border=\"1\" class=\"dataframe\">\n",
       "  <thead>\n",
       "    <tr style=\"text-align: right;\">\n",
       "      <th></th>\n",
       "      <th>number_of_rooms</th>\n",
       "      <th>floor_on</th>\n",
       "      <th>total_floors</th>\n",
       "      <th>bedroom</th>\n",
       "      <th>pincode</th>\n",
       "      <th>balkon</th>\n",
       "      <th>terrasse</th>\n",
       "      <th>garten</th>\n",
       "      <th>Gaste-WC</th>\n",
       "      <th>Aufzug</th>\n",
       "      <th>wohung</th>\n",
       "      <th>construction_year</th>\n",
       "      <th>living_area_m2</th>\n",
       "      <th>transform_price</th>\n",
       "    </tr>\n",
       "  </thead>\n",
       "  <tbody>\n",
       "    <tr>\n",
       "      <th>69</th>\n",
       "      <td>2.0</td>\n",
       "      <td>0</td>\n",
       "      <td>0</td>\n",
       "      <td>1</td>\n",
       "      <td>12159</td>\n",
       "      <td>0</td>\n",
       "      <td>0</td>\n",
       "      <td>0</td>\n",
       "      <td>0</td>\n",
       "      <td>0</td>\n",
       "      <td>1</td>\n",
       "      <td>1930</td>\n",
       "      <td>4.189655</td>\n",
       "      <td>8.313343</td>\n",
       "    </tr>\n",
       "    <tr>\n",
       "      <th>7710</th>\n",
       "      <td>7.0</td>\n",
       "      <td>0</td>\n",
       "      <td>2</td>\n",
       "      <td>5</td>\n",
       "      <td>15732</td>\n",
       "      <td>1</td>\n",
       "      <td>1</td>\n",
       "      <td>1</td>\n",
       "      <td>1</td>\n",
       "      <td>1</td>\n",
       "      <td>0</td>\n",
       "      <td>1983</td>\n",
       "      <td>5.209705</td>\n",
       "      <td>8.600407</td>\n",
       "    </tr>\n",
       "    <tr>\n",
       "      <th>12491</th>\n",
       "      <td>5.0</td>\n",
       "      <td>0</td>\n",
       "      <td>2</td>\n",
       "      <td>3</td>\n",
       "      <td>15344</td>\n",
       "      <td>0</td>\n",
       "      <td>0</td>\n",
       "      <td>0</td>\n",
       "      <td>1</td>\n",
       "      <td>0</td>\n",
       "      <td>0</td>\n",
       "      <td>0</td>\n",
       "      <td>5.313206</td>\n",
       "      <td>7.443904</td>\n",
       "    </tr>\n",
       "  </tbody>\n",
       "</table>\n",
       "</div>"
      ],
      "text/plain": [
       "       number_of_rooms  floor_on  total_floors  bedroom  pincode  balkon  \\\n",
       "69                 2.0         0             0        1    12159       0   \n",
       "7710               7.0         0             2        5    15732       1   \n",
       "12491              5.0         0             2        3    15344       0   \n",
       "\n",
       "       terrasse  garten  Gaste-WC  Aufzug  wohung  construction_year  \\\n",
       "69            0       0         0       0       1               1930   \n",
       "7710          1       1         1       1       0               1983   \n",
       "12491         0       0         1       0       0                  0   \n",
       "\n",
       "       living_area_m2  transform_price  \n",
       "69           4.189655         8.313343  \n",
       "7710         5.209705         8.600407  \n",
       "12491        5.313206         7.443904  "
      ]
     },
     "execution_count": 2,
     "metadata": {},
     "output_type": "execute_result"
    }
   ],
   "source": [
    "data = pd.read_csv(r'C:\\Users\\amrut\\Downloads\\after_preprocess_data.csv', encoding = 'iso-8859-1')\n",
    "data.sample(3)"
   ]
  },
  {
   "cell_type": "code",
   "execution_count": 3,
   "metadata": {},
   "outputs": [],
   "source": [
    "X = data.iloc[:, :-1]\n",
    "y = data[['transform_price']]"
   ]
  },
  {
   "cell_type": "code",
   "execution_count": 4,
   "metadata": {},
   "outputs": [],
   "source": [
    "XX = X.to_numpy()\n",
    "yy = y.to_numpy()"
   ]
  },
  {
   "cell_type": "code",
   "execution_count": 5,
   "metadata": {},
   "outputs": [
    {
     "data": {
      "text/plain": [
       "((12424, 13), (12424, 1), (319, 13))"
      ]
     },
     "execution_count": 5,
     "metadata": {},
     "output_type": "execute_result"
    }
   ],
   "source": [
    "X_train, X_test, y_train, y_test = train_test_split(X, y, test_size = 0.025, random_state = 0)\n",
    "X_train.shape, y_train.shape, X_test.shape"
   ]
  },
  {
   "cell_type": "code",
   "execution_count": 6,
   "metadata": {},
   "outputs": [],
   "source": [
    "tf.random.set_seed(20)\n",
    "model = tf.keras.models.Sequential([\n",
    "    tf.keras.layers.Lambda(lambda x: tf.expand_dims(x, axis = -1), input_shape = [None]),\n",
    "    tf.keras.layers.SimpleRNN(60, return_sequences = True),\n",
    "    tf.keras.layers.SimpleRNN(40, return_sequences = True),\n",
    "    tf.keras.layers.SimpleRNN(20),\n",
    "    tf.keras.layers.Dense(1)\n",
    "])\n",
    "lr_schedule = tf.keras.callbacks.LearningRateScheduler(\n",
    "    lambda epochs: 1e-5 * 10**(epochs / 20))\n",
    "model.compile(loss = 'mse', optimizer = tf.keras.optimizers.Adam(learning_rate = 1e-5), metrics = ['mae'])"
   ]
  },
  {
   "cell_type": "code",
   "execution_count": 7,
   "metadata": {},
   "outputs": [
    {
     "name": "stdout",
     "output_type": "stream",
     "text": [
      "Epoch 1/50\n",
      "389/389 [==============================] - 3s 5ms/step - loss: 47.6381 - mae: 6.8294\n",
      "Epoch 2/50\n",
      "389/389 [==============================] - 2s 4ms/step - loss: 25.4612 - mae: 5.0215\n",
      "Epoch 3/50\n",
      "389/389 [==============================] - 2s 4ms/step - loss: 16.4030 - mae: 4.0216\n",
      "Epoch 4/50\n",
      "389/389 [==============================] - 2s 4ms/step - loss: 10.9113 - mae: 3.2745\n",
      "Epoch 5/50\n",
      "389/389 [==============================] - 2s 4ms/step - loss: 8.2133 - mae: 2.8367\n",
      "Epoch 6/50\n",
      "389/389 [==============================] - 2s 4ms/step - loss: 6.7299 - mae: 2.5625\n",
      "Epoch 7/50\n",
      "389/389 [==============================] - 2s 4ms/step - loss: 5.6164 - mae: 2.3351\n",
      "Epoch 8/50\n",
      "389/389 [==============================] - 2s 6ms/step - loss: 4.6626 - mae: 2.1206\n",
      "Epoch 9/50\n",
      "389/389 [==============================] - 2s 6ms/step - loss: 3.8071 - mae: 1.9079\n",
      "Epoch 10/50\n",
      "389/389 [==============================] - 2s 6ms/step - loss: 3.0361 - mae: 1.6935\n",
      "Epoch 11/50\n",
      "389/389 [==============================] - 2s 6ms/step - loss: 2.3475 - mae: 1.4764\n",
      "Epoch 12/50\n",
      "389/389 [==============================] - 2s 6ms/step - loss: 1.7441 - mae: 1.2567\n",
      "Epoch 13/50\n",
      "389/389 [==============================] - 3s 7ms/step - loss: 1.2341 - mae: 1.0383\n",
      "Epoch 14/50\n",
      "389/389 [==============================] - 3s 6ms/step - loss: 0.8266 - mae: 0.8298\n",
      "Epoch 15/50\n",
      "389/389 [==============================] - 2s 6ms/step - loss: 0.5281 - mae: 0.6448\n",
      "Epoch 16/50\n",
      "389/389 [==============================] - 2s 6ms/step - loss: 0.3356 - mae: 0.4956\n",
      "Epoch 17/50\n",
      "389/389 [==============================] - 2s 6ms/step - loss: 0.2324 - mae: 0.3950\n",
      "Epoch 18/50\n",
      "389/389 [==============================] - 2s 6ms/step - loss: 0.1890 - mae: 0.3398\n",
      "Epoch 19/50\n",
      "389/389 [==============================] - 2s 6ms/step - loss: 0.1622 - mae: 0.3064\n",
      "Epoch 20/50\n",
      "389/389 [==============================] - 2s 6ms/step - loss: 0.1425 - mae: 0.2806\n",
      "Epoch 21/50\n",
      "389/389 [==============================] - 2s 6ms/step - loss: 0.1286 - mae: 0.2659\n",
      "Epoch 22/50\n",
      "389/389 [==============================] - 2s 6ms/step - loss: 0.1178 - mae: 0.2558\n",
      "Epoch 23/50\n",
      "389/389 [==============================] - 2s 6ms/step - loss: 0.1128 - mae: 0.2504\n",
      "Epoch 24/50\n",
      "389/389 [==============================] - 2s 6ms/step - loss: 0.1113 - mae: 0.2471\n",
      "Epoch 25/50\n",
      "389/389 [==============================] - 2s 6ms/step - loss: 0.1100 - mae: 0.2454\n",
      "Epoch 26/50\n",
      "389/389 [==============================] - 2s 6ms/step - loss: 0.1082 - mae: 0.2429\n",
      "Epoch 27/50\n",
      "389/389 [==============================] - 2s 6ms/step - loss: 0.1070 - mae: 0.2419\n",
      "Epoch 28/50\n",
      "389/389 [==============================] - 2s 6ms/step - loss: 0.1052 - mae: 0.2394\n",
      "Epoch 29/50\n",
      "389/389 [==============================] - 3s 7ms/step - loss: 0.1051 - mae: 0.2387\n",
      "Epoch 30/50\n",
      "389/389 [==============================] - 2s 6ms/step - loss: 0.1053 - mae: 0.2396\n",
      "Epoch 31/50\n",
      "389/389 [==============================] - 2s 6ms/step - loss: 0.1037 - mae: 0.2368\n",
      "Epoch 32/50\n",
      "389/389 [==============================] - 2s 6ms/step - loss: 0.1043 - mae: 0.2370\n",
      "Epoch 33/50\n",
      "389/389 [==============================] - 2s 6ms/step - loss: 0.1038 - mae: 0.2365\n",
      "Epoch 34/50\n",
      "389/389 [==============================] - 2s 6ms/step - loss: 0.1031 - mae: 0.2361\n",
      "Epoch 35/50\n",
      "389/389 [==============================] - 3s 7ms/step - loss: 0.1026 - mae: 0.2352\n",
      "Epoch 36/50\n",
      "389/389 [==============================] - 2s 6ms/step - loss: 0.1020 - mae: 0.2340\n",
      "Epoch 37/50\n",
      "389/389 [==============================] - 2s 6ms/step - loss: 0.1028 - mae: 0.2346\n",
      "Epoch 38/50\n",
      "389/389 [==============================] - 2s 6ms/step - loss: 0.1012 - mae: 0.2324\n",
      "Epoch 39/50\n",
      "389/389 [==============================] - 2s 6ms/step - loss: 0.1033 - mae: 0.2350\n",
      "Epoch 40/50\n",
      "389/389 [==============================] - 2s 6ms/step - loss: 0.1014 - mae: 0.2327\n",
      "Epoch 41/50\n",
      "389/389 [==============================] - 2s 6ms/step - loss: 0.1016 - mae: 0.2334\n",
      "Epoch 42/50\n",
      "389/389 [==============================] - 3s 7ms/step - loss: 0.1026 - mae: 0.2349\n",
      "Epoch 43/50\n",
      "389/389 [==============================] - 2s 6ms/step - loss: 0.1027 - mae: 0.2349\n",
      "Epoch 44/50\n",
      "389/389 [==============================] - 2s 6ms/step - loss: 0.1055 - mae: 0.2384\n",
      "Epoch 45/50\n",
      "389/389 [==============================] - 2s 6ms/step - loss: 0.1028 - mae: 0.2349\n",
      "Epoch 46/50\n",
      "389/389 [==============================] - 2s 6ms/step - loss: 0.1037 - mae: 0.2364\n",
      "Epoch 47/50\n",
      "389/389 [==============================] - 2s 6ms/step - loss: 0.1057 - mae: 0.2383\n",
      "Epoch 48/50\n",
      "389/389 [==============================] - 2s 6ms/step - loss: 0.1052 - mae: 0.2389\n",
      "Epoch 49/50\n",
      "389/389 [==============================] - 2s 6ms/step - loss: 0.1072 - mae: 0.2408\n",
      "Epoch 50/50\n",
      "389/389 [==============================] - 2s 6ms/step - loss: 0.1085 - mae: 0.2425\n"
     ]
    }
   ],
   "source": [
    "history=model.fit(X_train,y_train, epochs=50, callbacks = [lr_schedule])\n",
    "predictions = model.predict(X_test)"
   ]
  },
  {
   "cell_type": "code",
   "execution_count": null,
   "metadata": {},
   "outputs": [],
   "source": [
    "#predictions[:5], y_test.to_numpy()[:5]"
   ]
  },
  {
   "cell_type": "code",
   "execution_count": 8,
   "metadata": {},
   "outputs": [
    {
     "data": {
      "text/plain": [
       "(0.10616599059353468, 0.24181884130224301)"
      ]
     },
     "execution_count": 8,
     "metadata": {},
     "output_type": "execute_result"
    }
   ],
   "source": [
    "from sklearn.metrics import mean_squared_error, mean_absolute_error\n",
    "mean_squared_error(predictions, y_test), mean_absolute_error(predictions, y_test)"
   ]
  },
  {
   "cell_type": "code",
   "execution_count": 9,
   "metadata": {},
   "outputs": [
    {
     "data": {
      "text/plain": [
       "[<matplotlib.lines.Line2D at 0x16f47a22a90>]"
      ]
     },
     "execution_count": 9,
     "metadata": {},
     "output_type": "execute_result"
    },
    {
     "data": {
      "image/png": "[encoded data removed]",
      "text/plain": [
       "<Figure size 432x288 with 1 Axes>"
      ]
     },
     "metadata": {
      "needs_background": "light"
     },
     "output_type": "display_data"
    }
   ],
   "source": [
    "lrs = 1e-5 * (10 ** (np.arange(50) / 20))\n",
    "plt.semilogx(lrs, history.history[\"loss\"])\n"
   ]
  },
  {
   "cell_type": "code",
   "execution_count": 10,
   "metadata": {},
   "outputs": [
    {
     "data": {
      "text/plain": [
       "[<matplotlib.lines.Line2D at 0x16f47bd4790>]"
      ]
     },
     "execution_count": 10,
     "metadata": {},
     "output_type": "execute_result"
    },
    {
     "data": {
      "image/png": "[encoded data removed]",
      "text/plain": [
       "<Figure size 432x288 with 1 Axes>"
      ]
     },
     "metadata": {
      "needs_background": "light"
     },
     "output_type": "display_data"
    }
   ],
   "source": [
    "plt.plot(range(1, len(history.history[\"loss\"])), history.history[\"loss\"][1:])"
   ]
  },
  {
   "cell_type": "code",
   "execution_count": 13,
   "metadata": {},
   "outputs": [
    {
     "name": "stdout",
     "output_type": "stream",
     "text": [
      "Enter the value of number_of_rooms : 1\n",
      "Enter the value of floor_on : 1\n",
      "Enter the value of total_floors : 1\n",
      "Enter the value of bedroom : 1\n",
      "Enter the value of pincode : 12489\n",
      "Enter the value of balkon : 1\n",
      "Enter the value of terrasse : 1\n",
      "Enter the value of garten : 1\n",
      "Enter the value of Gaste-WC : 1\n",
      "Enter the value of Aufzug : 1\n",
      "Enter the value of wohung : 1\n",
      "Enter the value of construction_year : 1990\n",
      "living_area_m2100\n"
     ]
    },
    {
     "data": {
      "text/plain": [
       "array([[582071.75]], dtype=float32)"
      ]
     },
     "execution_count": 13,
     "metadata": {},
     "output_type": "execute_result"
    }
   ],
   "source": [
    "array = []\n",
    "for i in data.columns[:-2]:\n",
    "    value = float(input('Enter the value of {} : '.format(i)))\n",
    "    array.append(value)\n",
    "sq = float(input('living_area_m2'))\n",
    "array.append(np.log1p(sq))\n",
    "str_to_float = [[float(i) for i in array]]\n",
    "two_dim = str_to_float\n",
    "to = pd.DataFrame(two_dim)\n",
    "np.expm1(model.predict(to)) * np.expm1(two_dim[-1][-1])"
   ]
  },
  {
   "cell_type": "code",
   "execution_count": 12,
   "metadata": {},
   "outputs": [
    {
     "name": "stdout",
     "output_type": "stream",
     "text": [
      "Enter the value of number_of_rooms : 1\n",
      "Enter the value of floor_on : 1\n",
      "Enter the value of total_floors : 1\n",
      "Enter the value of bedroom : 1\n",
      "Enter the value of pincode : 10178\n",
      "Enter the value of balkon : 1\n",
      "Enter the value of terrasse : 1\n",
      "Enter the value of garten : 1\n",
      "Enter the value of Gaste-WC : 1\n",
      "Enter the value of Aufzug : 1\n",
      "Enter the value of wohung : 1\n",
      "Enter the value of construction_year : 1990\n",
      "living_area_m2100\n"
     ]
    },
    {
     "data": {
      "text/plain": [
       "array([[582071.75]], dtype=float32)"
      ]
     },
     "execution_count": 12,
     "metadata": {},
     "output_type": "execute_result"
    }
   ],
   "source": [
    "array = []\n",
    "for i in data.columns[:-2]:\n",
    "    value = float(input('Enter the value of {} : '.format(i)))\n",
    "    array.append(value)\n",
    "sq = float(input('living_area_m2'))\n",
    "array.append(np.log1p(sq))\n",
    "str_to_float = [[float(i) for i in array]]\n",
    "two_dim = str_to_float\n",
    "to = pd.DataFrame(two_dim)\n",
    "np.expm1(model.predict(to)) * np.expm1(two_dim[-1][-1])"
   ]
  },
  {
   "cell_type": "code",
   "execution_count": 14,
   "metadata": {},
   "outputs": [],
   "source": [
    "model1 = tf.keras.models.Sequential([\n",
    "    tf.keras.layers.Lambda(lambda x: tf.expand_dims(x, axis = -1), input_shape = [None]),\n",
    "    tf.keras.layers.SimpleRNN(60, return_sequences = True),\n",
    "    tf.keras.layers.SimpleRNN(40, return_sequences = True),\n",
    "    tf.keras.layers.SimpleRNN(20),\n",
    "    tf.keras.layers.Dense(1)\n",
    "])\n",
    "lr_schedule = tf.keras.callbacks.LearningRateScheduler(\n",
    "    lambda epochs: 1e-5 * 10**(epochs / 20))\n",
    "model1.compile(loss = 'mse', optimizer = tf.keras.optimizers.Adam(learning_rate = 7e-05), metrics = ['mae'])"
   ]
  },
  {
   "cell_type": "code",
   "execution_count": 15,
   "metadata": {},
   "outputs": [
    {
     "name": "stdout",
     "output_type": "stream",
     "text": [
      "Epoch 1/100\n",
      "389/389 [==============================] - 3s 4ms/step - loss: 15.8142 - mae: 3.7379\n",
      "Epoch 2/100\n",
      "389/389 [==============================] - 2s 4ms/step - loss: 4.9537 - mae: 2.1811\n",
      "Epoch 3/100\n",
      "389/389 [==============================] - 2s 4ms/step - loss: 2.8055 - mae: 1.6203\n",
      "Epoch 4/100\n",
      "389/389 [==============================] - 2s 4ms/step - loss: 1.5751 - mae: 1.1869\n",
      "Epoch 5/100\n",
      "389/389 [==============================] - 2s 4ms/step - loss: 0.8598 - mae: 0.8474\n",
      "Epoch 6/100\n",
      "389/389 [==============================] - 2s 4ms/step - loss: 0.4721 - mae: 0.6032\n",
      "Epoch 7/100\n",
      "389/389 [==============================] - 2s 4ms/step - loss: 0.2844 - mae: 0.4481\n",
      "Epoch 8/100\n",
      "389/389 [==============================] - 2s 5ms/step - loss: 0.2058 - mae: 0.3634\n",
      "Epoch 9/100\n",
      "389/389 [==============================] - 2s 6ms/step - loss: 0.1738 - mae: 0.3216\n",
      "Epoch 10/100\n",
      "389/389 [==============================] - 2s 6ms/step - loss: 0.1536 - mae: 0.2956\n",
      "Epoch 11/100\n",
      "389/389 [==============================] - 2s 6ms/step - loss: 0.1441 - mae: 0.2815\n",
      "Epoch 12/100\n",
      "389/389 [==============================] - 2s 6ms/step - loss: 0.1389 - mae: 0.2752\n",
      "Epoch 13/100\n",
      "389/389 [==============================] - 2s 6ms/step - loss: 0.1343 - mae: 0.2701\n",
      "Epoch 14/100\n",
      "389/389 [==============================] - 2s 6ms/step - loss: 0.1289 - mae: 0.2647\n",
      "Epoch 15/100\n",
      "389/389 [==============================] - 2s 6ms/step - loss: 0.1231 - mae: 0.2590\n",
      "Epoch 16/100\n",
      "389/389 [==============================] - 2s 6ms/step - loss: 0.1179 - mae: 0.2539\n",
      "Epoch 17/100\n",
      "389/389 [==============================] - 3s 8ms/step - loss: 0.1146 - mae: 0.2505\n",
      "Epoch 18/100\n",
      "389/389 [==============================] - 3s 8ms/step - loss: 0.1128 - mae: 0.2486\n",
      "Epoch 19/100\n",
      "389/389 [==============================] - 3s 9ms/step - loss: 0.1112 - mae: 0.2462\n",
      "Epoch 20/100\n",
      "389/389 [==============================] - 3s 7ms/step - loss: 0.1102 - mae: 0.2450\n",
      "Epoch 21/100\n",
      "389/389 [==============================] - 2s 6ms/step - loss: 0.1087 - mae: 0.2432\n",
      "Epoch 22/100\n",
      "389/389 [==============================] - 3s 7ms/step - loss: 0.1079 - mae: 0.2416\n",
      "Epoch 23/100\n",
      "389/389 [==============================] - 3s 7ms/step - loss: 0.1064 - mae: 0.2405\n",
      "Epoch 24/100\n",
      "389/389 [==============================] - 2s 6ms/step - loss: 0.1063 - mae: 0.2397\n",
      "Epoch 25/100\n",
      "389/389 [==============================] - 2s 6ms/step - loss: 0.1051 - mae: 0.2385\n",
      "Epoch 26/100\n",
      "389/389 [==============================] - 2s 6ms/step - loss: 0.1042 - mae: 0.2375\n",
      "Epoch 27/100\n",
      "389/389 [==============================] - 2s 6ms/step - loss: 0.1034 - mae: 0.2363\n",
      "Epoch 28/100\n",
      "389/389 [==============================] - 2s 6ms/step - loss: 0.1026 - mae: 0.2356\n",
      "Epoch 29/100\n",
      "389/389 [==============================] - 2s 6ms/step - loss: 0.1020 - mae: 0.2345\n",
      "Epoch 30/100\n",
      "389/389 [==============================] - 2s 6ms/step - loss: 0.1016 - mae: 0.2341\n",
      "Epoch 31/100\n",
      "389/389 [==============================] - 2s 6ms/step - loss: 0.1016 - mae: 0.2337\n",
      "Epoch 32/100\n",
      "389/389 [==============================] - 2s 6ms/step - loss: 0.1014 - mae: 0.2335\n",
      "Epoch 33/100\n",
      "389/389 [==============================] - 2s 6ms/step - loss: 0.1012 - mae: 0.2327\n",
      "Epoch 34/100\n",
      "389/389 [==============================] - 2s 6ms/step - loss: 0.1007 - mae: 0.2324\n",
      "Epoch 35/100\n",
      "389/389 [==============================] - 2s 6ms/step - loss: 0.1004 - mae: 0.2321\n",
      "Epoch 36/100\n",
      "389/389 [==============================] - 2s 6ms/step - loss: 0.1004 - mae: 0.2318\n",
      "Epoch 37/100\n",
      "389/389 [==============================] - 2s 6ms/step - loss: 0.0999 - mae: 0.2312\n",
      "Epoch 38/100\n",
      "389/389 [==============================] - 2s 6ms/step - loss: 0.0997 - mae: 0.2302\n",
      "Epoch 39/100\n",
      "389/389 [==============================] - 2s 6ms/step - loss: 0.0998 - mae: 0.2309\n",
      "Epoch 40/100\n",
      "389/389 [==============================] - 2s 6ms/step - loss: 0.0994 - mae: 0.2305\n",
      "Epoch 41/100\n",
      "389/389 [==============================] - 2s 6ms/step - loss: 0.0994 - mae: 0.2301\n",
      "Epoch 42/100\n",
      "389/389 [==============================] - 3s 7ms/step - loss: 0.0992 - mae: 0.2301\n",
      "Epoch 43/100\n",
      "389/389 [==============================] - 2s 6ms/step - loss: 0.0990 - mae: 0.2296\n",
      "Epoch 44/100\n",
      "389/389 [==============================] - 2s 6ms/step - loss: 0.0990 - mae: 0.2297\n",
      "Epoch 45/100\n",
      "389/389 [==============================] - 2s 6ms/step - loss: 0.0987 - mae: 0.2293\n",
      "Epoch 46/100\n",
      "389/389 [==============================] - 2s 6ms/step - loss: 0.0986 - mae: 0.2290\n",
      "Epoch 47/100\n",
      "389/389 [==============================] - 2s 6ms/step - loss: 0.0987 - mae: 0.2292\n",
      "Epoch 48/100\n",
      "389/389 [==============================] - 2s 6ms/step - loss: 0.0985 - mae: 0.2291\n",
      "Epoch 49/100\n",
      "389/389 [==============================] - 2s 6ms/step - loss: 0.0979 - mae: 0.2285\n",
      "Epoch 50/100\n",
      "389/389 [==============================] - 2s 6ms/step - loss: 0.0984 - mae: 0.2285\n",
      "Epoch 51/100\n",
      "389/389 [==============================] - 2s 6ms/step - loss: 0.0980 - mae: 0.2284\n",
      "Epoch 52/100\n",
      "389/389 [==============================] - 2s 6ms/step - loss: 0.0981 - mae: 0.2285\n",
      "Epoch 53/100\n",
      "389/389 [==============================] - 2s 6ms/step - loss: 0.0981 - mae: 0.2287\n",
      "Epoch 54/100\n",
      "389/389 [==============================] - 2s 6ms/step - loss: 0.0976 - mae: 0.2280\n",
      "Epoch 55/100\n",
      "389/389 [==============================] - 2s 6ms/step - loss: 0.0981 - mae: 0.2287\n",
      "Epoch 56/100\n",
      "389/389 [==============================] - 2s 6ms/step - loss: 0.0975 - mae: 0.2278\n",
      "Epoch 57/100\n",
      "389/389 [==============================] - 2s 6ms/step - loss: 0.0973 - mae: 0.2276\n",
      "Epoch 58/100\n",
      "389/389 [==============================] - 2s 6ms/step - loss: 0.0972 - mae: 0.2272\n",
      "Epoch 59/100\n",
      "389/389 [==============================] - 2s 6ms/step - loss: 0.0972 - mae: 0.2273\n",
      "Epoch 60/100\n",
      "389/389 [==============================] - 2s 6ms/step - loss: 0.0972 - mae: 0.2276\n",
      "Epoch 61/100\n",
      "389/389 [==============================] - 2s 6ms/step - loss: 0.0970 - mae: 0.2271\n",
      "Epoch 62/100\n",
      "389/389 [==============================] - 2s 6ms/step - loss: 0.0971 - mae: 0.2270\n",
      "Epoch 63/100\n",
      "389/389 [==============================] - 2s 6ms/step - loss: 0.0970 - mae: 0.2271\n",
      "Epoch 64/100\n",
      "389/389 [==============================] - 2s 6ms/step - loss: 0.0967 - mae: 0.2267\n",
      "Epoch 65/100\n",
      "389/389 [==============================] - 2s 6ms/step - loss: 0.0967 - mae: 0.2268\n",
      "Epoch 66/100\n",
      "389/389 [==============================] - 2s 6ms/step - loss: 0.0964 - mae: 0.2261\n",
      "Epoch 67/100\n",
      "389/389 [==============================] - 2s 6ms/step - loss: 0.0966 - mae: 0.2264\n",
      "Epoch 68/100\n",
      "389/389 [==============================] - 2s 6ms/step - loss: 0.0964 - mae: 0.2263\n",
      "Epoch 69/100\n",
      "389/389 [==============================] - 2s 6ms/step - loss: 0.0971 - mae: 0.2269\n",
      "Epoch 70/100\n",
      "389/389 [==============================] - 2s 6ms/step - loss: 0.0960 - mae: 0.2259\n",
      "Epoch 71/100\n",
      "389/389 [==============================] - 2s 6ms/step - loss: 0.0966 - mae: 0.2267\n",
      "Epoch 72/100\n",
      "389/389 [==============================] - 2s 6ms/step - loss: 0.0961 - mae: 0.2258\n",
      "Epoch 73/100\n",
      "389/389 [==============================] - 2s 6ms/step - loss: 0.0963 - mae: 0.2262\n",
      "Epoch 74/100\n",
      "389/389 [==============================] - 2s 6ms/step - loss: 0.0961 - mae: 0.2262\n",
      "Epoch 75/100\n",
      "389/389 [==============================] - 2s 6ms/step - loss: 0.0957 - mae: 0.2253\n",
      "Epoch 76/100\n",
      "389/389 [==============================] - 2s 6ms/step - loss: 0.0961 - mae: 0.2256\n",
      "Epoch 77/100\n",
      "389/389 [==============================] - 3s 7ms/step - loss: 0.0960 - mae: 0.2258\n",
      "Epoch 78/100\n",
      "389/389 [==============================] - 2s 6ms/step - loss: 0.0962 - mae: 0.2257\n",
      "Epoch 79/100\n",
      "389/389 [==============================] - 2s 6ms/step - loss: 0.0956 - mae: 0.2252\n",
      "Epoch 80/100\n",
      "389/389 [==============================] - 2s 6ms/step - loss: 0.0953 - mae: 0.2249\n",
      "Epoch 81/100\n",
      "389/389 [==============================] - 2s 6ms/step - loss: 0.0957 - mae: 0.2253\n",
      "Epoch 82/100\n",
      "389/389 [==============================] - 3s 6ms/step - loss: 0.0957 - mae: 0.2250\n",
      "Epoch 83/100\n",
      "389/389 [==============================] - 2s 6ms/step - loss: 0.0955 - mae: 0.2248\n",
      "Epoch 84/100\n",
      "389/389 [==============================] - 2s 6ms/step - loss: 0.0953 - mae: 0.2250\n",
      "Epoch 85/100\n"
     ]
    },
    {
     "name": "stdout",
     "output_type": "stream",
     "text": [
      "389/389 [==============================] - 2s 6ms/step - loss: 0.0951 - mae: 0.2247\n",
      "Epoch 86/100\n",
      "389/389 [==============================] - 2s 6ms/step - loss: 0.0951 - mae: 0.2246\n",
      "Epoch 87/100\n",
      "389/389 [==============================] - 2s 6ms/step - loss: 0.0957 - mae: 0.2253\n",
      "Epoch 88/100\n",
      "389/389 [==============================] - 2s 6ms/step - loss: 0.0951 - mae: 0.2243\n",
      "Epoch 89/100\n",
      "389/389 [==============================] - 2s 6ms/step - loss: 0.0952 - mae: 0.2242\n",
      "Epoch 90/100\n",
      "389/389 [==============================] - 2s 6ms/step - loss: 0.0949 - mae: 0.2242\n",
      "Epoch 91/100\n",
      "389/389 [==============================] - 2s 6ms/step - loss: 0.0948 - mae: 0.2238\n",
      "Epoch 92/100\n",
      "389/389 [==============================] - 2s 6ms/step - loss: 0.0949 - mae: 0.2239\n",
      "Epoch 93/100\n",
      "389/389 [==============================] - 2s 6ms/step - loss: 0.0951 - mae: 0.2249\n",
      "Epoch 94/100\n",
      "389/389 [==============================] - 2s 6ms/step - loss: 0.0951 - mae: 0.2242\n",
      "Epoch 95/100\n",
      "389/389 [==============================] - 2s 6ms/step - loss: 0.0946 - mae: 0.2238\n",
      "Epoch 96/100\n",
      "389/389 [==============================] - 2s 6ms/step - loss: 0.0944 - mae: 0.2237\n",
      "Epoch 97/100\n",
      "389/389 [==============================] - 2s 6ms/step - loss: 0.0944 - mae: 0.2234\n",
      "Epoch 98/100\n",
      "389/389 [==============================] - 2s 6ms/step - loss: 0.0945 - mae: 0.2236\n",
      "Epoch 99/100\n",
      "389/389 [==============================] - 2s 6ms/step - loss: 0.0946 - mae: 0.2237\n",
      "Epoch 100/100\n",
      "389/389 [==============================] - 2s 6ms/step - loss: 0.0943 - mae: 0.2233\n"
     ]
    }
   ],
   "source": [
    "history=model1.fit(X_train,y_train, epochs=100)\n"
   ]
  },
  {
   "cell_type": "code",
   "execution_count": 16,
   "metadata": {},
   "outputs": [],
   "source": [
    "predictions = model1.predict(X_test)"
   ]
  },
  {
   "cell_type": "code",
   "execution_count": 17,
   "metadata": {},
   "outputs": [
    {
     "data": {
      "text/plain": [
       "(array([[8.530895],\n",
       "        [8.261555],\n",
       "        [8.253733],\n",
       "        [7.861148],\n",
       "        [7.664925]], dtype=float32),\n",
       " array([[8.54500289],\n",
       "        [8.37047041],\n",
       "        [8.69484149],\n",
       "        [7.71760729],\n",
       "        [7.7403941 ]]))"
      ]
     },
     "execution_count": 17,
     "metadata": {},
     "output_type": "execute_result"
    }
   ],
   "source": [
    "predictions[:5], y_test.to_numpy()[:5]"
   ]
  },
  {
   "cell_type": "code",
   "execution_count": 18,
   "metadata": {},
   "outputs": [
    {
     "data": {
      "text/plain": [
       "(0.08949790471104888, 0.22342847296430116)"
      ]
     },
     "execution_count": 18,
     "metadata": {},
     "output_type": "execute_result"
    }
   ],
   "source": [
    "from sklearn.metrics import mean_squared_error, mean_absolute_error\n",
    "mean_squared_error(predictions, y_test), mean_absolute_error(predictions, y_test)"
   ]
  },
  {
   "cell_type": "code",
   "execution_count": 19,
   "metadata": {},
   "outputs": [
    {
     "data": {
      "text/plain": [
       "[<matplotlib.lines.Line2D at 0x16f4b21a5e0>]"
      ]
     },
     "execution_count": 19,
     "metadata": {},
     "output_type": "execute_result"
    },
    {
     "data": {
      "image/png": "[encoded data removed]",
      "text/plain": [
       "<Figure size 432x288 with 1 Axes>"
      ]
     },
     "metadata": {
      "needs_background": "light"
     },
     "output_type": "display_data"
    }
   ],
   "source": [
    "plt.plot(range(0, len(history.history[\"loss\"])), history.history[\"loss\"][0:])"
   ]
  },
  {
   "cell_type": "code",
   "execution_count": 21,
   "metadata": {},
   "outputs": [
    {
     "name": "stdout",
     "output_type": "stream",
     "text": [
      "Enter the value of number_of_rooms : 1\n",
      "Enter the value of floor_on : 1\n",
      "Enter the value of total_floors : 1\n",
      "Enter the value of bedroom : 1\n",
      "Enter the value of pincode : 12103\n",
      "Enter the value of balkon : 1\n",
      "Enter the value of terrasse : 1\n",
      "Enter the value of garten : 1\n",
      "Enter the value of Gaste-WC : 1\n",
      "Enter the value of Aufzug : 1\n",
      "Enter the value of wohung : 1\n",
      "Enter the value of construction_year : 1990\n",
      "living_area_m2100\n"
     ]
    },
    {
     "data": {
      "text/plain": [
       "array([[463784.53]], dtype=float32)"
      ]
     },
     "execution_count": 21,
     "metadata": {},
     "output_type": "execute_result"
    }
   ],
   "source": [
    "array = []\n",
    "for i in data.columns[:-2]:\n",
    "    value = float(input('Enter the value of {} : '.format(i)))\n",
    "    array.append(value)\n",
    "sq = float(input('living_area_m2'))\n",
    "array.append(np.log1p(sq))\n",
    "str_to_float = [[float(i) for i in array]]\n",
    "two_dim = str_to_float\n",
    "to = pd.DataFrame(two_dim)\n",
    "np.expm1(model1.predict(to)) * np.expm1(two_dim[-1][-1])"
   ]
  },
  {
   "cell_type": "code",
   "execution_count": 22,
   "metadata": {},
   "outputs": [
    {
     "name": "stdout",
     "output_type": "stream",
     "text": [
      "Enter the value of number_of_rooms : 1\n",
      "Enter the value of floor_on : 1\n",
      "Enter the value of total_floors : 1\n",
      "Enter the value of bedroom : 1\n",
      "Enter the value of pincode : 10178\n",
      "Enter the value of balkon : 1\n",
      "Enter the value of terrasse : 1\n",
      "Enter the value of garten : 1\n",
      "Enter the value of Gaste-WC : 1\n",
      "Enter the value of Aufzug : 1\n",
      "Enter the value of wohung : 1\n",
      "Enter the value of construction_year : 1990\n",
      "living_area_m2100\n"
     ]
    },
    {
     "data": {
      "text/plain": [
       "array([[463784.53]], dtype=float32)"
      ]
     },
     "execution_count": 22,
     "metadata": {},
     "output_type": "execute_result"
    }
   ],
   "source": [
    "array = []\n",
    "for i in data.columns[:-2]:\n",
    "    value = float(input('Enter the value of {} : '.format(i)))\n",
    "    array.append(value)\n",
    "sq = float(input('living_area_m2'))\n",
    "array.append(np.log1p(sq))\n",
    "str_to_float = [[float(i) for i in array]]\n",
    "two_dim = str_to_float\n",
    "to = pd.DataFrame(two_dim)\n",
    "np.expm1(model1.predict(to)) * np.expm1(two_dim[-1][-1])"
   ]
  },
  {
   "cell_type": "code",
   "execution_count": 23,
   "metadata": {},
   "outputs": [],
   "source": [
    "model.save('hyper_rnn_1.hdf5')\n",
    "model1.save('hyper_rnn_2.hdf5')"
   ]
  },
  {
   "cell_type": "code",
   "execution_count": null,
   "metadata": {},
   "outputs": [],
   "source": [
    "model1.predict([1.0, 23.0, 4.0, 2.0, 32.0, 3.0, 32.0, 31.0, 1.0, 21.0, 32.0, 3.0, 21.0])"
   ]
  },
  {
   "cell_type": "code",
   "execution_count": null,
   "metadata": {},
   "outputs": [],
   "source": [
    "sq_ftt = X_test.head(10)\n",
    "sqr_ft = sq_ftt['living_area_m2']\n",
    "p = predictions[:10]\n",
    "p = p.tolist()\n",
    "y_test = y_test[:10]\n",
    "\n",
    "y_t = y_test.to_numpy().tolist()\n",
    "y_t, p\n",
    "for i, j, k in zip(y_t, sqr_ft, p):\n",
    "    print('true_value: ',np.exp(i) * np.exp(j))\n",
    "    print('predicted_value: ',np.exp(k) * np.exp(j))"
   ]
  },
  {
   "cell_type": "code",
   "execution_count": null,
   "metadata": {},
   "outputs": [],
   "source": [
    "model1.predict([[2.4,3.4,43.9,35.75,54.3,345.4,52.4,123.5,13.6,13.7,45.8,24.9,2.0]])"
   ]
  },
  {
   "cell_type": "code",
   "execution_count": null,
   "metadata": {},
   "outputs": [],
   "source": []
  }
 ],
 "metadata": {
  "kernelspec": {
   "display_name": "Python 3",
   "language": "python",
   "name": "python3"
  },
  "language_info": {
   "codemirror_mode": {
    "name": "ipython",
    "version": 3
   },
   "file_extension": ".py",
   "mimetype": "text/x-python",
   "name": "python",
   "nbconvert_exporter": "python",
   "pygments_lexer": "ipython3",
   "version": "3.8.8"
  }
 },
 "nbformat": 4,
 "nbformat_minor": 4
}
