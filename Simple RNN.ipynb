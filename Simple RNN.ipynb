{
 "cells": [
  {
   "cell_type": "code",
   "execution_count": 1,
   "metadata": {},
   "outputs": [],
   "source": [
    "import tensorflow as tf\n",
    "import numpy as np\n",
    "import pandas as pd\n",
    "import matplotlib.pyplot as plt\n",
    "#import seaborn as sns\n",
    "from scipy import stats\n",
    "from sklearn.metrics import mean_squared_error, mean_absolute_error\n",
    "from sklearn.model_selection import train_test_split\n",
    "from sklearn.metrics import r2_score\n",
    "import seaborn as sns"
   ]
  },
  {
   "cell_type": "code",
   "execution_count": 2,
   "metadata": {},
   "outputs": [
    {
     "data": {
      "text/html": [
       "<div>\n",
       "<style scoped>\n",
       "    .dataframe tbody tr th:only-of-type {\n",
       "        vertical-align: middle;\n",
       "    }\n",
       "\n",
       "    .dataframe tbody tr th {\n",
       "        vertical-align: top;\n",
       "    }\n",
       "\n",
       "    .dataframe thead th {\n",
       "        text-align: right;\n",
       "    }\n",
       "</style>\n",
       "<table border=\"1\" class=\"dataframe\">\n",
       "  <thead>\n",
       "    <tr style=\"text-align: right;\">\n",
       "      <th></th>\n",
       "      <th>number_of_rooms</th>\n",
       "      <th>floor_on</th>\n",
       "      <th>total_floors</th>\n",
       "      <th>bedroom</th>\n",
       "      <th>pincode</th>\n",
       "      <th>balkon</th>\n",
       "      <th>terrasse</th>\n",
       "      <th>garten</th>\n",
       "      <th>Gaste-WC</th>\n",
       "      <th>Aufzug</th>\n",
       "      <th>wohung</th>\n",
       "      <th>construction_year</th>\n",
       "      <th>living_area_m2</th>\n",
       "      <th>transform_price</th>\n",
       "    </tr>\n",
       "  </thead>\n",
       "  <tbody>\n",
       "    <tr>\n",
       "      <th>0</th>\n",
       "      <td>2.0</td>\n",
       "      <td>0</td>\n",
       "      <td>0</td>\n",
       "      <td>0</td>\n",
       "      <td>12209</td>\n",
       "      <td>1</td>\n",
       "      <td>1</td>\n",
       "      <td>0</td>\n",
       "      <td>0</td>\n",
       "      <td>0</td>\n",
       "      <td>1</td>\n",
       "      <td>1997</td>\n",
       "      <td>4.043051</td>\n",
       "      <td>8.535089</td>\n",
       "    </tr>\n",
       "    <tr>\n",
       "      <th>1</th>\n",
       "      <td>3.0</td>\n",
       "      <td>0</td>\n",
       "      <td>0</td>\n",
       "      <td>0</td>\n",
       "      <td>12209</td>\n",
       "      <td>1</td>\n",
       "      <td>1</td>\n",
       "      <td>0</td>\n",
       "      <td>0</td>\n",
       "      <td>0</td>\n",
       "      <td>1</td>\n",
       "      <td>1997</td>\n",
       "      <td>4.442651</td>\n",
       "      <td>8.517393</td>\n",
       "    </tr>\n",
       "    <tr>\n",
       "      <th>2</th>\n",
       "      <td>5.0</td>\n",
       "      <td>0</td>\n",
       "      <td>3</td>\n",
       "      <td>3</td>\n",
       "      <td>12209</td>\n",
       "      <td>1</td>\n",
       "      <td>1</td>\n",
       "      <td>1</td>\n",
       "      <td>1</td>\n",
       "      <td>1</td>\n",
       "      <td>0</td>\n",
       "      <td>2021</td>\n",
       "      <td>5.259732</td>\n",
       "      <td>8.653742</td>\n",
       "    </tr>\n",
       "    <tr>\n",
       "      <th>3</th>\n",
       "      <td>2.5</td>\n",
       "      <td>1</td>\n",
       "      <td>2</td>\n",
       "      <td>1</td>\n",
       "      <td>12209</td>\n",
       "      <td>1</td>\n",
       "      <td>1</td>\n",
       "      <td>0</td>\n",
       "      <td>0</td>\n",
       "      <td>0</td>\n",
       "      <td>1</td>\n",
       "      <td>1968</td>\n",
       "      <td>4.335197</td>\n",
       "      <td>8.638011</td>\n",
       "    </tr>\n",
       "    <tr>\n",
       "      <th>4</th>\n",
       "      <td>2.5</td>\n",
       "      <td>2</td>\n",
       "      <td>2</td>\n",
       "      <td>2</td>\n",
       "      <td>12209</td>\n",
       "      <td>1</td>\n",
       "      <td>1</td>\n",
       "      <td>1</td>\n",
       "      <td>0</td>\n",
       "      <td>0</td>\n",
       "      <td>1</td>\n",
       "      <td>2018</td>\n",
       "      <td>4.262680</td>\n",
       "      <td>8.443301</td>\n",
       "    </tr>\n",
       "  </tbody>\n",
       "</table>\n",
       "</div>"
      ],
      "text/plain": [
       "   number_of_rooms  floor_on  total_floors  bedroom  pincode  balkon  \\\n",
       "0              2.0         0             0        0    12209       1   \n",
       "1              3.0         0             0        0    12209       1   \n",
       "2              5.0         0             3        3    12209       1   \n",
       "3              2.5         1             2        1    12209       1   \n",
       "4              2.5         2             2        2    12209       1   \n",
       "\n",
       "   terrasse  garten  Gaste-WC  Aufzug  wohung  construction_year  \\\n",
       "0         1       0         0       0       1               1997   \n",
       "1         1       0         0       0       1               1997   \n",
       "2         1       1         1       1       0               2021   \n",
       "3         1       0         0       0       1               1968   \n",
       "4         1       1         0       0       1               2018   \n",
       "\n",
       "   living_area_m2  transform_price  \n",
       "0        4.043051         8.535089  \n",
       "1        4.442651         8.517393  \n",
       "2        5.259732         8.653742  \n",
       "3        4.335197         8.638011  \n",
       "4        4.262680         8.443301  "
      ]
     },
     "execution_count": 2,
     "metadata": {},
     "output_type": "execute_result"
    }
   ],
   "source": [
    "data = pd.read_csv(r'C:\\Users\\amrut\\Downloads\\after_preprocess_data.csv', encoding = 'iso-8859-1')\n",
    "data.head()"
   ]
  },
  {
   "cell_type": "code",
   "execution_count": 3,
   "metadata": {},
   "outputs": [],
   "source": [
    "X = data.iloc[:, :-1]\n",
    "y = data[['transform_price']]"
   ]
  },
  {
   "cell_type": "code",
   "execution_count": 4,
   "metadata": {},
   "outputs": [
    {
     "data": {
      "text/plain": [
       "Index(['transform_price'], dtype='object')"
      ]
     },
     "execution_count": 4,
     "metadata": {},
     "output_type": "execute_result"
    }
   ],
   "source": [
    "y.columns"
   ]
  },
  {
   "cell_type": "code",
   "execution_count": 5,
   "metadata": {},
   "outputs": [
    {
     "data": {
      "text/plain": [
       "((12743, 13), (12743, 1))"
      ]
     },
     "execution_count": 5,
     "metadata": {},
     "output_type": "execute_result"
    }
   ],
   "source": [
    "X.shape, y.shape"
   ]
  },
  {
   "cell_type": "code",
   "execution_count": 6,
   "metadata": {},
   "outputs": [
    {
     "data": {
      "text/plain": [
       "((12424, 13), (12424, 1), (319, 13))"
      ]
     },
     "execution_count": 6,
     "metadata": {},
     "output_type": "execute_result"
    }
   ],
   "source": [
    "X_train, X_test, y_train, y_test = train_test_split(X, y, test_size = 0.025, random_state = 0)\n",
    "X_train.shape, y_train.shape, X_test.shape"
   ]
  },
  {
   "cell_type": "code",
   "execution_count": 7,
   "metadata": {},
   "outputs": [],
   "source": [
    "tf.random.set_seed(0)\n",
    "model = tf.keras.models.Sequential([\n",
    "    tf.keras.layers.Lambda(lambda x: tf.expand_dims(x, axis = -1), input_shape = [None]),\n",
    "    tf.keras.layers.SimpleRNN(100, return_sequences = True),\n",
    "    tf.keras.layers.SimpleRNN(80, return_sequences = True),\n",
    "    tf.keras.layers.SimpleRNN(40),\n",
    "    tf.keras.layers.Dense(1)\n",
    "])\n",
    "model.compile(loss = 'mse', optimizer = 'adam', metrics = ['mae'])"
   ]
  },
  {
   "cell_type": "code",
   "execution_count": 8,
   "metadata": {
    "scrolled": false
   },
   "outputs": [
    {
     "name": "stdout",
     "output_type": "stream",
     "text": [
      "Epoch 1/50\n",
      "195/195 [==============================] - 3s 7ms/step - loss: 1.1029 - mae: 0.4767 - val_loss: 0.1512 - val_mae: 0.2773\n",
      "Epoch 2/50\n",
      "195/195 [==============================] - 1s 6ms/step - loss: 0.1225 - mae: 0.2578 - val_loss: 0.1249 - val_mae: 0.2490\n",
      "Epoch 3/50\n",
      "195/195 [==============================] - 1s 6ms/step - loss: 0.1144 - mae: 0.2495 - val_loss: 0.1240 - val_mae: 0.2608\n",
      "Epoch 4/50\n",
      "195/195 [==============================] - 1s 5ms/step - loss: 0.1145 - mae: 0.2505 - val_loss: 0.1170 - val_mae: 0.2486\n",
      "Epoch 5/50\n",
      "195/195 [==============================] - 1s 5ms/step - loss: 0.1115 - mae: 0.2467 - val_loss: 0.1186 - val_mae: 0.2475\n",
      "Epoch 6/50\n",
      "195/195 [==============================] - 1s 5ms/step - loss: 0.1111 - mae: 0.2465 - val_loss: 0.1138 - val_mae: 0.2440\n",
      "Epoch 7/50\n",
      "195/195 [==============================] - 1s 5ms/step - loss: 0.1129 - mae: 0.2487 - val_loss: 0.1176 - val_mae: 0.2471\n",
      "Epoch 8/50\n",
      "195/195 [==============================] - 1s 5ms/step - loss: 0.1084 - mae: 0.2440 - val_loss: 0.1157 - val_mae: 0.2545\n",
      "Epoch 9/50\n",
      "195/195 [==============================] - 1s 5ms/step - loss: 0.1078 - mae: 0.2431 - val_loss: 0.1114 - val_mae: 0.2454\n",
      "Epoch 10/50\n",
      "195/195 [==============================] - 1s 7ms/step - loss: 0.1072 - mae: 0.2419 - val_loss: 0.1253 - val_mae: 0.2567\n",
      "Epoch 11/50\n",
      "195/195 [==============================] - 2s 8ms/step - loss: 0.1079 - mae: 0.2430 - val_loss: 0.1092 - val_mae: 0.2402\n",
      "Epoch 12/50\n",
      "195/195 [==============================] - 2s 8ms/step - loss: 0.1050 - mae: 0.2386 - val_loss: 0.1066 - val_mae: 0.2385\n",
      "Epoch 13/50\n",
      "195/195 [==============================] - 2s 8ms/step - loss: 0.1041 - mae: 0.2373 - val_loss: 0.0975 - val_mae: 0.2305\n",
      "Epoch 14/50\n",
      "195/195 [==============================] - 2s 8ms/step - loss: 0.1052 - mae: 0.2388 - val_loss: 0.1095 - val_mae: 0.2490\n",
      "Epoch 15/50\n",
      "195/195 [==============================] - 2s 8ms/step - loss: 0.1057 - mae: 0.2393 - val_loss: 0.1000 - val_mae: 0.2345\n",
      "Epoch 16/50\n",
      "195/195 [==============================] - 2s 8ms/step - loss: 0.1027 - mae: 0.2353 - val_loss: 0.0989 - val_mae: 0.2339\n",
      "Epoch 17/50\n",
      "195/195 [==============================] - 2s 8ms/step - loss: 0.1025 - mae: 0.2347 - val_loss: 0.1052 - val_mae: 0.2511\n",
      "Epoch 18/50\n",
      "195/195 [==============================] - 2s 8ms/step - loss: 0.1033 - mae: 0.2358 - val_loss: 0.1006 - val_mae: 0.2355\n",
      "Epoch 19/50\n",
      "195/195 [==============================] - 2s 8ms/step - loss: 0.1014 - mae: 0.2331 - val_loss: 0.1009 - val_mae: 0.2358\n",
      "Epoch 20/50\n",
      "195/195 [==============================] - 2s 8ms/step - loss: 0.1010 - mae: 0.2324 - val_loss: 0.0907 - val_mae: 0.2269\n",
      "Epoch 21/50\n",
      "195/195 [==============================] - 2s 8ms/step - loss: 0.1009 - mae: 0.2328 - val_loss: 0.1065 - val_mae: 0.2407\n",
      "Epoch 22/50\n",
      "195/195 [==============================] - 2s 8ms/step - loss: 0.1022 - mae: 0.2335 - val_loss: 0.0934 - val_mae: 0.2307\n",
      "Epoch 23/50\n",
      "195/195 [==============================] - 2s 8ms/step - loss: 0.1024 - mae: 0.2339 - val_loss: 0.0938 - val_mae: 0.2296\n",
      "Epoch 24/50\n",
      "195/195 [==============================] - 2s 8ms/step - loss: 0.1031 - mae: 0.2350 - val_loss: 0.0924 - val_mae: 0.2302\n",
      "Epoch 25/50\n",
      "195/195 [==============================] - 2s 8ms/step - loss: 0.1004 - mae: 0.2319 - val_loss: 0.1093 - val_mae: 0.2457\n",
      "Epoch 26/50\n",
      "195/195 [==============================] - 2s 8ms/step - loss: 0.1008 - mae: 0.2314 - val_loss: 0.0970 - val_mae: 0.2305\n",
      "Epoch 27/50\n",
      "195/195 [==============================] - 2s 8ms/step - loss: 0.0998 - mae: 0.2309 - val_loss: 0.1024 - val_mae: 0.2356\n",
      "Epoch 28/50\n",
      "195/195 [==============================] - 2s 8ms/step - loss: 0.0992 - mae: 0.2304 - val_loss: 0.0907 - val_mae: 0.2280\n",
      "Epoch 29/50\n",
      "195/195 [==============================] - 2s 8ms/step - loss: 0.1013 - mae: 0.2329 - val_loss: 0.1004 - val_mae: 0.2382\n",
      "Epoch 30/50\n",
      "195/195 [==============================] - 2s 8ms/step - loss: 0.0997 - mae: 0.2315 - val_loss: 0.1097 - val_mae: 0.2487\n",
      "Epoch 31/50\n",
      "195/195 [==============================] - 2s 8ms/step - loss: 0.0993 - mae: 0.2302 - val_loss: 0.0935 - val_mae: 0.2280\n",
      "Epoch 32/50\n",
      "195/195 [==============================] - 2s 8ms/step - loss: 0.0987 - mae: 0.2297 - val_loss: 0.1108 - val_mae: 0.2444\n",
      "Epoch 33/50\n",
      "195/195 [==============================] - 2s 8ms/step - loss: 0.0999 - mae: 0.2310 - val_loss: 0.0978 - val_mae: 0.2334\n",
      "Epoch 34/50\n",
      "195/195 [==============================] - 2s 8ms/step - loss: 0.0981 - mae: 0.2286 - val_loss: 0.0929 - val_mae: 0.2286\n",
      "Epoch 35/50\n",
      "195/195 [==============================] - 2s 8ms/step - loss: 0.0988 - mae: 0.2307 - val_loss: 0.0930 - val_mae: 0.2260\n",
      "Epoch 36/50\n",
      "195/195 [==============================] - 2s 8ms/step - loss: 0.0978 - mae: 0.2282 - val_loss: 0.1031 - val_mae: 0.2328\n",
      "Epoch 37/50\n",
      "195/195 [==============================] - 2s 8ms/step - loss: 0.0993 - mae: 0.2301 - val_loss: 0.1052 - val_mae: 0.2371\n",
      "Epoch 38/50\n",
      "195/195 [==============================] - 2s 8ms/step - loss: 0.0971 - mae: 0.2278 - val_loss: 0.0947 - val_mae: 0.2299\n",
      "Epoch 39/50\n",
      "195/195 [==============================] - 2s 8ms/step - loss: 0.0975 - mae: 0.2281 - val_loss: 0.1045 - val_mae: 0.2369\n",
      "Epoch 40/50\n",
      "195/195 [==============================] - 2s 8ms/step - loss: 0.0968 - mae: 0.2265 - val_loss: 0.1029 - val_mae: 0.2310\n",
      "Epoch 41/50\n",
      "195/195 [==============================] - 2s 8ms/step - loss: 0.0960 - mae: 0.2261 - val_loss: 0.0962 - val_mae: 0.2293\n",
      "Epoch 42/50\n",
      "195/195 [==============================] - 2s 8ms/step - loss: 0.0977 - mae: 0.2289 - val_loss: 0.0914 - val_mae: 0.2237\n",
      "Epoch 43/50\n",
      "195/195 [==============================] - 2s 8ms/step - loss: 0.0986 - mae: 0.2289 - val_loss: 0.0923 - val_mae: 0.2261\n",
      "Epoch 44/50\n",
      "195/195 [==============================] - 2s 8ms/step - loss: 0.0957 - mae: 0.2262 - val_loss: 0.0927 - val_mae: 0.2257\n",
      "Epoch 45/50\n",
      "195/195 [==============================] - 2s 8ms/step - loss: 0.0950 - mae: 0.2248 - val_loss: 0.1042 - val_mae: 0.2450\n",
      "Epoch 46/50\n",
      "195/195 [==============================] - 2s 8ms/step - loss: 0.0984 - mae: 0.2288 - val_loss: 0.0923 - val_mae: 0.2215\n",
      "Epoch 47/50\n",
      "195/195 [==============================] - 2s 8ms/step - loss: 0.0949 - mae: 0.2252 - val_loss: 0.1045 - val_mae: 0.2379\n",
      "Epoch 48/50\n",
      "195/195 [==============================] - 2s 8ms/step - loss: 0.0953 - mae: 0.2253 - val_loss: 0.0901 - val_mae: 0.2224\n",
      "Epoch 49/50\n",
      "195/195 [==============================] - 2s 8ms/step - loss: 0.0956 - mae: 0.2255 - val_loss: 0.0980 - val_mae: 0.2298\n",
      "Epoch 50/50\n",
      "195/195 [==============================] - 2s 8ms/step - loss: 0.0942 - mae: 0.2237 - val_loss: 0.0885 - val_mae: 0.2202\n"
     ]
    }
   ],
   "source": [
    "history=model.fit(x = X_train, y = y_train, validation_data = (X_test, y_test), epochs=50, batch_size = 64)\n",
    "predictions = model.predict(X_test)\n"
   ]
  },
  {
   "cell_type": "code",
   "execution_count": 9,
   "metadata": {},
   "outputs": [
    {
     "data": {
      "text/plain": [
       "(array([[8.617053 ],\n",
       "        [8.312147 ],\n",
       "        [8.412992 ],\n",
       "        [8.0817175],\n",
       "        [7.7605386],\n",
       "        [8.803456 ],\n",
       "        [8.655072 ],\n",
       "        [8.389903 ],\n",
       "        [8.578386 ],\n",
       "        [8.716165 ]], dtype=float32),\n",
       " array([[8.54500289],\n",
       "        [8.37047041],\n",
       "        [8.69484149],\n",
       "        [7.71760729],\n",
       "        [7.7403941 ],\n",
       "        [8.80751024],\n",
       "        [8.25992587],\n",
       "        [8.85311972],\n",
       "        [8.44308082],\n",
       "        [8.96784072]]))"
      ]
     },
     "execution_count": 9,
     "metadata": {},
     "output_type": "execute_result"
    }
   ],
   "source": [
    "predictions[:10], y_test.to_numpy()[:10]"
   ]
  },
  {
   "cell_type": "code",
   "execution_count": 10,
   "metadata": {},
   "outputs": [
    {
     "data": {
      "text/plain": [
       "(0.08847078363543803, 0.22015778861989677)"
      ]
     },
     "execution_count": 10,
     "metadata": {},
     "output_type": "execute_result"
    }
   ],
   "source": [
    "from sklearn.metrics import mean_squared_error, mean_absolute_error\n",
    "mean_squared_error(predictions, y_test), mean_absolute_error(predictions, y_test)"
   ]
  },
  {
   "cell_type": "code",
   "execution_count": 11,
   "metadata": {},
   "outputs": [
    {
     "data": {
      "text/plain": [
       "[<matplotlib.lines.Line2D at 0x1fa3ba06ca0>]"
      ]
     },
     "execution_count": 11,
     "metadata": {},
     "output_type": "execute_result"
    },
    {
     "data": {
      "image/png": "[encoded data removed]",
      "text/plain": [
       "<Figure size 432x288 with 1 Axes>"
      ]
     },
     "metadata": {
      "needs_background": "light"
     },
     "output_type": "display_data"
    }
   ],
   "source": [
    "epochs = 150\n",
    "plt.plot(range(0, len(history.history[\"loss\"])), history.history[\"loss\"][0:])"
   ]
  },
  {
   "cell_type": "code",
   "execution_count": 12,
   "metadata": {},
   "outputs": [
    {
     "name": "stdout",
     "output_type": "stream",
     "text": [
      "Enter the value of number_of_rooms : 1\n",
      "Enter the value of floor_on : 3\n",
      "Enter the value of total_floors : 3\n",
      "Enter the value of bedroom : 1\n",
      "Enter the value of pincode : 12203\n",
      "Enter the value of balkon : 1\n",
      "Enter the value of terrasse : 1\n",
      "Enter the value of garten : 0\n",
      "Enter the value of Gaste-WC : 0\n",
      "Enter the value of Aufzug : 1\n",
      "Enter the value of wohung : 1\n",
      "Enter the value of construction_year : 1969\n",
      "living_sq_m236.14\n"
     ]
    }
   ],
   "source": [
    "array = []\n",
    "for i in data.columns[:-2]:\n",
    "    value = float(input('Enter the value of {} : '.format(i)))\n",
    "    array.append(value)\n",
    "sq = float(input('living_sq_m2'))\n",
    "array.append(np.log1p(sq))\n",
    "str_to_float = [[float(i) for i in array]]\n",
    "two_dim1 = str_to_float\n",
    "#sqr_living_m2 = two_dim[-1][0]\n",
    "#(two_dim)\n",
    "#model.predict(two_dim)"
   ]
  },
  {
   "cell_type": "code",
   "execution_count": 13,
   "metadata": {},
   "outputs": [
    {
     "data": {
      "text/plain": [
       "array([[8.473679]], dtype=float32)"
      ]
     },
     "execution_count": 13,
     "metadata": {},
     "output_type": "execute_result"
    }
   ],
   "source": [
    "score = model.predict(pd.DataFrame(two_dim1))\n",
    "score"
   ]
  },
  {
   "cell_type": "code",
   "execution_count": 14,
   "metadata": {},
   "outputs": [
    {
     "name": "stdout",
     "output_type": "stream",
     "text": [
      "The price of house is [[172969.39]]\n"
     ]
    }
   ],
   "source": [
    "original_score = np.expm1(score) * np.expm1(two_dim1[-1][-1])\n",
    "print('The price of house is {}'.format(original_score))"
   ]
  },
  {
   "cell_type": "code",
   "execution_count": 19,
   "metadata": {},
   "outputs": [
    {
     "name": "stdout",
     "output_type": "stream",
     "text": [
      "Enter the value of number_of_rooms : 1\n",
      "Enter the value of floor_on : 3\n",
      "Enter the value of total_floors : 3\n",
      "Enter the value of bedroom : 1\n",
      "Enter the value of pincode : 12489\n",
      "Enter the value of balkon : 1\n",
      "Enter the value of terrasse : 1\n",
      "Enter the value of garten : 0\n",
      "Enter the value of Gaste-WC : 0\n",
      "Enter the value of Aufzug : 1\n",
      "Enter the value of wohung : 1\n",
      "Enter the value of construction_year : 1969\n",
      "living_sq_m236.14\n"
     ]
    }
   ],
   "source": [
    "array = []\n",
    "for i in data.columns[:-2]:\n",
    "    value = float(input('Enter the value of {} : '.format(i)))\n",
    "    array.append(value)\n",
    "sq = float(input('living_sq_m2'))\n",
    "array.append(np.log1p(sq))\n",
    "str_to_float = [[float(i) for i in array]]\n",
    "two_dim2 = str_to_float\n",
    "#sqr_living_m2 = two_dim[-1][0]\n",
    "#(two_dim)\n",
    "#model.predict(two_dim)"
   ]
  },
  {
   "cell_type": "code",
   "execution_count": 20,
   "metadata": {},
   "outputs": [
    {
     "data": {
      "text/plain": [
       "[[1.0,\n",
       "  3.0,\n",
       "  3.0,\n",
       "  1.0,\n",
       "  12489.0,\n",
       "  1.0,\n",
       "  1.0,\n",
       "  0.0,\n",
       "  0.0,\n",
       "  1.0,\n",
       "  1.0,\n",
       "  1969.0,\n",
       "  3.61469455592456]]"
      ]
     },
     "execution_count": 20,
     "metadata": {},
     "output_type": "execute_result"
    }
   ],
   "source": [
    "two_dim2"
   ]
  },
  {
   "cell_type": "code",
   "execution_count": 21,
   "metadata": {},
   "outputs": [
    {
     "data": {
      "text/plain": [
       "array([[8.473679]], dtype=float32)"
      ]
     },
     "execution_count": 21,
     "metadata": {},
     "output_type": "execute_result"
    }
   ],
   "source": [
    "score1 = model.predict(pd.DataFrame(two_dim2))\n",
    "score1"
   ]
  },
  {
   "cell_type": "code",
   "execution_count": 22,
   "metadata": {},
   "outputs": [
    {
     "name": "stdout",
     "output_type": "stream",
     "text": [
      "The price of house is [[172969.39]]\n"
     ]
    }
   ],
   "source": [
    "original_score = np.expm1(score1) * np.expm1(two_dim2[-1][-1])\n",
    "print('The price of house is {}'.format(original_score))"
   ]
  },
  {
   "cell_type": "code",
   "execution_count": 40,
   "metadata": {},
   "outputs": [
    {
     "name": "stdout",
     "output_type": "stream",
     "text": [
      "Enter the value of number_of_rooms : 2\n",
      "Enter the value of floor_on : 2\n",
      "Enter the value of total_floors : 5\n",
      "Enter the value of bedroom : 1\n",
      "Enter the value of pincode : 10439\n",
      "Enter the value of balkon : 0\n",
      "Enter the value of terrasse : 0\n",
      "Enter the value of garten : 0\n",
      "Enter the value of Gaste-WC : 0\n",
      "Enter the value of Aufzug : 0\n",
      "Enter the value of wohung : 1\n",
      "Enter the value of construction_year : 1906\n",
      "living_sq_m258.36\n",
      "[[2.0, 2.0, 5.0, 1.0, 10439.0, 0.0, 0.0, 0.0, 0.0, 0.0, 1.0, 1906.0, 4.083620598859125]]\n",
      "The price of house is [[284551.75]]\n"
     ]
    }
   ],
   "source": [
    "array = []\n",
    "for i in data.columns[:-2]:\n",
    "    value = float(input('Enter the value of {} : '.format(i)))\n",
    "    array.append(value)\n",
    "sq = float(input('living_sq_m2'))\n",
    "array.append(np.log1p(sq))\n",
    "str_to_float = [[float(i) for i in array]]\n",
    "two_dim3 = str_to_float\n",
    "print(two_dim3)\n",
    "score3 = model.predict(pd.DataFrame(two_dim3))\n",
    "original_score = np.expm1(score3) * np.expm1(two_dim3[-1][-1])\n",
    "print('The price of house is {}'.format(original_score))"
   ]
  },
  {
   "cell_type": "code",
   "execution_count": null,
   "metadata": {},
   "outputs": [],
   "source": []
  },
  {
   "cell_type": "code",
   "execution_count": null,
   "metadata": {},
   "outputs": [],
   "source": []
  },
  {
   "cell_type": "code",
   "execution_count": null,
   "metadata": {},
   "outputs": [],
   "source": []
  },
  {
   "cell_type": "code",
   "execution_count": null,
   "metadata": {},
   "outputs": [],
   "source": []
  },
  {
   "cell_type": "code",
   "execution_count": null,
   "metadata": {},
   "outputs": [],
   "source": []
  },
  {
   "cell_type": "code",
   "execution_count": null,
   "metadata": {},
   "outputs": [],
   "source": []
  },
  {
   "cell_type": "code",
   "execution_count": null,
   "metadata": {},
   "outputs": [],
   "source": []
  },
  {
   "cell_type": "code",
   "execution_count": null,
   "metadata": {},
   "outputs": [],
   "source": []
  },
  {
   "cell_type": "code",
   "execution_count": null,
   "metadata": {},
   "outputs": [],
   "source": []
  },
  {
   "cell_type": "code",
   "execution_count": null,
   "metadata": {},
   "outputs": [],
   "source": []
  },
  {
   "cell_type": "code",
   "execution_count": 8,
   "metadata": {},
   "outputs": [
    {
     "data": {
      "text/plain": [
       "(array([[8.624985],\n",
       "        [8.448158],\n",
       "        [8.433627],\n",
       "        [7.847938],\n",
       "        [7.717858],\n",
       "        [8.68112 ],\n",
       "        [8.453493],\n",
       "        [8.424903],\n",
       "        [8.629133],\n",
       "        [8.523428]], dtype=float32),\n",
       " array([[8.54500289],\n",
       "        [8.37047041],\n",
       "        [8.69484149],\n",
       "        [7.71760729],\n",
       "        [7.7403941 ],\n",
       "        [8.80751024],\n",
       "        [8.25992587],\n",
       "        [8.85311972],\n",
       "        [8.44308082],\n",
       "        [8.96784072]]))"
      ]
     },
     "execution_count": 8,
     "metadata": {},
     "output_type": "execute_result"
    }
   ],
   "source": [
    "predictions[:10], y_test.to_numpy()[:10]"
   ]
  },
  {
   "cell_type": "code",
   "execution_count": 9,
   "metadata": {},
   "outputs": [
    {
     "data": {
      "text/plain": [
       "(0.09521800298301904, 0.23610756083354892)"
      ]
     },
     "execution_count": 9,
     "metadata": {},
     "output_type": "execute_result"
    }
   ],
   "source": [
    "from sklearn.metrics import mean_squared_error, mean_absolute_error\n",
    "mean_squared_error(predictions, y_test), mean_absolute_error(predictions, y_test)"
   ]
  },
  {
   "cell_type": "code",
   "execution_count": 10,
   "metadata": {},
   "outputs": [
    {
     "data": {
      "text/plain": [
       "[<matplotlib.lines.Line2D at 0x2a65729c708>]"
      ]
     },
     "execution_count": 10,
     "metadata": {},
     "output_type": "execute_result"
    },
    {
     "data": {
      "image/png": "[encoded data removed]",
      "text/plain": [
       "<Figure size 432x288 with 1 Axes>"
      ]
     },
     "metadata": {
      "needs_background": "light"
     },
     "output_type": "display_data"
    }
   ],
   "source": [
    "epochs = 150\n",
    "plt.plot(range(1, len(history.history[\"loss\"])), history.history[\"loss\"][1:])"
   ]
  },
  {
   "cell_type": "code",
   "execution_count": 11,
   "metadata": {},
   "outputs": [
    {
     "data": {
      "text/plain": [
       "[<matplotlib.lines.Line2D at 0x2a65a234608>]"
      ]
     },
     "execution_count": 11,
     "metadata": {},
     "output_type": "execute_result"
    },
    {
     "data": {
      "image/png": "[encoded data removed]",
      "text/plain": [
       "<Figure size 432x288 with 1 Axes>"
      ]
     },
     "metadata": {
      "needs_background": "light"
     },
     "output_type": "display_data"
    }
   ],
   "source": [
    "plt.plot(range(1, len(history.history[\"val_loss\"])), history.history[\"val_loss\"][1:])"
   ]
  },
  {
   "cell_type": "code",
   "execution_count": 12,
   "metadata": {},
   "outputs": [
    {
     "name": "stdout",
     "output_type": "stream",
     "text": [
      "319/319 [==============================] - 0s 122us/sample - loss: 0.0952 - mae: 0.2361\n"
     ]
    },
    {
     "data": {
      "text/plain": [
       "[0.09521800336839636, 0.23610754]"
      ]
     },
     "execution_count": 12,
     "metadata": {},
     "output_type": "execute_result"
    }
   ],
   "source": [
    "model.evaluate(X_test, y_test)"
   ]
  },
  {
   "cell_type": "code",
   "execution_count": 13,
   "metadata": {},
   "outputs": [],
   "source": [
    "sq_ftt = X_test.head(10)\n",
    "sqr_ft = sq_ftt['living_area_m2']"
   ]
  },
  {
   "cell_type": "code",
   "execution_count": 14,
   "metadata": {},
   "outputs": [
    {
     "data": {
      "text/plain": [
       "([[8.545002892000001],\n",
       "  [8.370470412000001],\n",
       "  [8.694841486],\n",
       "  [7.717607289],\n",
       "  [7.740394095],\n",
       "  [8.807510236],\n",
       "  [8.25992587],\n",
       "  [8.853119722],\n",
       "  [8.443080823999999],\n",
       "  [8.967840722]],\n",
       " [[8.624984741210938],\n",
       "  [8.448158264160156],\n",
       "  [8.433627128601074],\n",
       "  [7.847938060760498],\n",
       "  [7.717857837677002],\n",
       "  [8.681119918823242],\n",
       "  [8.453493118286133],\n",
       "  [8.42490291595459],\n",
       "  [8.629133224487305],\n",
       "  [8.523427963256836]])"
      ]
     },
     "execution_count": 14,
     "metadata": {},
     "output_type": "execute_result"
    }
   ],
   "source": [
    "p = predictions[:10]\n",
    "p = p.tolist()\n",
    "y_test = y_test[:10]\n",
    "\n",
    "y_t = y_test.to_numpy().tolist()\n",
    "y_t, p"
   ]
  },
  {
   "cell_type": "code",
   "execution_count": 15,
   "metadata": {},
   "outputs": [
    {
     "name": "stdout",
     "output_type": "stream",
     "text": [
      "true [505103.25009856]\n",
      "pred [547161.88716223]\n",
      "true [263377.66665733]\n",
      "pred [284654.69499346]\n",
      "true [311023.10593111]\n",
      "pred [239523.81485287]\n",
      "true [494466.57537998]\n",
      "pred [563298.86319285]\n",
      "true [427684.37845084]\n",
      "pred [418153.76874746]\n",
      "true [382740.51652174]\n",
      "pred [337298.04291468]\n",
      "true [258931.78743056]\n",
      "pred [314232.10674791]\n",
      "true [457060.51131931]\n",
      "pred [297852.67527026]\n",
      "true [459640.83683441]\n",
      "pred [553630.66541855]\n",
      "true [806948.48014018]\n",
      "pred [517415.93436624]\n"
     ]
    }
   ],
   "source": [
    "for i, j, k in zip(y_t, sqr_ft, p):\n",
    "    print('true',np.exp(i) * np.exp(j))\n",
    "    print('pred',np.exp(k) * np.exp(j))"
   ]
  },
  {
   "cell_type": "code",
   "execution_count": 18,
   "metadata": {},
   "outputs": [
    {
     "name": "stdout",
     "output_type": "stream",
     "text": [
      "Enter the value of number_of_rooms : 2\n",
      "Enter the value of floor_on : 2\n",
      "Enter the value of total_floors : 2\n",
      "Enter the value of bedroom : 2\n",
      "Enter the value of pincode : 12209\n",
      "Enter the value of balkon : 2\n",
      "Enter the value of terrasse : 1\n",
      "Enter the value of garten : 2\n",
      "Enter the value of Gaste-WC : 1\n",
      "Enter the value of Aufzug : 1\n",
      "Enter the value of wohung : 1\n",
      "Enter the value of construction_year : 1980\n",
      "Enter the value of living_area_m2 : 4.04\n",
      "The price of house is [[ 6524.77  ]\n",
      " [ 6524.77  ]\n",
      " [ 6524.77  ]\n",
      " [ 6524.77  ]\n",
      " [ 2157.3552]\n",
      " [ 6524.77  ]\n",
      " [10122.574 ]\n",
      " [ 6524.77  ]\n",
      " [10122.574 ]\n",
      " [10122.574 ]\n",
      " [10122.574 ]\n",
      " [ 2157.3552]\n",
      " [ 3599.7964]]\n"
     ]
    }
   ],
   "source": [
    "array = []\n",
    "for i in data.columns[:-1]:\n",
    "    value = float(input('Enter the value of {} : '.format(i)))\n",
    "    array.append(value)\n",
    "sq = float(input('cs'))\n",
    "array.append(np.log1p(sq))\n",
    "str_to_float = [[float(i) for i in array]]\n",
    "two_dim = str_to_float\n",
    "sqr_living_m2 = two_dim[-1][-1]\n",
    "score = model.predict([[2.0, 2.0, 2.0, 2.0, 12209.0, 2.0, 1.0, 2.0, 1.0, 1.0, 1.0, 1980.0, 4.04]])\n",
    "score\n",
    "original_score = np.expm1(score) * np.expm1(sqr_living_m2)\n",
    "print('The price of house is {}'.format(original_score))"
   ]
  },
  {
   "cell_type": "code",
   "execution_count": 24,
   "metadata": {},
   "outputs": [
    {
     "data": {
      "text/plain": [
       "[[2.0, 2.0, 2.0, 2.0, 12209.0, 2.0, 1.0, 2.0, 1.0, 1.0, 1.0, 1980.0, 4.04]]"
      ]
     },
     "execution_count": 24,
     "metadata": {},
     "output_type": "execute_result"
    }
   ],
   "source": [
    "two_dim"
   ]
  },
  {
   "cell_type": "code",
   "execution_count": 28,
   "metadata": {},
   "outputs": [
    {
     "data": {
      "text/plain": [
       "array([[4.743361 ],\n",
       "       [4.743361 ],\n",
       "       [4.743361 ],\n",
       "       [4.743361 ],\n",
       "       [3.6366384],\n",
       "       [4.743361 ],\n",
       "       [5.1825233],\n",
       "       [4.743361 ],\n",
       "       [5.1825233],\n",
       "       [5.1825233],\n",
       "       [5.1825233],\n",
       "       [3.6366384],\n",
       "       [4.1486325]], dtype=float32)"
      ]
     },
     "execution_count": 28,
     "metadata": {},
     "output_type": "execute_result"
    }
   ],
   "source": [
    "score = model.predict([[2.0, 2.0, 2.0, 2.0, 12209.0, 2.0, 1.0, 2.0, 1.0, 1.0, 1.0, 1980.0, 4.04]])\n",
    "score"
   ]
  },
  {
   "cell_type": "code",
   "execution_count": null,
   "metadata": {},
   "outputs": [],
   "source": []
  }
 ],
 "metadata": {
  "kernelspec": {
   "display_name": "Python 3",
   "language": "python",
   "name": "python3"
  },
  "language_info": {
   "codemirror_mode": {
    "name": "ipython",
    "version": 3
   },
   "file_extension": ".py",
   "mimetype": "text/x-python",
   "name": "python",
   "nbconvert_exporter": "python",
   "pygments_lexer": "ipython3",
   "version": "3.8.8"
  }
 },
 "nbformat": 4,
 "nbformat_minor": 4
}
