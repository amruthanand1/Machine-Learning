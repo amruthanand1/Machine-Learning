{
 "cells": [
  {
   "cell_type": "code",
   "execution_count": 1,
   "metadata": {},
   "outputs": [],
   "source": [
    "import tensorflow as tf\n",
    "import numpy as np\n",
    "import pandas as pd\n",
    "import matplotlib.pyplot as plt\n",
    "#import seaborn as sns\n",
    "from scipy import stats\n",
    "from sklearn.metrics import mean_squared_error, mean_absolute_error\n",
    "from sklearn.model_selection import train_test_split\n",
    "from sklearn.metrics import r2_score\n",
    "import seaborn as sns"
   ]
  },
  {
   "cell_type": "code",
   "execution_count": 2,
   "metadata": {},
   "outputs": [
    {
     "data": {
      "text/html": [
       "<div>\n",
       "<style scoped>\n",
       "    .dataframe tbody tr th:only-of-type {\n",
       "        vertical-align: middle;\n",
       "    }\n",
       "\n",
       "    .dataframe tbody tr th {\n",
       "        vertical-align: top;\n",
       "    }\n",
       "\n",
       "    .dataframe thead th {\n",
       "        text-align: right;\n",
       "    }\n",
       "</style>\n",
       "<table border=\"1\" class=\"dataframe\">\n",
       "  <thead>\n",
       "    <tr style=\"text-align: right;\">\n",
       "      <th></th>\n",
       "      <th>number_of_rooms</th>\n",
       "      <th>floor_on</th>\n",
       "      <th>total_floors</th>\n",
       "      <th>bedroom</th>\n",
       "      <th>pincode</th>\n",
       "      <th>balkon</th>\n",
       "      <th>terrasse</th>\n",
       "      <th>garten</th>\n",
       "      <th>Gaste-WC</th>\n",
       "      <th>Aufzug</th>\n",
       "      <th>wohung</th>\n",
       "      <th>construction_year</th>\n",
       "      <th>living_area_m2</th>\n",
       "      <th>transform_price</th>\n",
       "    </tr>\n",
       "  </thead>\n",
       "  <tbody>\n",
       "    <tr>\n",
       "      <th>0</th>\n",
       "      <td>2.0</td>\n",
       "      <td>0</td>\n",
       "      <td>0</td>\n",
       "      <td>0</td>\n",
       "      <td>12209</td>\n",
       "      <td>1</td>\n",
       "      <td>1</td>\n",
       "      <td>0</td>\n",
       "      <td>0</td>\n",
       "      <td>0</td>\n",
       "      <td>1</td>\n",
       "      <td>1997</td>\n",
       "      <td>4.043051</td>\n",
       "      <td>8.535089</td>\n",
       "    </tr>\n",
       "    <tr>\n",
       "      <th>1</th>\n",
       "      <td>3.0</td>\n",
       "      <td>0</td>\n",
       "      <td>0</td>\n",
       "      <td>0</td>\n",
       "      <td>12209</td>\n",
       "      <td>1</td>\n",
       "      <td>1</td>\n",
       "      <td>0</td>\n",
       "      <td>0</td>\n",
       "      <td>0</td>\n",
       "      <td>1</td>\n",
       "      <td>1997</td>\n",
       "      <td>4.442651</td>\n",
       "      <td>8.517393</td>\n",
       "    </tr>\n",
       "    <tr>\n",
       "      <th>2</th>\n",
       "      <td>5.0</td>\n",
       "      <td>0</td>\n",
       "      <td>3</td>\n",
       "      <td>3</td>\n",
       "      <td>12209</td>\n",
       "      <td>1</td>\n",
       "      <td>1</td>\n",
       "      <td>1</td>\n",
       "      <td>1</td>\n",
       "      <td>1</td>\n",
       "      <td>0</td>\n",
       "      <td>2021</td>\n",
       "      <td>5.259732</td>\n",
       "      <td>8.653742</td>\n",
       "    </tr>\n",
       "    <tr>\n",
       "      <th>3</th>\n",
       "      <td>2.5</td>\n",
       "      <td>1</td>\n",
       "      <td>2</td>\n",
       "      <td>1</td>\n",
       "      <td>12209</td>\n",
       "      <td>1</td>\n",
       "      <td>1</td>\n",
       "      <td>0</td>\n",
       "      <td>0</td>\n",
       "      <td>0</td>\n",
       "      <td>1</td>\n",
       "      <td>1968</td>\n",
       "      <td>4.335197</td>\n",
       "      <td>8.638011</td>\n",
       "    </tr>\n",
       "    <tr>\n",
       "      <th>4</th>\n",
       "      <td>2.5</td>\n",
       "      <td>2</td>\n",
       "      <td>2</td>\n",
       "      <td>2</td>\n",
       "      <td>12209</td>\n",
       "      <td>1</td>\n",
       "      <td>1</td>\n",
       "      <td>1</td>\n",
       "      <td>0</td>\n",
       "      <td>0</td>\n",
       "      <td>1</td>\n",
       "      <td>2018</td>\n",
       "      <td>4.262680</td>\n",
       "      <td>8.443301</td>\n",
       "    </tr>\n",
       "  </tbody>\n",
       "</table>\n",
       "</div>"
      ],
      "text/plain": [
       "   number_of_rooms  floor_on  total_floors  bedroom  pincode  balkon  \\\n",
       "0              2.0         0             0        0    12209       1   \n",
       "1              3.0         0             0        0    12209       1   \n",
       "2              5.0         0             3        3    12209       1   \n",
       "3              2.5         1             2        1    12209       1   \n",
       "4              2.5         2             2        2    12209       1   \n",
       "\n",
       "   terrasse  garten  Gaste-WC  Aufzug  wohung  construction_year  \\\n",
       "0         1       0         0       0       1               1997   \n",
       "1         1       0         0       0       1               1997   \n",
       "2         1       1         1       1       0               2021   \n",
       "3         1       0         0       0       1               1968   \n",
       "4         1       1         0       0       1               2018   \n",
       "\n",
       "   living_area_m2  transform_price  \n",
       "0        4.043051         8.535089  \n",
       "1        4.442651         8.517393  \n",
       "2        5.259732         8.653742  \n",
       "3        4.335197         8.638011  \n",
       "4        4.262680         8.443301  "
      ]
     },
     "execution_count": 2,
     "metadata": {},
     "output_type": "execute_result"
    }
   ],
   "source": [
    "data = pd.read_csv(r'C:\\Users\\amrut\\Downloads\\after_preprocess_data.csv', encoding = 'iso-8859-1')\n",
    "data.head()"
   ]
  },
  {
   "cell_type": "code",
   "execution_count": 4,
   "metadata": {},
   "outputs": [
    {
     "data": {
      "text/plain": [
       "((12743, 13), (12743, 1))"
      ]
     },
     "execution_count": 4,
     "metadata": {},
     "output_type": "execute_result"
    }
   ],
   "source": [
    "X = data.iloc[:, :-1]\n",
    "y = data[['transform_price']]\n",
    "X.shape, y.shape"
   ]
  },
  {
   "cell_type": "code",
   "execution_count": 5,
   "metadata": {},
   "outputs": [],
   "source": [
    "XX = X.to_numpy()\n",
    "yy = y.to_numpy()"
   ]
  },
  {
   "cell_type": "code",
   "execution_count": 6,
   "metadata": {},
   "outputs": [
    {
     "data": {
      "text/plain": [
       "((12424, 13), (12424, 1), (319, 13))"
      ]
     },
     "execution_count": 6,
     "metadata": {},
     "output_type": "execute_result"
    }
   ],
   "source": [
    "X_train, X_test, y_train, y_test = train_test_split(X, y, test_size = 0.025, random_state = 0)\n",
    "X_train.shape, y_train.shape, X_test.shape"
   ]
  },
  {
   "cell_type": "code",
   "execution_count": 7,
   "metadata": {},
   "outputs": [],
   "source": [
    "tf.random.set_seed(20)\n",
    "model = tf.keras.models.Sequential([\n",
    "    tf.keras.layers.Lambda(lambda x: tf.expand_dims(x, axis = -1), input_shape = [None]),\n",
    "    tf.keras.layers.SimpleRNN(100, return_sequences = True),\n",
    "    tf.keras.layers.SimpleRNN(80, return_sequences = True),\n",
    "    tf.keras.layers.SimpleRNN(40),\n",
    "    tf.keras.layers.Dense(1)\n",
    "])\n",
    "model.compile(loss = 'mse', optimizer = 'adam', metrics = ['mae'])"
   ]
  },
  {
   "cell_type": "code",
   "execution_count": 8,
   "metadata": {
    "scrolled": false
   },
   "outputs": [
    {
     "name": "stdout",
     "output_type": "stream",
     "text": [
      "Epoch 1/50\n",
      "389/389 [==============================] - 4s 6ms/step - loss: 0.8396 - mae: 0.4585 - val_loss: 0.1523 - val_mae: 0.2811\n",
      "Epoch 2/50\n",
      "389/389 [==============================] - 2s 5ms/step - loss: 0.1194 - mae: 0.2554 - val_loss: 0.1224 - val_mae: 0.2512\n",
      "Epoch 3/50\n",
      "389/389 [==============================] - 2s 5ms/step - loss: 0.1148 - mae: 0.2515 - val_loss: 0.1308 - val_mae: 0.2628\n",
      "Epoch 4/50\n",
      "389/389 [==============================] - 2s 5ms/step - loss: 0.1141 - mae: 0.2497 - val_loss: 0.1268 - val_mae: 0.2560\n",
      "Epoch 5/50\n",
      "389/389 [==============================] - 2s 5ms/step - loss: 0.1115 - mae: 0.2481 - val_loss: 0.1083 - val_mae: 0.2388\n",
      "Epoch 6/50\n",
      "389/389 [==============================] - 2s 5ms/step - loss: 0.1105 - mae: 0.2459 - val_loss: 0.1105 - val_mae: 0.2413\n",
      "Epoch 7/50\n",
      "389/389 [==============================] - 3s 8ms/step - loss: 0.1098 - mae: 0.2453 - val_loss: 0.1092 - val_mae: 0.2406\n",
      "Epoch 8/50\n",
      "389/389 [==============================] - 3s 8ms/step - loss: 0.1079 - mae: 0.2418 - val_loss: 0.1133 - val_mae: 0.2460\n",
      "Epoch 9/50\n",
      "389/389 [==============================] - 3s 8ms/step - loss: 0.1074 - mae: 0.2411 - val_loss: 0.1020 - val_mae: 0.2431\n",
      "Epoch 10/50\n",
      "389/389 [==============================] - 3s 7ms/step - loss: 0.1052 - mae: 0.2393 - val_loss: 0.0956 - val_mae: 0.2291\n",
      "Epoch 11/50\n",
      "389/389 [==============================] - 3s 7ms/step - loss: 0.1055 - mae: 0.2384 - val_loss: 0.0973 - val_mae: 0.2360\n",
      "Epoch 12/50\n",
      "389/389 [==============================] - 3s 7ms/step - loss: 0.1053 - mae: 0.2384 - val_loss: 0.1043 - val_mae: 0.2412\n",
      "Epoch 13/50\n",
      "389/389 [==============================] - 3s 7ms/step - loss: 0.1051 - mae: 0.2374 - val_loss: 0.0961 - val_mae: 0.2314\n",
      "Epoch 14/50\n",
      "389/389 [==============================] - 3s 8ms/step - loss: 0.1040 - mae: 0.2370 - val_loss: 0.0980 - val_mae: 0.2401\n",
      "Epoch 15/50\n",
      "389/389 [==============================] - 3s 8ms/step - loss: 0.1042 - mae: 0.2374 - val_loss: 0.1065 - val_mae: 0.2418\n",
      "Epoch 16/50\n",
      "389/389 [==============================] - 3s 8ms/step - loss: 0.1042 - mae: 0.2369 - val_loss: 0.1029 - val_mae: 0.2367\n",
      "Epoch 17/50\n",
      "389/389 [==============================] - 3s 7ms/step - loss: 0.1035 - mae: 0.2359 - val_loss: 0.0984 - val_mae: 0.2294\n",
      "Epoch 18/50\n",
      "389/389 [==============================] - 3s 8ms/step - loss: 0.1022 - mae: 0.2332 - val_loss: 0.0994 - val_mae: 0.2288\n",
      "Epoch 19/50\n",
      "389/389 [==============================] - 3s 7ms/step - loss: 0.1029 - mae: 0.2354 - val_loss: 0.1057 - val_mae: 0.2544\n",
      "Epoch 20/50\n",
      "389/389 [==============================] - 3s 7ms/step - loss: 0.1047 - mae: 0.2370 - val_loss: 0.1029 - val_mae: 0.2353\n",
      "Epoch 21/50\n",
      "389/389 [==============================] - 3s 7ms/step - loss: 0.1017 - mae: 0.2335 - val_loss: 0.1056 - val_mae: 0.2356\n",
      "Epoch 22/50\n",
      "389/389 [==============================] - 3s 7ms/step - loss: 0.1045 - mae: 0.2370 - val_loss: 0.1046 - val_mae: 0.2343\n",
      "Epoch 23/50\n",
      "389/389 [==============================] - 3s 7ms/step - loss: 0.1015 - mae: 0.2330 - val_loss: 0.1094 - val_mae: 0.2449\n",
      "Epoch 24/50\n",
      "389/389 [==============================] - 3s 7ms/step - loss: 0.0994 - mae: 0.2314 - val_loss: 0.1116 - val_mae: 0.2492\n",
      "Epoch 25/50\n",
      "389/389 [==============================] - 3s 7ms/step - loss: 0.1016 - mae: 0.2336 - val_loss: 0.1003 - val_mae: 0.2287\n",
      "Epoch 26/50\n",
      "389/389 [==============================] - 3s 7ms/step - loss: 0.0998 - mae: 0.2310 - val_loss: 0.0942 - val_mae: 0.2313\n",
      "Epoch 27/50\n",
      "389/389 [==============================] - 3s 8ms/step - loss: 0.1005 - mae: 0.2321 - val_loss: 0.1004 - val_mae: 0.2317\n",
      "Epoch 28/50\n",
      "389/389 [==============================] - 3s 8ms/step - loss: 0.1000 - mae: 0.2321 - val_loss: 0.1003 - val_mae: 0.2302\n",
      "Epoch 29/50\n",
      "389/389 [==============================] - 3s 7ms/step - loss: 0.0988 - mae: 0.2303 - val_loss: 0.1201 - val_mae: 0.2463\n",
      "Epoch 30/50\n",
      "389/389 [==============================] - 3s 7ms/step - loss: 0.1011 - mae: 0.2328 - val_loss: 0.1113 - val_mae: 0.2459\n",
      "Epoch 31/50\n",
      "389/389 [==============================] - 3s 7ms/step - loss: 0.0991 - mae: 0.2307 - val_loss: 0.0916 - val_mae: 0.2257\n",
      "Epoch 32/50\n",
      "389/389 [==============================] - 3s 7ms/step - loss: 0.0990 - mae: 0.2304 - val_loss: 0.0919 - val_mae: 0.2257\n",
      "Epoch 33/50\n",
      "389/389 [==============================] - 3s 8ms/step - loss: 0.0981 - mae: 0.2291 - val_loss: 0.0963 - val_mae: 0.2321\n",
      "Epoch 34/50\n",
      "389/389 [==============================] - 3s 7ms/step - loss: 0.0976 - mae: 0.2296 - val_loss: 0.1022 - val_mae: 0.2358\n",
      "Epoch 35/50\n",
      "389/389 [==============================] - 3s 8ms/step - loss: 0.1023 - mae: 0.2361 - val_loss: 0.1007 - val_mae: 0.2337\n",
      "Epoch 36/50\n",
      "389/389 [==============================] - 3s 8ms/step - loss: 0.1036 - mae: 0.2371 - val_loss: 0.1014 - val_mae: 0.2318\n",
      "Epoch 37/50\n",
      "389/389 [==============================] - 3s 7ms/step - loss: 0.1015 - mae: 0.2340 - val_loss: 0.1001 - val_mae: 0.2360\n",
      "Epoch 38/50\n",
      "389/389 [==============================] - 3s 8ms/step - loss: 0.0986 - mae: 0.2305 - val_loss: 0.0996 - val_mae: 0.2311\n",
      "Epoch 39/50\n",
      "389/389 [==============================] - 3s 8ms/step - loss: 0.0985 - mae: 0.2309 - val_loss: 0.1017 - val_mae: 0.2325\n",
      "Epoch 40/50\n",
      "389/389 [==============================] - 3s 8ms/step - loss: 0.0952 - mae: 0.2262 - val_loss: 0.0949 - val_mae: 0.2263\n",
      "Epoch 41/50\n",
      "389/389 [==============================] - 3s 7ms/step - loss: 0.0978 - mae: 0.2301 - val_loss: 0.0977 - val_mae: 0.2293\n",
      "Epoch 42/50\n",
      "389/389 [==============================] - 3s 8ms/step - loss: 0.0989 - mae: 0.2315 - val_loss: 0.0980 - val_mae: 0.2309\n",
      "Epoch 43/50\n",
      "389/389 [==============================] - 3s 8ms/step - loss: 0.0967 - mae: 0.2281 - val_loss: 0.0942 - val_mae: 0.2300\n",
      "Epoch 44/50\n",
      "389/389 [==============================] - 4s 10ms/step - loss: 0.0978 - mae: 0.2304 - val_loss: 0.0907 - val_mae: 0.2244\n",
      "Epoch 45/50\n",
      "389/389 [==============================] - 3s 8ms/step - loss: 0.0945 - mae: 0.2262 - val_loss: 0.0930 - val_mae: 0.2255\n",
      "Epoch 46/50\n",
      "389/389 [==============================] - 3s 8ms/step - loss: 0.0945 - mae: 0.2266 - val_loss: 0.0919 - val_mae: 0.2236\n",
      "Epoch 47/50\n",
      "389/389 [==============================] - 3s 8ms/step - loss: 0.0948 - mae: 0.2263 - val_loss: 0.0985 - val_mae: 0.2308\n",
      "Epoch 48/50\n",
      "389/389 [==============================] - 3s 7ms/step - loss: 0.0966 - mae: 0.2295 - val_loss: 0.1073 - val_mae: 0.2318\n",
      "Epoch 49/50\n",
      "389/389 [==============================] - 3s 7ms/step - loss: 0.0981 - mae: 0.2301 - val_loss: 0.0965 - val_mae: 0.2299\n",
      "Epoch 50/50\n",
      "389/389 [==============================] - 3s 7ms/step - loss: 0.1002 - mae: 0.2338 - val_loss: 0.0893 - val_mae: 0.2222\n"
     ]
    }
   ],
   "source": [
    "history=model.fit(x = X_train, y = y_train, validation_data = (X_test, y_test), epochs=50, batch_size = 32)\n",
    "predictions = model.predict(X_test)\n"
   ]
  },
  {
   "cell_type": "code",
   "execution_count": 9,
   "metadata": {},
   "outputs": [
    {
     "name": "stdout",
     "output_type": "stream",
     "text": [
      "389/389 [==============================] - 1s 2ms/step - loss: 0.0924 - mae: 0.2240\n",
      "10/10 [==============================] - 0s 2ms/step - loss: 0.0893 - mae: 0.2222\n"
     ]
    },
    {
     "data": {
      "text/plain": [
       "([0.09241743385791779, 0.22398124635219574],\n",
       " [0.08925512433052063, 0.22216254472732544])"
      ]
     },
     "execution_count": 9,
     "metadata": {},
     "output_type": "execute_result"
    }
   ],
   "source": [
    "model.evaluate(X_train, y_train), model.evaluate(X_test, y_test)"
   ]
  },
  {
   "cell_type": "code",
   "execution_count": 10,
   "metadata": {},
   "outputs": [
    {
     "data": {
      "text/plain": [
       "(array([[8.601392 ],\n",
       "        [8.331465 ],\n",
       "        [8.397828 ],\n",
       "        [7.982513 ],\n",
       "        [7.7113943]], dtype=float32),\n",
       " array([[8.54500289],\n",
       "        [8.37047041],\n",
       "        [8.69484149],\n",
       "        [7.71760729],\n",
       "        [7.7403941 ]]))"
      ]
     },
     "execution_count": 10,
     "metadata": {},
     "output_type": "execute_result"
    }
   ],
   "source": [
    "predictions[:5], y_test.to_numpy()[:5]"
   ]
  },
  {
   "cell_type": "code",
   "execution_count": 11,
   "metadata": {},
   "outputs": [
    {
     "data": {
      "text/plain": [
       "(0.08925508926814467, 0.2221624958253775)"
      ]
     },
     "execution_count": 11,
     "metadata": {},
     "output_type": "execute_result"
    }
   ],
   "source": [
    "from sklearn.metrics import mean_squared_error, mean_absolute_error\n",
    "mean_squared_error(predictions, y_test), mean_absolute_error(predictions, y_test)"
   ]
  },
  {
   "cell_type": "code",
   "execution_count": 12,
   "metadata": {},
   "outputs": [
    {
     "data": {
      "text/plain": [
       "[<matplotlib.lines.Line2D at 0x26d6622b250>]"
      ]
     },
     "execution_count": 12,
     "metadata": {},
     "output_type": "execute_result"
    },
    {
     "data": {
      "image/png": "[encoded data removed]",
      "text/plain": [
       "<Figure size 432x288 with 1 Axes>"
      ]
     },
     "metadata": {
      "needs_background": "light"
     },
     "output_type": "display_data"
    }
   ],
   "source": [
    "epochs = 150\n",
    "plt.plot(range(0, len(history.history[\"loss\"])), history.history[\"loss\"][0:])"
   ]
  },
  {
   "cell_type": "code",
   "execution_count": 15,
   "metadata": {},
   "outputs": [
    {
     "name": "stdout",
     "output_type": "stream",
     "text": [
      "Enter the value of number_of_rooms : 1\n",
      "Enter the value of floor_on : 1\n",
      "Enter the value of total_floors : 1\n",
      "Enter the value of bedroom : 1\n",
      "Enter the value of pincode : 12103\n",
      "Enter the value of balkon : 1\n",
      "Enter the value of terrasse : 1\n",
      "Enter the value of garten : 1\n",
      "Enter the value of Gaste-WC : 1\n",
      "Enter the value of Aufzug : 1\n",
      "Enter the value of wohung : 1\n",
      "Enter the value of construction_year : 1\n",
      "living_area_m2100\n"
     ]
    },
    {
     "data": {
      "text/plain": [
       "array([[611375.]], dtype=float32)"
      ]
     },
     "execution_count": 15,
     "metadata": {},
     "output_type": "execute_result"
    }
   ],
   "source": [
    "array = []\n",
    "for i in data.columns[:-2]:\n",
    "    value = float(input('Enter the value of {} : '.format(i)))\n",
    "    array.append(value)\n",
    "sq = float(input('living_area_m2'))\n",
    "array.append(np.log1p(sq))\n",
    "str_to_float = [[float(i) for i in array]]\n",
    "two_dim = str_to_float\n",
    "to = pd.DataFrame(two_dim)\n",
    "np.expm1(model.predict(to)) * np.expm1(two_dim[-1][-1])"
   ]
  },
  {
   "cell_type": "code",
   "execution_count": 16,
   "metadata": {},
   "outputs": [
    {
     "name": "stdout",
     "output_type": "stream",
     "text": [
      "Enter the value of number_of_rooms : 1\n",
      "Enter the value of floor_on : 1\n",
      "Enter the value of total_floors : 1\n",
      "Enter the value of bedroom : 1\n",
      "Enter the value of pincode : 10178\n",
      "Enter the value of balkon : 1\n",
      "Enter the value of terrasse : 1\n",
      "Enter the value of garten : 1\n",
      "Enter the value of Gaste-WC : 1\n",
      "Enter the value of Aufzug : 1\n",
      "Enter the value of wohung : 1\n",
      "Enter the value of construction_year : 1\n",
      "living_area_m2100\n"
     ]
    },
    {
     "data": {
      "text/plain": [
       "array([[611375.]], dtype=float32)"
      ]
     },
     "execution_count": 16,
     "metadata": {},
     "output_type": "execute_result"
    }
   ],
   "source": [
    "array = []\n",
    "for i in data.columns[:-2]:\n",
    "    value = float(input('Enter the value of {} : '.format(i)))\n",
    "    array.append(value)\n",
    "sq = float(input('living_area_m2'))\n",
    "array.append(np.log1p(sq))\n",
    "str_to_float = [[float(i) for i in array]]\n",
    "two_dim = str_to_float\n",
    "to = pd.DataFrame(two_dim)\n",
    "np.expm1(model.predict(to)) * np.expm1(two_dim[-1][-1])"
   ]
  },
  {
   "cell_type": "code",
   "execution_count": 17,
   "metadata": {},
   "outputs": [],
   "source": [
    "model.save('simple_rnn_model.hdf5')"
   ]
  },
  {
   "cell_type": "code",
   "execution_count": null,
   "metadata": {},
   "outputs": [],
   "source": []
  },
  {
   "cell_type": "code",
   "execution_count": null,
   "metadata": {},
   "outputs": [],
   "source": []
  },
  {
   "cell_type": "code",
   "execution_count": null,
   "metadata": {},
   "outputs": [],
   "source": []
  },
  {
   "cell_type": "code",
   "execution_count": null,
   "metadata": {},
   "outputs": [],
   "source": []
  },
  {
   "cell_type": "code",
   "execution_count": null,
   "metadata": {},
   "outputs": [],
   "source": []
  },
  {
   "cell_type": "code",
   "execution_count": null,
   "metadata": {},
   "outputs": [],
   "source": []
  },
  {
   "cell_type": "code",
   "execution_count": null,
   "metadata": {},
   "outputs": [],
   "source": []
  },
  {
   "cell_type": "code",
   "execution_count": null,
   "metadata": {},
   "outputs": [],
   "source": []
  },
  {
   "cell_type": "code",
   "execution_count": null,
   "metadata": {},
   "outputs": [],
   "source": []
  },
  {
   "cell_type": "code",
   "execution_count": 8,
   "metadata": {},
   "outputs": [
    {
     "data": {
      "text/plain": [
       "(array([[8.624985],\n",
       "        [8.448158],\n",
       "        [8.433627],\n",
       "        [7.847938],\n",
       "        [7.717858],\n",
       "        [8.68112 ],\n",
       "        [8.453493],\n",
       "        [8.424903],\n",
       "        [8.629133],\n",
       "        [8.523428]], dtype=float32),\n",
       " array([[8.54500289],\n",
       "        [8.37047041],\n",
       "        [8.69484149],\n",
       "        [7.71760729],\n",
       "        [7.7403941 ],\n",
       "        [8.80751024],\n",
       "        [8.25992587],\n",
       "        [8.85311972],\n",
       "        [8.44308082],\n",
       "        [8.96784072]]))"
      ]
     },
     "execution_count": 8,
     "metadata": {},
     "output_type": "execute_result"
    }
   ],
   "source": [
    "predictions[:10], y_test.to_numpy()[:10]"
   ]
  },
  {
   "cell_type": "code",
   "execution_count": 9,
   "metadata": {},
   "outputs": [
    {
     "data": {
      "text/plain": [
       "(0.09521800298301904, 0.23610756083354892)"
      ]
     },
     "execution_count": 9,
     "metadata": {},
     "output_type": "execute_result"
    }
   ],
   "source": [
    "from sklearn.metrics import mean_squared_error, mean_absolute_error\n",
    "mean_squared_error(predictions, y_test), mean_absolute_error(predictions, y_test)"
   ]
  },
  {
   "cell_type": "code",
   "execution_count": 10,
   "metadata": {},
   "outputs": [
    {
     "data": {
      "text/plain": [
       "[<matplotlib.lines.Line2D at 0x2a65729c708>]"
      ]
     },
     "execution_count": 10,
     "metadata": {},
     "output_type": "execute_result"
    },
    {
     "data": {
      "image/png": "[encoded data removed]",
      "text/plain": [
       "<Figure size 432x288 with 1 Axes>"
      ]
     },
     "metadata": {
      "needs_background": "light"
     },
     "output_type": "display_data"
    }
   ],
   "source": [
    "epochs = 150\n",
    "plt.plot(range(1, len(history.history[\"loss\"])), history.history[\"loss\"][1:])"
   ]
  },
  {
   "cell_type": "code",
   "execution_count": 11,
   "metadata": {},
   "outputs": [
    {
     "data": {
      "text/plain": [
       "[<matplotlib.lines.Line2D at 0x2a65a234608>]"
      ]
     },
     "execution_count": 11,
     "metadata": {},
     "output_type": "execute_result"
    },
    {
     "data": {
      "image/png": "[encoded data removed]",
      "text/plain": [
       "<Figure size 432x288 with 1 Axes>"
      ]
     },
     "metadata": {
      "needs_background": "light"
     },
     "output_type": "display_data"
    }
   ],
   "source": [
    "plt.plot(range(1, len(history.history[\"val_loss\"])), history.history[\"val_loss\"][1:])"
   ]
  },
  {
   "cell_type": "code",
   "execution_count": 12,
   "metadata": {},
   "outputs": [
    {
     "name": "stdout",
     "output_type": "stream",
     "text": [
      "319/319 [==============================] - 0s 122us/sample - loss: 0.0952 - mae: 0.2361\n"
     ]
    },
    {
     "data": {
      "text/plain": [
       "[0.09521800336839636, 0.23610754]"
      ]
     },
     "execution_count": 12,
     "metadata": {},
     "output_type": "execute_result"
    }
   ],
   "source": [
    "model.evaluate(X_test, y_test)"
   ]
  },
  {
   "cell_type": "code",
   "execution_count": 13,
   "metadata": {},
   "outputs": [],
   "source": [
    "sq_ftt = X_test.head(10)\n",
    "sqr_ft = sq_ftt['living_area_m2']"
   ]
  },
  {
   "cell_type": "code",
   "execution_count": 14,
   "metadata": {},
   "outputs": [
    {
     "data": {
      "text/plain": [
       "([[8.545002892000001],\n",
       "  [8.370470412000001],\n",
       "  [8.694841486],\n",
       "  [7.717607289],\n",
       "  [7.740394095],\n",
       "  [8.807510236],\n",
       "  [8.25992587],\n",
       "  [8.853119722],\n",
       "  [8.443080823999999],\n",
       "  [8.967840722]],\n",
       " [[8.624984741210938],\n",
       "  [8.448158264160156],\n",
       "  [8.433627128601074],\n",
       "  [7.847938060760498],\n",
       "  [7.717857837677002],\n",
       "  [8.681119918823242],\n",
       "  [8.453493118286133],\n",
       "  [8.42490291595459],\n",
       "  [8.629133224487305],\n",
       "  [8.523427963256836]])"
      ]
     },
     "execution_count": 14,
     "metadata": {},
     "output_type": "execute_result"
    }
   ],
   "source": [
    "p = predictions[:10]\n",
    "p = p.tolist()\n",
    "y_test = y_test[:10]\n",
    "\n",
    "y_t = y_test.to_numpy().tolist()\n",
    "y_t, p"
   ]
  },
  {
   "cell_type": "code",
   "execution_count": 15,
   "metadata": {},
   "outputs": [
    {
     "name": "stdout",
     "output_type": "stream",
     "text": [
      "true [505103.25009856]\n",
      "pred [547161.88716223]\n",
      "true [263377.66665733]\n",
      "pred [284654.69499346]\n",
      "true [311023.10593111]\n",
      "pred [239523.81485287]\n",
      "true [494466.57537998]\n",
      "pred [563298.86319285]\n",
      "true [427684.37845084]\n",
      "pred [418153.76874746]\n",
      "true [382740.51652174]\n",
      "pred [337298.04291468]\n",
      "true [258931.78743056]\n",
      "pred [314232.10674791]\n",
      "true [457060.51131931]\n",
      "pred [297852.67527026]\n",
      "true [459640.83683441]\n",
      "pred [553630.66541855]\n",
      "true [806948.48014018]\n",
      "pred [517415.93436624]\n"
     ]
    }
   ],
   "source": [
    "for i, j, k in zip(y_t, sqr_ft, p):\n",
    "    print('true',np.exp(i) * np.exp(j))\n",
    "    print('pred',np.exp(k) * np.exp(j))"
   ]
  },
  {
   "cell_type": "code",
   "execution_count": 18,
   "metadata": {},
   "outputs": [
    {
     "name": "stdout",
     "output_type": "stream",
     "text": [
      "Enter the value of number_of_rooms : 2\n",
      "Enter the value of floor_on : 2\n",
      "Enter the value of total_floors : 2\n",
      "Enter the value of bedroom : 2\n",
      "Enter the value of pincode : 12209\n",
      "Enter the value of balkon : 2\n",
      "Enter the value of terrasse : 1\n",
      "Enter the value of garten : 2\n",
      "Enter the value of Gaste-WC : 1\n",
      "Enter the value of Aufzug : 1\n",
      "Enter the value of wohung : 1\n",
      "Enter the value of construction_year : 1980\n",
      "Enter the value of living_area_m2 : 4.04\n",
      "The price of house is [[ 6524.77  ]\n",
      " [ 6524.77  ]\n",
      " [ 6524.77  ]\n",
      " [ 6524.77  ]\n",
      " [ 2157.3552]\n",
      " [ 6524.77  ]\n",
      " [10122.574 ]\n",
      " [ 6524.77  ]\n",
      " [10122.574 ]\n",
      " [10122.574 ]\n",
      " [10122.574 ]\n",
      " [ 2157.3552]\n",
      " [ 3599.7964]]\n"
     ]
    }
   ],
   "source": [
    "array = []\n",
    "for i in data.columns[:-1]:\n",
    "    value = float(input('Enter the value of {} : '.format(i)))\n",
    "    array.append(value)\n",
    "sq = float(input('cs'))\n",
    "array.append(np.log1p(sq))\n",
    "str_to_float = [[float(i) for i in array]]\n",
    "two_dim = str_to_float\n",
    "sqr_living_m2 = two_dim[-1][-1]\n",
    "score = model.predict([[2.0, 2.0, 2.0, 2.0, 12209.0, 2.0, 1.0, 2.0, 1.0, 1.0, 1.0, 1980.0, 4.04]])\n",
    "score\n",
    "original_score = np.expm1(score) * np.expm1(sqr_living_m2)\n",
    "print('The price of house is {}'.format(original_score))"
   ]
  },
  {
   "cell_type": "code",
   "execution_count": 24,
   "metadata": {},
   "outputs": [
    {
     "data": {
      "text/plain": [
       "[[2.0, 2.0, 2.0, 2.0, 12209.0, 2.0, 1.0, 2.0, 1.0, 1.0, 1.0, 1980.0, 4.04]]"
      ]
     },
     "execution_count": 24,
     "metadata": {},
     "output_type": "execute_result"
    }
   ],
   "source": [
    "two_dim"
   ]
  },
  {
   "cell_type": "code",
   "execution_count": 28,
   "metadata": {},
   "outputs": [
    {
     "data": {
      "text/plain": [
       "array([[4.743361 ],\n",
       "       [4.743361 ],\n",
       "       [4.743361 ],\n",
       "       [4.743361 ],\n",
       "       [3.6366384],\n",
       "       [4.743361 ],\n",
       "       [5.1825233],\n",
       "       [4.743361 ],\n",
       "       [5.1825233],\n",
       "       [5.1825233],\n",
       "       [5.1825233],\n",
       "       [3.6366384],\n",
       "       [4.1486325]], dtype=float32)"
      ]
     },
     "execution_count": 28,
     "metadata": {},
     "output_type": "execute_result"
    }
   ],
   "source": [
    "score = model.predict([[2.0, 2.0, 2.0, 2.0, 12209.0, 2.0, 1.0, 2.0, 1.0, 1.0, 1.0, 1980.0, 4.04]])\n",
    "score"
   ]
  },
  {
   "cell_type": "code",
   "execution_count": null,
   "metadata": {},
   "outputs": [],
   "source": []
  }
 ],
 "metadata": {
  "kernelspec": {
   "display_name": "Python 3",
   "language": "python",
   "name": "python3"
  },
  "language_info": {
   "codemirror_mode": {
    "name": "ipython",
    "version": 3
   },
   "file_extension": ".py",
   "mimetype": "text/x-python",
   "name": "python",
   "nbconvert_exporter": "python",
   "pygments_lexer": "ipython3",
   "version": "3.8.8"
  }
 },
 "nbformat": 4,
 "nbformat_minor": 4
}
