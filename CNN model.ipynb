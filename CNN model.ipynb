{
 "cells": [
  {
   "cell_type": "code",
   "execution_count": 1,
   "metadata": {},
   "outputs": [
    {
     "name": "stderr",
     "output_type": "stream",
     "text": [
      "C:\\Users\\admin\\Anaconda3\\lib\\site-packages\\tensorflow\\python\\framework\\dtypes.py:523: FutureWarning: Passing (type, 1) or '1type' as a synonym of type is deprecated; in a future version of numpy, it will be understood as (type, (1,)) / '(1,)type'.\n",
      "  _np_qint8 = np.dtype([(\"qint8\", np.int8, 1)])\n",
      "C:\\Users\\admin\\Anaconda3\\lib\\site-packages\\tensorflow\\python\\framework\\dtypes.py:524: FutureWarning: Passing (type, 1) or '1type' as a synonym of type is deprecated; in a future version of numpy, it will be understood as (type, (1,)) / '(1,)type'.\n",
      "  _np_quint8 = np.dtype([(\"quint8\", np.uint8, 1)])\n",
      "C:\\Users\\admin\\Anaconda3\\lib\\site-packages\\tensorflow\\python\\framework\\dtypes.py:525: FutureWarning: Passing (type, 1) or '1type' as a synonym of type is deprecated; in a future version of numpy, it will be understood as (type, (1,)) / '(1,)type'.\n",
      "  _np_qint16 = np.dtype([(\"qint16\", np.int16, 1)])\n",
      "C:\\Users\\admin\\Anaconda3\\lib\\site-packages\\tensorflow\\python\\framework\\dtypes.py:526: FutureWarning: Passing (type, 1) or '1type' as a synonym of type is deprecated; in a future version of numpy, it will be understood as (type, (1,)) / '(1,)type'.\n",
      "  _np_quint16 = np.dtype([(\"quint16\", np.uint16, 1)])\n",
      "C:\\Users\\admin\\Anaconda3\\lib\\site-packages\\tensorflow\\python\\framework\\dtypes.py:527: FutureWarning: Passing (type, 1) or '1type' as a synonym of type is deprecated; in a future version of numpy, it will be understood as (type, (1,)) / '(1,)type'.\n",
      "  _np_qint32 = np.dtype([(\"qint32\", np.int32, 1)])\n",
      "C:\\Users\\admin\\Anaconda3\\lib\\site-packages\\tensorflow\\python\\framework\\dtypes.py:532: FutureWarning: Passing (type, 1) or '1type' as a synonym of type is deprecated; in a future version of numpy, it will be understood as (type, (1,)) / '(1,)type'.\n",
      "  np_resource = np.dtype([(\"resource\", np.ubyte, 1)])\n",
      "C:\\Users\\admin\\Anaconda3\\lib\\site-packages\\tensorboard\\compat\\tensorflow_stub\\dtypes.py:541: FutureWarning: Passing (type, 1) or '1type' as a synonym of type is deprecated; in a future version of numpy, it will be understood as (type, (1,)) / '(1,)type'.\n",
      "  _np_qint8 = np.dtype([(\"qint8\", np.int8, 1)])\n",
      "C:\\Users\\admin\\Anaconda3\\lib\\site-packages\\tensorboard\\compat\\tensorflow_stub\\dtypes.py:542: FutureWarning: Passing (type, 1) or '1type' as a synonym of type is deprecated; in a future version of numpy, it will be understood as (type, (1,)) / '(1,)type'.\n",
      "  _np_quint8 = np.dtype([(\"quint8\", np.uint8, 1)])\n",
      "C:\\Users\\admin\\Anaconda3\\lib\\site-packages\\tensorboard\\compat\\tensorflow_stub\\dtypes.py:543: FutureWarning: Passing (type, 1) or '1type' as a synonym of type is deprecated; in a future version of numpy, it will be understood as (type, (1,)) / '(1,)type'.\n",
      "  _np_qint16 = np.dtype([(\"qint16\", np.int16, 1)])\n",
      "C:\\Users\\admin\\Anaconda3\\lib\\site-packages\\tensorboard\\compat\\tensorflow_stub\\dtypes.py:544: FutureWarning: Passing (type, 1) or '1type' as a synonym of type is deprecated; in a future version of numpy, it will be understood as (type, (1,)) / '(1,)type'.\n",
      "  _np_quint16 = np.dtype([(\"quint16\", np.uint16, 1)])\n",
      "C:\\Users\\admin\\Anaconda3\\lib\\site-packages\\tensorboard\\compat\\tensorflow_stub\\dtypes.py:545: FutureWarning: Passing (type, 1) or '1type' as a synonym of type is deprecated; in a future version of numpy, it will be understood as (type, (1,)) / '(1,)type'.\n",
      "  _np_qint32 = np.dtype([(\"qint32\", np.int32, 1)])\n",
      "C:\\Users\\admin\\Anaconda3\\lib\\site-packages\\tensorboard\\compat\\tensorflow_stub\\dtypes.py:550: FutureWarning: Passing (type, 1) or '1type' as a synonym of type is deprecated; in a future version of numpy, it will be understood as (type, (1,)) / '(1,)type'.\n",
      "  np_resource = np.dtype([(\"resource\", np.ubyte, 1)])\n"
     ]
    }
   ],
   "source": [
    "import tensorflow as tf\n",
    "import numpy as np\n",
    "import pandas as pd\n",
    "#import numpy as np\n",
    "#import pandas as pd\n",
    "import matplotlib.pyplot as plt\n",
    "#import seaborn as sns\n",
    "from scipy import stats\n",
    "#from sklearn.ensemble import RandomForestRegressor\n",
    "from sklearn.metrics import mean_squared_error, mean_absolute_error\n",
    "from sklearn.model_selection import train_test_split\n",
    "from sklearn.metrics import r2_score\n",
    "import seaborn as sns"
   ]
  },
  {
   "cell_type": "code",
   "execution_count": 2,
   "metadata": {},
   "outputs": [
    {
     "data": {
      "text/html": [
       "<div>\n",
       "<style scoped>\n",
       "    .dataframe tbody tr th:only-of-type {\n",
       "        vertical-align: middle;\n",
       "    }\n",
       "\n",
       "    .dataframe tbody tr th {\n",
       "        vertical-align: top;\n",
       "    }\n",
       "\n",
       "    .dataframe thead th {\n",
       "        text-align: right;\n",
       "    }\n",
       "</style>\n",
       "<table border=\"1\" class=\"dataframe\">\n",
       "  <thead>\n",
       "    <tr style=\"text-align: right;\">\n",
       "      <th></th>\n",
       "      <th>number_of_rooms</th>\n",
       "      <th>floor_on</th>\n",
       "      <th>total_floors</th>\n",
       "      <th>bedroom</th>\n",
       "      <th>pincode</th>\n",
       "      <th>balkon</th>\n",
       "      <th>terrasse</th>\n",
       "      <th>garten</th>\n",
       "      <th>Gaste-WC</th>\n",
       "      <th>Aufzug</th>\n",
       "      <th>wohung</th>\n",
       "      <th>construction_year</th>\n",
       "      <th>living_area_m2</th>\n",
       "      <th>transform_price</th>\n",
       "    </tr>\n",
       "  </thead>\n",
       "  <tbody>\n",
       "    <tr>\n",
       "      <th>8594</th>\n",
       "      <td>1.0</td>\n",
       "      <td>0</td>\n",
       "      <td>3</td>\n",
       "      <td>1</td>\n",
       "      <td>10823</td>\n",
       "      <td>0</td>\n",
       "      <td>0</td>\n",
       "      <td>0</td>\n",
       "      <td>0</td>\n",
       "      <td>0</td>\n",
       "      <td>1</td>\n",
       "      <td>1900</td>\n",
       "      <td>3.465736</td>\n",
       "      <td>8.536559</td>\n",
       "    </tr>\n",
       "    <tr>\n",
       "      <th>6658</th>\n",
       "      <td>3.0</td>\n",
       "      <td>0</td>\n",
       "      <td>0</td>\n",
       "      <td>0</td>\n",
       "      <td>16515</td>\n",
       "      <td>0</td>\n",
       "      <td>1</td>\n",
       "      <td>1</td>\n",
       "      <td>0</td>\n",
       "      <td>0</td>\n",
       "      <td>0</td>\n",
       "      <td>0</td>\n",
       "      <td>4.510860</td>\n",
       "      <td>8.579834</td>\n",
       "    </tr>\n",
       "    <tr>\n",
       "      <th>4485</th>\n",
       "      <td>2.5</td>\n",
       "      <td>1</td>\n",
       "      <td>1</td>\n",
       "      <td>1</td>\n",
       "      <td>13357</td>\n",
       "      <td>1</td>\n",
       "      <td>1</td>\n",
       "      <td>1</td>\n",
       "      <td>0</td>\n",
       "      <td>1</td>\n",
       "      <td>1</td>\n",
       "      <td>2020</td>\n",
       "      <td>4.290459</td>\n",
       "      <td>8.331774</td>\n",
       "    </tr>\n",
       "  </tbody>\n",
       "</table>\n",
       "</div>"
      ],
      "text/plain": [
       "      number_of_rooms  floor_on  total_floors  bedroom  pincode  balkon  \\\n",
       "8594              1.0         0             3        1    10823       0   \n",
       "6658              3.0         0             0        0    16515       0   \n",
       "4485              2.5         1             1        1    13357       1   \n",
       "\n",
       "      terrasse  garten  Gaste-WC  Aufzug  wohung  construction_year  \\\n",
       "8594         0       0         0       0       1               1900   \n",
       "6658         1       1         0       0       0                  0   \n",
       "4485         1       1         0       1       1               2020   \n",
       "\n",
       "      living_area_m2  transform_price  \n",
       "8594        3.465736         8.536559  \n",
       "6658        4.510860         8.579834  \n",
       "4485        4.290459         8.331774  "
      ]
     },
     "execution_count": 2,
     "metadata": {},
     "output_type": "execute_result"
    }
   ],
   "source": [
    "data = pd.read_csv(r'F:\\amruth\\after_preprocess_data.csv', encoding = 'iso-8859-1')\n",
    "data.sample(3)"
   ]
  },
  {
   "cell_type": "code",
   "execution_count": 3,
   "metadata": {},
   "outputs": [],
   "source": [
    "X = data.iloc[:, :-1]\n",
    "y = data[['transform_price']]"
   ]
  },
  {
   "cell_type": "code",
   "execution_count": 4,
   "metadata": {},
   "outputs": [
    {
     "data": {
      "text/plain": [
       "((12424, 13), (12424, 1), (319, 13))"
      ]
     },
     "execution_count": 4,
     "metadata": {},
     "output_type": "execute_result"
    }
   ],
   "source": [
    "X_train, X_test, y_train, y_test = train_test_split(X, y, test_size = 0.025, random_state = 0)\n",
    "X_train.shape, y_train.shape, X_test.shape"
   ]
  },
  {
   "cell_type": "code",
   "execution_count": 5,
   "metadata": {},
   "outputs": [],
   "source": [
    "tf.random.set_seed(42)\n",
    "model = tf.keras.models.Sequential([\n",
    "    tf.keras.layers.Lambda(lambda x: tf.expand_dims(x, axis = -1), input_shape = [None]),\n",
    "    tf.keras.layers.Conv1D(filters = 32, kernel_size = 5, strides = 1, padding = 'same', activation = 'relu'),\n",
    "    #tf.keras.layers.Lambda(lambda x: tf.expand_dims(x, axis = -1)),\n",
    "    tf.keras.layers.Bidirectional(tf.keras.layers.LSTM(32, return_sequences = True)),\n",
    "    tf.keras.layers.Bidirectional(tf.keras.layers.LSTM(16)),\n",
    "    #tf.keras.layers.SimpleRNN(40, return_sequences = True),\n",
    "    #tf.keras.layers.SimpleRNN(20),\n",
    "    tf.keras.layers.Dense(10, activation = 'relu'),\n",
    "    tf.keras.layers.Dense(5,activation = 'relu'),\n",
    "    tf.keras.layers.Dense(1)])\n",
    "lr_schedule = tf.keras.callbacks.LearningRateScheduler(\n",
    "    lambda epochs: 1e-5 * 10**(epochs / 20))\n",
    "model.compile(loss = 'mse', optimizer = tf.keras.optimizers.Adam(learning_rate = 1e-5), metrics = ['mae'])"
   ]
  },
  {
   "cell_type": "code",
   "execution_count": 6,
   "metadata": {},
   "outputs": [
    {
     "name": "stdout",
     "output_type": "stream",
     "text": [
      "Epoch 1/50\n",
      "12424/12424 [==============================] - 8s 670us/sample - loss: 65.8941 - mae: 8.1022\n",
      "Epoch 2/50\n",
      "12424/12424 [==============================] - 7s 543us/sample - loss: 51.9378 - mae: 7.1906\n",
      "Epoch 3/50\n",
      "12424/12424 [==============================] - 7s 559us/sample - loss: 35.0406 - mae: 5.8961\n",
      "Epoch 4/50\n",
      "12424/12424 [==============================] - 7s 546us/sample - loss: 24.4490 - mae: 4.9209\n",
      "Epoch 5/50\n",
      "12424/12424 [==============================] - 6s 518us/sample - loss: 16.2971 - mae: 4.0087\n",
      "Epoch 6/50\n",
      "12424/12424 [==============================] - 6s 502us/sample - loss: 10.1204 - mae: 3.1485\n",
      "Epoch 7/50\n",
      "12424/12424 [==============================] - 7s 553us/sample - loss: 5.5427 - mae: 2.3068\n",
      "Epoch 8/50\n",
      "12424/12424 [==============================] - 6s 453us/sample - loss: 2.4138 - mae: 1.4875\n",
      "Epoch 9/50\n",
      "12424/12424 [==============================] - 7s 524us/sample - loss: 0.7921 - mae: 0.8041\n",
      "Epoch 10/50\n",
      "12424/12424 [==============================] - 6s 453us/sample - loss: 0.2729 - mae: 0.4316\n",
      "Epoch 11/50\n",
      "12424/12424 [==============================] - 6s 463us/sample - loss: 0.1702 - mae: 0.3157\n",
      "Epoch 12/50\n",
      "12424/12424 [==============================] - 6s 459us/sample - loss: 0.1589 - mae: 0.2968\n",
      "Epoch 13/50\n",
      "12424/12424 [==============================] - 6s 450us/sample - loss: 0.1577 - mae: 0.2942\n",
      "Epoch 14/50\n",
      "12424/12424 [==============================] - 6s 484us/sample - loss: 0.1568 - mae: 0.2933\n",
      "Epoch 15/50\n",
      "12424/12424 [==============================] - ETA: 0s - loss: 0.1560 - mae: 0.292 - 6s 479us/sample - loss: 0.1560 - mae: 0.2921\n",
      "Epoch 16/50\n",
      "12424/12424 [==============================] - 6s 479us/sample - loss: 0.1549 - mae: 0.2912\n",
      "Epoch 17/50\n",
      "12424/12424 [==============================] - 7s 539us/sample - loss: 0.1537 - mae: 0.2899\n",
      "Epoch 18/50\n",
      "12424/12424 [==============================] - 7s 545us/sample - loss: 0.1520 - mae: 0.2881\n",
      "Epoch 19/50\n",
      "12424/12424 [==============================] - 8s 627us/sample - loss: 0.1492 - mae: 0.2858\n",
      "Epoch 20/50\n",
      "12424/12424 [==============================] - 7s 591us/sample - loss: 0.1443 - mae: 0.2809\n",
      "Epoch 21/50\n",
      "12424/12424 [==============================] - 7s 567us/sample - loss: 0.1375 - mae: 0.2743\n",
      "Epoch 22/50\n",
      "12424/12424 [==============================] - 7s 598us/sample - loss: 0.1289 - mae: 0.2660\n",
      "Epoch 23/50\n",
      "12424/12424 [==============================] - 7s 596us/sample - loss: 0.1231 - mae: 0.2607\n",
      "Epoch 24/50\n",
      "12424/12424 [==============================] - 9s 753us/sample - loss: 0.1200 - mae: 0.2576\n",
      "Epoch 25/50\n",
      "12424/12424 [==============================] - 8s 604us/sample - loss: 0.1184 - mae: 0.2556s - loss: 0.1189 - mae\n",
      "Epoch 26/50\n",
      "12424/12424 [==============================] - 8s 628us/sample - loss: 0.1166 - mae: 0.2538\n",
      "Epoch 27/50\n",
      "12424/12424 [==============================] - 8s 640us/sample - loss: 0.1152 - mae: 0.2513\n",
      "Epoch 28/50\n",
      "12424/12424 [==============================] - 7s 596us/sample - loss: 0.1134 - mae: 0.2490\n",
      "Epoch 29/50\n",
      "12424/12424 [==============================] - 8s 633us/sample - loss: 0.1117 - mae: 0.2466\n",
      "Epoch 30/50\n",
      "12424/12424 [==============================] - 8s 638us/sample - loss: 0.1109 - mae: 0.2447\n",
      "Epoch 31/50\n",
      "12424/12424 [==============================] - 7s 596us/sample - loss: 0.1093 - mae: 0.2427\n",
      "Epoch 32/50\n",
      "12424/12424 [==============================] - 7s 574us/sample - loss: 0.1090 - mae: 0.2410\n",
      "Epoch 33/50\n",
      "12424/12424 [==============================] - 7s 566us/sample - loss: 0.1079 - mae: 0.2403\n",
      "Epoch 34/50\n",
      "12424/12424 [==============================] - 7s 566us/sample - loss: 0.1069 - mae: 0.2379\n",
      "Epoch 35/50\n",
      "12424/12424 [==============================] - 8s 615us/sample - loss: 0.1086 - mae: 0.2406\n",
      "Epoch 36/50\n",
      "12424/12424 [==============================] - 7s 579us/sample - loss: 0.1072 - mae: 0.2389\n",
      "Epoch 37/50\n",
      "12424/12424 [==============================] - 7s 559us/sample - loss: 0.1080 - mae: 0.2400\n",
      "Epoch 38/50\n",
      "12424/12424 [==============================] - 7s 565us/sample - loss: 0.1080 - mae: 0.2404\n",
      "Epoch 39/50\n",
      "12424/12424 [==============================] - 7s 596us/sample - loss: 0.1100 - mae: 0.2428\n",
      "Epoch 40/50\n",
      "12424/12424 [==============================] - 7s 531us/sample - loss: 0.1063 - mae: 0.2380s - lo\n",
      "Epoch 41/50\n",
      "12424/12424 [==============================] - 6s 515us/sample - loss: 0.1077 - mae: 0.2406\n",
      "Epoch 42/50\n",
      "12424/12424 [==============================] - 6s 514us/sample - loss: 0.1058 - mae: 0.2372\n",
      "Epoch 43/50\n",
      "12424/12424 [==============================] - 7s 598us/sample - loss: 0.1083 - mae: 0.2408\n",
      "Epoch 44/50\n",
      "12424/12424 [==============================] - 6s 515us/sample - loss: 0.1070 - mae: 0.2396\n",
      "Epoch 45/50\n",
      "12424/12424 [==============================] - 7s 531us/sample - loss: 0.1088 - mae: 0.2418\n",
      "Epoch 46/50\n",
      "12424/12424 [==============================] - 6s 510us/sample - loss: 0.1078 - mae: 0.2408s - loss: 0.1061 - \n",
      "Epoch 47/50\n",
      "12424/12424 [==============================] - 6s 523us/sample - loss: 0.1086 - mae: 0.2409\n",
      "Epoch 48/50\n",
      "12424/12424 [==============================] - 7s 536us/sample - loss: 0.1063 - mae: 0.2390\n",
      "Epoch 49/50\n",
      "12424/12424 [==============================] - 6s 495us/sample - loss: 0.1064 - mae: 0.2387\n",
      "Epoch 50/50\n",
      "12424/12424 [==============================] - 6s 496us/sample - loss: 0.1109 - mae: 0.2449\n"
     ]
    }
   ],
   "source": [
    "history=model.fit(X_train,y_train, epochs=50, callbacks = [lr_schedule])\n"
   ]
  },
  {
   "cell_type": "code",
   "execution_count": 7,
   "metadata": {},
   "outputs": [
    {
     "data": {
      "text/plain": [
       "[<matplotlib.lines.Line2D at 0x234ccc82b88>]"
      ]
     },
     "execution_count": 7,
     "metadata": {},
     "output_type": "execute_result"
    },
    {
     "data": {
      "image/png": "[encoded data removed]",
      "text/plain": [
       "<Figure size 432x288 with 1 Axes>"
      ]
     },
     "metadata": {
      "needs_background": "light"
     },
     "output_type": "display_data"
    }
   ],
   "source": [
    "lrs = 1e-5 * (10 ** (np.arange(50) / 20))\n",
    "plt.semilogx(lrs, history.history[\"loss\"])\n"
   ]
  },
  {
   "cell_type": "code",
   "execution_count": 8,
   "metadata": {},
   "outputs": [
    {
     "name": "stdout",
     "output_type": "stream",
     "text": [
      "Epoch 1/50\n",
      "12424/12424 [==============================] - 7s 565us/sample - loss: 51.6360 - mae: 7.1228\n",
      "Epoch 2/50\n",
      "12424/12424 [==============================] - 6s 523us/sample - loss: 18.4232 - mae: 4.2123\n",
      "Epoch 3/50\n",
      "12424/12424 [==============================] - 6s 484us/sample - loss: 4.4894 - mae: 2.0161\n",
      "Epoch 4/50\n",
      "12424/12424 [==============================] - 6s 452us/sample - loss: 0.7278 - mae: 0.7480\n",
      "Epoch 5/50\n",
      "12424/12424 [==============================] - 6s 445us/sample - loss: 0.1975 - mae: 0.3483\n",
      "Epoch 6/50\n",
      "12424/12424 [==============================] - 6s 502us/sample - loss: 0.1620 - mae: 0.3003s - loss: 0.1585 - mae: 0.301 - ETA: 1s - loss: 0.1583 - mae: - ETA: 0s - loss: \n",
      "Epoch 7/50\n",
      "12424/12424 [==============================] - 7s 537us/sample - loss: 0.1608 - mae: 0.2974s - loss: 0.1608 - mae: 0.297\n",
      "Epoch 8/50\n",
      "12424/12424 [==============================] - 7s 561us/sample - loss: 0.1604 - mae: 0.2969\n",
      "Epoch 9/50\n",
      "12424/12424 [==============================] - 7s 588us/sample - loss: 0.1598 - mae: 0.2963\n",
      "Epoch 10/50\n",
      "12424/12424 [==============================] - 8s 618us/sample - loss: 0.1592 - mae: 0.2956\n",
      "Epoch 11/50\n",
      "12424/12424 [==============================] - 7s 583us/sample - loss: 0.1584 - mae: 0.2947\n",
      "Epoch 12/50\n",
      "12424/12424 [==============================] - 7s 576us/sample - loss: 0.1576 - mae: 0.2942\n",
      "Epoch 13/50\n",
      "12424/12424 [==============================] - 7s 568us/sample - loss: 0.1564 - mae: 0.2927\n",
      "Epoch 14/50\n",
      "12424/12424 [==============================] - 7s 566us/sample - loss: 0.1549 - mae: 0.2915\n",
      "Epoch 15/50\n",
      "12424/12424 [==============================] - 8s 615us/sample - loss: 0.1530 - mae: 0.2895\n",
      "Epoch 16/50\n",
      "12424/12424 [==============================] - 7s 568us/sample - loss: 0.1502 - mae: 0.2868\n",
      "Epoch 17/50\n",
      "12424/12424 [==============================] - 7s 571us/sample - loss: 0.1450 - mae: 0.2818\n",
      "Epoch 18/50\n",
      "12424/12424 [==============================] - 7s 590us/sample - loss: 0.1386 - mae: 0.2756\n",
      "Epoch 19/50\n",
      "12424/12424 [==============================] - 7s 550us/sample - loss: 0.1325 - mae: 0.2697\n",
      "Epoch 20/50\n",
      "12424/12424 [==============================] - 7s 597us/sample - loss: 0.1279 - mae: 0.2656\n",
      "Epoch 21/50\n",
      "12424/12424 [==============================] - 6s 512us/sample - loss: 0.1249 - mae: 0.2629\n",
      "Epoch 22/50\n",
      "12424/12424 [==============================] - 6s 505us/sample - loss: 0.1232 - mae: 0.2611\n",
      "Epoch 23/50\n",
      "12424/12424 [==============================] - 7s 567us/sample - loss: 0.1217 - mae: 0.2598\n",
      "Epoch 24/50\n",
      "12424/12424 [==============================] - 7s 566us/sample - loss: 0.1208 - mae: 0.2587\n",
      "Epoch 25/50\n",
      "12424/12424 [==============================] - 7s 538us/sample - loss: 0.1198 - mae: 0.2576\n",
      "Epoch 26/50\n",
      "12424/12424 [==============================] - 7s 540us/sample - loss: 0.1189 - mae: 0.2567\n",
      "Epoch 27/50\n",
      "12424/12424 [==============================] - 7s 572us/sample - loss: 0.1178 - mae: 0.2551s - loss: 0.1189 \n",
      "Epoch 28/50\n",
      "12424/12424 [==============================] - 6s 511us/sample - loss: 0.1167 - mae: 0.2534\n",
      "Epoch 29/50\n",
      "12424/12424 [==============================] - 6s 500us/sample - loss: 0.1149 - mae: 0.2509s - loss: 0.1141 - ma\n",
      "Epoch 30/50\n",
      "12424/12424 [==============================] - 6s 499us/sample - loss: 0.1132 - mae: 0.2485\n",
      "Epoch 31/50\n",
      "12424/12424 [==============================] - 6s 493us/sample - loss: 0.1121 - mae: 0.2469\n",
      "Epoch 32/50\n",
      "12424/12424 [==============================] - 6s 494us/sample - loss: 0.1112 - mae: 0.2457\n",
      "Epoch 33/50\n",
      "12424/12424 [==============================] - 7s 577us/sample - loss: 0.1106 - mae: 0.2445\n",
      "Epoch 34/50\n",
      "12424/12424 [==============================] - 7s 577us/sample - loss: 0.1103 - mae: 0.2441\n",
      "Epoch 35/50\n",
      "12424/12424 [==============================] - 7s 553us/sample - loss: 0.1097 - mae: 0.2432\n",
      "Epoch 36/50\n",
      "12424/12424 [==============================] - 8s 620us/sample - loss: 0.1092 - mae: 0.2424\n",
      "Epoch 37/50\n",
      "12424/12424 [==============================] - 8s 679us/sample - loss: 0.1090 - mae: 0.2419\n",
      "Epoch 38/50\n",
      "12424/12424 [==============================] - 8s 614us/sample - loss: 0.1090 - mae: 0.2420\n",
      "Epoch 39/50\n",
      "12424/12424 [==============================] - 7s 569us/sample - loss: 0.1086 - mae: 0.2417s - lo\n",
      "Epoch 40/50\n",
      "12424/12424 [==============================] - 8s 640us/sample - loss: 0.1082 - mae: 0.2408\n",
      "Epoch 41/50\n",
      "12424/12424 [==============================] - 9s 740us/sample - loss: 0.1078 - mae: 0.2402\n",
      "Epoch 42/50\n",
      "12424/12424 [==============================] - 8s 617us/sample - loss: 0.1077 - mae: 0.2404s - loss: 0.1 - ETA: 1s - \n",
      "Epoch 43/50\n",
      "12424/12424 [==============================] - 6s 512us/sample - loss: 0.1077 - mae: 0.2402\n",
      "Epoch 44/50\n",
      "12424/12424 [==============================] - 7s 570us/sample - loss: 0.1075 - mae: 0.2402\n",
      "Epoch 45/50\n",
      "12424/12424 [==============================] - 7s 579us/sample - loss: 0.1072 - mae: 0.2393\n",
      "Epoch 46/50\n",
      "12424/12424 [==============================] - 8s 626us/sample - loss: 0.1069 - mae: 0.2390\n",
      "Epoch 47/50\n",
      "12424/12424 [==============================] - 7s 526us/sample - loss: 0.1068 - mae: 0.2391s - loss: 0.1066 - mae: 0.238\n",
      "Epoch 48/50\n",
      "12424/12424 [==============================] - 8s 654us/sample - loss: 0.1065 - mae: 0.2386\n",
      "Epoch 49/50\n",
      "12424/12424 [==============================] - 8s 642us/sample - loss: 0.1061 - mae: 0.2378\n",
      "Epoch 50/50\n",
      "12424/12424 [==============================] - 8s 607us/sample - loss: 0.1060 - mae: 0.2381\n"
     ]
    }
   ],
   "source": [
    "model1 = tf.keras.models.Sequential([\n",
    "    tf.keras.layers.Lambda(lambda x: tf.expand_dims(x, axis = -1), input_shape = [None]),\n",
    "    tf.keras.layers.Conv1D(filters = 32, kernel_size = 5, strides = 1, padding = 'same', activation = 'relu'),\n",
    "    #tf.keras.layers.Lambda(lambda x: tf.expand_dims(x, axis = -1)),\n",
    "    tf.keras.layers.Bidirectional(tf.keras.layers.LSTM(32, return_sequences = True)),\n",
    "    tf.keras.layers.Bidirectional(tf.keras.layers.LSTM(16)),\n",
    "    #tf.keras.layers.SimpleRNN(40, return_sequences = True),\n",
    "    #tf.keras.layers.SimpleRNN(20),\n",
    "    tf.keras.layers.Dense(10, activation = 'relu'),\n",
    "    tf.keras.layers.Dense(5,activation = 'relu'),\n",
    "    tf.keras.layers.Dense(1)])\n",
    "model1.compile(loss = 'mse', optimizer = tf.keras.optimizers.Adam(learning_rate = 5e-5), metrics = ['mae'])\n",
    "history1 = model1.fit(X_train,y_train, epochs=50)"
   ]
  },
  {
   "cell_type": "code",
   "execution_count": 9,
   "metadata": {},
   "outputs": [
    {
     "data": {
      "text/plain": [
       "(array([[8.635335 ],\n",
       "        [8.519801 ],\n",
       "        [8.479008 ],\n",
       "        [7.8738866],\n",
       "        [7.8289075]], dtype=float32),\n",
       " array([[8.54500289],\n",
       "        [8.37047041],\n",
       "        [8.69484149],\n",
       "        [7.71760729],\n",
       "        [7.7403941 ]]))"
      ]
     },
     "execution_count": 9,
     "metadata": {},
     "output_type": "execute_result"
    }
   ],
   "source": [
    "predictions = model1.predict(X_test)\n",
    "predictions[:5], y_test.to_numpy()[:5]"
   ]
  },
  {
   "cell_type": "code",
   "execution_count": 10,
   "metadata": {},
   "outputs": [
    {
     "data": {
      "text/plain": [
       "(0.10240219293340935, 0.23597976988353195)"
      ]
     },
     "execution_count": 10,
     "metadata": {},
     "output_type": "execute_result"
    }
   ],
   "source": [
    "from sklearn.metrics import mean_squared_error, mean_absolute_error\n",
    "mean_squared_error(predictions, y_test), mean_absolute_error(predictions, y_test)"
   ]
  },
  {
   "cell_type": "code",
   "execution_count": null,
   "metadata": {},
   "outputs": [],
   "source": []
  }
 ],
 "metadata": {
  "kernelspec": {
   "display_name": "Python 3",
   "language": "python",
   "name": "python3"
  },
  "language_info": {
   "codemirror_mode": {
    "name": "ipython",
    "version": 3
   },
   "file_extension": ".py",
   "mimetype": "text/x-python",
   "name": "python",
   "nbconvert_exporter": "python",
   "pygments_lexer": "ipython3",
   "version": "3.7.7"
  }
 },
 "nbformat": 4,
 "nbformat_minor": 4
}
