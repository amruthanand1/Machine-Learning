{
 "cells": [
  {
   "cell_type": "code",
   "execution_count": 1,
   "metadata": {},
   "outputs": [],
   "source": [
    "import tensorflow as tf\n",
    "import numpy as np\n",
    "import pandas as pd\n",
    "#import numpy as np\n",
    "#import pandas as pd\n",
    "import matplotlib.pyplot as plt\n",
    "#import seaborn as sns\n",
    "from scipy import stats\n",
    "#from sklearn.ensemble import RandomForestRegressor\n",
    "from sklearn.metrics import mean_squared_error, mean_absolute_error\n",
    "from sklearn.model_selection import train_test_split\n",
    "from sklearn.metrics import r2_score\n",
    "import seaborn as sns"
   ]
  },
  {
   "cell_type": "code",
   "execution_count": 2,
   "metadata": {},
   "outputs": [
    {
     "data": {
      "text/html": [
       "<div>\n",
       "<style scoped>\n",
       "    .dataframe tbody tr th:only-of-type {\n",
       "        vertical-align: middle;\n",
       "    }\n",
       "\n",
       "    .dataframe tbody tr th {\n",
       "        vertical-align: top;\n",
       "    }\n",
       "\n",
       "    .dataframe thead th {\n",
       "        text-align: right;\n",
       "    }\n",
       "</style>\n",
       "<table border=\"1\" class=\"dataframe\">\n",
       "  <thead>\n",
       "    <tr style=\"text-align: right;\">\n",
       "      <th></th>\n",
       "      <th>number_of_rooms</th>\n",
       "      <th>floor_on</th>\n",
       "      <th>total_floors</th>\n",
       "      <th>bedroom</th>\n",
       "      <th>pincode</th>\n",
       "      <th>balkon</th>\n",
       "      <th>terrasse</th>\n",
       "      <th>garten</th>\n",
       "      <th>Gaste-WC</th>\n",
       "      <th>Aufzug</th>\n",
       "      <th>wohung</th>\n",
       "      <th>construction_year</th>\n",
       "      <th>living_area_m2</th>\n",
       "      <th>transform_price</th>\n",
       "    </tr>\n",
       "  </thead>\n",
       "  <tbody>\n",
       "    <tr>\n",
       "      <th>3083</th>\n",
       "      <td>6.0</td>\n",
       "      <td>0</td>\n",
       "      <td>0</td>\n",
       "      <td>0</td>\n",
       "      <td>13629</td>\n",
       "      <td>0</td>\n",
       "      <td>1</td>\n",
       "      <td>0</td>\n",
       "      <td>0</td>\n",
       "      <td>0</td>\n",
       "      <td>0</td>\n",
       "      <td>1978</td>\n",
       "      <td>5.062595</td>\n",
       "      <td>7.913332</td>\n",
       "    </tr>\n",
       "    <tr>\n",
       "      <th>11089</th>\n",
       "      <td>7.0</td>\n",
       "      <td>0</td>\n",
       "      <td>2</td>\n",
       "      <td>5</td>\n",
       "      <td>12305</td>\n",
       "      <td>0</td>\n",
       "      <td>1</td>\n",
       "      <td>0</td>\n",
       "      <td>0</td>\n",
       "      <td>0</td>\n",
       "      <td>0</td>\n",
       "      <td>1980</td>\n",
       "      <td>5.525453</td>\n",
       "      <td>8.125927</td>\n",
       "    </tr>\n",
       "    <tr>\n",
       "      <th>11385</th>\n",
       "      <td>2.0</td>\n",
       "      <td>2</td>\n",
       "      <td>5</td>\n",
       "      <td>0</td>\n",
       "      <td>14197</td>\n",
       "      <td>1</td>\n",
       "      <td>1</td>\n",
       "      <td>0</td>\n",
       "      <td>0</td>\n",
       "      <td>1</td>\n",
       "      <td>1</td>\n",
       "      <td>1907</td>\n",
       "      <td>4.234107</td>\n",
       "      <td>8.319703</td>\n",
       "    </tr>\n",
       "  </tbody>\n",
       "</table>\n",
       "</div>"
      ],
      "text/plain": [
       "       number_of_rooms  floor_on  total_floors  bedroom  pincode  balkon  \\\n",
       "3083               6.0         0             0        0    13629       0   \n",
       "11089              7.0         0             2        5    12305       0   \n",
       "11385              2.0         2             5        0    14197       1   \n",
       "\n",
       "       terrasse  garten  Gaste-WC  Aufzug  wohung  construction_year  \\\n",
       "3083          1       0         0       0       0               1978   \n",
       "11089         1       0         0       0       0               1980   \n",
       "11385         1       0         0       1       1               1907   \n",
       "\n",
       "       living_area_m2  transform_price  \n",
       "3083         5.062595         7.913332  \n",
       "11089        5.525453         8.125927  \n",
       "11385        4.234107         8.319703  "
      ]
     },
     "execution_count": 2,
     "metadata": {},
     "output_type": "execute_result"
    }
   ],
   "source": [
    "data = pd.read_csv(r'C:\\Users\\amrut\\Downloads\\after_preprocess_data.csv', encoding = 'iso-8859-1')\n",
    "data.sample(3)"
   ]
  },
  {
   "cell_type": "code",
   "execution_count": 3,
   "metadata": {},
   "outputs": [
    {
     "data": {
      "text/plain": [
       "Index(['number_of_rooms', 'floor_on', 'total_floors', 'bedroom', 'pincode',\n",
       "       'balkon', 'terrasse', 'garten', 'Gaste-WC', 'Aufzug', 'wohung',\n",
       "       'construction_year', 'living_area_m2'],\n",
       "      dtype='object')"
      ]
     },
     "execution_count": 3,
     "metadata": {},
     "output_type": "execute_result"
    }
   ],
   "source": [
    "X = data.iloc[:, :-1]\n",
    "y = data[['transform_price']]\n",
    "X.columns"
   ]
  },
  {
   "cell_type": "code",
   "execution_count": 4,
   "metadata": {},
   "outputs": [
    {
     "data": {
      "text/plain": [
       "((12424, 13), (12424, 1), (319, 13))"
      ]
     },
     "execution_count": 4,
     "metadata": {},
     "output_type": "execute_result"
    }
   ],
   "source": [
    "X_train, X_test, y_train, y_test = train_test_split(X, y, test_size = 0.025, random_state = 0)\n",
    "X_train.shape, y_train.shape, X_test.shape"
   ]
  },
  {
   "cell_type": "code",
   "execution_count": 5,
   "metadata": {},
   "outputs": [],
   "source": [
    "tf.random.set_seed(68)\n",
    "model = tf.keras.models.Sequential([\n",
    "    tf.keras.layers.Lambda(lambda x: tf.expand_dims(x, axis = -1), input_shape = [None]),\n",
    "    tf.keras.layers.Conv1D(filters = 128, kernel_size = 5, strides = 1, padding = 'same', activation = 'relu'),\n",
    "    #tf.keras.layers.Lambda(lambda x: tf.expand_dims(x, axis = -1)),\n",
    "    tf.keras.layers.LSTM(128, return_sequences = True),\n",
    "    tf.keras.layers.LSTM(64, return_sequences = True),\n",
    "    tf.keras.layers.SimpleRNN(80, return_sequences = True),\n",
    "    tf.keras.layers.SimpleRNN(40),\n",
    "    tf.keras.layers.Dense(100, activation = 'relu'),\n",
    "    tf.keras.layers.Dense(50,activation = 'relu'),\n",
    "    tf.keras.layers.Dense(20,activation = 'relu'),\n",
    "    tf.keras.layers.Dense(1)])\n",
    "lr_schedule = tf.keras.callbacks.LearningRateScheduler(\n",
    "    lambda epochs: 1e-5 * 10**(epochs / 20))\n",
    "model.compile(loss = 'mse', optimizer = 'adam', metrics = ['mae'])"
   ]
  },
  {
   "cell_type": "code",
   "execution_count": 6,
   "metadata": {},
   "outputs": [
    {
     "name": "stdout",
     "output_type": "stream",
     "text": [
      "Epoch 1/50\n",
      "195/195 [==============================] - 8s 24ms/step - loss: 54.7831 - mae: 7.3778 - val_loss: 45.2286 - val_mae: 6.7110\n",
      "Epoch 2/50\n",
      "195/195 [==============================] - 4s 21ms/step - loss: 38.2568 - mae: 6.1636 - val_loss: 31.1896 - val_mae: 5.5681\n",
      "Epoch 3/50\n",
      "195/195 [==============================] - 4s 21ms/step - loss: 25.2606 - mae: 4.9981 - val_loss: 19.1230 - val_mae: 4.3517\n",
      "Epoch 4/50\n",
      "195/195 [==============================] - 6s 30ms/step - loss: 13.9913 - mae: 3.6994 - val_loss: 9.1445 - val_mae: 2.9937\n",
      "Epoch 5/50\n",
      "195/195 [==============================] - 6s 29ms/step - loss: 5.7655 - mae: 2.3372 - val_loss: 2.9238 - val_mae: 1.6631\n",
      "Epoch 6/50\n",
      "195/195 [==============================] - 6s 29ms/step - loss: 1.4957 - mae: 1.1280 - val_loss: 0.5638 - val_mae: 0.6606\n",
      "Epoch 7/50\n",
      "195/195 [==============================] - 6s 29ms/step - loss: 0.3010 - mae: 0.4548 - val_loss: 0.2017 - val_mae: 0.3394\n",
      "Epoch 8/50\n",
      "195/195 [==============================] - 6s 29ms/step - loss: 0.1648 - mae: 0.3081 - val_loss: 0.1859 - val_mae: 0.3135\n",
      "Epoch 9/50\n",
      "195/195 [==============================] - 6s 29ms/step - loss: 0.1577 - mae: 0.2957 - val_loss: 0.1855 - val_mae: 0.3125\n",
      "Epoch 10/50\n",
      "195/195 [==============================] - 6s 29ms/step - loss: 0.1566 - mae: 0.2940 - val_loss: 0.1842 - val_mae: 0.3114\n",
      "Epoch 11/50\n",
      "195/195 [==============================] - 6s 29ms/step - loss: 0.1554 - mae: 0.2925 - val_loss: 0.1829 - val_mae: 0.3108\n",
      "Epoch 12/50\n",
      "195/195 [==============================] - 6s 29ms/step - loss: 0.1549 - mae: 0.2919 - val_loss: 0.1827 - val_mae: 0.3107\n",
      "Epoch 13/50\n",
      "195/195 [==============================] - 6s 29ms/step - loss: 0.1544 - mae: 0.2912 - val_loss: 0.1818 - val_mae: 0.3100\n",
      "Epoch 14/50\n",
      "195/195 [==============================] - 6s 29ms/step - loss: 0.1536 - mae: 0.2904 - val_loss: 0.1814 - val_mae: 0.3092\n",
      "Epoch 15/50\n",
      "195/195 [==============================] - 6s 30ms/step - loss: 0.1527 - mae: 0.2897 - val_loss: 0.1788 - val_mae: 0.3072\n",
      "Epoch 16/50\n",
      "195/195 [==============================] - 6s 29ms/step - loss: 0.1501 - mae: 0.2877 - val_loss: 0.1679 - val_mae: 0.2988\n",
      "Epoch 17/50\n",
      "195/195 [==============================] - ETA: 0s - loss: 0.1328 - mae: 0.271 - 6s 29ms/step - loss: 0.1328 - mae: 0.2712 - val_loss: 0.1242 - val_mae: 0.2657\n",
      "Epoch 18/50\n",
      "195/195 [==============================] - 6s 30ms/step - loss: 0.1213 - mae: 0.2606 - val_loss: 0.1231 - val_mae: 0.2632\n",
      "Epoch 19/50\n",
      "195/195 [==============================] - 6s 29ms/step - loss: 0.1184 - mae: 0.2567 - val_loss: 0.1143 - val_mae: 0.2525\n",
      "Epoch 20/50\n",
      "195/195 [==============================] - 6s 30ms/step - loss: 0.1167 - mae: 0.2542 - val_loss: 0.1153 - val_mae: 0.2545\n",
      "Epoch 21/50\n",
      "195/195 [==============================] - 6s 29ms/step - loss: 0.1138 - mae: 0.2504 - val_loss: 0.1117 - val_mae: 0.2529\n",
      "Epoch 22/50\n",
      "195/195 [==============================] - 6s 31ms/step - loss: 0.1132 - mae: 0.2497 - val_loss: 0.1072 - val_mae: 0.2430\n",
      "Epoch 23/50\n",
      "195/195 [==============================] - 6s 30ms/step - loss: 0.1114 - mae: 0.2470 - val_loss: 0.1034 - val_mae: 0.2416\n",
      "Epoch 24/50\n",
      "195/195 [==============================] - 6s 30ms/step - loss: 0.1107 - mae: 0.2462 - val_loss: 0.1058 - val_mae: 0.2416\n",
      "Epoch 25/50\n",
      "195/195 [==============================] - 6s 30ms/step - loss: 0.1099 - mae: 0.2446 - val_loss: 0.1011 - val_mae: 0.2373\n",
      "Epoch 26/50\n",
      "195/195 [==============================] - 6s 31ms/step - loss: 0.1086 - mae: 0.2428 - val_loss: 0.1134 - val_mae: 0.2496\n",
      "Epoch 27/50\n",
      "195/195 [==============================] - 6s 30ms/step - loss: 0.1073 - mae: 0.2399 - val_loss: 0.1071 - val_mae: 0.2464\n",
      "Epoch 28/50\n",
      "195/195 [==============================] - 6s 30ms/step - loss: 0.1081 - mae: 0.2411 - val_loss: 0.1101 - val_mae: 0.2431\n",
      "Epoch 29/50\n",
      "195/195 [==============================] - 6s 31ms/step - loss: 0.1079 - mae: 0.2404 - val_loss: 0.1028 - val_mae: 0.2417\n",
      "Epoch 30/50\n",
      "195/195 [==============================] - 6s 31ms/step - loss: 0.1116 - mae: 0.2454 - val_loss: 0.1223 - val_mae: 0.2633\n",
      "Epoch 31/50\n",
      "195/195 [==============================] - 6s 31ms/step - loss: 0.1096 - mae: 0.2437 - val_loss: 0.1004 - val_mae: 0.2327\n",
      "Epoch 32/50\n",
      "195/195 [==============================] - 6s 30ms/step - loss: 0.1089 - mae: 0.2423 - val_loss: 0.1040 - val_mae: 0.2366\n",
      "Epoch 33/50\n",
      "195/195 [==============================] - 6s 30ms/step - loss: 0.1093 - mae: 0.2426 - val_loss: 0.1045 - val_mae: 0.2361\n",
      "Epoch 34/50\n",
      "195/195 [==============================] - 6s 31ms/step - loss: 0.1073 - mae: 0.2391 - val_loss: 0.1301 - val_mae: 0.2674\n",
      "Epoch 35/50\n",
      "195/195 [==============================] - 6s 31ms/step - loss: 0.1103 - mae: 0.2436 - val_loss: 0.1033 - val_mae: 0.2367\n",
      "Epoch 36/50\n",
      "195/195 [==============================] - 6s 31ms/step - loss: 0.1115 - mae: 0.2453 - val_loss: 0.1122 - val_mae: 0.2538\n",
      "Epoch 37/50\n",
      "195/195 [==============================] - 6s 31ms/step - loss: 0.1108 - mae: 0.2443 - val_loss: 0.1078 - val_mae: 0.2464\n",
      "Epoch 38/50\n",
      "195/195 [==============================] - 6s 31ms/step - loss: 0.1090 - mae: 0.2429 - val_loss: 0.1245 - val_mae: 0.2629\n",
      "Epoch 39/50\n",
      "195/195 [==============================] - 6s 31ms/step - loss: 0.1084 - mae: 0.2407 - val_loss: 0.1351 - val_mae: 0.2861\n",
      "Epoch 40/50\n",
      "195/195 [==============================] - 6s 31ms/step - loss: 0.1120 - mae: 0.2462 - val_loss: 0.1718 - val_mae: 0.3311\n",
      "Epoch 41/50\n",
      "195/195 [==============================] - 6s 31ms/step - loss: 0.1123 - mae: 0.2469 - val_loss: 0.1169 - val_mae: 0.2631\n",
      "Epoch 42/50\n",
      "195/195 [==============================] - 6s 31ms/step - loss: 0.1146 - mae: 0.2507 - val_loss: 0.1148 - val_mae: 0.2508\n",
      "Epoch 43/50\n",
      "195/195 [==============================] - 6s 33ms/step - loss: 0.1120 - mae: 0.2470 - val_loss: 0.1134 - val_mae: 0.2528\n",
      "Epoch 44/50\n",
      "195/195 [==============================] - 6s 31ms/step - loss: 0.1123 - mae: 0.2468 - val_loss: 0.1087 - val_mae: 0.2423\n",
      "Epoch 45/50\n",
      "195/195 [==============================] - 6s 32ms/step - loss: 0.1150 - mae: 0.2508 - val_loss: 0.0994 - val_mae: 0.2345\n",
      "Epoch 46/50\n",
      "195/195 [==============================] - 6s 31ms/step - loss: 0.1122 - mae: 0.2467 - val_loss: 0.1342 - val_mae: 0.2776\n",
      "Epoch 47/50\n",
      "195/195 [==============================] - 6s 30ms/step - loss: 0.1195 - mae: 0.2565 - val_loss: 0.1030 - val_mae: 0.2386\n",
      "Epoch 48/50\n",
      "195/195 [==============================] - 6s 30ms/step - loss: 0.1151 - mae: 0.2494 - val_loss: 0.1348 - val_mae: 0.2704\n",
      "Epoch 49/50\n",
      "195/195 [==============================] - 6s 30ms/step - loss: 0.1181 - mae: 0.2529 - val_loss: 0.1005 - val_mae: 0.2341\n",
      "Epoch 50/50\n",
      "195/195 [==============================] - 6s 30ms/step - loss: 0.1210 - mae: 0.2580 - val_loss: 0.1247 - val_mae: 0.2681\n"
     ]
    }
   ],
   "source": [
    "history=model.fit(X_train,y_train, validation_data = (X_test, y_test), \n",
    "                batch_size = 64, epochs=50, callbacks = [lr_schedule])\n"
   ]
  },
  {
   "cell_type": "code",
   "execution_count": 8,
   "metadata": {},
   "outputs": [
    {
     "data": {
      "text/plain": [
       "[<matplotlib.lines.Line2D at 0x2dd1121d160>]"
      ]
     },
     "execution_count": 8,
     "metadata": {},
     "output_type": "execute_result"
    },
    {
     "data": {
      "image/png": "[encoded data removed]",
      "text/plain": [
       "<Figure size 432x288 with 1 Axes>"
      ]
     },
     "metadata": {
      "needs_background": "light"
     },
     "output_type": "display_data"
    }
   ],
   "source": [
    "lrs = 1e-5 * (10 ** (np.arange(50) / 20))\n",
    "plt.semilogx(lrs, history.history[\"loss\"])"
   ]
  },
  {
   "cell_type": "code",
   "execution_count": 9,
   "metadata": {},
   "outputs": [
    {
     "data": {
      "text/plain": [
       "[<matplotlib.lines.Line2D at 0x2dd08885d60>]"
      ]
     },
     "execution_count": 9,
     "metadata": {},
     "output_type": "execute_result"
    },
    {
     "data": {
      "image/png": "[encoded data removed]",
      "text/plain": [
       "<Figure size 432x288 with 1 Axes>"
      ]
     },
     "metadata": {
      "needs_background": "light"
     },
     "output_type": "display_data"
    }
   ],
   "source": [
    "plt.plot(range(1, len(history.history[\"loss\"])), history.history[\"loss\"][1:])"
   ]
  },
  {
   "cell_type": "code",
   "execution_count": 10,
   "metadata": {},
   "outputs": [
    {
     "name": "stdout",
     "output_type": "stream",
     "text": [
      "Enter the value of number_of_rooms : 1\n",
      "Enter the value of floor_on : 1\n",
      "Enter the value of total_floors : 1\n",
      "Enter the value of bedroom : 1\n",
      "Enter the value of pincode : 12489\n",
      "Enter the value of balkon : 1\n",
      "Enter the value of terrasse : 1\n",
      "Enter the value of garten : 1\n",
      "Enter the value of Gaste-WC : 1\n",
      "Enter the value of Aufzug : 1\n",
      "Enter the value of wohung : 1\n",
      "Enter the value of construction_year : 1990\n",
      "living_area_m2100\n"
     ]
    },
    {
     "data": {
      "text/plain": [
       "array([[623409.7]], dtype=float32)"
      ]
     },
     "execution_count": 10,
     "metadata": {},
     "output_type": "execute_result"
    }
   ],
   "source": [
    "array = []\n",
    "for i in data.columns[:-2]:\n",
    "    value = float(input('Enter the value of {} : '.format(i)))\n",
    "    array.append(value)\n",
    "sq = float(input('living_area_m2'))\n",
    "array.append(np.log1p(sq))\n",
    "str_to_float = [[float(i) for i in array]]\n",
    "two_dim = str_to_float\n",
    "to = pd.DataFrame(two_dim)\n",
    "np.expm1(model.predict(to)) * np.expm1(two_dim[-1][-1])"
   ]
  },
  {
   "cell_type": "code",
   "execution_count": 11,
   "metadata": {},
   "outputs": [
    {
     "name": "stdout",
     "output_type": "stream",
     "text": [
      "Enter the value of number_of_rooms : 1\n",
      "Enter the value of floor_on : 1\n",
      "Enter the value of total_floors : 1\n",
      "Enter the value of bedroom : 1\n",
      "Enter the value of pincode : 10178\n",
      "Enter the value of balkon : 1\n",
      "Enter the value of terrasse : 1\n",
      "Enter the value of garten : 1\n",
      "Enter the value of Gaste-WC : 1\n",
      "Enter the value of Aufzug : 1\n",
      "Enter the value of wohung : 1\n",
      "Enter the value of construction_year : 1990\n",
      "living_area_m2100\n"
     ]
    },
    {
     "data": {
      "text/plain": [
       "array([[623408.5]], dtype=float32)"
      ]
     },
     "execution_count": 11,
     "metadata": {},
     "output_type": "execute_result"
    }
   ],
   "source": [
    "array = []\n",
    "for i in data.columns[:-2]:\n",
    "    value = float(input('Enter the value of {} : '.format(i)))\n",
    "    array.append(value)\n",
    "sq = float(input('living_area_m2'))\n",
    "array.append(np.log1p(sq))\n",
    "str_to_float = [[float(i) for i in array]]\n",
    "two_dim = str_to_float\n",
    "to = pd.DataFrame(two_dim)\n",
    "np.expm1(model.predict(to)) * np.expm1(two_dim[-1][-1])"
   ]
  },
  {
   "cell_type": "code",
   "execution_count": 12,
   "metadata": {},
   "outputs": [
    {
     "name": "stdout",
     "output_type": "stream",
     "text": [
      "Epoch 1/100\n",
      "195/195 [==============================] - 4s 11ms/step - loss: 64.1263 - mae: 7.9931 - val_loss: 56.1535 - val_mae: 7.4798\n",
      "Epoch 2/100\n",
      "195/195 [==============================] - 1s 8ms/step - loss: 46.8120 - mae: 6.8158 - val_loss: 36.3246 - val_mae: 6.0099\n",
      "Epoch 3/100\n",
      "195/195 [==============================] - 1s 7ms/step - loss: 29.5789 - mae: 5.4098 - val_loss: 22.9003 - val_mae: 4.7627\n",
      "Epoch 4/100\n",
      "195/195 [==============================] - 1s 7ms/step - loss: 18.3556 - mae: 4.2504 - val_loss: 13.7275 - val_mae: 3.6743\n",
      "Epoch 5/100\n",
      "195/195 [==============================] - 1s 7ms/step - loss: 10.9187 - mae: 3.2644 - val_loss: 8.0427 - val_mae: 2.7946\n",
      "Epoch 6/100\n",
      "195/195 [==============================] - 1s 7ms/step - loss: 6.2754 - mae: 2.4529 - val_loss: 4.4282 - val_mae: 2.0500\n",
      "Epoch 7/100\n",
      "195/195 [==============================] - 1s 7ms/step - loss: 3.2618 - mae: 1.7360 - val_loss: 2.1227 - val_mae: 1.3826\n",
      "Epoch 8/100\n",
      "195/195 [==============================] - 2s 8ms/step - loss: 1.5629 - mae: 1.1660 - val_loss: 1.0205 - val_mae: 0.9258\n",
      "Epoch 9/100\n",
      "195/195 [==============================] - 2s 10ms/step - loss: 0.7656 - mae: 0.7877 - val_loss: 0.5215 - val_mae: 0.6357\n",
      "Epoch 10/100\n",
      "195/195 [==============================] - 2s 11ms/step - loss: 0.4090 - mae: 0.5571 - val_loss: 0.3206 - val_mae: 0.4700\n",
      "Epoch 11/100\n",
      "195/195 [==============================] - 2s 11ms/step - loss: 0.2687 - mae: 0.4308 - val_loss: 0.2525 - val_mae: 0.3937\n",
      "Epoch 12/100\n",
      "195/195 [==============================] - 2s 11ms/step - loss: 0.2200 - mae: 0.3719 - val_loss: 0.2326 - val_mae: 0.3623\n",
      "Epoch 13/100\n",
      "195/195 [==============================] - 2s 10ms/step - loss: 0.2036 - mae: 0.3468 - val_loss: 0.2259 - val_mae: 0.3497\n",
      "Epoch 14/100\n",
      "195/195 [==============================] - 2s 10ms/step - loss: 0.1958 - mae: 0.3351 - val_loss: 0.2205 - val_mae: 0.3425\n",
      "Epoch 15/100\n",
      "195/195 [==============================] - 2s 11ms/step - loss: 0.1887 - mae: 0.3265 - val_loss: 0.2126 - val_mae: 0.3359\n",
      "Epoch 16/100\n",
      "195/195 [==============================] - 2s 10ms/step - loss: 0.1801 - mae: 0.3178 - val_loss: 0.2041 - val_mae: 0.3288\n",
      "Epoch 17/100\n",
      "195/195 [==============================] - 2s 10ms/step - loss: 0.1731 - mae: 0.3107 - val_loss: 0.1981 - val_mae: 0.3234\n",
      "Epoch 18/100\n",
      "195/195 [==============================] - 2s 10ms/step - loss: 0.1678 - mae: 0.3055 - val_loss: 0.1932 - val_mae: 0.3189\n",
      "Epoch 19/100\n",
      "195/195 [==============================] - 2s 10ms/step - loss: 0.1631 - mae: 0.3009 - val_loss: 0.1886 - val_mae: 0.3154\n",
      "Epoch 20/100\n",
      "195/195 [==============================] - 2s 10ms/step - loss: 0.1592 - mae: 0.2972 - val_loss: 0.1861 - val_mae: 0.3133\n",
      "Epoch 21/100\n",
      "195/195 [==============================] - 2s 10ms/step - loss: 0.1573 - mae: 0.2947 - val_loss: 0.1854 - val_mae: 0.3128\n",
      "Epoch 22/100\n",
      "195/195 [==============================] - 2s 10ms/step - loss: 0.1568 - mae: 0.2937 - val_loss: 0.1854 - val_mae: 0.3129\n",
      "Epoch 23/100\n",
      "195/195 [==============================] - 2s 10ms/step - loss: 0.1565 - mae: 0.2932 - val_loss: 0.1850 - val_mae: 0.3127\n",
      "Epoch 24/100\n",
      "195/195 [==============================] - 2s 10ms/step - loss: 0.1564 - mae: 0.2933 - val_loss: 0.1849 - val_mae: 0.3124\n",
      "Epoch 25/100\n",
      "195/195 [==============================] - 2s 10ms/step - loss: 0.1561 - mae: 0.2929 - val_loss: 0.1848 - val_mae: 0.3122\n",
      "Epoch 26/100\n",
      "195/195 [==============================] - 2s 11ms/step - loss: 0.1558 - mae: 0.2928 - val_loss: 0.1835 - val_mae: 0.3113\n",
      "Epoch 27/100\n",
      "195/195 [==============================] - 2s 11ms/step - loss: 0.1552 - mae: 0.2921 - val_loss: 0.1829 - val_mae: 0.3108\n",
      "Epoch 28/100\n",
      "195/195 [==============================] - 2s 10ms/step - loss: 0.1546 - mae: 0.2915 - val_loss: 0.1821 - val_mae: 0.3100\n",
      "Epoch 29/100\n",
      "195/195 [==============================] - 2s 11ms/step - loss: 0.1539 - mae: 0.2908 - val_loss: 0.1811 - val_mae: 0.3090\n",
      "Epoch 30/100\n",
      "195/195 [==============================] - 2s 11ms/step - loss: 0.1529 - mae: 0.2900 - val_loss: 0.1794 - val_mae: 0.3078\n",
      "Epoch 31/100\n",
      "195/195 [==============================] - 2s 11ms/step - loss: 0.1518 - mae: 0.2888 - val_loss: 0.1780 - val_mae: 0.3059\n",
      "Epoch 32/100\n",
      "195/195 [==============================] - 2s 11ms/step - loss: 0.1504 - mae: 0.2874 - val_loss: 0.1765 - val_mae: 0.3041\n",
      "Epoch 33/100\n",
      "195/195 [==============================] - 2s 10ms/step - loss: 0.1488 - mae: 0.2860 - val_loss: 0.1745 - val_mae: 0.3021\n",
      "Epoch 34/100\n",
      "195/195 [==============================] - 2s 10ms/step - loss: 0.1468 - mae: 0.2838 - val_loss: 0.1707 - val_mae: 0.2992\n",
      "Epoch 35/100\n",
      "195/195 [==============================] - 2s 10ms/step - loss: 0.1458 - mae: 0.2825 - val_loss: 0.1702 - val_mae: 0.2975\n",
      "Epoch 36/100\n",
      "195/195 [==============================] - 2s 10ms/step - loss: 0.1436 - mae: 0.2807 - val_loss: 0.1661 - val_mae: 0.2948\n",
      "Epoch 37/100\n",
      "195/195 [==============================] - 2s 11ms/step - loss: 0.1411 - mae: 0.2778 - val_loss: 0.1623 - val_mae: 0.2918\n",
      "Epoch 38/100\n",
      "195/195 [==============================] - 2s 10ms/step - loss: 0.1392 - mae: 0.2758 - val_loss: 0.1598 - val_mae: 0.2891\n",
      "Epoch 39/100\n",
      "195/195 [==============================] - 2s 12ms/step - loss: 0.1360 - mae: 0.2724 - val_loss: 0.1546 - val_mae: 0.2838\n",
      "Epoch 40/100\n",
      "195/195 [==============================] - 2s 11ms/step - loss: 0.1296 - mae: 0.2665 - val_loss: 0.1338 - val_mae: 0.2651\n",
      "Epoch 41/100\n",
      "195/195 [==============================] - 2s 11ms/step - loss: 0.1201 - mae: 0.2574 - val_loss: 0.1251 - val_mae: 0.2574\n",
      "Epoch 42/100\n",
      "195/195 [==============================] - 2s 11ms/step - loss: 0.1163 - mae: 0.2528 - val_loss: 0.1179 - val_mae: 0.2503\n",
      "Epoch 43/100\n",
      "195/195 [==============================] - 2s 11ms/step - loss: 0.1144 - mae: 0.2503 - val_loss: 0.1159 - val_mae: 0.2481\n",
      "Epoch 44/100\n",
      "195/195 [==============================] - 2s 10ms/step - loss: 0.1136 - mae: 0.2490 - val_loss: 0.1142 - val_mae: 0.2465\n",
      "Epoch 45/100\n",
      "195/195 [==============================] - 2s 11ms/step - loss: 0.1127 - mae: 0.2480 - val_loss: 0.1136 - val_mae: 0.2462\n",
      "Epoch 46/100\n",
      "195/195 [==============================] - 2s 11ms/step - loss: 0.1123 - mae: 0.2478 - val_loss: 0.1135 - val_mae: 0.2454\n",
      "Epoch 47/100\n",
      "195/195 [==============================] - 2s 11ms/step - loss: 0.1121 - mae: 0.2473 - val_loss: 0.1124 - val_mae: 0.2442\n",
      "Epoch 48/100\n",
      "195/195 [==============================] - 2s 10ms/step - loss: 0.1115 - mae: 0.2464 - val_loss: 0.1117 - val_mae: 0.2450\n",
      "Epoch 49/100\n",
      "195/195 [==============================] - 2s 10ms/step - loss: 0.1111 - mae: 0.2461 - val_loss: 0.1112 - val_mae: 0.2444\n",
      "Epoch 50/100\n",
      "195/195 [==============================] - 2s 11ms/step - loss: 0.1106 - mae: 0.2452 - val_loss: 0.1106 - val_mae: 0.2435\n",
      "Epoch 51/100\n",
      "195/195 [==============================] - 2s 11ms/step - loss: 0.1104 - mae: 0.2450 - val_loss: 0.1123 - val_mae: 0.2441\n",
      "Epoch 52/100\n",
      "195/195 [==============================] - 2s 11ms/step - loss: 0.1102 - mae: 0.2446 - val_loss: 0.1097 - val_mae: 0.2414\n",
      "Epoch 53/100\n",
      "195/195 [==============================] - 2s 11ms/step - loss: 0.1100 - mae: 0.2444 - val_loss: 0.1097 - val_mae: 0.2410\n",
      "Epoch 54/100\n",
      "195/195 [==============================] - 2s 12ms/step - loss: 0.1098 - mae: 0.2443 - val_loss: 0.1088 - val_mae: 0.2398\n",
      "Epoch 55/100\n",
      "195/195 [==============================] - 2s 12ms/step - loss: 0.1094 - mae: 0.2436 - val_loss: 0.1090 - val_mae: 0.2403\n",
      "Epoch 56/100\n",
      "195/195 [==============================] - 2s 12ms/step - loss: 0.1092 - mae: 0.2432 - val_loss: 0.1088 - val_mae: 0.2399\n",
      "Epoch 57/100\n",
      "195/195 [==============================] - 3s 13ms/step - loss: 0.1088 - mae: 0.2425 - val_loss: 0.1078 - val_mae: 0.2396\n",
      "Epoch 58/100\n",
      "195/195 [==============================] - 3s 13ms/step - loss: 0.1087 - mae: 0.2425 - val_loss: 0.1077 - val_mae: 0.2386\n",
      "Epoch 59/100\n",
      "195/195 [==============================] - 2s 12ms/step - loss: 0.1085 - mae: 0.2421 - val_loss: 0.1072 - val_mae: 0.2383\n",
      "Epoch 60/100\n",
      "195/195 [==============================] - 2s 11ms/step - loss: 0.1082 - mae: 0.2419 - val_loss: 0.1070 - val_mae: 0.2385\n",
      "Epoch 61/100\n",
      "195/195 [==============================] - 2s 11ms/step - loss: 0.1080 - mae: 0.2415 - val_loss: 0.1066 - val_mae: 0.2379\n"
     ]
    },
    {
     "name": "stdout",
     "output_type": "stream",
     "text": [
      "Epoch 62/100\n",
      "195/195 [==============================] - 2s 10ms/step - loss: 0.1080 - mae: 0.2418 - val_loss: 0.1064 - val_mae: 0.2374\n",
      "Epoch 63/100\n",
      "195/195 [==============================] - 2s 10ms/step - loss: 0.1077 - mae: 0.2411 - val_loss: 0.1058 - val_mae: 0.2364\n",
      "Epoch 64/100\n",
      "195/195 [==============================] - 2s 10ms/step - loss: 0.1075 - mae: 0.2410 - val_loss: 0.1056 - val_mae: 0.2366\n",
      "Epoch 65/100\n",
      "195/195 [==============================] - 2s 10ms/step - loss: 0.1072 - mae: 0.2402 - val_loss: 0.1050 - val_mae: 0.2371\n",
      "Epoch 66/100\n",
      "195/195 [==============================] - 2s 10ms/step - loss: 0.1070 - mae: 0.2402 - val_loss: 0.1059 - val_mae: 0.2364\n",
      "Epoch 67/100\n",
      "195/195 [==============================] - 2s 10ms/step - loss: 0.1069 - mae: 0.2398 - val_loss: 0.1046 - val_mae: 0.2356\n",
      "Epoch 68/100\n",
      "195/195 [==============================] - 2s 10ms/step - loss: 0.1066 - mae: 0.2397 - val_loss: 0.1065 - val_mae: 0.2369\n",
      "Epoch 69/100\n",
      "195/195 [==============================] - 2s 10ms/step - loss: 0.1066 - mae: 0.2394 - val_loss: 0.1040 - val_mae: 0.2350\n",
      "Epoch 70/100\n",
      "195/195 [==============================] - 2s 10ms/step - loss: 0.1065 - mae: 0.2392 - val_loss: 0.1041 - val_mae: 0.2366\n",
      "Epoch 71/100\n",
      "195/195 [==============================] - 2s 10ms/step - loss: 0.1061 - mae: 0.2389 - val_loss: 0.1107 - val_mae: 0.2414\n",
      "Epoch 72/100\n",
      "195/195 [==============================] - 2s 10ms/step - loss: 0.1061 - mae: 0.2385 - val_loss: 0.1038 - val_mae: 0.2359\n",
      "Epoch 73/100\n",
      "195/195 [==============================] - 2s 10ms/step - loss: 0.1059 - mae: 0.2388 - val_loss: 0.1052 - val_mae: 0.2356\n",
      "Epoch 74/100\n",
      "195/195 [==============================] - 2s 10ms/step - loss: 0.1061 - mae: 0.2387 - val_loss: 0.1048 - val_mae: 0.2355\n",
      "Epoch 75/100\n",
      "195/195 [==============================] - 2s 10ms/step - loss: 0.1058 - mae: 0.2380 - val_loss: 0.1027 - val_mae: 0.2339\n",
      "Epoch 76/100\n",
      "195/195 [==============================] - 2s 10ms/step - loss: 0.1055 - mae: 0.2378 - val_loss: 0.1027 - val_mae: 0.2347\n",
      "Epoch 77/100\n",
      "195/195 [==============================] - 2s 10ms/step - loss: 0.1058 - mae: 0.2377 - val_loss: 0.1036 - val_mae: 0.2359\n",
      "Epoch 78/100\n",
      "195/195 [==============================] - 2s 10ms/step - loss: 0.1055 - mae: 0.2384 - val_loss: 0.1029 - val_mae: 0.2346\n",
      "Epoch 79/100\n",
      "195/195 [==============================] - 2s 10ms/step - loss: 0.1053 - mae: 0.2376 - val_loss: 0.1022 - val_mae: 0.2339\n",
      "Epoch 80/100\n",
      "195/195 [==============================] - 2s 10ms/step - loss: 0.1053 - mae: 0.2374 - val_loss: 0.1018 - val_mae: 0.2333\n",
      "Epoch 81/100\n",
      "195/195 [==============================] - 2s 10ms/step - loss: 0.1052 - mae: 0.2372 - val_loss: 0.1040 - val_mae: 0.2346\n",
      "Epoch 82/100\n",
      "195/195 [==============================] - 2s 10ms/step - loss: 0.1051 - mae: 0.2371 - val_loss: 0.1024 - val_mae: 0.2334\n",
      "Epoch 83/100\n",
      "195/195 [==============================] - 2s 10ms/step - loss: 0.1050 - mae: 0.2370 - val_loss: 0.1016 - val_mae: 0.2330\n",
      "Epoch 84/100\n",
      "195/195 [==============================] - 2s 10ms/step - loss: 0.1049 - mae: 0.2365 - val_loss: 0.1026 - val_mae: 0.2360\n",
      "Epoch 85/100\n",
      "195/195 [==============================] - 2s 10ms/step - loss: 0.1048 - mae: 0.2366 - val_loss: 0.1019 - val_mae: 0.2327\n",
      "Epoch 86/100\n",
      "195/195 [==============================] - 2s 10ms/step - loss: 0.1047 - mae: 0.2360 - val_loss: 0.1031 - val_mae: 0.2341\n",
      "Epoch 87/100\n",
      "195/195 [==============================] - 2s 10ms/step - loss: 0.1048 - mae: 0.2364 - val_loss: 0.1025 - val_mae: 0.2332\n",
      "Epoch 88/100\n",
      "195/195 [==============================] - 2s 10ms/step - loss: 0.1044 - mae: 0.2358 - val_loss: 0.1020 - val_mae: 0.2326\n",
      "Epoch 89/100\n",
      "195/195 [==============================] - 2s 10ms/step - loss: 0.1045 - mae: 0.2357 - val_loss: 0.1018 - val_mae: 0.2323\n",
      "Epoch 90/100\n",
      "195/195 [==============================] - 2s 10ms/step - loss: 0.1045 - mae: 0.2361 - val_loss: 0.1058 - val_mae: 0.2364\n",
      "Epoch 91/100\n",
      "195/195 [==============================] - 2s 10ms/step - loss: 0.1045 - mae: 0.2356 - val_loss: 0.1040 - val_mae: 0.2349\n",
      "Epoch 92/100\n",
      "195/195 [==============================] - 2s 10ms/step - loss: 0.1043 - mae: 0.2351 - val_loss: 0.1024 - val_mae: 0.2329\n",
      "Epoch 93/100\n",
      "195/195 [==============================] - 2s 10ms/step - loss: 0.1043 - mae: 0.2352 - val_loss: 0.1012 - val_mae: 0.2325\n",
      "Epoch 94/100\n",
      "195/195 [==============================] - 2s 10ms/step - loss: 0.1043 - mae: 0.2353 - val_loss: 0.1027 - val_mae: 0.2334\n",
      "Epoch 95/100\n",
      "195/195 [==============================] - 2s 10ms/step - loss: 0.1042 - mae: 0.2350 - val_loss: 0.1008 - val_mae: 0.2321\n",
      "Epoch 96/100\n",
      "195/195 [==============================] - 2s 10ms/step - loss: 0.1039 - mae: 0.2346 - val_loss: 0.1011 - val_mae: 0.2318\n",
      "Epoch 97/100\n",
      "195/195 [==============================] - 2s 10ms/step - loss: 0.1042 - mae: 0.2347 - val_loss: 0.1014 - val_mae: 0.2322\n",
      "Epoch 98/100\n",
      "195/195 [==============================] - 2s 10ms/step - loss: 0.1039 - mae: 0.2345 - val_loss: 0.1026 - val_mae: 0.2339\n",
      "Epoch 99/100\n",
      "195/195 [==============================] - 2s 10ms/step - loss: 0.1041 - mae: 0.2350 - val_loss: 0.1019 - val_mae: 0.2331\n",
      "Epoch 100/100\n",
      "195/195 [==============================] - 2s 10ms/step - loss: 0.1038 - mae: 0.2343 - val_loss: 0.1007 - val_mae: 0.2319\n"
     ]
    }
   ],
   "source": [
    "tf.random.set_seed(0)\n",
    "model1 = tf.keras.models.Sequential([\n",
    "    tf.keras.layers.Lambda(lambda x: tf.expand_dims(x, axis = -1), input_shape = [None]),\n",
    "    tf.keras.layers.Conv1D(filters = 32, kernel_size = 5, strides = 1, padding = 'same', activation = 'relu'),\n",
    "    #tf.keras.layers.Lambda(lambda x: tf.expand_dims(x, axis = -1)),\n",
    "    tf.keras.layers.LSTM(32, return_sequences = True),\n",
    "    tf.keras.layers.LSTM(16),\n",
    "    #tf.keras.layers.SimpleRNN(40, return_sequences = True),\n",
    "    #tf.keras.layers.SimpleRNN(20),\n",
    "    tf.keras.layers.Dense(10, activation = 'relu'),\n",
    "    tf.keras.layers.Dense(5,activation = 'relu'),\n",
    "    tf.keras.layers.Dense(1)])\n",
    "model1.compile(loss = 'mse', optimizer = tf.keras.optimizers.Adam(learning_rate = 5e-5), metrics = ['mae'])\n",
    "history1 = model1.fit(X_train,y_train, validation_data = (X_test, y_test), epochs=100, batch_size = 64)"
   ]
  },
  {
   "cell_type": "code",
   "execution_count": 13,
   "metadata": {},
   "outputs": [
    {
     "data": {
      "text/plain": [
       "(array([[8.613729],\n",
       "        [8.434701],\n",
       "        [8.41292 ],\n",
       "        [7.909132],\n",
       "        [7.743613]], dtype=float32),\n",
       " array([[8.54500289],\n",
       "        [8.37047041],\n",
       "        [8.69484149],\n",
       "        [7.71760729],\n",
       "        [7.7403941 ]]))"
      ]
     },
     "execution_count": 13,
     "metadata": {},
     "output_type": "execute_result"
    }
   ],
   "source": [
    "predictions = model1.predict(X_test)\n",
    "predictions[:5], y_test.to_numpy()[:5]"
   ]
  },
  {
   "cell_type": "code",
   "execution_count": 14,
   "metadata": {},
   "outputs": [
    {
     "data": {
      "text/plain": [
       "(0.10068402884636743, 0.23193553039138348)"
      ]
     },
     "execution_count": 14,
     "metadata": {},
     "output_type": "execute_result"
    }
   ],
   "source": [
    "from sklearn.metrics import mean_squared_error, mean_absolute_error\n",
    "mean_squared_error(predictions, y_test), mean_absolute_error(predictions, y_test)"
   ]
  },
  {
   "cell_type": "code",
   "execution_count": 15,
   "metadata": {},
   "outputs": [
    {
     "data": {
      "text/plain": [
       "[<matplotlib.lines.Line2D at 0x2dd13b795e0>]"
      ]
     },
     "execution_count": 15,
     "metadata": {},
     "output_type": "execute_result"
    },
    {
     "data": {
      "image/png": "[encoded data removed]",
      "text/plain": [
       "<Figure size 432x288 with 1 Axes>"
      ]
     },
     "metadata": {
      "needs_background": "light"
     },
     "output_type": "display_data"
    }
   ],
   "source": [
    "plt.plot(range(1, len(history.history[\"loss\"])), history.history[\"loss\"][1:])\n",
    "plt.plot(range(1, len(history.history[\"val_loss\"])), history.history[\"val_loss\"][1:])"
   ]
  },
  {
   "cell_type": "code",
   "execution_count": 17,
   "metadata": {},
   "outputs": [
    {
     "name": "stdout",
     "output_type": "stream",
     "text": [
      "Enter the value of number_of_rooms : 1\n",
      "Enter the value of floor_on : 1\n",
      "Enter the value of total_floors : 1\n",
      "Enter the value of bedroom : 1\n",
      "Enter the value of pincode : 12489\n",
      "Enter the value of balkon : 1\n",
      "Enter the value of terrasse : 1\n",
      "Enter the value of garten : 1\n",
      "Enter the value of Gaste-WC : 1\n",
      "Enter the value of Aufzug : 1\n",
      "Enter the value of wohung : 1\n",
      "Enter the value of construction_year : 1990\n",
      "living_area_m2100\n"
     ]
    },
    {
     "data": {
      "text/plain": [
       "array([[593513.3]], dtype=float32)"
      ]
     },
     "execution_count": 17,
     "metadata": {},
     "output_type": "execute_result"
    }
   ],
   "source": [
    "array = []\n",
    "for i in data.columns[:-2]:\n",
    "    value = float(input('Enter the value of {} : '.format(i)))\n",
    "    array.append(value)\n",
    "sq = float(input('living_area_m2'))\n",
    "array.append(np.log1p(sq))\n",
    "str_to_float = [[float(i) for i in array]]\n",
    "two_dim = str_to_float\n",
    "to = pd.DataFrame(two_dim)\n",
    "np.expm1(model1.predict(to)) * np.expm1(two_dim[-1][-1])"
   ]
  },
  {
   "cell_type": "code",
   "execution_count": 18,
   "metadata": {},
   "outputs": [
    {
     "name": "stdout",
     "output_type": "stream",
     "text": [
      "Enter the value of number_of_rooms : 1\n",
      "Enter the value of floor_on : 1\n",
      "Enter the value of total_floors : 1\n",
      "Enter the value of bedroom : 1\n",
      "Enter the value of pincode : 10178\n",
      "Enter the value of balkon : 1\n",
      "Enter the value of terrasse : 1\n",
      "Enter the value of garten : 1\n",
      "Enter the value of Gaste-WC : 1\n",
      "Enter the value of Aufzug : 1\n",
      "Enter the value of wohung : 1\n",
      "Enter the value of construction_year : 1990\n",
      "living_area_m2100\n"
     ]
    },
    {
     "data": {
      "text/plain": [
       "array([[593513.3]], dtype=float32)"
      ]
     },
     "execution_count": 18,
     "metadata": {},
     "output_type": "execute_result"
    }
   ],
   "source": [
    "array = []\n",
    "for i in data.columns[:-2]:\n",
    "    value = float(input('Enter the value of {} : '.format(i)))\n",
    "    array.append(value)\n",
    "sq = float(input('living_area_m2'))\n",
    "array.append(np.log1p(sq))\n",
    "str_to_float = [[float(i) for i in array]]\n",
    "two_dim = str_to_float\n",
    "to = pd.DataFrame(two_dim)\n",
    "np.expm1(model1.predict(to)) * np.expm1(two_dim[-1][-1])"
   ]
  },
  {
   "cell_type": "code",
   "execution_count": 19,
   "metadata": {},
   "outputs": [],
   "source": [
    "model.save('cnn_model1.hdf5')\n",
    "model1.save('cnn_model2.hdf5')"
   ]
  },
  {
   "cell_type": "code",
   "execution_count": null,
   "metadata": {},
   "outputs": [],
   "source": []
  }
 ],
 "metadata": {
  "kernelspec": {
   "display_name": "Python 3",
   "language": "python",
   "name": "python3"
  },
  "language_info": {
   "codemirror_mode": {
    "name": "ipython",
    "version": 3
   },
   "file_extension": ".py",
   "mimetype": "text/x-python",
   "name": "python",
   "nbconvert_exporter": "python",
   "pygments_lexer": "ipython3",
   "version": "3.8.8"
  }
 },
 "nbformat": 4,
 "nbformat_minor": 4
}
