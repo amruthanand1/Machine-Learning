{
 "cells": [
  {
   "cell_type": "code",
   "execution_count": 1,
   "metadata": {},
   "outputs": [],
   "source": [
    "import tensorflow as tf\n",
    "import numpy as np\n",
    "import pandas as pd\n",
    "#import numpy as np\n",
    "#import pandas as pd\n",
    "import matplotlib.pyplot as plt\n",
    "#import seaborn as sns\n",
    "from scipy import stats\n",
    "#from sklearn.ensemble import RandomForestRegressor\n",
    "from sklearn.metrics import mean_squared_error, mean_absolute_error\n",
    "from sklearn.model_selection import train_test_split\n",
    "from sklearn.metrics import r2_score\n",
    "import seaborn as sns"
   ]
  },
  {
   "cell_type": "code",
   "execution_count": 2,
   "metadata": {},
   "outputs": [
    {
     "data": {
      "text/html": [
       "<div>\n",
       "<style scoped>\n",
       "    .dataframe tbody tr th:only-of-type {\n",
       "        vertical-align: middle;\n",
       "    }\n",
       "\n",
       "    .dataframe tbody tr th {\n",
       "        vertical-align: top;\n",
       "    }\n",
       "\n",
       "    .dataframe thead th {\n",
       "        text-align: right;\n",
       "    }\n",
       "</style>\n",
       "<table border=\"1\" class=\"dataframe\">\n",
       "  <thead>\n",
       "    <tr style=\"text-align: right;\">\n",
       "      <th></th>\n",
       "      <th>number_of_rooms</th>\n",
       "      <th>floor_on</th>\n",
       "      <th>total_floors</th>\n",
       "      <th>bedroom</th>\n",
       "      <th>pincode</th>\n",
       "      <th>balkon</th>\n",
       "      <th>terrasse</th>\n",
       "      <th>garten</th>\n",
       "      <th>Gaste-WC</th>\n",
       "      <th>Aufzug</th>\n",
       "      <th>wohung</th>\n",
       "      <th>construction_year</th>\n",
       "      <th>living_area_m2</th>\n",
       "      <th>transform_price</th>\n",
       "    </tr>\n",
       "  </thead>\n",
       "  <tbody>\n",
       "    <tr>\n",
       "      <th>12698</th>\n",
       "      <td>5.0</td>\n",
       "      <td>0</td>\n",
       "      <td>2</td>\n",
       "      <td>5</td>\n",
       "      <td>15754</td>\n",
       "      <td>0</td>\n",
       "      <td>0</td>\n",
       "      <td>1</td>\n",
       "      <td>1</td>\n",
       "      <td>0</td>\n",
       "      <td>0</td>\n",
       "      <td>2020</td>\n",
       "      <td>5.459586</td>\n",
       "      <td>7.363865</td>\n",
       "    </tr>\n",
       "    <tr>\n",
       "      <th>12163</th>\n",
       "      <td>3.0</td>\n",
       "      <td>0</td>\n",
       "      <td>0</td>\n",
       "      <td>2</td>\n",
       "      <td>50127</td>\n",
       "      <td>1</td>\n",
       "      <td>1</td>\n",
       "      <td>1</td>\n",
       "      <td>0</td>\n",
       "      <td>0</td>\n",
       "      <td>1</td>\n",
       "      <td>1979</td>\n",
       "      <td>4.454347</td>\n",
       "      <td>7.309173</td>\n",
       "    </tr>\n",
       "    <tr>\n",
       "      <th>3290</th>\n",
       "      <td>2.0</td>\n",
       "      <td>0</td>\n",
       "      <td>3</td>\n",
       "      <td>1</td>\n",
       "      <td>10777</td>\n",
       "      <td>0</td>\n",
       "      <td>0</td>\n",
       "      <td>1</td>\n",
       "      <td>0</td>\n",
       "      <td>0</td>\n",
       "      <td>1</td>\n",
       "      <td>1887</td>\n",
       "      <td>4.295106</td>\n",
       "      <td>8.839129</td>\n",
       "    </tr>\n",
       "  </tbody>\n",
       "</table>\n",
       "</div>"
      ],
      "text/plain": [
       "       number_of_rooms  floor_on  total_floors  bedroom  pincode  balkon  \\\n",
       "12698              5.0         0             2        5    15754       0   \n",
       "12163              3.0         0             0        2    50127       1   \n",
       "3290               2.0         0             3        1    10777       0   \n",
       "\n",
       "       terrasse  garten  Gaste-WC  Aufzug  wohung  construction_year  \\\n",
       "12698         0       1         1       0       0               2020   \n",
       "12163         1       1         0       0       1               1979   \n",
       "3290          0       1         0       0       1               1887   \n",
       "\n",
       "       living_area_m2  transform_price  \n",
       "12698        5.459586         7.363865  \n",
       "12163        4.454347         7.309173  \n",
       "3290         4.295106         8.839129  "
      ]
     },
     "execution_count": 2,
     "metadata": {},
     "output_type": "execute_result"
    }
   ],
   "source": [
    "data = pd.read_csv(r'C:\\Users\\amrut\\Downloads\\after_preprocess_data.csv', encoding = 'iso-8859-1')\n",
    "data.sample(3)"
   ]
  },
  {
   "cell_type": "code",
   "execution_count": 3,
   "metadata": {},
   "outputs": [
    {
     "data": {
      "text/plain": [
       "Index(['number_of_rooms', 'floor_on', 'total_floors', 'bedroom', 'pincode',\n",
       "       'balkon', 'terrasse', 'garten', 'Gaste-WC', 'Aufzug', 'wohung',\n",
       "       'construction_year', 'living_area_m2'],\n",
       "      dtype='object')"
      ]
     },
     "execution_count": 3,
     "metadata": {},
     "output_type": "execute_result"
    }
   ],
   "source": [
    "X = data.iloc[:, :-1]\n",
    "y = data[['transform_price']]\n",
    "X.columns"
   ]
  },
  {
   "cell_type": "code",
   "execution_count": 4,
   "metadata": {},
   "outputs": [
    {
     "data": {
      "text/plain": [
       "((12615, 13), (12615, 1), (128, 13))"
      ]
     },
     "execution_count": 4,
     "metadata": {},
     "output_type": "execute_result"
    }
   ],
   "source": [
    "X_train, X_test, y_train, y_test = train_test_split(X, y, test_size = 0.01, random_state = 0)\n",
    "X_train.shape, y_train.shape, X_test.shape"
   ]
  },
  {
   "cell_type": "code",
   "execution_count": 5,
   "metadata": {},
   "outputs": [],
   "source": [
    "tf.random.set_seed(68)\n",
    "model = tf.keras.models.Sequential([\n",
    "    tf.keras.layers.Lambda(lambda x: tf.expand_dims(x, axis = -1), input_shape = [None]),\n",
    "    tf.keras.layers.Conv1D(filters = 128, kernel_size = 5, strides = 1, padding = 'same', activation = 'relu'),\n",
    "    #tf.keras.layers.Lambda(lambda x: tf.expand_dims(x, axis = -1)),\n",
    "    tf.keras.layers.LSTM(128, return_sequences = True),\n",
    "    tf.keras.layers.LSTM(64, return_sequences = True),\n",
    "    tf.keras.layers.SimpleRNN(80, return_sequences = True),\n",
    "    tf.keras.layers.SimpleRNN(40),\n",
    "    tf.keras.layers.Dense(100, activation = 'relu'),\n",
    "    tf.keras.layers.Dense(50,activation = 'relu'),\n",
    "    tf.keras.layers.Dense(20,activation = 'relu'),\n",
    "    tf.keras.layers.Dense(1)])\n",
    "lr_schedule = tf.keras.callbacks.LearningRateScheduler(\n",
    "    lambda epochs: 1e-5 * 10**(epochs / 20))\n",
    "model.compile(loss = 'mse', optimizer = 'adam', metrics = ['mae'])"
   ]
  },
  {
   "cell_type": "code",
   "execution_count": 6,
   "metadata": {},
   "outputs": [
    {
     "name": "stdout",
     "output_type": "stream",
     "text": [
      "Epoch 1/100\n",
      "50/50 [==============================] - 10s 124ms/step - loss: 63.7445 - mae: 7.9715 - val_loss: 59.4890 - val_mae: 7.6973\n",
      "Epoch 2/100\n",
      "50/50 [==============================] - 9s 177ms/step - loss: 55.8789 - mae: 7.4623 - val_loss: 52.4308 - val_mae: 7.2249\n",
      "Epoch 3/100\n",
      "50/50 [==============================] - 6s 121ms/step - loss: 49.8722 - mae: 7.0496 - val_loss: 47.3544 - val_mae: 6.8649\n",
      "Epoch 4/100\n",
      "50/50 [==============================] - 6s 128ms/step - loss: 44.8911 - mae: 6.6870 - val_loss: 42.3252 - val_mae: 6.4885\n",
      "Epoch 5/100\n",
      "50/50 [==============================] - 6s 122ms/step - loss: 39.8842 - mae: 6.3016 - val_loss: 37.1891 - val_mae: 6.0801\n",
      "Epoch 6/100\n",
      "50/50 [==============================] - 7s 131ms/step - loss: 34.5356 - mae: 5.8620 - val_loss: 31.7208 - val_mae: 5.6126\n",
      "Epoch 7/100\n",
      "50/50 [==============================] - 6s 119ms/step - loss: 29.0123 - mae: 5.3698 - val_loss: 26.2229 - val_mae: 5.0993\n",
      "Epoch 8/100\n",
      "50/50 [==============================] - 6s 118ms/step - loss: 23.4542 - mae: 4.8242 - val_loss: 20.6398 - val_mae: 4.5188\n",
      "Epoch 9/100\n",
      "50/50 [==============================] - 6s 118ms/step - loss: 17.9057 - mae: 4.2091 - val_loss: 15.1226 - val_mae: 3.8603\n",
      "Epoch 10/100\n",
      "50/50 [==============================] - 6s 121ms/step - loss: 12.5562 - mae: 3.5158 - val_loss: 10.0521 - val_mae: 3.1356\n",
      "Epoch 11/100\n",
      "50/50 [==============================] - 7s 137ms/step - loss: 7.8533 - mae: 2.7659 - val_loss: 5.8121 - val_mae: 2.3766\n",
      "Epoch 12/100\n",
      "50/50 [==============================] - 6s 120ms/step - loss: 4.1685 - mae: 1.9918 - val_loss: 2.7770 - val_mae: 1.6226\n",
      "Epoch 13/100\n",
      "50/50 [==============================] - 7s 133ms/step - loss: 1.7798 - mae: 1.2636 - val_loss: 1.0641 - val_mae: 0.9543\n",
      "Epoch 14/100\n",
      "50/50 [==============================] - 6s 124ms/step - loss: 0.6169 - mae: 0.6966 - val_loss: 0.3995 - val_mae: 0.5161\n",
      "Epoch 15/100\n",
      "50/50 [==============================] - 7s 131ms/step - loss: 0.2403 - mae: 0.3995 - val_loss: 0.2420 - val_mae: 0.3649\n",
      "Epoch 16/100\n",
      "50/50 [==============================] - 7s 130ms/step - loss: 0.1674 - mae: 0.3126 - val_loss: 0.2219 - val_mae: 0.3349\n",
      "Epoch 17/100\n",
      "50/50 [==============================] - 7s 147ms/step - loss: 0.1593 - mae: 0.2979 - val_loss: 0.2199 - val_mae: 0.3314\n",
      "Epoch 18/100\n",
      "50/50 [==============================] - 6s 125ms/step - loss: 0.1581 - mae: 0.2958 - val_loss: 0.2194 - val_mae: 0.3307\n",
      "Epoch 19/100\n",
      "50/50 [==============================] - 6s 127ms/step - loss: 0.1576 - mae: 0.2952 - val_loss: 0.2191 - val_mae: 0.3304\n",
      "Epoch 20/100\n",
      "50/50 [==============================] - 7s 131ms/step - loss: 0.1572 - mae: 0.2944 - val_loss: 0.2183 - val_mae: 0.3300\n",
      "Epoch 21/100\n",
      "50/50 [==============================] - 6s 119ms/step - loss: 0.1567 - mae: 0.2940 - val_loss: 0.2179 - val_mae: 0.3299\n",
      "Epoch 22/100\n",
      "50/50 [==============================] - 6s 119ms/step - loss: 0.1563 - mae: 0.2936 - val_loss: 0.2173 - val_mae: 0.3295\n",
      "Epoch 23/100\n",
      "50/50 [==============================] - 6s 120ms/step - loss: 0.1557 - mae: 0.2928 - val_loss: 0.2166 - val_mae: 0.3291\n",
      "Epoch 24/100\n",
      "50/50 [==============================] - 6s 121ms/step - loss: 0.1553 - mae: 0.2923 - val_loss: 0.2158 - val_mae: 0.3287\n",
      "Epoch 25/100\n",
      "50/50 [==============================] - 6s 119ms/step - loss: 0.1544 - mae: 0.2914 - val_loss: 0.2144 - val_mae: 0.3273\n",
      "Epoch 26/100\n",
      "50/50 [==============================] - 6s 121ms/step - loss: 0.1534 - mae: 0.2905 - val_loss: 0.2130 - val_mae: 0.3264\n",
      "Epoch 27/100\n",
      "50/50 [==============================] - 6s 130ms/step - loss: 0.1524 - mae: 0.2896 - val_loss: 0.2095 - val_mae: 0.3239\n",
      "Epoch 28/100\n",
      "50/50 [==============================] - 7s 134ms/step - loss: 0.1487 - mae: 0.2860 - val_loss: 0.1979 - val_mae: 0.3142\n",
      "Epoch 29/100\n",
      "50/50 [==============================] - 6s 130ms/step - loss: 0.1437 - mae: 0.2819 - val_loss: 0.1795 - val_mae: 0.3025\n",
      "Epoch 30/100\n",
      "50/50 [==============================] - 6s 122ms/step - loss: 0.1303 - mae: 0.2691 - val_loss: 0.1498 - val_mae: 0.2829\n",
      "Epoch 31/100\n",
      "50/50 [==============================] - 6s 122ms/step - loss: 0.1334 - mae: 0.2735 - val_loss: 0.1609 - val_mae: 0.2876\n",
      "Epoch 32/100\n",
      "50/50 [==============================] - 6s 126ms/step - loss: 0.1234 - mae: 0.2624 - val_loss: 0.1415 - val_mae: 0.2729\n",
      "Epoch 33/100\n",
      "50/50 [==============================] - 6s 122ms/step - loss: 0.1205 - mae: 0.2593 - val_loss: 0.1362 - val_mae: 0.2702\n",
      "Epoch 34/100\n",
      "50/50 [==============================] - 6s 127ms/step - loss: 0.1183 - mae: 0.2566 - val_loss: 0.1320 - val_mae: 0.2661\n",
      "Epoch 35/100\n",
      "50/50 [==============================] - 6s 124ms/step - loss: 0.1157 - mae: 0.2535 - val_loss: 0.1249 - val_mae: 0.2620\n",
      "Epoch 36/100\n",
      "50/50 [==============================] - 6s 128ms/step - loss: 0.1140 - mae: 0.2512 - val_loss: 0.1219 - val_mae: 0.2578\n",
      "Epoch 37/100\n",
      "50/50 [==============================] - 6s 122ms/step - loss: 0.1130 - mae: 0.2490 - val_loss: 0.1273 - val_mae: 0.2579\n",
      "Epoch 38/100\n",
      "50/50 [==============================] - 7s 137ms/step - loss: 0.1127 - mae: 0.2488 - val_loss: 0.1233 - val_mae: 0.2516\n",
      "Epoch 39/100\n",
      "50/50 [==============================] - 7s 135ms/step - loss: 0.1087 - mae: 0.2426 - val_loss: 0.1292 - val_mae: 0.2568\n",
      "Epoch 40/100\n",
      "50/50 [==============================] - 7s 142ms/step - loss: 0.1078 - mae: 0.2412 - val_loss: 0.1202 - val_mae: 0.2435\n",
      "Epoch 41/100\n",
      "50/50 [==============================] - 7s 140ms/step - loss: 0.1078 - mae: 0.2401 - val_loss: 0.1149 - val_mae: 0.2411\n",
      "Epoch 42/100\n",
      "50/50 [==============================] - 7s 143ms/step - loss: 0.1058 - mae: 0.2379 - val_loss: 0.1280 - val_mae: 0.2609\n",
      "Epoch 43/100\n",
      "50/50 [==============================] - 7s 136ms/step - loss: 0.1081 - mae: 0.2410 - val_loss: 0.1148 - val_mae: 0.2415\n",
      "Epoch 44/100\n",
      "50/50 [==============================] - 6s 124ms/step - loss: 0.1104 - mae: 0.2435 - val_loss: 0.1291 - val_mae: 0.2533\n",
      "Epoch 45/100\n",
      "50/50 [==============================] - 6s 125ms/step - loss: 0.1089 - mae: 0.2431 - val_loss: 0.1209 - val_mae: 0.2443\n",
      "Epoch 46/100\n",
      "50/50 [==============================] - 6s 122ms/step - loss: 0.1092 - mae: 0.2426 - val_loss: 0.1161 - val_mae: 0.2336\n",
      "Epoch 47/100\n",
      "50/50 [==============================] - 8s 153ms/step - loss: 0.1049 - mae: 0.2369 - val_loss: 0.1207 - val_mae: 0.2358\n",
      "Epoch 48/100\n",
      "50/50 [==============================] - 7s 148ms/step - loss: 0.1072 - mae: 0.2404 - val_loss: 0.1153 - val_mae: 0.2394\n",
      "Epoch 49/100\n",
      "50/50 [==============================] - 7s 137ms/step - loss: 0.1115 - mae: 0.2465 - val_loss: 0.1327 - val_mae: 0.2649\n",
      "Epoch 50/100\n",
      "50/50 [==============================] - 6s 127ms/step - loss: 0.1096 - mae: 0.2445 - val_loss: 0.1263 - val_mae: 0.2545\n",
      "Epoch 51/100\n",
      "50/50 [==============================] - 7s 146ms/step - loss: 0.1071 - mae: 0.2402 - val_loss: 0.1301 - val_mae: 0.2597\n",
      "Epoch 52/100\n",
      "50/50 [==============================] - 7s 147ms/step - loss: 0.1069 - mae: 0.2400 - val_loss: 0.1179 - val_mae: 0.2399\n",
      "Epoch 53/100\n",
      "50/50 [==============================] - 7s 144ms/step - loss: 0.1077 - mae: 0.2407 - val_loss: 0.1297 - val_mae: 0.2570\n",
      "Epoch 54/100\n",
      "50/50 [==============================] - 8s 155ms/step - loss: 0.1107 - mae: 0.2451 - val_loss: 0.1233 - val_mae: 0.2455\n",
      "Epoch 55/100\n",
      "50/50 [==============================] - 7s 135ms/step - loss: 0.1108 - mae: 0.2447 - val_loss: 0.1169 - val_mae: 0.2385\n",
      "Epoch 56/100\n",
      "50/50 [==============================] - 6s 123ms/step - loss: 0.1051 - mae: 0.2375 - val_loss: 0.1218 - val_mae: 0.2426\n",
      "Epoch 57/100\n",
      "50/50 [==============================] - 6s 122ms/step - loss: 0.1091 - mae: 0.2431 - val_loss: 0.1213 - val_mae: 0.2491\n",
      "Epoch 58/100\n",
      "50/50 [==============================] - 6s 124ms/step - loss: 0.1057 - mae: 0.2380 - val_loss: 0.1151 - val_mae: 0.2348\n",
      "Epoch 59/100\n",
      "50/50 [==============================] - 8s 163ms/step - loss: 0.1110 - mae: 0.2460 - val_loss: 0.1589 - val_mae: 0.2803\n",
      "Epoch 60/100\n",
      "50/50 [==============================] - 8s 157ms/step - loss: 0.1130 - mae: 0.2473 - val_loss: 0.1182 - val_mae: 0.2510\n",
      "Epoch 61/100\n",
      "50/50 [==============================] - 9s 171ms/step - loss: 0.1156 - mae: 0.2529 - val_loss: 0.1143 - val_mae: 0.2434\n",
      "Epoch 62/100\n"
     ]
    },
    {
     "name": "stdout",
     "output_type": "stream",
     "text": [
      "50/50 [==============================] - 6s 120ms/step - loss: 0.1069 - mae: 0.2393 - val_loss: 0.1156 - val_mae: 0.2347\n",
      "Epoch 63/100\n",
      "50/50 [==============================] - 6s 117ms/step - loss: 0.1093 - mae: 0.2432 - val_loss: 0.1109 - val_mae: 0.2295\n",
      "Epoch 64/100\n",
      "50/50 [==============================] - 6s 119ms/step - loss: 0.1212 - mae: 0.2609 - val_loss: 0.1589 - val_mae: 0.2735\n",
      "Epoch 65/100\n",
      "50/50 [==============================] - 6s 126ms/step - loss: 0.1235 - mae: 0.2635 - val_loss: 0.1323 - val_mae: 0.2679\n",
      "Epoch 66/100\n",
      "50/50 [==============================] - 6s 128ms/step - loss: 7.0417 - mae: 1.5747 - val_loss: 2.1522 - val_mae: 1.4093\n",
      "Epoch 67/100\n",
      "50/50 [==============================] - 7s 131ms/step - loss: 1.8377 - mae: 0.8336 - val_loss: 0.2414 - val_mae: 0.3461\n",
      "Epoch 68/100\n",
      "50/50 [==============================] - 7s 134ms/step - loss: 0.1862 - mae: 0.3235 - val_loss: 0.2416 - val_mae: 0.3442\n",
      "Epoch 69/100\n",
      "50/50 [==============================] - 7s 143ms/step - loss: 0.1805 - mae: 0.3174 - val_loss: 0.2464 - val_mae: 0.3601\n",
      "Epoch 70/100\n",
      "50/50 [==============================] - 7s 147ms/step - loss: 0.1830 - mae: 0.3199 - val_loss: 0.2466 - val_mae: 0.3603\n",
      "Epoch 71/100\n",
      "50/50 [==============================] - 7s 131ms/step - loss: 0.1812 - mae: 0.3190 - val_loss: 0.2425 - val_mae: 0.3428\n",
      "Epoch 72/100\n",
      "50/50 [==============================] - 6s 128ms/step - loss: 0.1816 - mae: 0.3182 - val_loss: 0.2535 - val_mae: 0.3725\n",
      "Epoch 73/100\n",
      "50/50 [==============================] - 6s 128ms/step - loss: 0.1871 - mae: 0.3252 - val_loss: 0.2560 - val_mae: 0.3488\n",
      "Epoch 74/100\n",
      "50/50 [==============================] - 7s 142ms/step - loss: 0.1985 - mae: 0.3371 - val_loss: 0.2562 - val_mae: 0.3490\n",
      "Epoch 75/100\n",
      "50/50 [==============================] - 7s 138ms/step - loss: 0.1883 - mae: 0.3260 - val_loss: 0.2440 - val_mae: 0.3543\n",
      "Epoch 76/100\n",
      "50/50 [==============================] - 6s 129ms/step - loss: 0.1902 - mae: 0.3282 - val_loss: 0.2791 - val_mae: 0.4085\n",
      "Epoch 77/100\n",
      "50/50 [==============================] - 7s 142ms/step - loss: 0.1880 - mae: 0.3251 - val_loss: 0.2415 - val_mae: 0.3470\n",
      "Epoch 78/100\n",
      "50/50 [==============================] - 7s 139ms/step - loss: 0.2035 - mae: 0.3434 - val_loss: 0.2497 - val_mae: 0.3445\n",
      "Epoch 79/100\n",
      "50/50 [==============================] - 7s 137ms/step - loss: 0.1929 - mae: 0.3317 - val_loss: 0.2414 - val_mae: 0.3449\n",
      "Epoch 80/100\n",
      "50/50 [==============================] - 6s 126ms/step - loss: 0.1965 - mae: 0.3350 - val_loss: 0.2505 - val_mae: 0.3450\n",
      "Epoch 81/100\n",
      "50/50 [==============================] - 6s 130ms/step - loss: 0.2654 - mae: 0.4030 - val_loss: 0.3714 - val_mae: 0.5011\n",
      "Epoch 82/100\n",
      "50/50 [==============================] - 6s 123ms/step - loss: 0.2743 - mae: 0.4061 - val_loss: 0.5471 - val_mae: 0.5707\n",
      "Epoch 83/100\n",
      "50/50 [==============================] - 6s 126ms/step - loss: 1.4343 - mae: 0.9316 - val_loss: 0.3826 - val_mae: 0.5110\n",
      "Epoch 84/100\n",
      "50/50 [==============================] - 6s 124ms/step - loss: 0.2514 - mae: 0.3855 - val_loss: 0.2578 - val_mae: 0.3795\n",
      "Epoch 85/100\n",
      "50/50 [==============================] - 6s 124ms/step - loss: 0.2012 - mae: 0.3405 - val_loss: 0.2638 - val_mae: 0.3544\n",
      "Epoch 86/100\n",
      "50/50 [==============================] - 6s 123ms/step - loss: 0.1880 - mae: 0.3260 - val_loss: 0.2520 - val_mae: 0.3460\n",
      "Epoch 87/100\n",
      "50/50 [==============================] - 6s 128ms/step - loss: 0.1933 - mae: 0.3308 - val_loss: 0.3992 - val_mae: 0.5257\n",
      "Epoch 88/100\n",
      "50/50 [==============================] - 6s 125ms/step - loss: 0.8656 - mae: 0.7273 - val_loss: 0.4036 - val_mae: 0.4580\n",
      "Epoch 89/100\n",
      "50/50 [==============================] - 7s 134ms/step - loss: 0.2159 - mae: 0.3553 - val_loss: 0.2414 - val_mae: 0.3454\n",
      "Epoch 90/100\n",
      "50/50 [==============================] - 7s 138ms/step - loss: 0.1845 - mae: 0.3213 - val_loss: 0.2742 - val_mae: 0.4025\n",
      "Epoch 91/100\n",
      "50/50 [==============================] - 7s 138ms/step - loss: 0.1953 - mae: 0.3341 - val_loss: 0.2552 - val_mae: 0.3483\n",
      "Epoch 92/100\n",
      "50/50 [==============================] - 7s 137ms/step - loss: 0.1957 - mae: 0.3345 - val_loss: 0.2698 - val_mae: 0.3585\n",
      "Epoch 93/100\n",
      "50/50 [==============================] - 7s 142ms/step - loss: 0.2048 - mae: 0.3442 - val_loss: 0.2471 - val_mae: 0.3435\n",
      "Epoch 94/100\n",
      "50/50 [==============================] - 8s 158ms/step - loss: 0.1894 - mae: 0.3273 - val_loss: 0.2714 - val_mae: 0.3596\n",
      "Epoch 95/100\n",
      "50/50 [==============================] - 7s 139ms/step - loss: 0.1909 - mae: 0.3294 - val_loss: 0.3366 - val_mae: 0.4088\n",
      "Epoch 96/100\n",
      "50/50 [==============================] - 9s 186ms/step - loss: 0.2626 - mae: 0.3988 - val_loss: 0.2443 - val_mae: 0.3552\n",
      "Epoch 97/100\n",
      "50/50 [==============================] - 9s 172ms/step - loss: 0.1882 - mae: 0.3277 - val_loss: 0.2624 - val_mae: 0.3867\n",
      "Epoch 98/100\n",
      "50/50 [==============================] - 7s 143ms/step - loss: 0.1858 - mae: 0.3243 - val_loss: 0.2437 - val_mae: 0.3427\n",
      "Epoch 99/100\n",
      "50/50 [==============================] - 9s 179ms/step - loss: 0.1875 - mae: 0.3262 - val_loss: 0.2424 - val_mae: 0.3429\n",
      "Epoch 100/100\n",
      "50/50 [==============================] - 6s 127ms/step - loss: 0.1980 - mae: 0.3366 - val_loss: 0.2526 - val_mae: 0.3465\n"
     ]
    }
   ],
   "source": [
    "history=model.fit(X_train,y_train, validation_data = (X_test, y_test), \n",
    "                batch_size = 128, epochs=50, callbacks = [lr_schedule])\n"
   ]
  },
  {
   "cell_type": "code",
   "execution_count": 9,
   "metadata": {},
   "outputs": [
    {
     "data": {
      "text/plain": [
       "[<matplotlib.lines.Line2D at 0x2d586d511c0>]"
      ]
     },
     "execution_count": 9,
     "metadata": {},
     "output_type": "execute_result"
    },
    {
     "data": {
      "image/png": "[encoded data removed]",
      "text/plain": [
       "<Figure size 432x288 with 1 Axes>"
      ]
     },
     "metadata": {
      "needs_background": "light"
     },
     "output_type": "display_data"
    }
   ],
   "source": [
    "lrs = 1e-5 * (10 ** (np.arange(100) / 20))\n",
    "plt.semilogx(lrs, history.history[\"loss\"])"
   ]
  },
  {
   "cell_type": "code",
   "execution_count": 10,
   "metadata": {},
   "outputs": [
    {
     "data": {
      "text/plain": [
       "[<matplotlib.lines.Line2D at 0x2d58ed05580>]"
      ]
     },
     "execution_count": 10,
     "metadata": {},
     "output_type": "execute_result"
    },
    {
     "data": {
      "image/png": "[encoded data removed]",
      "text/plain": [
       "<Figure size 432x288 with 1 Axes>"
      ]
     },
     "metadata": {
      "needs_background": "light"
     },
     "output_type": "display_data"
    }
   ],
   "source": [
    "plt.plot(range(1, len(history.history[\"loss\"])), history.history[\"loss\"][1:])"
   ]
  },
  {
   "cell_type": "code",
   "execution_count": 8,
   "metadata": {},
   "outputs": [
    {
     "name": "stdout",
     "output_type": "stream",
     "text": [
      "Train on 12424 samples, validate on 319 samples\n",
      "Epoch 1/100\n",
      "12424/12424 [==============================] - 3s 253us/sample - loss: 64.1464 - mae: 7.9943 - val_loss: 56.4359 - val_mae: 7.4985\n",
      "Epoch 2/100\n",
      "12424/12424 [==============================] - 2s 185us/sample - loss: 46.8545 - mae: 6.8192 - val_loss: 36.3683 - val_mae: 6.0134\n",
      "Epoch 3/100\n",
      "12424/12424 [==============================] - 2s 186us/sample - loss: 29.4815 - mae: 5.4011 - val_loss: 22.8278 - val_mae: 4.7550\n",
      "Epoch 4/100\n",
      "12424/12424 [==============================] - 2s 191us/sample - loss: 18.3071 - mae: 4.2445 - val_loss: 13.7061 - val_mae: 3.6714\n",
      "Epoch 5/100\n",
      "12424/12424 [==============================] - 2s 192us/sample - loss: 10.9034 - mae: 3.2620 - val_loss: 8.0397 - val_mae: 2.7942\n",
      "Epoch 6/100\n",
      "12424/12424 [==============================] - 3s 216us/sample - loss: 6.2774 - mae: 2.4534 - val_loss: 4.4268 - val_mae: 2.0499\n",
      "Epoch 7/100\n",
      "12424/12424 [==============================] - 3s 235us/sample - loss: 3.3446 - mae: 1.7603 - val_loss: 2.2419 - val_mae: 1.4215\n",
      "Epoch 8/100\n",
      "12424/12424 [==============================] - 3s 230us/sample - loss: 1.5860 - mae: 1.1728 - val_loss: 1.0093 - val_mae: 0.9202\n",
      "Epoch 9/100\n",
      "12424/12424 [==============================] - 3s 235us/sample - loss: 0.7568 - mae: 0.7840 - val_loss: 0.5158 - val_mae: 0.6315\n",
      "Epoch 10/100\n",
      "12424/12424 [==============================] - 3s 222us/sample - loss: 0.4044 - mae: 0.5531 - val_loss: 0.3181 - val_mae: 0.4676\n",
      "Epoch 11/100\n",
      "12424/12424 [==============================] - 3s 231us/sample - loss: 0.2670 - mae: 0.4289 - val_loss: 0.2515 - val_mae: 0.3925\n",
      "Epoch 12/100\n",
      "12424/12424 [==============================] - 3s 221us/sample - loss: 0.2194 - mae: 0.3711 - val_loss: 0.2320 - val_mae: 0.3618\n",
      "Epoch 13/100\n",
      "12424/12424 [==============================] - 3s 219us/sample - loss: 0.2028 - mae: 0.3463 - val_loss: 0.2248 - val_mae: 0.3489\n",
      "Epoch 14/100\n",
      "12424/12424 [==============================] - 3s 224us/sample - loss: 0.1942 - mae: 0.3335 - val_loss: 0.2177 - val_mae: 0.3406\n",
      "Epoch 15/100\n",
      "12424/12424 [==============================] - 3s 225us/sample - loss: 0.1855 - mae: 0.3239 - val_loss: 0.2092 - val_mae: 0.3336\n",
      "Epoch 16/100\n",
      "12424/12424 [==============================] - 3s 236us/sample - loss: 0.1782 - mae: 0.3159 - val_loss: 0.2032 - val_mae: 0.3281\n",
      "Epoch 17/100\n",
      "12424/12424 [==============================] - 3s 279us/sample - loss: 0.1727 - mae: 0.3104 - val_loss: 0.1982 - val_mae: 0.3233\n",
      "Epoch 18/100\n",
      "12424/12424 [==============================] - 3s 259us/sample - loss: 0.1677 - mae: 0.3053 - val_loss: 0.1933 - val_mae: 0.3189\n",
      "Epoch 19/100\n",
      "12424/12424 [==============================] - 3s 255us/sample - loss: 0.1630 - mae: 0.3007 - val_loss: 0.1886 - val_mae: 0.3154\n",
      "Epoch 20/100\n",
      "12424/12424 [==============================] - 3s 237us/sample - loss: 0.1590 - mae: 0.2970 - val_loss: 0.1858 - val_mae: 0.3131\n",
      "Epoch 21/100\n",
      "12424/12424 [==============================] - 3s 216us/sample - loss: 0.1572 - mae: 0.2946 - val_loss: 0.1855 - val_mae: 0.3128\n",
      "Epoch 22/100\n",
      "12424/12424 [==============================] - 3s 215us/sample - loss: 0.1567 - mae: 0.2937 - val_loss: 0.1852 - val_mae: 0.3128\n",
      "Epoch 23/100\n",
      "12424/12424 [==============================] - 3s 216us/sample - loss: 0.1566 - mae: 0.2933 - val_loss: 0.1850 - val_mae: 0.3127\n",
      "Epoch 24/100\n",
      "12424/12424 [==============================] - 3s 245us/sample - loss: 0.1564 - mae: 0.2931 - val_loss: 0.1848 - val_mae: 0.3127\n",
      "Epoch 25/100\n",
      "12424/12424 [==============================] - 3s 222us/sample - loss: 0.1563 - mae: 0.2930 - val_loss: 0.1848 - val_mae: 0.3124\n",
      "Epoch 26/100\n",
      "12424/12424 [==============================] - 3s 224us/sample - loss: 0.1560 - mae: 0.2927 - val_loss: 0.1843 - val_mae: 0.3121\n",
      "Epoch 27/100\n",
      "12424/12424 [==============================] - 3s 230us/sample - loss: 0.1556 - mae: 0.2925 - val_loss: 0.1838 - val_mae: 0.3115\n",
      "Epoch 28/100\n",
      "12424/12424 [==============================] - 3s 235us/sample - loss: 0.1551 - mae: 0.2919 - val_loss: 0.1831 - val_mae: 0.3107\n",
      "Epoch 29/100\n",
      "12424/12424 [==============================] - 3s 234us/sample - loss: 0.1545 - mae: 0.2915 - val_loss: 0.1814 - val_mae: 0.3091\n",
      "Epoch 30/100\n",
      "12424/12424 [==============================] - 3s 225us/sample - loss: 0.1533 - mae: 0.2905 - val_loss: 0.1807 - val_mae: 0.3083\n",
      "Epoch 31/100\n",
      "12424/12424 [==============================] - 3s 222us/sample - loss: 0.1523 - mae: 0.2894 - val_loss: 0.1790 - val_mae: 0.3072\n",
      "Epoch 32/100\n",
      "12424/12424 [==============================] - 3s 221us/sample - loss: 0.1512 - mae: 0.2883 - val_loss: 0.1770 - val_mae: 0.3050\n",
      "Epoch 33/100\n",
      "12424/12424 [==============================] - 3s 222us/sample - loss: 0.1495 - mae: 0.2866 - val_loss: 0.1750 - val_mae: 0.3031\n",
      "Epoch 34/100\n",
      "12424/12424 [==============================] - 3s 237us/sample - loss: 0.1479 - mae: 0.2848 - val_loss: 0.1726 - val_mae: 0.3008\n",
      "Epoch 35/100\n",
      "12424/12424 [==============================] - 3s 238us/sample - loss: 0.1461 - mae: 0.2830 - val_loss: 0.1704 - val_mae: 0.2986\n",
      "Epoch 36/100\n",
      "12424/12424 [==============================] - 3s 247us/sample - loss: 0.1444 - mae: 0.2812 - val_loss: 0.1672 - val_mae: 0.2990\n",
      "Epoch 37/100\n",
      "12424/12424 [==============================] - 3s 234us/sample - loss: 0.1425 - mae: 0.2792 - val_loss: 0.1642 - val_mae: 0.2934\n",
      "Epoch 38/100\n",
      "12424/12424 [==============================] - 3s 250us/sample - loss: 0.1410 - mae: 0.2773 - val_loss: 0.1626 - val_mae: 0.2911\n",
      "Epoch 39/100\n",
      "12424/12424 [==============================] - 3s 236us/sample - loss: 0.1386 - mae: 0.2750 - val_loss: 0.1607 - val_mae: 0.2883\n",
      "Epoch 40/100\n",
      "12424/12424 [==============================] - 3s 259us/sample - loss: 0.1356 - mae: 0.2717 - val_loss: 0.1544 - val_mae: 0.2831\n",
      "Epoch 41/100\n",
      "12424/12424 [==============================] - 3s 279us/sample - loss: 0.1275 - mae: 0.2645 - val_loss: 0.1356 - val_mae: 0.2661\n",
      "Epoch 42/100\n",
      "12424/12424 [==============================] - 3s 267us/sample - loss: 0.1186 - mae: 0.2555 - val_loss: 0.1204 - val_mae: 0.2530\n",
      "Epoch 43/100\n",
      "12424/12424 [==============================] - 3s 265us/sample - loss: 0.1154 - mae: 0.2523 - val_loss: 0.1193 - val_mae: 0.2516\n",
      "Epoch 44/100\n",
      "12424/12424 [==============================] - 3s 231us/sample - loss: 0.1137 - mae: 0.2502 - val_loss: 0.1149 - val_mae: 0.2472\n",
      "Epoch 45/100\n",
      "12424/12424 [==============================] - 3s 244us/sample - loss: 0.1126 - mae: 0.2489 - val_loss: 0.1137 - val_mae: 0.2456\n",
      "Epoch 46/100\n",
      "12424/12424 [==============================] - 3s 259us/sample - loss: 0.1119 - mae: 0.2479 - val_loss: 0.1121 - val_mae: 0.2445\n",
      "Epoch 47/100\n",
      "12424/12424 [==============================] - 3s 269us/sample - loss: 0.1117 - mae: 0.2475 - val_loss: 0.1124 - val_mae: 0.2442\n",
      "Epoch 48/100\n",
      "12424/12424 [==============================] - 4s 284us/sample - loss: 0.1110 - mae: 0.2466 - val_loss: 0.1108 - val_mae: 0.2424\n",
      "Epoch 49/100\n",
      "12424/12424 [==============================] - 3s 258us/sample - loss: 0.1104 - mae: 0.2457 - val_loss: 0.1099 - val_mae: 0.2421\n",
      "Epoch 50/100\n",
      "12424/12424 [==============================] - 3s 254us/sample - loss: 0.1100 - mae: 0.2452 - val_loss: 0.1103 - val_mae: 0.2420\n",
      "Epoch 51/100\n",
      "12424/12424 [==============================] - 3s 252us/sample - loss: 0.1098 - mae: 0.2451 - val_loss: 0.1117 - val_mae: 0.2433\n",
      "Epoch 52/100\n",
      "12424/12424 [==============================] - 3s 247us/sample - loss: 0.1094 - mae: 0.2443 - val_loss: 0.1094 - val_mae: 0.2410\n",
      "Epoch 53/100\n",
      "12424/12424 [==============================] - 3s 245us/sample - loss: 0.1092 - mae: 0.2442 - val_loss: 0.1082 - val_mae: 0.2394\n",
      "Epoch 54/100\n",
      "12424/12424 [==============================] - 3s 245us/sample - loss: 0.1090 - mae: 0.2434 - val_loss: 0.1078 - val_mae: 0.2388\n",
      "Epoch 55/100\n",
      "12424/12424 [==============================] - 3s 246us/sample - loss: 0.1085 - mae: 0.2429 - val_loss: 0.1069 - val_mae: 0.2385\n",
      "Epoch 56/100\n",
      "12424/12424 [==============================] - 3s 244us/sample - loss: 0.1085 - mae: 0.2427 - val_loss: 0.1079 - val_mae: 0.2391\n",
      "Epoch 57/100\n",
      "12424/12424 [==============================] - 3s 244us/sample - loss: 0.1082 - mae: 0.2424 - val_loss: 0.1063 - val_mae: 0.2380\n",
      "Epoch 58/100\n",
      "12424/12424 [==============================] - 3s 245us/sample - loss: 0.1079 - mae: 0.2420 - val_loss: 0.1067 - val_mae: 0.2376\n",
      "Epoch 59/100\n",
      "12424/12424 [==============================] - 3s 244us/sample - loss: 0.1078 - mae: 0.2418 - val_loss: 0.1068 - val_mae: 0.2376\n",
      "Epoch 60/100\n",
      "12424/12424 [==============================] - 3s 246us/sample - loss: 0.1078 - mae: 0.2417 - val_loss: 0.1058 - val_mae: 0.2369\n",
      "Epoch 61/100\n",
      "12424/12424 [==============================] - 3s 252us/sample - loss: 0.1075 - mae: 0.2416 - val_loss: 0.1077 - val_mae: 0.2434\n",
      "Epoch 62/100\n",
      "12424/12424 [==============================] - 3s 244us/sample - loss: 0.1075 - mae: 0.2412 - val_loss: 0.1047 - val_mae: 0.2373\n",
      "Epoch 63/100\n",
      "12424/12424 [==============================] - 3s 248us/sample - loss: 0.1068 - mae: 0.2404 - val_loss: 0.1037 - val_mae: 0.2383\n",
      "Epoch 64/100\n",
      "12424/12424 [==============================] - 3s 255us/sample - loss: 0.1069 - mae: 0.2408 - val_loss: 0.1035 - val_mae: 0.2373\n",
      "Epoch 65/100\n",
      "12424/12424 [==============================] - 3s 213us/sample - loss: 0.1067 - mae: 0.2401 - val_loss: 0.1033 - val_mae: 0.2364\n",
      "Epoch 66/100\n",
      "12424/12424 [==============================] - 2s 197us/sample - loss: 0.1065 - mae: 0.2398 - val_loss: 0.1039 - val_mae: 0.2378\n",
      "Epoch 67/100\n",
      "12424/12424 [==============================] - 3s 233us/sample - loss: 0.1065 - mae: 0.2397 - val_loss: 0.1038 - val_mae: 0.2353\n",
      "Epoch 68/100\n",
      "12424/12424 [==============================] - 3s 219us/sample - loss: 0.1062 - mae: 0.2394 - val_loss: 0.1048 - val_mae: 0.2361\n",
      "Epoch 69/100\n",
      "12424/12424 [==============================] - 3s 220us/sample - loss: 0.1061 - mae: 0.2388 - val_loss: 0.1029 - val_mae: 0.2358\n",
      "Epoch 70/100\n",
      "12424/12424 [==============================] - 3s 215us/sample - loss: 0.1062 - mae: 0.2390 - val_loss: 0.1041 - val_mae: 0.2387\n",
      "Epoch 71/100\n",
      "12424/12424 [==============================] - 3s 212us/sample - loss: 0.1060 - mae: 0.2387 - val_loss: 0.1032 - val_mae: 0.2343\n",
      "Epoch 72/100\n",
      "12424/12424 [==============================] - 3s 216us/sample - loss: 0.1057 - mae: 0.2384 - val_loss: 0.1029 - val_mae: 0.2339\n",
      "Epoch 73/100\n",
      "12424/12424 [==============================] - 3s 217us/sample - loss: 0.1059 - mae: 0.2387 - val_loss: 0.1026 - val_mae: 0.2337\n",
      "Epoch 74/100\n",
      "12424/12424 [==============================] - 3s 218us/sample - loss: 0.1057 - mae: 0.2382 - val_loss: 0.1025 - val_mae: 0.2338\n",
      "Epoch 75/100\n",
      "12424/12424 [==============================] - 3s 217us/sample - loss: 0.1056 - mae: 0.2380 - val_loss: 0.1027 - val_mae: 0.2336\n",
      "Epoch 76/100\n",
      "12424/12424 [==============================] - 3s 215us/sample - loss: 0.1054 - mae: 0.2375 - val_loss: 0.1034 - val_mae: 0.2340\n",
      "Epoch 77/100\n",
      "12424/12424 [==============================] - 3s 218us/sample - loss: 0.1057 - mae: 0.2378 - val_loss: 0.1023 - val_mae: 0.2334\n",
      "Epoch 78/100\n",
      "12424/12424 [==============================] - 3s 217us/sample - loss: 0.1053 - mae: 0.2375 - val_loss: 0.1060 - val_mae: 0.2365\n",
      "Epoch 79/100\n",
      "12424/12424 [==============================] - 3s 216us/sample - loss: 0.1054 - mae: 0.2374 - val_loss: 0.1028 - val_mae: 0.2332\n",
      "Epoch 80/100\n",
      "12424/12424 [==============================] - 3s 216us/sample - loss: 0.1052 - mae: 0.2372 - val_loss: 0.1036 - val_mae: 0.2338\n",
      "Epoch 81/100\n",
      "12424/12424 [==============================] - 3s 215us/sample - loss: 0.1052 - mae: 0.2371 - val_loss: 0.1026 - val_mae: 0.2338\n",
      "Epoch 82/100\n",
      "12424/12424 [==============================] - 3s 216us/sample - loss: 0.1050 - mae: 0.2369 - val_loss: 0.1056 - val_mae: 0.2352\n",
      "Epoch 83/100\n",
      "12424/12424 [==============================] - 3s 220us/sample - loss: 0.1058 - mae: 0.2379 - val_loss: 0.1032 - val_mae: 0.2334\n",
      "Epoch 84/100\n",
      "12424/12424 [==============================] - 3s 225us/sample - loss: 0.1049 - mae: 0.2363 - val_loss: 0.1016 - val_mae: 0.2324\n",
      "Epoch 85/100\n",
      "12424/12424 [==============================] - 3s 228us/sample - loss: 0.1049 - mae: 0.2365 - val_loss: 0.1018 - val_mae: 0.2327\n",
      "Epoch 86/100\n",
      "12424/12424 [==============================] - 3s 215us/sample - loss: 0.1047 - mae: 0.2363 - val_loss: 0.1021 - val_mae: 0.2326\n",
      "Epoch 87/100\n",
      "12424/12424 [==============================] - 3s 222us/sample - loss: 0.1048 - mae: 0.2359 - val_loss: 0.1015 - val_mae: 0.2328\n",
      "Epoch 88/100\n",
      "12424/12424 [==============================] - 3s 221us/sample - loss: 0.1047 - mae: 0.2360 - val_loss: 0.1017 - val_mae: 0.2327\n",
      "Epoch 89/100\n",
      "12424/12424 [==============================] - 3s 232us/sample - loss: 0.1046 - mae: 0.2358 - val_loss: 0.1013 - val_mae: 0.2321\n",
      "Epoch 90/100\n",
      "12424/12424 [==============================] - 3s 223us/sample - loss: 0.1046 - mae: 0.2358 - val_loss: 0.1025 - val_mae: 0.2328\n",
      "Epoch 91/100\n",
      "12424/12424 [==============================] - 3s 218us/sample - loss: 0.1045 - mae: 0.2357 - val_loss: 0.1015 - val_mae: 0.2319\n",
      "Epoch 92/100\n",
      "12424/12424 [==============================] - 3s 221us/sample - loss: 0.1043 - mae: 0.2353 - val_loss: 0.1024 - val_mae: 0.2326\n",
      "Epoch 93/100\n",
      "12424/12424 [==============================] - 3s 215us/sample - loss: 0.1045 - mae: 0.2354 - val_loss: 0.1017 - val_mae: 0.2327\n",
      "Epoch 94/100\n",
      "12424/12424 [==============================] - 3s 213us/sample - loss: 0.1043 - mae: 0.2354 - val_loss: 0.1018 - val_mae: 0.2323\n",
      "Epoch 95/100\n",
      "12424/12424 [==============================] - 3s 212us/sample - loss: 0.1042 - mae: 0.2352 - val_loss: 0.1035 - val_mae: 0.2339\n",
      "Epoch 96/100\n",
      "12424/12424 [==============================] - 3s 216us/sample - loss: 0.1040 - mae: 0.2349 - val_loss: 0.1013 - val_mae: 0.2320\n",
      "Epoch 97/100\n",
      "12424/12424 [==============================] - 3s 225us/sample - loss: 0.1042 - mae: 0.2347 - val_loss: 0.1013 - val_mae: 0.2323\n",
      "Epoch 98/100\n",
      "12424/12424 [==============================] - 3s 220us/sample - loss: 0.1041 - mae: 0.2349 - val_loss: 0.1019 - val_mae: 0.2352\n",
      "Epoch 99/100\n",
      "12424/12424 [==============================] - 3s 225us/sample - loss: 0.1039 - mae: 0.2349 - val_loss: 0.1038 - val_mae: 0.2350\n",
      "Epoch 100/100\n",
      "12424/12424 [==============================] - 3s 235us/sample - loss: 0.1041 - mae: 0.2348 - val_loss: 0.1012 - val_mae: 0.2327\n"
     ]
    }
   ],
   "source": [
    "tf.random.set_seed(0)\n",
    "model1 = tf.keras.models.Sequential([\n",
    "    tf.keras.layers.Lambda(lambda x: tf.expand_dims(x, axis = -1), input_shape = [None]),\n",
    "    tf.keras.layers.Conv1D(filters = 32, kernel_size = 5, strides = 1, padding = 'same', activation = 'relu'),\n",
    "    #tf.keras.layers.Lambda(lambda x: tf.expand_dims(x, axis = -1)),\n",
    "    tf.keras.layers.LSTM(32, return_sequences = True),\n",
    "    tf.keras.layers.LSTM(16),\n",
    "    #tf.keras.layers.SimpleRNN(40, return_sequences = True),\n",
    "    #tf.keras.layers.SimpleRNN(20),\n",
    "    tf.keras.layers.Dense(10, activation = 'relu'),\n",
    "    tf.keras.layers.Dense(5,activation = 'relu'),\n",
    "    tf.keras.layers.Dense(1)])\n",
    "model1.compile(loss = 'mse', optimizer = tf.keras.optimizers.Adam(learning_rate = 5e-5), metrics = ['mae'])\n",
    "history1 = model1.fit(X_train,y_train, validation_data = (X_test, y_test), epochs=100, batch_size = 64)"
   ]
  },
  {
   "cell_type": "code",
   "execution_count": 9,
   "metadata": {},
   "outputs": [
    {
     "data": {
      "text/plain": [
       "(array([[8.593707],\n",
       "        [8.417801],\n",
       "        [8.381887],\n",
       "        [7.864384],\n",
       "        [7.711547]], dtype=float32),\n",
       " array([[8.54500289],\n",
       "        [8.37047041],\n",
       "        [8.69484149],\n",
       "        [7.71760729],\n",
       "        [7.7403941 ]]))"
      ]
     },
     "execution_count": 9,
     "metadata": {},
     "output_type": "execute_result"
    }
   ],
   "source": [
    "predictions = model1.predict(X_test)\n",
    "predictions[:5], y_test.to_numpy()[:5]"
   ]
  },
  {
   "cell_type": "code",
   "execution_count": 10,
   "metadata": {},
   "outputs": [
    {
     "data": {
      "text/plain": [
       "(0.10117423587019198, 0.23267485336582064)"
      ]
     },
     "execution_count": 10,
     "metadata": {},
     "output_type": "execute_result"
    }
   ],
   "source": [
    "from sklearn.metrics import mean_squared_error, mean_absolute_error\n",
    "mean_squared_error(predictions, y_test), mean_absolute_error(predictions, y_test)"
   ]
  },
  {
   "cell_type": "code",
   "execution_count": 11,
   "metadata": {},
   "outputs": [
    {
     "data": {
      "text/plain": [
       "[<matplotlib.lines.Line2D at 0x207be802288>]"
      ]
     },
     "execution_count": 11,
     "metadata": {},
     "output_type": "execute_result"
    },
    {
     "data": {
      "image/png": "[encoded data removed]",
      "text/plain": [
       "<Figure size 432x288 with 1 Axes>"
      ]
     },
     "metadata": {
      "needs_background": "light"
     },
     "output_type": "display_data"
    }
   ],
   "source": [
    "plt.plot(range(1, len(history.history[\"loss\"])), history.history[\"loss\"][1:])\n",
    "plt.plot(range(1, len(history.history[\"val_loss\"])), history.history[\"val_loss\"][1:])"
   ]
  },
  {
   "cell_type": "code",
   "execution_count": 12,
   "metadata": {},
   "outputs": [],
   "source": [
    "sq_ftt = X_test.head(10)\n",
    "sqr_ft = sq_ftt['living_area_m2']"
   ]
  },
  {
   "cell_type": "code",
   "execution_count": 13,
   "metadata": {},
   "outputs": [
    {
     "name": "stdout",
     "output_type": "stream",
     "text": [
      "true [505103.25009856]\n",
      "pred [530312.81884788]\n",
      "true [263377.66665733]\n",
      "pred [276143.1769676]\n",
      "true [311023.10593111]\n",
      "pred [227446.06990606]\n",
      "true [494466.57537998]\n",
      "pred [572639.53865109]\n",
      "true [427684.37845084]\n",
      "pred [415523.13510674]\n",
      "true [382740.51652174]\n",
      "pred [375099.37838924]\n",
      "true [258931.78743056]\n",
      "pred [331610.82022896]\n",
      "true [457060.51131931]\n",
      "pred [285090.92620771]\n",
      "true [459640.83683441]\n",
      "pred [547249.03708035]\n",
      "true [806948.48014018]\n",
      "pred [504201.87983239]\n"
     ]
    }
   ],
   "source": [
    "p = predictions[:10]\n",
    "p = p.tolist()\n",
    "y_test = y_test[:10]\n",
    "\n",
    "y_t = y_test.to_numpy().tolist()\n",
    "y_t, p\n",
    "for i, j, k in zip(y_t, sqr_ft, p):\n",
    "    print('true',np.exp(i) * np.exp(j))\n",
    "    print('pred',np.exp(k) * np.exp(j))"
   ]
  },
  {
   "cell_type": "code",
   "execution_count": 1,
   "metadata": {},
   "outputs": [
    {
     "ename": "NameError",
     "evalue": "name 'model1' is not defined",
     "output_type": "error",
     "traceback": [
      "\u001b[1;31m---------------------------------------------------------------------------\u001b[0m",
      "\u001b[1;31mNameError\u001b[0m                                 Traceback (most recent call last)",
      "\u001b[1;32m<ipython-input-1-1948b5cfee7a>\u001b[0m in \u001b[0;36m<module>\u001b[1;34m\u001b[0m\n\u001b[1;32m----> 1\u001b[1;33m \u001b[0mscore\u001b[0m \u001b[1;33m=\u001b[0m \u001b[0mmodel1\u001b[0m\u001b[1;33m.\u001b[0m\u001b[0mpredict\u001b[0m\u001b[1;33m(\u001b[0m\u001b[1;33m[\u001b[0m\u001b[1;33m[\u001b[0m\u001b[1;36m2.0\u001b[0m\u001b[1;33m,\u001b[0m \u001b[1;36m2.0\u001b[0m\u001b[1;33m,\u001b[0m \u001b[1;36m2.0\u001b[0m\u001b[1;33m,\u001b[0m \u001b[1;36m2.0\u001b[0m\u001b[1;33m,\u001b[0m \u001b[1;36m12209.0\u001b[0m\u001b[1;33m,\u001b[0m \u001b[1;36m2.0\u001b[0m\u001b[1;33m,\u001b[0m \u001b[1;36m1.0\u001b[0m\u001b[1;33m,\u001b[0m \u001b[1;36m2.0\u001b[0m\u001b[1;33m,\u001b[0m \u001b[1;36m1.0\u001b[0m\u001b[1;33m,\u001b[0m \u001b[1;36m1.0\u001b[0m\u001b[1;33m,\u001b[0m \u001b[1;36m1.0\u001b[0m\u001b[1;33m,\u001b[0m \u001b[1;36m1980.0\u001b[0m\u001b[1;33m,\u001b[0m \u001b[1;36m4.04\u001b[0m\u001b[1;33m]\u001b[0m\u001b[1;33m]\u001b[0m\u001b[1;33m)\u001b[0m\u001b[1;33m\u001b[0m\u001b[1;33m\u001b[0m\u001b[0m\n\u001b[0m\u001b[0;32m      2\u001b[0m \u001b[0mscore\u001b[0m\u001b[1;33m\u001b[0m\u001b[1;33m\u001b[0m\u001b[0m\n",
      "\u001b[1;31mNameError\u001b[0m: name 'model1' is not defined"
     ]
    }
   ],
   "source": [
    "score = model1.predict([[2.0, 2.0, 2.0, 2.0, 12209.0, 2.0, 1.0, 2.0, 1.0, 1.0, 1.0, 1980.0, 4.04]])\n",
    "score"
   ]
  },
  {
   "cell_type": "code",
   "execution_count": null,
   "metadata": {},
   "outputs": [],
   "source": []
  }
 ],
 "metadata": {
  "kernelspec": {
   "display_name": "Python 3",
   "language": "python",
   "name": "python3"
  },
  "language_info": {
   "codemirror_mode": {
    "name": "ipython",
    "version": 3
   },
   "file_extension": ".py",
   "mimetype": "text/x-python",
   "name": "python",
   "nbconvert_exporter": "python",
   "pygments_lexer": "ipython3",
   "version": "3.8.8"
  }
 },
 "nbformat": 4,
 "nbformat_minor": 4
}
