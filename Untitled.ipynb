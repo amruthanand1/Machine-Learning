{
 "cells": [
  {
   "cell_type": "code",
   "execution_count": 1,
   "metadata": {},
   "outputs": [],
   "source": [
    "import numpy as np\n",
    "import pandas as pd\n",
    "import matplotlib.pyplot as plt\n",
    "import seaborn as sns\n",
    "from scipy import stats"
   ]
  },
  {
   "cell_type": "code",
   "execution_count": 2,
   "metadata": {},
   "outputs": [
    {
     "data": {
      "text/html": [
       "<div>\n",
       "<style scoped>\n",
       "    .dataframe tbody tr th:only-of-type {\n",
       "        vertical-align: middle;\n",
       "    }\n",
       "\n",
       "    .dataframe tbody tr th {\n",
       "        vertical-align: top;\n",
       "    }\n",
       "\n",
       "    .dataframe thead th {\n",
       "        text-align: right;\n",
       "    }\n",
       "</style>\n",
       "<table border=\"1\" class=\"dataframe\">\n",
       "  <thead>\n",
       "    <tr style=\"text-align: right;\">\n",
       "      <th></th>\n",
       "      <th>purchase_price_1</th>\n",
       "      <th>living_space_in_m2</th>\n",
       "      <th>number_of_rooms_1</th>\n",
       "      <th>floor_1</th>\n",
       "      <th>contruction_year_1</th>\n",
       "      <th>type</th>\n",
       "      <th>terrasse</th>\n",
       "      <th>balkon</th>\n",
       "      <th>garten</th>\n",
       "      <th>Aufzug</th>\n",
       "      <th>geo_point_2d</th>\n",
       "      <th>lat</th>\n",
       "      <th>lon</th>\n",
       "      <th>pickup cluster</th>\n",
       "      <th>price_m2</th>\n",
       "    </tr>\n",
       "  </thead>\n",
       "  <tbody>\n",
       "    <tr>\n",
       "      <th>0</th>\n",
       "      <td>648000.0</td>\n",
       "      <td>84.77</td>\n",
       "      <td>3.0</td>\n",
       "      <td>6.0</td>\n",
       "      <td>2020</td>\n",
       "      <td>Etagenwohnungen</td>\n",
       "      <td>yes</td>\n",
       "      <td>yes</td>\n",
       "      <td>no</td>\n",
       "      <td>yes</td>\n",
       "      <td>(52.5073356739,13.3642508956)</td>\n",
       "      <td>0.916425</td>\n",
       "      <td>0.233251</td>\n",
       "      <td>0</td>\n",
       "      <td>7644.214</td>\n",
       "    </tr>\n",
       "    <tr>\n",
       "      <th>1</th>\n",
       "      <td>299000.0</td>\n",
       "      <td>41.27</td>\n",
       "      <td>1.0</td>\n",
       "      <td>6.0</td>\n",
       "      <td>1979</td>\n",
       "      <td>Etagenwohnungen</td>\n",
       "      <td>no</td>\n",
       "      <td>no</td>\n",
       "      <td>yes</td>\n",
       "      <td>yes</td>\n",
       "      <td>(52.5073356739,13.3642508956)</td>\n",
       "      <td>0.916425</td>\n",
       "      <td>0.233251</td>\n",
       "      <td>0</td>\n",
       "      <td>7244.972</td>\n",
       "    </tr>\n",
       "    <tr>\n",
       "      <th>2</th>\n",
       "      <td>479000.0</td>\n",
       "      <td>75.53</td>\n",
       "      <td>3.0</td>\n",
       "      <td>3.0</td>\n",
       "      <td>1979</td>\n",
       "      <td>Etagenwohnungen</td>\n",
       "      <td>no</td>\n",
       "      <td>no</td>\n",
       "      <td>yes</td>\n",
       "      <td>yes</td>\n",
       "      <td>(52.5073356739,13.3642508956)</td>\n",
       "      <td>0.916425</td>\n",
       "      <td>0.233251</td>\n",
       "      <td>0</td>\n",
       "      <td>6341.851</td>\n",
       "    </tr>\n",
       "    <tr>\n",
       "      <th>3</th>\n",
       "      <td>529000.0</td>\n",
       "      <td>70.00</td>\n",
       "      <td>2.0</td>\n",
       "      <td>1.0</td>\n",
       "      <td>1897</td>\n",
       "      <td>Etagenwohnungen</td>\n",
       "      <td>yes</td>\n",
       "      <td>yes</td>\n",
       "      <td>yes</td>\n",
       "      <td>yes</td>\n",
       "      <td>(52.5073356739,13.3642508956)</td>\n",
       "      <td>0.916425</td>\n",
       "      <td>0.233251</td>\n",
       "      <td>0</td>\n",
       "      <td>7557.143</td>\n",
       "    </tr>\n",
       "    <tr>\n",
       "      <th>4</th>\n",
       "      <td>1699000.0</td>\n",
       "      <td>169.93</td>\n",
       "      <td>4.0</td>\n",
       "      <td>1.0</td>\n",
       "      <td>1897</td>\n",
       "      <td>Penthouse</td>\n",
       "      <td>yes</td>\n",
       "      <td>yes</td>\n",
       "      <td>yes</td>\n",
       "      <td>yes</td>\n",
       "      <td>(52.5073356739,13.3642508956)</td>\n",
       "      <td>0.916425</td>\n",
       "      <td>0.233251</td>\n",
       "      <td>0</td>\n",
       "      <td>9998.235</td>\n",
       "    </tr>\n",
       "  </tbody>\n",
       "</table>\n",
       "</div>"
      ],
      "text/plain": [
       "   purchase_price_1  living_space_in_m2  number_of_rooms_1  floor_1  \\\n",
       "0          648000.0               84.77                3.0      6.0   \n",
       "1          299000.0               41.27                1.0      6.0   \n",
       "2          479000.0               75.53                3.0      3.0   \n",
       "3          529000.0               70.00                2.0      1.0   \n",
       "4         1699000.0              169.93                4.0      1.0   \n",
       "\n",
       "   contruction_year_1             type terrasse balkon garten Aufzug  \\\n",
       "0                2020  Etagenwohnungen      yes    yes     no    yes   \n",
       "1                1979  Etagenwohnungen       no     no    yes    yes   \n",
       "2                1979  Etagenwohnungen       no     no    yes    yes   \n",
       "3                1897  Etagenwohnungen      yes    yes    yes    yes   \n",
       "4                1897        Penthouse      yes    yes    yes    yes   \n",
       "\n",
       "                    geo_point_2d       lat       lon  pickup cluster  price_m2  \n",
       "0  (52.5073356739,13.3642508956)  0.916425  0.233251               0  7644.214  \n",
       "1  (52.5073356739,13.3642508956)  0.916425  0.233251               0  7244.972  \n",
       "2  (52.5073356739,13.3642508956)  0.916425  0.233251               0  6341.851  \n",
       "3  (52.5073356739,13.3642508956)  0.916425  0.233251               0  7557.143  \n",
       "4  (52.5073356739,13.3642508956)  0.916425  0.233251               0  9998.235  "
      ]
     },
     "execution_count": 2,
     "metadata": {},
     "output_type": "execute_result"
    }
   ],
   "source": [
    "data = pd.read_excel(r'F:\\amruth\\new_data.xlsx', encoding = 'iso-8859-1')\n",
    "data.head()"
   ]
  },
  {
   "cell_type": "code",
   "execution_count": 3,
   "metadata": {},
   "outputs": [
    {
     "name": "stdout",
     "output_type": "stream",
     "text": [
      "<class 'pandas.core.frame.DataFrame'>\n",
      "RangeIndex: 29906 entries, 0 to 29905\n",
      "Data columns (total 15 columns):\n",
      " #   Column              Non-Null Count  Dtype  \n",
      "---  ------              --------------  -----  \n",
      " 0   purchase_price_1    29906 non-null  float64\n",
      " 1   living_space_in_m2  29906 non-null  float64\n",
      " 2   number_of_rooms_1   29906 non-null  float64\n",
      " 3   floor_1             29906 non-null  float64\n",
      " 4   contruction_year_1  29906 non-null  int64  \n",
      " 5   type                29906 non-null  object \n",
      " 6   terrasse            29906 non-null  object \n",
      " 7   balkon              29906 non-null  object \n",
      " 8   garten              29906 non-null  object \n",
      " 9   Aufzug              29906 non-null  object \n",
      " 10  geo_point_2d        29906 non-null  object \n",
      " 11  lat                 29906 non-null  float64\n",
      " 12  lon                 29906 non-null  float64\n",
      " 13  pickup cluster      29906 non-null  int64  \n",
      " 14  price_m2            29906 non-null  float64\n",
      "dtypes: float64(7), int64(2), object(6)\n",
      "memory usage: 3.4+ MB\n"
     ]
    }
   ],
   "source": [
    "data.info()"
   ]
  },
  {
   "cell_type": "code",
   "execution_count": 5,
   "metadata": {},
   "outputs": [
    {
     "data": {
      "text/plain": [
       "array(['Etagenwohnungen', 'Penthouse', 'Erdgeschosswohnungen',\n",
       "       'Wohnungen', 'Maisonettes', 'Terrassenwohnungen',\n",
       "       'Dachgeschosswohnungen', 'Lofts', 'Rohdachböden',\n",
       "       'Attikawohnungen '], dtype=object)"
      ]
     },
     "execution_count": 5,
     "metadata": {},
     "output_type": "execute_result"
    }
   ],
   "source": [
    "data.type.unique()"
   ]
  },
  {
   "cell_type": "code",
   "execution_count": 7,
   "metadata": {},
   "outputs": [
    {
     "data": {
      "text/plain": [
       "<matplotlib.axes._subplots.AxesSubplot at 0x28bb8503908>"
      ]
     },
     "execution_count": 7,
     "metadata": {},
     "output_type": "execute_result"
    },
    {
     "data": {
      "image/png": "[encoded data removed]",
      "text/plain": [
       "<Figure size 720x360 with 1 Axes>"
      ]
     },
     "metadata": {
      "needs_background": "light"
     },
     "output_type": "display_data"
    }
   ],
   "source": [
    "fig, axes = plt.subplots(figsize = (10, 5))\n",
    "sns.boxplot(data['purchase_price_1'], ax = axes)"
   ]
  },
  {
   "cell_type": "code",
   "execution_count": 8,
   "metadata": {},
   "outputs": [
    {
     "data": {
      "text/plain": [
       "<matplotlib.axes._subplots.AxesSubplot at 0x28bb8302608>"
      ]
     },
     "execution_count": 8,
     "metadata": {},
     "output_type": "execute_result"
    },
    {
     "data": {
      "image/png": "[encoded data removed]",
      "text/plain": [
       "<Figure size 720x360 with 1 Axes>"
      ]
     },
     "metadata": {
      "needs_background": "light"
     },
     "output_type": "display_data"
    }
   ],
   "source": [
    "fig, axes = plt.subplots(figsize = (10, 5))\n",
    "sns.boxplot(data['purchase_price_1'].apply(np.log1p), ax = axes, showfliers = True, showcaps = True)"
   ]
  },
  {
   "cell_type": "code",
   "execution_count": 10,
   "metadata": {},
   "outputs": [
    {
     "data": {
      "text/html": [
       "<div>\n",
       "<style scoped>\n",
       "    .dataframe tbody tr th:only-of-type {\n",
       "        vertical-align: middle;\n",
       "    }\n",
       "\n",
       "    .dataframe tbody tr th {\n",
       "        vertical-align: top;\n",
       "    }\n",
       "\n",
       "    .dataframe thead th {\n",
       "        text-align: right;\n",
       "    }\n",
       "</style>\n",
       "<table border=\"1\" class=\"dataframe\">\n",
       "  <thead>\n",
       "    <tr style=\"text-align: right;\">\n",
       "      <th></th>\n",
       "      <th>purchase_price_1</th>\n",
       "      <th>living_space_in_m2</th>\n",
       "      <th>number_of_rooms_1</th>\n",
       "      <th>floor_1</th>\n",
       "      <th>contruction_year_1</th>\n",
       "      <th>lat</th>\n",
       "      <th>lon</th>\n",
       "      <th>pickup cluster</th>\n",
       "      <th>price_m2</th>\n",
       "    </tr>\n",
       "  </thead>\n",
       "  <tbody>\n",
       "    <tr>\n",
       "      <th>count</th>\n",
       "      <td>2.990600e+04</td>\n",
       "      <td>29906.000000</td>\n",
       "      <td>29906.000000</td>\n",
       "      <td>29906.000000</td>\n",
       "      <td>29906.000000</td>\n",
       "      <td>29906.000000</td>\n",
       "      <td>29906.000000</td>\n",
       "      <td>29906.000000</td>\n",
       "      <td>2.990600e+04</td>\n",
       "    </tr>\n",
       "    <tr>\n",
       "      <th>mean</th>\n",
       "      <td>5.292455e+05</td>\n",
       "      <td>86.424941</td>\n",
       "      <td>2.793961</td>\n",
       "      <td>2.675897</td>\n",
       "      <td>1959.689962</td>\n",
       "      <td>0.916335</td>\n",
       "      <td>0.233265</td>\n",
       "      <td>0.987594</td>\n",
       "      <td>5.701080e+03</td>\n",
       "    </tr>\n",
       "    <tr>\n",
       "      <th>std</th>\n",
       "      <td>3.194113e+06</td>\n",
       "      <td>56.267354</td>\n",
       "      <td>1.649328</td>\n",
       "      <td>1.773043</td>\n",
       "      <td>42.686414</td>\n",
       "      <td>0.001320</td>\n",
       "      <td>0.002511</td>\n",
       "      <td>0.996338</td>\n",
       "      <td>3.188253e+04</td>\n",
       "    </tr>\n",
       "    <tr>\n",
       "      <th>min</th>\n",
       "      <td>3.299900e+02</td>\n",
       "      <td>12.500000</td>\n",
       "      <td>1.000000</td>\n",
       "      <td>1.000000</td>\n",
       "      <td>1836.000000</td>\n",
       "      <td>0.899038</td>\n",
       "      <td>0.205668</td>\n",
       "      <td>0.000000</td>\n",
       "      <td>5.500000e+00</td>\n",
       "    </tr>\n",
       "    <tr>\n",
       "      <th>25%</th>\n",
       "      <td>2.575000e+05</td>\n",
       "      <td>56.000000</td>\n",
       "      <td>2.000000</td>\n",
       "      <td>1.200000</td>\n",
       "      <td>1918.000000</td>\n",
       "      <td>0.915884</td>\n",
       "      <td>0.232504</td>\n",
       "      <td>0.000000</td>\n",
       "      <td>4.278874e+03</td>\n",
       "    </tr>\n",
       "    <tr>\n",
       "      <th>50%</th>\n",
       "      <td>3.760000e+05</td>\n",
       "      <td>73.000000</td>\n",
       "      <td>2.600000</td>\n",
       "      <td>2.200000</td>\n",
       "      <td>1962.000000</td>\n",
       "      <td>0.916509</td>\n",
       "      <td>0.233607</td>\n",
       "      <td>0.000000</td>\n",
       "      <td>5.227656e+03</td>\n",
       "    </tr>\n",
       "    <tr>\n",
       "      <th>75%</th>\n",
       "      <td>5.770000e+05</td>\n",
       "      <td>101.750000</td>\n",
       "      <td>3.200000</td>\n",
       "      <td>3.400000</td>\n",
       "      <td>1996.000000</td>\n",
       "      <td>0.916958</td>\n",
       "      <td>0.234562</td>\n",
       "      <td>2.000000</td>\n",
       "      <td>6.512301e+03</td>\n",
       "    </tr>\n",
       "    <tr>\n",
       "      <th>max</th>\n",
       "      <td>5.420000e+08</td>\n",
       "      <td>2758.000000</td>\n",
       "      <td>160.000000</td>\n",
       "      <td>50.000000</td>\n",
       "      <td>2025.000000</td>\n",
       "      <td>0.927604</td>\n",
       "      <td>0.252504</td>\n",
       "      <td>2.000000</td>\n",
       "      <td>5.508130e+06</td>\n",
       "    </tr>\n",
       "  </tbody>\n",
       "</table>\n",
       "</div>"
      ],
      "text/plain": [
       "       purchase_price_1  living_space_in_m2  number_of_rooms_1       floor_1  \\\n",
       "count      2.990600e+04        29906.000000       29906.000000  29906.000000   \n",
       "mean       5.292455e+05           86.424941           2.793961      2.675897   \n",
       "std        3.194113e+06           56.267354           1.649328      1.773043   \n",
       "min        3.299900e+02           12.500000           1.000000      1.000000   \n",
       "25%        2.575000e+05           56.000000           2.000000      1.200000   \n",
       "50%        3.760000e+05           73.000000           2.600000      2.200000   \n",
       "75%        5.770000e+05          101.750000           3.200000      3.400000   \n",
       "max        5.420000e+08         2758.000000         160.000000     50.000000   \n",
       "\n",
       "       contruction_year_1           lat           lon  pickup cluster  \\\n",
       "count        29906.000000  29906.000000  29906.000000    29906.000000   \n",
       "mean          1959.689962      0.916335      0.233265        0.987594   \n",
       "std             42.686414      0.001320      0.002511        0.996338   \n",
       "min           1836.000000      0.899038      0.205668        0.000000   \n",
       "25%           1918.000000      0.915884      0.232504        0.000000   \n",
       "50%           1962.000000      0.916509      0.233607        0.000000   \n",
       "75%           1996.000000      0.916958      0.234562        2.000000   \n",
       "max           2025.000000      0.927604      0.252504        2.000000   \n",
       "\n",
       "           price_m2  \n",
       "count  2.990600e+04  \n",
       "mean   5.701080e+03  \n",
       "std    3.188253e+04  \n",
       "min    5.500000e+00  \n",
       "25%    4.278874e+03  \n",
       "50%    5.227656e+03  \n",
       "75%    6.512301e+03  \n",
       "max    5.508130e+06  "
      ]
     },
     "execution_count": 10,
     "metadata": {},
     "output_type": "execute_result"
    }
   ],
   "source": [
    "data.describe()"
   ]
  },
  {
   "cell_type": "code",
   "execution_count": 11,
   "metadata": {},
   "outputs": [
    {
     "data": {
      "text/plain": [
       "163.06434751039055"
      ]
     },
     "execution_count": 11,
     "metadata": {},
     "output_type": "execute_result"
    }
   ],
   "source": [
    "data.purchase_price_1.skew()"
   ]
  },
  {
   "cell_type": "code",
   "execution_count": 14,
   "metadata": {},
   "outputs": [
    {
     "data": {
      "text/plain": [
       "(-100000000.0, 50000000.0)"
      ]
     },
     "execution_count": 14,
     "metadata": {},
     "output_type": "execute_result"
    },
    {
     "data": {
      "image/png": "[encoded data removed]",
      "text/plain": [
       "<Figure size 432x288 with 1 Axes>"
      ]
     },
     "metadata": {
      "needs_background": "light"
     },
     "output_type": "display_data"
    }
   ],
   "source": [
    "#fig, (ax_before, ax_after) = plt.subplots(1, 2, figsize = (10, 5))\n",
    "sns.distplot(data['purchase_price_1'], fit = stats.norm)\n",
    "plt.xlim(-1e08, 0.5e08)"
   ]
  },
  {
   "cell_type": "code",
   "execution_count": 15,
   "metadata": {},
   "outputs": [
    {
     "data": {
      "text/plain": [
       "Text(0.5, 0.98, 'Field \"purchase_price\"')"
      ]
     },
     "execution_count": 15,
     "metadata": {},
     "output_type": "execute_result"
    },
    {
     "data": {
      "image/png": "[encoded data removed]",
      "text/plain": [
       "<Figure size 720x360 with 2 Axes>"
      ]
     },
     "metadata": {
      "needs_background": "light"
     },
     "output_type": "display_data"
    }
   ],
   "source": [
    "fig, (ax_before, ax_after) = plt.subplots(1, 2, figsize = (10, 5))\n",
    "sns.distplot(data['purchase_price_1'], fit = stats.norm, ax = ax_before)\n",
    "sns.distplot(data['purchase_price_1'].apply(np.log1p), ax = ax_after, fit = stats.norm)\n",
    "ax_before.set(title='before np.log1p', ylabel='frequency', xlabel='value')\n",
    "ax_after.set(title='after np.log1p', ylabel='frequency', xlabel='value')\n",
    "fig.suptitle('Field \"{}\"'.format('purchase_price'))"
   ]
  },
  {
   "cell_type": "code",
   "execution_count": 4,
   "metadata": {},
   "outputs": [],
   "source": [
    "Q1 = data['purchase_price_1'].quantile(0.25)\n",
    "Q2 = data['purchase_price_1'].quantile(0.50)\n",
    "Q3 = data['purchase_price_1'].quantile(0.75)\n",
    "IQR = Q3 - Q1\n",
    "by_an_amount = 1.5 * IQR"
   ]
  },
  {
   "cell_type": "code",
   "execution_count": 5,
   "metadata": {},
   "outputs": [],
   "source": [
    "max_not_outlier = data['purchase_price_1'].quantile(0.75) + by_an_amount\n",
    "min_not_outlier = data['purchase_price_1'].quantile(0.25) - by_an_amount"
   ]
  },
  {
   "cell_type": "code",
   "execution_count": 6,
   "metadata": {},
   "outputs": [
    {
     "data": {
      "text/plain": [
       "(257500.0, 376000.0, 577000.0, 542000000.0, 329.99, 1056250.0)"
      ]
     },
     "execution_count": 6,
     "metadata": {},
     "output_type": "execute_result"
    }
   ],
   "source": [
    "Q1, Q2, Q3, data.purchase_price_1.max(), data.purchase_price_1.min(), max_not_outlier"
   ]
  },
  {
   "cell_type": "code",
   "execution_count": 20,
   "metadata": {},
   "outputs": [
    {
     "data": {
      "text/plain": [
       "<matplotlib.axes._subplots.AxesSubplot at 0x28bb8b7e208>"
      ]
     },
     "execution_count": 20,
     "metadata": {},
     "output_type": "execute_result"
    },
    {
     "data": {
      "image/png": "[encoded data removed]",
      "text/plain": [
       "<Figure size 720x360 with 1 Axes>"
      ]
     },
     "metadata": {
      "needs_background": "light"
     },
     "output_type": "display_data"
    }
   ],
   "source": [
    "fig, axes = plt.subplots(figsize = (10, 5))\n",
    "sns.boxplot(data['purchase_price_1'], ax = axes, showfliers = True, showcaps = True)\n",
    "#plt.xlim(min_not_outlier, max_not_outlier)"
   ]
  },
  {
   "cell_type": "code",
   "execution_count": 7,
   "metadata": {},
   "outputs": [
    {
     "data": {
      "text/plain": [
       "(-221750.0, 1056250.0)"
      ]
     },
     "execution_count": 7,
     "metadata": {},
     "output_type": "execute_result"
    }
   ],
   "source": [
    "min_not_outlier, max_not_outlier"
   ]
  },
  {
   "cell_type": "code",
   "execution_count": 8,
   "metadata": {},
   "outputs": [
    {
     "data": {
      "text/plain": [
       "((27604, 15), (27604, 15))"
      ]
     },
     "execution_count": 8,
     "metadata": {},
     "output_type": "execute_result"
    }
   ],
   "source": [
    "norm_price = data[data.purchase_price_1 <= max_not_outlier] \n",
    "norm_price1 = norm_price[norm_price.purchase_price_1 >= min_not_outlier]\n",
    "norm_price.shape, norm_price1.shape"
   ]
  },
  {
   "cell_type": "code",
   "execution_count": 27,
   "metadata": {},
   "outputs": [
    {
     "data": {
      "text/html": [
       "<div>\n",
       "<style scoped>\n",
       "    .dataframe tbody tr th:only-of-type {\n",
       "        vertical-align: middle;\n",
       "    }\n",
       "\n",
       "    .dataframe tbody tr th {\n",
       "        vertical-align: top;\n",
       "    }\n",
       "\n",
       "    .dataframe thead th {\n",
       "        text-align: right;\n",
       "    }\n",
       "</style>\n",
       "<table border=\"1\" class=\"dataframe\">\n",
       "  <thead>\n",
       "    <tr style=\"text-align: right;\">\n",
       "      <th></th>\n",
       "      <th>purchase_price_1</th>\n",
       "      <th>living_space_in_m2</th>\n",
       "      <th>number_of_rooms_1</th>\n",
       "      <th>floor_1</th>\n",
       "      <th>contruction_year_1</th>\n",
       "      <th>lat</th>\n",
       "      <th>lon</th>\n",
       "      <th>pickup cluster</th>\n",
       "      <th>price_m2</th>\n",
       "    </tr>\n",
       "  </thead>\n",
       "  <tbody>\n",
       "    <tr>\n",
       "      <th>count</th>\n",
       "      <td>2.990600e+04</td>\n",
       "      <td>29906.000000</td>\n",
       "      <td>29906.000000</td>\n",
       "      <td>29906.000000</td>\n",
       "      <td>29906.000000</td>\n",
       "      <td>29906.000000</td>\n",
       "      <td>29906.000000</td>\n",
       "      <td>29906.000000</td>\n",
       "      <td>2.990600e+04</td>\n",
       "    </tr>\n",
       "    <tr>\n",
       "      <th>mean</th>\n",
       "      <td>5.292455e+05</td>\n",
       "      <td>86.424941</td>\n",
       "      <td>2.793961</td>\n",
       "      <td>2.675897</td>\n",
       "      <td>1959.689962</td>\n",
       "      <td>0.916335</td>\n",
       "      <td>0.233265</td>\n",
       "      <td>0.987594</td>\n",
       "      <td>5.701080e+03</td>\n",
       "    </tr>\n",
       "    <tr>\n",
       "      <th>std</th>\n",
       "      <td>3.194113e+06</td>\n",
       "      <td>56.267354</td>\n",
       "      <td>1.649328</td>\n",
       "      <td>1.773043</td>\n",
       "      <td>42.686414</td>\n",
       "      <td>0.001320</td>\n",
       "      <td>0.002511</td>\n",
       "      <td>0.996338</td>\n",
       "      <td>3.188253e+04</td>\n",
       "    </tr>\n",
       "    <tr>\n",
       "      <th>min</th>\n",
       "      <td>3.299900e+02</td>\n",
       "      <td>12.500000</td>\n",
       "      <td>1.000000</td>\n",
       "      <td>1.000000</td>\n",
       "      <td>1836.000000</td>\n",
       "      <td>0.899038</td>\n",
       "      <td>0.205668</td>\n",
       "      <td>0.000000</td>\n",
       "      <td>5.500000e+00</td>\n",
       "    </tr>\n",
       "    <tr>\n",
       "      <th>25%</th>\n",
       "      <td>2.575000e+05</td>\n",
       "      <td>56.000000</td>\n",
       "      <td>2.000000</td>\n",
       "      <td>1.200000</td>\n",
       "      <td>1918.000000</td>\n",
       "      <td>0.915884</td>\n",
       "      <td>0.232504</td>\n",
       "      <td>0.000000</td>\n",
       "      <td>4.278874e+03</td>\n",
       "    </tr>\n",
       "    <tr>\n",
       "      <th>50%</th>\n",
       "      <td>3.760000e+05</td>\n",
       "      <td>73.000000</td>\n",
       "      <td>2.600000</td>\n",
       "      <td>2.200000</td>\n",
       "      <td>1962.000000</td>\n",
       "      <td>0.916509</td>\n",
       "      <td>0.233607</td>\n",
       "      <td>0.000000</td>\n",
       "      <td>5.227656e+03</td>\n",
       "    </tr>\n",
       "    <tr>\n",
       "      <th>75%</th>\n",
       "      <td>5.770000e+05</td>\n",
       "      <td>101.750000</td>\n",
       "      <td>3.200000</td>\n",
       "      <td>3.400000</td>\n",
       "      <td>1996.000000</td>\n",
       "      <td>0.916958</td>\n",
       "      <td>0.234562</td>\n",
       "      <td>2.000000</td>\n",
       "      <td>6.512301e+03</td>\n",
       "    </tr>\n",
       "    <tr>\n",
       "      <th>max</th>\n",
       "      <td>5.420000e+08</td>\n",
       "      <td>2758.000000</td>\n",
       "      <td>160.000000</td>\n",
       "      <td>50.000000</td>\n",
       "      <td>2025.000000</td>\n",
       "      <td>0.927604</td>\n",
       "      <td>0.252504</td>\n",
       "      <td>2.000000</td>\n",
       "      <td>5.508130e+06</td>\n",
       "    </tr>\n",
       "  </tbody>\n",
       "</table>\n",
       "</div>"
      ],
      "text/plain": [
       "       purchase_price_1  living_space_in_m2  number_of_rooms_1       floor_1  \\\n",
       "count      2.990600e+04        29906.000000       29906.000000  29906.000000   \n",
       "mean       5.292455e+05           86.424941           2.793961      2.675897   \n",
       "std        3.194113e+06           56.267354           1.649328      1.773043   \n",
       "min        3.299900e+02           12.500000           1.000000      1.000000   \n",
       "25%        2.575000e+05           56.000000           2.000000      1.200000   \n",
       "50%        3.760000e+05           73.000000           2.600000      2.200000   \n",
       "75%        5.770000e+05          101.750000           3.200000      3.400000   \n",
       "max        5.420000e+08         2758.000000         160.000000     50.000000   \n",
       "\n",
       "       contruction_year_1           lat           lon  pickup cluster  \\\n",
       "count        29906.000000  29906.000000  29906.000000    29906.000000   \n",
       "mean          1959.689962      0.916335      0.233265        0.987594   \n",
       "std             42.686414      0.001320      0.002511        0.996338   \n",
       "min           1836.000000      0.899038      0.205668        0.000000   \n",
       "25%           1918.000000      0.915884      0.232504        0.000000   \n",
       "50%           1962.000000      0.916509      0.233607        0.000000   \n",
       "75%           1996.000000      0.916958      0.234562        2.000000   \n",
       "max           2025.000000      0.927604      0.252504        2.000000   \n",
       "\n",
       "           price_m2  \n",
       "count  2.990600e+04  \n",
       "mean   5.701080e+03  \n",
       "std    3.188253e+04  \n",
       "min    5.500000e+00  \n",
       "25%    4.278874e+03  \n",
       "50%    5.227656e+03  \n",
       "75%    6.512301e+03  \n",
       "max    5.508130e+06  "
      ]
     },
     "execution_count": 27,
     "metadata": {},
     "output_type": "execute_result"
    }
   ],
   "source": [
    "norm_price.describe()"
   ]
  },
  {
   "cell_type": "code",
   "execution_count": 12,
   "metadata": {},
   "outputs": [
    {
     "ename": "AttributeError",
     "evalue": "'DataFrame' object has no attribute 'numeric_data'",
     "output_type": "error",
     "traceback": [
      "\u001b[1;31m---------------------------------------------------------------------------\u001b[0m",
      "\u001b[1;31mAttributeError\u001b[0m                            Traceback (most recent call last)",
      "\u001b[1;32m<ipython-input-12-cb7f8d5538d1>\u001b[0m in \u001b[0;36m<module>\u001b[1;34m\u001b[0m\n\u001b[1;32m----> 1\u001b[1;33m \u001b[0msns\u001b[0m\u001b[1;33m.\u001b[0m\u001b[0mdistplot\u001b[0m\u001b[1;33m(\u001b[0m\u001b[0mnorm_price\u001b[0m\u001b[1;33m.\u001b[0m\u001b[0mnumeric_data\u001b[0m\u001b[1;33m,\u001b[0m \u001b[0mfit\u001b[0m \u001b[1;33m=\u001b[0m \u001b[0mstats\u001b[0m\u001b[1;33m.\u001b[0m\u001b[0mnorm\u001b[0m\u001b[1;33m)\u001b[0m\u001b[1;33m\u001b[0m\u001b[1;33m\u001b[0m\u001b[0m\n\u001b[0m",
      "\u001b[1;32m~\\Anaconda3\\lib\\site-packages\\pandas\\core\\generic.py\u001b[0m in \u001b[0;36m__getattr__\u001b[1;34m(self, name)\u001b[0m\n\u001b[0;32m   5272\u001b[0m             \u001b[1;32mif\u001b[0m \u001b[0mself\u001b[0m\u001b[1;33m.\u001b[0m\u001b[0m_info_axis\u001b[0m\u001b[1;33m.\u001b[0m\u001b[0m_can_hold_identifiers_and_holds_name\u001b[0m\u001b[1;33m(\u001b[0m\u001b[0mname\u001b[0m\u001b[1;33m)\u001b[0m\u001b[1;33m:\u001b[0m\u001b[1;33m\u001b[0m\u001b[1;33m\u001b[0m\u001b[0m\n\u001b[0;32m   5273\u001b[0m                 \u001b[1;32mreturn\u001b[0m \u001b[0mself\u001b[0m\u001b[1;33m[\u001b[0m\u001b[0mname\u001b[0m\u001b[1;33m]\u001b[0m\u001b[1;33m\u001b[0m\u001b[1;33m\u001b[0m\u001b[0m\n\u001b[1;32m-> 5274\u001b[1;33m             \u001b[1;32mreturn\u001b[0m \u001b[0mobject\u001b[0m\u001b[1;33m.\u001b[0m\u001b[0m__getattribute__\u001b[0m\u001b[1;33m(\u001b[0m\u001b[0mself\u001b[0m\u001b[1;33m,\u001b[0m \u001b[0mname\u001b[0m\u001b[1;33m)\u001b[0m\u001b[1;33m\u001b[0m\u001b[1;33m\u001b[0m\u001b[0m\n\u001b[0m\u001b[0;32m   5275\u001b[0m \u001b[1;33m\u001b[0m\u001b[0m\n\u001b[0;32m   5276\u001b[0m     \u001b[1;32mdef\u001b[0m \u001b[0m__setattr__\u001b[0m\u001b[1;33m(\u001b[0m\u001b[0mself\u001b[0m\u001b[1;33m,\u001b[0m \u001b[0mname\u001b[0m\u001b[1;33m:\u001b[0m \u001b[0mstr\u001b[0m\u001b[1;33m,\u001b[0m \u001b[0mvalue\u001b[0m\u001b[1;33m)\u001b[0m \u001b[1;33m->\u001b[0m \u001b[1;32mNone\u001b[0m\u001b[1;33m:\u001b[0m\u001b[1;33m\u001b[0m\u001b[1;33m\u001b[0m\u001b[0m\n",
      "\u001b[1;31mAttributeError\u001b[0m: 'DataFrame' object has no attribute 'numeric_data'"
     ]
    }
   ],
   "source": [
    "sns.distplot(norm_price.numeric_data, fit = stats.norm)"
   ]
  },
  {
   "cell_type": "code",
   "execution_count": 32,
   "metadata": {},
   "outputs": [
    {
     "data": {
      "text/html": [
       "<div>\n",
       "<style scoped>\n",
       "    .dataframe tbody tr th:only-of-type {\n",
       "        vertical-align: middle;\n",
       "    }\n",
       "\n",
       "    .dataframe tbody tr th {\n",
       "        vertical-align: top;\n",
       "    }\n",
       "\n",
       "    .dataframe thead th {\n",
       "        text-align: right;\n",
       "    }\n",
       "</style>\n",
       "<table border=\"1\" class=\"dataframe\">\n",
       "  <thead>\n",
       "    <tr style=\"text-align: right;\">\n",
       "      <th></th>\n",
       "      <th>purchase_price_1</th>\n",
       "      <th>living_space_in_m2</th>\n",
       "      <th>number_of_rooms_1</th>\n",
       "      <th>floor_1</th>\n",
       "      <th>contruction_year_1</th>\n",
       "      <th>type</th>\n",
       "      <th>terrasse</th>\n",
       "      <th>balkon</th>\n",
       "      <th>garten</th>\n",
       "      <th>Aufzug</th>\n",
       "      <th>geo_point_2d</th>\n",
       "      <th>lat</th>\n",
       "      <th>lon</th>\n",
       "      <th>pickup cluster</th>\n",
       "      <th>price_m2</th>\n",
       "    </tr>\n",
       "  </thead>\n",
       "  <tbody>\n",
       "    <tr>\n",
       "      <th>0</th>\n",
       "      <td>648000.0</td>\n",
       "      <td>84.77</td>\n",
       "      <td>3.0</td>\n",
       "      <td>6.0</td>\n",
       "      <td>2020</td>\n",
       "      <td>Etagenwohnungen</td>\n",
       "      <td>yes</td>\n",
       "      <td>yes</td>\n",
       "      <td>no</td>\n",
       "      <td>yes</td>\n",
       "      <td>(52.5073356739,13.3642508956)</td>\n",
       "      <td>0.916425</td>\n",
       "      <td>0.233251</td>\n",
       "      <td>0</td>\n",
       "      <td>7644.214</td>\n",
       "    </tr>\n",
       "    <tr>\n",
       "      <th>1</th>\n",
       "      <td>299000.0</td>\n",
       "      <td>41.27</td>\n",
       "      <td>1.0</td>\n",
       "      <td>6.0</td>\n",
       "      <td>1979</td>\n",
       "      <td>Etagenwohnungen</td>\n",
       "      <td>no</td>\n",
       "      <td>no</td>\n",
       "      <td>yes</td>\n",
       "      <td>yes</td>\n",
       "      <td>(52.5073356739,13.3642508956)</td>\n",
       "      <td>0.916425</td>\n",
       "      <td>0.233251</td>\n",
       "      <td>0</td>\n",
       "      <td>7244.972</td>\n",
       "    </tr>\n",
       "    <tr>\n",
       "      <th>2</th>\n",
       "      <td>479000.0</td>\n",
       "      <td>75.53</td>\n",
       "      <td>3.0</td>\n",
       "      <td>3.0</td>\n",
       "      <td>1979</td>\n",
       "      <td>Etagenwohnungen</td>\n",
       "      <td>no</td>\n",
       "      <td>no</td>\n",
       "      <td>yes</td>\n",
       "      <td>yes</td>\n",
       "      <td>(52.5073356739,13.3642508956)</td>\n",
       "      <td>0.916425</td>\n",
       "      <td>0.233251</td>\n",
       "      <td>0</td>\n",
       "      <td>6341.851</td>\n",
       "    </tr>\n",
       "    <tr>\n",
       "      <th>3</th>\n",
       "      <td>529000.0</td>\n",
       "      <td>70.00</td>\n",
       "      <td>2.0</td>\n",
       "      <td>1.0</td>\n",
       "      <td>1897</td>\n",
       "      <td>Etagenwohnungen</td>\n",
       "      <td>yes</td>\n",
       "      <td>yes</td>\n",
       "      <td>yes</td>\n",
       "      <td>yes</td>\n",
       "      <td>(52.5073356739,13.3642508956)</td>\n",
       "      <td>0.916425</td>\n",
       "      <td>0.233251</td>\n",
       "      <td>0</td>\n",
       "      <td>7557.143</td>\n",
       "    </tr>\n",
       "    <tr>\n",
       "      <th>4</th>\n",
       "      <td>1699000.0</td>\n",
       "      <td>169.93</td>\n",
       "      <td>4.0</td>\n",
       "      <td>1.0</td>\n",
       "      <td>1897</td>\n",
       "      <td>Penthouse</td>\n",
       "      <td>yes</td>\n",
       "      <td>yes</td>\n",
       "      <td>yes</td>\n",
       "      <td>yes</td>\n",
       "      <td>(52.5073356739,13.3642508956)</td>\n",
       "      <td>0.916425</td>\n",
       "      <td>0.233251</td>\n",
       "      <td>0</td>\n",
       "      <td>9998.235</td>\n",
       "    </tr>\n",
       "  </tbody>\n",
       "</table>\n",
       "</div>"
      ],
      "text/plain": [
       "   purchase_price_1  living_space_in_m2  number_of_rooms_1  floor_1  \\\n",
       "0          648000.0               84.77                3.0      6.0   \n",
       "1          299000.0               41.27                1.0      6.0   \n",
       "2          479000.0               75.53                3.0      3.0   \n",
       "3          529000.0               70.00                2.0      1.0   \n",
       "4         1699000.0              169.93                4.0      1.0   \n",
       "\n",
       "   contruction_year_1             type terrasse balkon garten Aufzug  \\\n",
       "0                2020  Etagenwohnungen      yes    yes     no    yes   \n",
       "1                1979  Etagenwohnungen       no     no    yes    yes   \n",
       "2                1979  Etagenwohnungen       no     no    yes    yes   \n",
       "3                1897  Etagenwohnungen      yes    yes    yes    yes   \n",
       "4                1897        Penthouse      yes    yes    yes    yes   \n",
       "\n",
       "                    geo_point_2d       lat       lon  pickup cluster  price_m2  \n",
       "0  (52.5073356739,13.3642508956)  0.916425  0.233251               0  7644.214  \n",
       "1  (52.5073356739,13.3642508956)  0.916425  0.233251               0  7244.972  \n",
       "2  (52.5073356739,13.3642508956)  0.916425  0.233251               0  6341.851  \n",
       "3  (52.5073356739,13.3642508956)  0.916425  0.233251               0  7557.143  \n",
       "4  (52.5073356739,13.3642508956)  0.916425  0.233251               0  9998.235  "
      ]
     },
     "execution_count": 32,
     "metadata": {},
     "output_type": "execute_result"
    }
   ],
   "source": [
    "norm_price.head()"
   ]
  },
  {
   "cell_type": "code",
   "execution_count": 9,
   "metadata": {},
   "outputs": [
    {
     "data": {
      "text/plain": [
       "((29906, 15), (27604, 15))"
      ]
     },
     "execution_count": 9,
     "metadata": {},
     "output_type": "execute_result"
    }
   ],
   "source": [
    "data.shape, norm_price.shape"
   ]
  },
  {
   "cell_type": "code",
   "execution_count": null,
   "metadata": {},
   "outputs": [],
   "source": []
  }
 ],
 "metadata": {
  "kernelspec": {
   "display_name": "Python 3",
   "language": "python",
   "name": "python3"
  },
  "language_info": {
   "codemirror_mode": {
    "name": "ipython",
    "version": 3
   },
   "file_extension": ".py",
   "mimetype": "text/x-python",
   "name": "python",
   "nbconvert_exporter": "python",
   "pygments_lexer": "ipython3",
   "version": "3.7.7"
  }
 },
 "nbformat": 4,
 "nbformat_minor": 4
}
