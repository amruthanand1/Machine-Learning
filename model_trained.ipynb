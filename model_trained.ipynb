{
 "cells": [
  {
   "cell_type": "code",
   "execution_count": 22,
   "metadata": {},
   "outputs": [],
   "source": [
    "import numpy as np\n",
    "import pandas as pd\n",
    "import matplotlib.pyplot as plt\n",
    "#import seaborn as sns\n",
    "from scipy import stats\n",
    "from sklearn.ensemble import RandomForestRegressor\n",
    "from sklearn.metrics import mean_squared_error, mean_absolute_error\n",
    "from sklearn.model_selection import train_test_split\n",
    "from sklearn.metrics import r2_score\n",
    "import seaborn as sns"
   ]
  },
  {
   "cell_type": "code",
   "execution_count": 33,
   "metadata": {},
   "outputs": [
    {
     "data": {
      "text/html": [
       "<div>\n",
       "<style scoped>\n",
       "    .dataframe tbody tr th:only-of-type {\n",
       "        vertical-align: middle;\n",
       "    }\n",
       "\n",
       "    .dataframe tbody tr th {\n",
       "        vertical-align: top;\n",
       "    }\n",
       "\n",
       "    .dataframe thead th {\n",
       "        text-align: right;\n",
       "    }\n",
       "</style>\n",
       "<table border=\"1\" class=\"dataframe\">\n",
       "  <thead>\n",
       "    <tr style=\"text-align: right;\">\n",
       "      <th></th>\n",
       "      <th>number_of_rooms</th>\n",
       "      <th>floor_on</th>\n",
       "      <th>total_floors</th>\n",
       "      <th>bedroom</th>\n",
       "      <th>pincode</th>\n",
       "      <th>balkon</th>\n",
       "      <th>terrasse</th>\n",
       "      <th>garten</th>\n",
       "      <th>Gaste-WC</th>\n",
       "      <th>Aufzug</th>\n",
       "      <th>wohung</th>\n",
       "      <th>construction_year</th>\n",
       "      <th>living_area_m2</th>\n",
       "      <th>transform_price</th>\n",
       "    </tr>\n",
       "  </thead>\n",
       "  <tbody>\n",
       "    <tr>\n",
       "      <th>8137</th>\n",
       "      <td>4.0</td>\n",
       "      <td>0</td>\n",
       "      <td>0</td>\n",
       "      <td>3</td>\n",
       "      <td>10999</td>\n",
       "      <td>1</td>\n",
       "      <td>1</td>\n",
       "      <td>0</td>\n",
       "      <td>0</td>\n",
       "      <td>1</td>\n",
       "      <td>1</td>\n",
       "      <td>1890</td>\n",
       "      <td>4.795791</td>\n",
       "      <td>8.779711</td>\n",
       "    </tr>\n",
       "    <tr>\n",
       "      <th>9282</th>\n",
       "      <td>8.0</td>\n",
       "      <td>0</td>\n",
       "      <td>2</td>\n",
       "      <td>6</td>\n",
       "      <td>14959</td>\n",
       "      <td>0</td>\n",
       "      <td>0</td>\n",
       "      <td>0</td>\n",
       "      <td>1</td>\n",
       "      <td>0</td>\n",
       "      <td>0</td>\n",
       "      <td>0</td>\n",
       "      <td>5.575949</td>\n",
       "      <td>7.115613</td>\n",
       "    </tr>\n",
       "    <tr>\n",
       "      <th>3382</th>\n",
       "      <td>5.0</td>\n",
       "      <td>0</td>\n",
       "      <td>3</td>\n",
       "      <td>3</td>\n",
       "      <td>15711</td>\n",
       "      <td>0</td>\n",
       "      <td>1</td>\n",
       "      <td>1</td>\n",
       "      <td>1</td>\n",
       "      <td>0</td>\n",
       "      <td>0</td>\n",
       "      <td>2020</td>\n",
       "      <td>4.846389</td>\n",
       "      <td>8.020225</td>\n",
       "    </tr>\n",
       "  </tbody>\n",
       "</table>\n",
       "</div>"
      ],
      "text/plain": [
       "      number_of_rooms  floor_on  total_floors  bedroom  pincode  balkon  \\\n",
       "8137              4.0         0             0        3    10999       1   \n",
       "9282              8.0         0             2        6    14959       0   \n",
       "3382              5.0         0             3        3    15711       0   \n",
       "\n",
       "      terrasse  garten  Gaste-WC  Aufzug  wohung  construction_year  \\\n",
       "8137         1       0         0       1       1               1890   \n",
       "9282         0       0         1       0       0                  0   \n",
       "3382         1       1         1       0       0               2020   \n",
       "\n",
       "      living_area_m2  transform_price  \n",
       "8137        4.795791         8.779711  \n",
       "9282        5.575949         7.115613  \n",
       "3382        4.846389         8.020225  "
      ]
     },
     "execution_count": 33,
     "metadata": {},
     "output_type": "execute_result"
    }
   ],
   "source": [
    "data = pd.read_csv(r'C:\\Users\\admin\\Desktop\\after_preprocess_data.csv', encoding = 'iso-8859-1')\n",
    "data.sample(3)"
   ]
  },
  {
   "cell_type": "markdown",
   "metadata": {},
   "source": [
    "## Let's divide dataset into independent and dependent(target)"
   ]
  },
  {
   "cell_type": "code",
   "execution_count": 3,
   "metadata": {},
   "outputs": [],
   "source": [
    "X = data.iloc[:, :-1]\n",
    "y = data['transform_price']"
   ]
  },
  {
   "cell_type": "markdown",
   "metadata": {},
   "source": [
    "## Well, I've seen most of them taking test_size nearly 20% to 30%. \n",
    "But actually shouldn't, because our goal is to train our model well. For generalization if we can hold-out 2% to 3% is enough."
   ]
  },
  {
   "cell_type": "code",
   "execution_count": 11,
   "metadata": {},
   "outputs": [],
   "source": [
    "X_train, X_test, y_train, y_test = train_test_split(X, y, test_size = 0.025, random_state = 0)"
   ]
  },
  {
   "cell_type": "code",
   "execution_count": 12,
   "metadata": {},
   "outputs": [
    {
     "data": {
      "text/plain": [
       "((12424, 13), (319, 13))"
      ]
     },
     "execution_count": 12,
     "metadata": {},
     "output_type": "execute_result"
    }
   ],
   "source": [
    "X_train.shape, X_test.shape"
   ]
  },
  {
   "cell_type": "markdown",
   "metadata": {},
   "source": [
    "## Let's train our model:\n",
    "### 1. RidgeRegression() with regularization parameter of 20.0"
   ]
  },
  {
   "cell_type": "code",
   "execution_count": 13,
   "metadata": {},
   "outputs": [],
   "source": [
    "from sklearn.linear_model import Ridge"
   ]
  },
  {
   "cell_type": "code",
   "execution_count": 14,
   "metadata": {},
   "outputs": [
    {
     "name": "stdout",
     "output_type": "stream",
     "text": [
      "Ridge regression linear model intercept: 8.799438513699782\n",
      "Ridge regression linear model coeff: [-2.06661811e-02  5.33911211e-03  5.87479988e-03  5.85962148e-04\n",
      " -1.67284824e-05 -3.16717359e-02  1.22591063e-01  7.31840522e-02\n",
      "  6.06143212e-02  1.47644943e-01  1.45186081e-01  6.93449990e-05\n",
      " -1.08435197e-01]\n",
      "R-squared score (test): 0.449\n",
      "R-squared score (training): 0.424\n"
     ]
    }
   ],
   "source": [
    "linridge = Ridge(alpha = 20.0).fit(X_train, y_train)\n",
    "print('Ridge regression linear model intercept: {}'.format(linridge.intercept_))\n",
    "print('Ridge regression linear model coeff: {}'.format(linridge.coef_))\n",
    "print('R-squared score (test): {:.3f}'.format(linridge.score(X_test, y_test)))\n",
    "print('R-squared score (training): {:.3f}'.format(linridge.score(X_train, y_train)))"
   ]
  },
  {
   "cell_type": "markdown",
   "metadata": {},
   "source": [
    "#### As you can see above, test accuracy is just \"45%\""
   ]
  },
  {
   "cell_type": "markdown",
   "metadata": {},
   "source": [
    "## ohh, let's try it out with sophisticated models\n",
    "### 2. RandomForestRegressor() along with it's hyperparameters"
   ]
  },
  {
   "cell_type": "code",
   "execution_count": 19,
   "metadata": {},
   "outputs": [
    {
     "name": "stdout",
     "output_type": "stream",
     "text": [
      "R-squared score (training) for 1200 estimators: 0.9628701950603202\n",
      "R-squared score (test) for 1200 estimators: 0.8226172978641135\n",
      "R-squared score (training) for 1300 estimators: 0.962802236303499\n",
      "R-squared score (test) for 1300 estimators: 0.8226452772138556\n",
      "R-squared score (training) for 1400 estimators: 0.9628761771762897\n",
      "R-squared score (test) for 1400 estimators: 0.8228217209004293\n",
      "R-squared score (training) for 1500 estimators: 0.9629148596856547\n",
      "R-squared score (test) for 1500 estimators: 0.8223397336222069\n",
      "R-squared score (training) for 1600 estimators: 0.9630007413292595\n",
      "R-squared score (test) for 1600 estimators: 0.8220937236147328\n",
      "R-squared score (training) for 1700 estimators: 0.9630157439546663\n",
      "R-squared score (test) for 1700 estimators: 0.8220093895191493\n",
      "R-squared score (training) for 1800 estimators: 0.9629545641039581\n",
      "R-squared score (test) for 1800 estimators: 0.8220352204436876\n",
      "R-squared score (training) for 1900 estimators: 0.9630288529257889\n",
      "R-squared score (test) for 1900 estimators: 0.8220521395104856\n",
      "R-squared score (training) for 2000 estimators: 0.963120196481092\n",
      "R-squared score (test) for 2000 estimators: 0.8221284432243701\n",
      "R-squared score (training) for 2100 estimators: 0.9631250249167899\n",
      "R-squared score (test) for 2100 estimators: 0.822049917931282\n",
      "R-squared score (training) for 2200 estimators: 0.9630811782000832\n",
      "R-squared score (test) for 2200 estimators: 0.8217493116951224\n",
      "R-squared score (training) for 2300 estimators: 0.9630450666492748\n",
      "R-squared score (test) for 2300 estimators: 0.8217478509489452\n",
      "R-squared score (training) for 2400 estimators: 0.9631009825346427\n",
      "R-squared score (test) for 2400 estimators: 0.8216580585403422\n",
      "R-squared score (training) for 2500 estimators: 0.9630909827212267\n",
      "R-squared score (test) for 2500 estimators: 0.8217963226842087\n",
      "R-squared score (training) for 2600 estimators: 0.9631041054628968\n",
      "R-squared score (test) for 2600 estimators: 0.8220116515821292\n",
      "R-squared score (training) for 2700 estimators: 0.9630889597122176\n",
      "R-squared score (test) for 2700 estimators: 0.8218617232360883\n",
      "R-squared score (training) for 2800 estimators: 0.9631146392043728\n",
      "R-squared score (test) for 2800 estimators: 0.8220900596743307\n",
      "R-squared score (training) for 2900 estimators: 0.9630828743265629\n",
      "R-squared score (test) for 2900 estimators: 0.8222087788467749\n"
     ]
    }
   ],
   "source": [
    "for i in range(1200, 3000, 100):\n",
    "    clf = RandomForestRegressor(n_estimators= i, max_features= 'sqrt', random_state = 0).fit(X_train, y_train)\n",
    "    y_hat_train = clf.predict(X_train)\n",
    "    y_hat_test = clf.predict(X_test)\n",
    "    print('R-squared score (training) for {} estimators:'.format(i), r2_score(y_train, y_hat_train)) \n",
    "    print('R-squared score (test) for {} estimators:'.format(i), r2_score(y_test, y_hat_test))\n",
    "    "
   ]
  },
  {
   "cell_type": "markdown",
   "metadata": {},
   "source": [
    "#### Great, after tuning with n_estimators hyperparameter at 1400 we get highest value \"82.28%\"."
   ]
  },
  {
   "cell_type": "code",
   "execution_count": 20,
   "metadata": {},
   "outputs": [],
   "source": [
    "clf = RandomForestRegressor(n_estimators= 1400, max_features= 'sqrt', random_state = 0).fit(X_train, y_train)\n",
    "y_hat_train = clf.predict(X_train)\n",
    "y_hat_test = clf.predict(X_test)"
   ]
  },
  {
   "cell_type": "code",
   "execution_count": 23,
   "metadata": {},
   "outputs": [
    {
     "data": {
      "image/png": "[encoded data removed]",
      "text/plain": [
       "<Figure size 1152x432 with 1 Axes>"
      ]
     },
     "metadata": {
      "needs_background": "light"
     },
     "output_type": "display_data"
    },
    {
     "data": {
      "text/plain": [
       "(<matplotlib.legend.Legend at 0x1e4dd3eee48>, None)"
      ]
     },
     "execution_count": 23,
     "metadata": {},
     "output_type": "execute_result"
    }
   ],
   "source": [
    "plt.figure(figsize=(16,6))\n",
    "sns.scatterplot(range(len(y_hat_test[:100])), y_hat_test[:100], label='Predicted Prices')\n",
    "sns.scatterplot(range(len(y_hat_test[:100])), y_test[:100], label='Actual Prices')\n",
    "plt.title('Comparing predicted price vs actual price', fontdict={'fontsize': 15}), plt.xlabel('Observation'), plt.ylabel('Prices')\n",
    "plt.legend(), plt.show()"
   ]
  },
  {
   "cell_type": "code",
   "execution_count": 24,
   "metadata": {},
   "outputs": [
    {
     "data": {
      "text/plain": [
       "<matplotlib.axes._subplots.AxesSubplot at 0x1e4dd299c88>"
      ]
     },
     "execution_count": 24,
     "metadata": {},
     "output_type": "execute_result"
    },
    {
     "data": {
      "image/png": "[encoded data removed]",
      "text/plain": [
       "<Figure size 432x288 with 1 Axes>"
      ]
     },
     "metadata": {
      "needs_background": "light"
     },
     "output_type": "display_data"
    }
   ],
   "source": [
    "sns.distplot(y_hat_test)"
   ]
  },
  {
   "cell_type": "markdown",
   "metadata": {},
   "source": [
    "## 3. GradientBoostingRegressor(), \n",
    "#### usually max_depth is kept 3 to 5, I went through 5 and learning_rate with 0.1"
   ]
  },
  {
   "cell_type": "code",
   "execution_count": 27,
   "metadata": {},
   "outputs": [
    {
     "name": "stdout",
     "output_type": "stream",
     "text": [
      "R-squared score (training) for 500 estimators: 0.9033680241553609\n",
      "R-squared score (test) for 500 estimators: 0.815157099223988\n",
      "R-squared score (training) for 700 estimators: 0.9262307524763855\n",
      "R-squared score (test) for 700 estimators: 0.8177268759162056\n",
      "R-squared score (training) for 900 estimators: 0.9406455873076718\n",
      "R-squared score (test) for 900 estimators: 0.8259970566191818\n",
      "R-squared score (training) for 1100 estimators: 0.9510892612513765\n",
      "R-squared score (test) for 1100 estimators: 0.8255844516335633\n",
      "R-squared score (training) for 1300 estimators: 0.9591839044501477\n",
      "R-squared score (test) for 1300 estimators: 0.8289709816462105\n",
      "R-squared score (training) for 1500 estimators: 0.9652317723945201\n",
      "R-squared score (test) for 1500 estimators: 0.8266397574130137\n",
      "R-squared score (training) for 1700 estimators: 0.9701931568705451\n",
      "R-squared score (test) for 1700 estimators: 0.8271541583549228\n",
      "R-squared score (training) for 1900 estimators: 0.9738976256441577\n",
      "R-squared score (test) for 1900 estimators: 0.8280808391922557\n",
      "R-squared score (training) for 2100 estimators: 0.9770238866742779\n",
      "R-squared score (test) for 2100 estimators: 0.8298367905767264\n",
      "R-squared score (training) for 2300 estimators: 0.9795957612108603\n",
      "R-squared score (test) for 2300 estimators: 0.8273231439122035\n"
     ]
    }
   ],
   "source": [
    "from sklearn import ensemble\n",
    "for i in range(500, 2500, 200):\n",
    "    clf_grad = ensemble.GradientBoostingRegressor(n_estimators = i, max_depth = 5, min_samples_split = 2,\n",
    "          learning_rate = 0.1, loss = 'ls').fit(X_train, y_train)\n",
    "    y_hat_train_grad = clf_grad.predict(X_train)\n",
    "    y_hat_test_grad = clf_grad.predict(X_test)\n",
    "    print('R-squared score (training) for {} estimators:'.format(i), r2_score(y_train, y_hat_train_grad)) \n",
    "    print('R-squared score (test) for {} estimators:'.format(i), r2_score(y_test, y_hat_test_grad))"
   ]
  },
  {
   "cell_type": "markdown",
   "metadata": {},
   "source": [
    "#### Super!!!, At 2100 estimators, we get accuracy about \"82.98%\". This is performing better than randomforest."
   ]
  },
  {
   "cell_type": "markdown",
   "metadata": {},
   "source": [
    "## 3. KNeighborsRegressor()"
   ]
  },
  {
   "cell_type": "code",
   "execution_count": 29,
   "metadata": {},
   "outputs": [],
   "source": [
    "from sklearn.neighbors import KNeighborsRegressor"
   ]
  },
  {
   "cell_type": "code",
   "execution_count": 36,
   "metadata": {},
   "outputs": [
    {
     "name": "stdout",
     "output_type": "stream",
     "text": [
      "R-squared score (training) for 19 estimators: 0.9923276978947304\n",
      "R-squared score (test) for 19 estimators: 0.7542511358231722\n"
     ]
    }
   ],
   "source": [
    "KNN_model = KNeighborsRegressor(n_neighbors= 1).fit(X_train, y_train)\n",
    "y_hat_train_knn = KNN_model.predict(X_train)\n",
    "y_hat_test_knn = KNN_model.predict(X_test)\n",
    "print('R-squared score (training) for {} estimators:'.format(i), r2_score(y_train, y_hat_train_knn)) \n",
    "print('R-squared score (test) for {} estimators:'.format(i), r2_score(y_test, y_hat_test_knn))"
   ]
  },
  {
   "cell_type": "markdown",
   "metadata": {},
   "source": [
    "#### First , I wnt with default parameters it was showing 73%, after tuning a little I got \"75.45%\" at n_neighbors = 1."
   ]
  },
  {
   "cell_type": "code",
   "execution_count": null,
   "metadata": {},
   "outputs": [],
   "source": []
  }
 ],
 "metadata": {
  "kernelspec": {
   "display_name": "Python 3",
   "language": "python",
   "name": "python3"
  },
  "language_info": {
   "codemirror_mode": {
    "name": "ipython",
    "version": 3
   },
   "file_extension": ".py",
   "mimetype": "text/x-python",
   "name": "python",
   "nbconvert_exporter": "python",
   "pygments_lexer": "ipython3",
   "version": "3.7.7"
  }
 },
 "nbformat": 4,
 "nbformat_minor": 4
}
