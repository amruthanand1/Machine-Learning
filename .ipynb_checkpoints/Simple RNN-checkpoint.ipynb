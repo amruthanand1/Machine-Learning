{
 "cells": [
  {
   "cell_type": "code",
   "execution_count": 1,
   "metadata": {},
   "outputs": [
    {
     "name": "stderr",
     "output_type": "stream",
     "text": [
      "C:\\Users\\admin\\Anaconda3\\lib\\site-packages\\tensorflow\\python\\framework\\dtypes.py:523: FutureWarning: Passing (type, 1) or '1type' as a synonym of type is deprecated; in a future version of numpy, it will be understood as (type, (1,)) / '(1,)type'.\n",
      "  _np_qint8 = np.dtype([(\"qint8\", np.int8, 1)])\n",
      "C:\\Users\\admin\\Anaconda3\\lib\\site-packages\\tensorflow\\python\\framework\\dtypes.py:524: FutureWarning: Passing (type, 1) or '1type' as a synonym of type is deprecated; in a future version of numpy, it will be understood as (type, (1,)) / '(1,)type'.\n",
      "  _np_quint8 = np.dtype([(\"quint8\", np.uint8, 1)])\n",
      "C:\\Users\\admin\\Anaconda3\\lib\\site-packages\\tensorflow\\python\\framework\\dtypes.py:525: FutureWarning: Passing (type, 1) or '1type' as a synonym of type is deprecated; in a future version of numpy, it will be understood as (type, (1,)) / '(1,)type'.\n",
      "  _np_qint16 = np.dtype([(\"qint16\", np.int16, 1)])\n",
      "C:\\Users\\admin\\Anaconda3\\lib\\site-packages\\tensorflow\\python\\framework\\dtypes.py:526: FutureWarning: Passing (type, 1) or '1type' as a synonym of type is deprecated; in a future version of numpy, it will be understood as (type, (1,)) / '(1,)type'.\n",
      "  _np_quint16 = np.dtype([(\"quint16\", np.uint16, 1)])\n",
      "C:\\Users\\admin\\Anaconda3\\lib\\site-packages\\tensorflow\\python\\framework\\dtypes.py:527: FutureWarning: Passing (type, 1) or '1type' as a synonym of type is deprecated; in a future version of numpy, it will be understood as (type, (1,)) / '(1,)type'.\n",
      "  _np_qint32 = np.dtype([(\"qint32\", np.int32, 1)])\n",
      "C:\\Users\\admin\\Anaconda3\\lib\\site-packages\\tensorflow\\python\\framework\\dtypes.py:532: FutureWarning: Passing (type, 1) or '1type' as a synonym of type is deprecated; in a future version of numpy, it will be understood as (type, (1,)) / '(1,)type'.\n",
      "  np_resource = np.dtype([(\"resource\", np.ubyte, 1)])\n",
      "C:\\Users\\admin\\Anaconda3\\lib\\site-packages\\tensorboard\\compat\\tensorflow_stub\\dtypes.py:541: FutureWarning: Passing (type, 1) or '1type' as a synonym of type is deprecated; in a future version of numpy, it will be understood as (type, (1,)) / '(1,)type'.\n",
      "  _np_qint8 = np.dtype([(\"qint8\", np.int8, 1)])\n",
      "C:\\Users\\admin\\Anaconda3\\lib\\site-packages\\tensorboard\\compat\\tensorflow_stub\\dtypes.py:542: FutureWarning: Passing (type, 1) or '1type' as a synonym of type is deprecated; in a future version of numpy, it will be understood as (type, (1,)) / '(1,)type'.\n",
      "  _np_quint8 = np.dtype([(\"quint8\", np.uint8, 1)])\n",
      "C:\\Users\\admin\\Anaconda3\\lib\\site-packages\\tensorboard\\compat\\tensorflow_stub\\dtypes.py:543: FutureWarning: Passing (type, 1) or '1type' as a synonym of type is deprecated; in a future version of numpy, it will be understood as (type, (1,)) / '(1,)type'.\n",
      "  _np_qint16 = np.dtype([(\"qint16\", np.int16, 1)])\n",
      "C:\\Users\\admin\\Anaconda3\\lib\\site-packages\\tensorboard\\compat\\tensorflow_stub\\dtypes.py:544: FutureWarning: Passing (type, 1) or '1type' as a synonym of type is deprecated; in a future version of numpy, it will be understood as (type, (1,)) / '(1,)type'.\n",
      "  _np_quint16 = np.dtype([(\"quint16\", np.uint16, 1)])\n",
      "C:\\Users\\admin\\Anaconda3\\lib\\site-packages\\tensorboard\\compat\\tensorflow_stub\\dtypes.py:545: FutureWarning: Passing (type, 1) or '1type' as a synonym of type is deprecated; in a future version of numpy, it will be understood as (type, (1,)) / '(1,)type'.\n",
      "  _np_qint32 = np.dtype([(\"qint32\", np.int32, 1)])\n",
      "C:\\Users\\admin\\Anaconda3\\lib\\site-packages\\tensorboard\\compat\\tensorflow_stub\\dtypes.py:550: FutureWarning: Passing (type, 1) or '1type' as a synonym of type is deprecated; in a future version of numpy, it will be understood as (type, (1,)) / '(1,)type'.\n",
      "  np_resource = np.dtype([(\"resource\", np.ubyte, 1)])\n"
     ]
    }
   ],
   "source": [
    "import tensorflow as tf\n",
    "import numpy as np\n",
    "import pandas as pd\n",
    "import matplotlib.pyplot as plt\n",
    "#import seaborn as sns\n",
    "from scipy import stats\n",
    "from sklearn.metrics import mean_squared_error, mean_absolute_error\n",
    "from sklearn.model_selection import train_test_split\n",
    "from sklearn.metrics import r2_score\n",
    "import seaborn as sns"
   ]
  },
  {
   "cell_type": "code",
   "execution_count": 3,
   "metadata": {},
   "outputs": [
    {
     "data": {
      "text/html": [
       "<div>\n",
       "<style scoped>\n",
       "    .dataframe tbody tr th:only-of-type {\n",
       "        vertical-align: middle;\n",
       "    }\n",
       "\n",
       "    .dataframe tbody tr th {\n",
       "        vertical-align: top;\n",
       "    }\n",
       "\n",
       "    .dataframe thead th {\n",
       "        text-align: right;\n",
       "    }\n",
       "</style>\n",
       "<table border=\"1\" class=\"dataframe\">\n",
       "  <thead>\n",
       "    <tr style=\"text-align: right;\">\n",
       "      <th></th>\n",
       "      <th>number_of_rooms</th>\n",
       "      <th>floor_on</th>\n",
       "      <th>total_floors</th>\n",
       "      <th>bedroom</th>\n",
       "      <th>pincode</th>\n",
       "      <th>balkon</th>\n",
       "      <th>terrasse</th>\n",
       "      <th>garten</th>\n",
       "      <th>Gaste-WC</th>\n",
       "      <th>Aufzug</th>\n",
       "      <th>wohung</th>\n",
       "      <th>construction_year</th>\n",
       "      <th>living_area_m2</th>\n",
       "      <th>transform_price</th>\n",
       "    </tr>\n",
       "  </thead>\n",
       "  <tbody>\n",
       "    <tr>\n",
       "      <th>0</th>\n",
       "      <td>2.0</td>\n",
       "      <td>0</td>\n",
       "      <td>0</td>\n",
       "      <td>0</td>\n",
       "      <td>12209</td>\n",
       "      <td>1</td>\n",
       "      <td>1</td>\n",
       "      <td>0</td>\n",
       "      <td>0</td>\n",
       "      <td>0</td>\n",
       "      <td>1</td>\n",
       "      <td>1997</td>\n",
       "      <td>4.043051</td>\n",
       "      <td>8.535089</td>\n",
       "    </tr>\n",
       "    <tr>\n",
       "      <th>1</th>\n",
       "      <td>3.0</td>\n",
       "      <td>0</td>\n",
       "      <td>0</td>\n",
       "      <td>0</td>\n",
       "      <td>12209</td>\n",
       "      <td>1</td>\n",
       "      <td>1</td>\n",
       "      <td>0</td>\n",
       "      <td>0</td>\n",
       "      <td>0</td>\n",
       "      <td>1</td>\n",
       "      <td>1997</td>\n",
       "      <td>4.442651</td>\n",
       "      <td>8.517393</td>\n",
       "    </tr>\n",
       "    <tr>\n",
       "      <th>2</th>\n",
       "      <td>5.0</td>\n",
       "      <td>0</td>\n",
       "      <td>3</td>\n",
       "      <td>3</td>\n",
       "      <td>12209</td>\n",
       "      <td>1</td>\n",
       "      <td>1</td>\n",
       "      <td>1</td>\n",
       "      <td>1</td>\n",
       "      <td>1</td>\n",
       "      <td>0</td>\n",
       "      <td>2021</td>\n",
       "      <td>5.259732</td>\n",
       "      <td>8.653742</td>\n",
       "    </tr>\n",
       "    <tr>\n",
       "      <th>3</th>\n",
       "      <td>2.5</td>\n",
       "      <td>1</td>\n",
       "      <td>2</td>\n",
       "      <td>1</td>\n",
       "      <td>12209</td>\n",
       "      <td>1</td>\n",
       "      <td>1</td>\n",
       "      <td>0</td>\n",
       "      <td>0</td>\n",
       "      <td>0</td>\n",
       "      <td>1</td>\n",
       "      <td>1968</td>\n",
       "      <td>4.335197</td>\n",
       "      <td>8.638011</td>\n",
       "    </tr>\n",
       "    <tr>\n",
       "      <th>4</th>\n",
       "      <td>2.5</td>\n",
       "      <td>2</td>\n",
       "      <td>2</td>\n",
       "      <td>2</td>\n",
       "      <td>12209</td>\n",
       "      <td>1</td>\n",
       "      <td>1</td>\n",
       "      <td>1</td>\n",
       "      <td>0</td>\n",
       "      <td>0</td>\n",
       "      <td>1</td>\n",
       "      <td>2018</td>\n",
       "      <td>4.262680</td>\n",
       "      <td>8.443301</td>\n",
       "    </tr>\n",
       "  </tbody>\n",
       "</table>\n",
       "</div>"
      ],
      "text/plain": [
       "   number_of_rooms  floor_on  total_floors  bedroom  pincode  balkon  \\\n",
       "0              2.0         0             0        0    12209       1   \n",
       "1              3.0         0             0        0    12209       1   \n",
       "2              5.0         0             3        3    12209       1   \n",
       "3              2.5         1             2        1    12209       1   \n",
       "4              2.5         2             2        2    12209       1   \n",
       "\n",
       "   terrasse  garten  Gaste-WC  Aufzug  wohung  construction_year  \\\n",
       "0         1       0         0       0       1               1997   \n",
       "1         1       0         0       0       1               1997   \n",
       "2         1       1         1       1       0               2021   \n",
       "3         1       0         0       0       1               1968   \n",
       "4         1       1         0       0       1               2018   \n",
       "\n",
       "   living_area_m2  transform_price  \n",
       "0        4.043051         8.535089  \n",
       "1        4.442651         8.517393  \n",
       "2        5.259732         8.653742  \n",
       "3        4.335197         8.638011  \n",
       "4        4.262680         8.443301  "
      ]
     },
     "execution_count": 3,
     "metadata": {},
     "output_type": "execute_result"
    }
   ],
   "source": [
    "data = pd.read_csv(r'F:\\amruth\\after_preprocess_data.csv', encoding = 'iso-8859-1')\n",
    "data.head()"
   ]
  },
  {
   "cell_type": "code",
   "execution_count": 4,
   "metadata": {},
   "outputs": [],
   "source": [
    "X = data.iloc[:, :-1]\n",
    "y = data[['transform_price']]"
   ]
  },
  {
   "cell_type": "code",
   "execution_count": 5,
   "metadata": {},
   "outputs": [
    {
     "data": {
      "text/plain": [
       "Index(['transform_price'], dtype='object')"
      ]
     },
     "execution_count": 5,
     "metadata": {},
     "output_type": "execute_result"
    }
   ],
   "source": [
    "y.columns"
   ]
  },
  {
   "cell_type": "code",
   "execution_count": 6,
   "metadata": {},
   "outputs": [
    {
     "data": {
      "text/plain": [
       "((12743, 13), (12743, 1))"
      ]
     },
     "execution_count": 6,
     "metadata": {},
     "output_type": "execute_result"
    }
   ],
   "source": [
    "X.shape, y.shape"
   ]
  },
  {
   "cell_type": "code",
   "execution_count": 7,
   "metadata": {},
   "outputs": [
    {
     "data": {
      "text/plain": [
       "((12424, 13), (12424, 1), (319, 13))"
      ]
     },
     "execution_count": 7,
     "metadata": {},
     "output_type": "execute_result"
    }
   ],
   "source": [
    "X_train, X_test, y_train, y_test = train_test_split(X, y, test_size = 0.025, random_state = 0)\n",
    "X_train.shape, y_train.shape, X_test.shape"
   ]
  },
  {
   "cell_type": "code",
   "execution_count": 8,
   "metadata": {},
   "outputs": [],
   "source": [
    "tf.random.set_seed(0)\n",
    "model = tf.keras.models.Sequential([\n",
    "    tf.keras.layers.Lambda(lambda x: tf.expand_dims(x, axis = -1), input_shape = [None]),\n",
    "    tf.keras.layers.SimpleRNN(100, return_sequences = True),\n",
    "    tf.keras.layers.SimpleRNN(80, return_sequences = True),\n",
    "    tf.keras.layers.SimpleRNN(40),\n",
    "    tf.keras.layers.Dense(1)\n",
    "])\n",
    "model.compile(loss = 'mse', optimizer = 'adam', metrics = ['mae'])"
   ]
  },
  {
   "cell_type": "code",
   "execution_count": 9,
   "metadata": {
    "scrolled": false
   },
   "outputs": [
    {
     "name": "stdout",
     "output_type": "stream",
     "text": [
      "Train on 12424 samples, validate on 319 samples\n",
      "Epoch 1/50\n",
      "12424/12424 [==============================] - 4s 338us/sample - loss: 1.0528 - mae: 0.4652 - val_loss: 0.1488 - val_mae: 0.2782\n",
      "Epoch 2/50\n",
      "12424/12424 [==============================] - 3s 246us/sample - loss: 0.1216 - mae: 0.2569 - val_loss: 0.1253 - val_mae: 0.2527\n",
      "Epoch 3/50\n",
      "12424/12424 [==============================] - 3s 241us/sample - loss: 0.1150 - mae: 0.2506 - val_loss: 0.1171 - val_mae: 0.2471\n",
      "Epoch 4/50\n",
      "12424/12424 [==============================] - 3s 242us/sample - loss: 0.1128 - mae: 0.2488 - val_loss: 0.1169 - val_mae: 0.2467\n",
      "Epoch 5/50\n",
      "12424/12424 [==============================] - 4s 294us/sample - loss: 0.1123 - mae: 0.2482 - val_loss: 0.1123 - val_mae: 0.2416\n",
      "Epoch 6/50\n",
      "12424/12424 [==============================] - 4s 283us/sample - loss: 0.1095 - mae: 0.2445 - val_loss: 0.1102 - val_mae: 0.2402\n",
      "Epoch 7/50\n",
      "12424/12424 [==============================] - 4s 291us/sample - loss: 0.1113 - mae: 0.2467 - val_loss: 0.1092 - val_mae: 0.2390\n",
      "Epoch 8/50\n",
      "12424/12424 [==============================] - 5s 412us/sample - loss: 0.1091 - mae: 0.2441 - val_loss: 0.1234 - val_mae: 0.2537\n",
      "Epoch 9/50\n",
      "12424/12424 [==============================] - 4s 330us/sample - loss: 0.1087 - mae: 0.2438 - val_loss: 0.1052 - val_mae: 0.2360\n",
      "Epoch 10/50\n",
      "12424/12424 [==============================] - 5s 428us/sample - loss: 0.1082 - mae: 0.2426 - val_loss: 0.1053 - val_mae: 0.2344\n",
      "Epoch 11/50\n",
      "12424/12424 [==============================] - 4s 295us/sample - loss: 0.1062 - mae: 0.2402 - val_loss: 0.1070 - val_mae: 0.2380\n",
      "Epoch 12/50\n",
      "12424/12424 [==============================] - 4s 300us/sample - loss: 0.1041 - mae: 0.2378 - val_loss: 0.0968 - val_mae: 0.2290\n",
      "Epoch 13/50\n",
      "12424/12424 [==============================] - 4s 299us/sample - loss: 0.1051 - mae: 0.2376 - val_loss: 0.1034 - val_mae: 0.2334\n",
      "Epoch 14/50\n",
      "12424/12424 [==============================] - 4s 324us/sample - loss: 0.1031 - mae: 0.2354 - val_loss: 0.1047 - val_mae: 0.2354\n",
      "Epoch 15/50\n",
      "12424/12424 [==============================] - 4s 315us/sample - loss: 0.1031 - mae: 0.2352 - val_loss: 0.1311 - val_mae: 0.2674\n",
      "Epoch 16/50\n",
      "12424/12424 [==============================] - 4s 346us/sample - loss: 0.1042 - mae: 0.2373 - val_loss: 0.1046 - val_mae: 0.2387\n",
      "Epoch 17/50\n",
      "12424/12424 [==============================] - 5s 389us/sample - loss: 0.1038 - mae: 0.2364 - val_loss: 0.0956 - val_mae: 0.2305\n",
      "Epoch 18/50\n",
      "12424/12424 [==============================] - 5s 363us/sample - loss: 0.1017 - mae: 0.2338 - val_loss: 0.0900 - val_mae: 0.2273\n",
      "Epoch 19/50\n",
      "12424/12424 [==============================] - 5s 393us/sample - loss: 0.1036 - mae: 0.2356 - val_loss: 0.0997 - val_mae: 0.2328\n",
      "Epoch 20/50\n",
      "12424/12424 [==============================] - 5s 388us/sample - loss: 0.1045 - mae: 0.2374 - val_loss: 0.0925 - val_mae: 0.2311\n",
      "Epoch 21/50\n",
      "12424/12424 [==============================] - 5s 385us/sample - loss: 0.1007 - mae: 0.2322 - val_loss: 0.0947 - val_mae: 0.2318\n",
      "Epoch 22/50\n",
      "12424/12424 [==============================] - 5s 396us/sample - loss: 0.1007 - mae: 0.2317 - val_loss: 0.0996 - val_mae: 0.2376\n",
      "Epoch 23/50\n",
      "12424/12424 [==============================] - 5s 374us/sample - loss: 0.1008 - mae: 0.2323 - val_loss: 0.1030 - val_mae: 0.2400\n",
      "Epoch 24/50\n",
      "12424/12424 [==============================] - 5s 410us/sample - loss: 0.1014 - mae: 0.2329 - val_loss: 0.1006 - val_mae: 0.2361\n",
      "Epoch 25/50\n",
      "12424/12424 [==============================] - 4s 315us/sample - loss: 0.1002 - mae: 0.2315 - val_loss: 0.0966 - val_mae: 0.2299\n",
      "Epoch 26/50\n",
      "12424/12424 [==============================] - 4s 307us/sample - loss: 0.1009 - mae: 0.2321 - val_loss: 0.0950 - val_mae: 0.2319\n",
      "Epoch 27/50\n",
      "12424/12424 [==============================] - 4s 322us/sample - loss: 0.0997 - mae: 0.2307 - val_loss: 0.0903 - val_mae: 0.2301\n",
      "Epoch 28/50\n",
      "12424/12424 [==============================] - 4s 361us/sample - loss: 0.1002 - mae: 0.2319 - val_loss: 0.0918 - val_mae: 0.2312\n",
      "Epoch 29/50\n",
      "12424/12424 [==============================] - 4s 319us/sample - loss: 0.0995 - mae: 0.2303 - val_loss: 0.0917 - val_mae: 0.2275\n",
      "Epoch 30/50\n",
      "12424/12424 [==============================] - 4s 315us/sample - loss: 0.1021 - mae: 0.2340 - val_loss: 0.0948 - val_mae: 0.2285\n",
      "Epoch 31/50\n",
      "12424/12424 [==============================] - 4s 302us/sample - loss: 0.0993 - mae: 0.2293 - val_loss: 0.0955 - val_mae: 0.2331- mae: 0.229\n",
      "Epoch 32/50\n",
      "12424/12424 [==============================] - 4s 313us/sample - loss: 0.0990 - mae: 0.2296 - val_loss: 0.0977 - val_mae: 0.2317\n",
      "Epoch 33/50\n",
      "12424/12424 [==============================] - 4s 295us/sample - loss: 0.0991 - mae: 0.2296 - val_loss: 0.0982 - val_mae: 0.2334\n",
      "Epoch 34/50\n",
      "12424/12424 [==============================] - 4s 301us/sample - loss: 0.0998 - mae: 0.2311 - val_loss: 0.1024 - val_mae: 0.2358\n",
      "Epoch 35/50\n",
      "12424/12424 [==============================] - 4s 317us/sample - loss: 0.0975 - mae: 0.2281 - val_loss: 0.0950 - val_mae: 0.2275\n",
      "Epoch 36/50\n",
      "12424/12424 [==============================] - 4s 308us/sample - loss: 0.0991 - mae: 0.2300 - val_loss: 0.0962 - val_mae: 0.2330\n",
      "Epoch 37/50\n",
      "12424/12424 [==============================] - 4s 314us/sample - loss: 0.0983 - mae: 0.2297 - val_loss: 0.1019 - val_mae: 0.2355\n",
      "Epoch 38/50\n",
      "12424/12424 [==============================] - 4s 312us/sample - loss: 0.0985 - mae: 0.2291 - val_loss: 0.0953 - val_mae: 0.2313\n",
      "Epoch 39/50\n",
      "12424/12424 [==============================] - 5s 398us/sample - loss: 0.0988 - mae: 0.2296 - val_loss: 0.0958 - val_mae: 0.2282\n",
      "Epoch 40/50\n",
      "12424/12424 [==============================] - 4s 325us/sample - loss: 0.0970 - mae: 0.2267 - val_loss: 0.0990 - val_mae: 0.2307\n",
      "Epoch 41/50\n",
      "12424/12424 [==============================] - 4s 319us/sample - loss: 0.0954 - mae: 0.2253 - val_loss: 0.0952 - val_mae: 0.2272\n",
      "Epoch 42/50\n",
      "12424/12424 [==============================] - 4s 296us/sample - loss: 0.0958 - mae: 0.2259 - val_loss: 0.0949 - val_mae: 0.2285\n",
      "Epoch 43/50\n",
      "12424/12424 [==============================] - 4s 315us/sample - loss: 0.0975 - mae: 0.2274 - val_loss: 0.0984 - val_mae: 0.2279\n",
      "Epoch 44/50\n",
      "12424/12424 [==============================] - 4s 310us/sample - loss: 0.0960 - mae: 0.2259 - val_loss: 0.0928 - val_mae: 0.2251\n",
      "Epoch 45/50\n",
      "12424/12424 [==============================] - 4s 348us/sample - loss: 0.0950 - mae: 0.2242 - val_loss: 0.1005 - val_mae: 0.2364\n",
      "Epoch 46/50\n",
      "12424/12424 [==============================] - 4s 291us/sample - loss: 0.0966 - mae: 0.2268 - val_loss: 0.0980 - val_mae: 0.2304\n",
      "Epoch 47/50\n",
      "12424/12424 [==============================] - 4s 296us/sample - loss: 0.0957 - mae: 0.2255 - val_loss: 0.1021 - val_mae: 0.2321\n",
      "Epoch 48/50\n",
      "12424/12424 [==============================] - 4s 310us/sample - loss: 0.0943 - mae: 0.2241 - val_loss: 0.0871 - val_mae: 0.2218\n",
      "Epoch 49/50\n",
      "12424/12424 [==============================] - 4s 322us/sample - loss: 0.0960 - mae: 0.2259 - val_loss: 0.0896 - val_mae: 0.2189\n",
      "Epoch 50/50\n",
      "12424/12424 [==============================] - 4s 345us/sample - loss: 0.0942 - mae: 0.2238 - val_loss: 0.0906 - val_mae: 0.2287\n"
     ]
    }
   ],
   "source": [
    "history=model.fit(x = X_train, y = y_train, validation_data = (X_test, y_test), epochs=50, batch_size = 64)\n",
    "predictions = model.predict(X_test)\n"
   ]
  },
  {
   "cell_type": "code",
   "execution_count": 10,
   "metadata": {},
   "outputs": [
    {
     "data": {
      "text/plain": [
       "(array([[8.566843 ],\n",
       "        [8.34615  ],\n",
       "        [8.388068 ],\n",
       "        [7.6364098],\n",
       "        [7.5929627],\n",
       "        [8.752575 ],\n",
       "        [8.572054 ],\n",
       "        [8.385253 ],\n",
       "        [8.535502 ],\n",
       "        [8.63626  ]], dtype=float32),\n",
       " array([[8.54500289],\n",
       "        [8.37047041],\n",
       "        [8.69484149],\n",
       "        [7.71760729],\n",
       "        [7.7403941 ],\n",
       "        [8.80751024],\n",
       "        [8.25992587],\n",
       "        [8.85311972],\n",
       "        [8.44308082],\n",
       "        [8.96784072]]))"
      ]
     },
     "execution_count": 10,
     "metadata": {},
     "output_type": "execute_result"
    }
   ],
   "source": [
    "predictions[:10], y_test.to_numpy()[:10]"
   ]
  },
  {
   "cell_type": "code",
   "execution_count": 11,
   "metadata": {},
   "outputs": [
    {
     "data": {
      "text/plain": [
       "(0.09063756924533693, 0.22869240875762425)"
      ]
     },
     "execution_count": 11,
     "metadata": {},
     "output_type": "execute_result"
    }
   ],
   "source": [
    "from sklearn.metrics import mean_squared_error, mean_absolute_error\n",
    "mean_squared_error(predictions, y_test), mean_absolute_error(predictions, y_test)"
   ]
  },
  {
   "cell_type": "code",
   "execution_count": 12,
   "metadata": {},
   "outputs": [
    {
     "data": {
      "text/plain": [
       "[<matplotlib.lines.Line2D at 0x134e44347c8>]"
      ]
     },
     "execution_count": 12,
     "metadata": {},
     "output_type": "execute_result"
    },
    {
     "data": {
      "image/png": "[encoded data removed]",
      "text/plain": [
       "<Figure size 432x288 with 1 Axes>"
      ]
     },
     "metadata": {
      "needs_background": "light"
     },
     "output_type": "display_data"
    }
   ],
   "source": [
    "epochs = 150\n",
    "plt.plot(range(0, len(history.history[\"loss\"])), history.history[\"loss\"][0:])"
   ]
  },
  {
   "cell_type": "code",
   "execution_count": 14,
   "metadata": {},
   "outputs": [
    {
     "name": "stdout",
     "output_type": "stream",
     "text": [
      "Enter the value of number_of_rooms : 1\n",
      "Enter the value of floor_on : 3\n",
      "Enter the value of total_floors : 3\n",
      "Enter the value of bedroom : 1\n",
      "Enter the value of pincode : 12203\n",
      "Enter the value of balkon : 1\n",
      "Enter the value of terrasse : 1\n",
      "Enter the value of garten : 0\n",
      "Enter the value of Gaste-WC : 0\n",
      "Enter the value of Aufzug : 1\n",
      "Enter the value of wohung : 1\n",
      "Enter the value of construction_year : 1969\n",
      "Enter the value of living_area_m2 : 36.14\n"
     ]
    },
    {
     "data": {
      "text/plain": [
       "array([[2.991075  ],\n",
       "       [2.934059  ],\n",
       "       [2.934059  ],\n",
       "       [2.991075  ],\n",
       "       [2.4385612 ],\n",
       "       [2.991075  ],\n",
       "       [2.991075  ],\n",
       "       [0.28082374],\n",
       "       [0.28082374],\n",
       "       [2.991075  ],\n",
       "       [2.991075  ],\n",
       "       [2.438564  ],\n",
       "       [2.5010955 ]], dtype=float32)"
      ]
     },
     "execution_count": 14,
     "metadata": {},
     "output_type": "execute_result"
    }
   ],
   "source": [
    "array = []\n",
    "for i in data.columns[:-1]:\n",
    "    value = float(input('Enter the value of {} : '.format(i)))\n",
    "    array.append(value)\n",
    "#sq = float(input('cs'))\n",
    "#array.append(np.log1p(sq))\n",
    "str_to_float = [[float(i) for i in array]]\n",
    "two_dim = str_to_float\n",
    "#sqr_living_m2 = two_dim[-1][0]\n",
    "#(two_dim)\n",
    "#model.predict(two_dim)"
   ]
  },
  {
   "cell_type": "code",
   "execution_count": 15,
   "metadata": {},
   "outputs": [
    {
     "data": {
      "text/plain": [
       "[[1.0, 3.0, 3.0, 1.0, 12203.0, 1.0, 1.0, 0.0, 0.0, 1.0, 1.0, 1969.0, 36.14]]"
      ]
     },
     "execution_count": 15,
     "metadata": {},
     "output_type": "execute_result"
    }
   ],
   "source": [
    "two_dim"
   ]
  },
  {
   "cell_type": "code",
   "execution_count": 19,
   "metadata": {},
   "outputs": [
    {
     "data": {
      "text/plain": [
       "36.14"
      ]
     },
     "execution_count": 19,
     "metadata": {},
     "output_type": "execute_result"
    }
   ],
   "source": [
    "two_dim[-1][-1]"
   ]
  },
  {
   "cell_type": "code",
   "execution_count": 18,
   "metadata": {},
   "outputs": [
    {
     "data": {
      "text/plain": [
       "array([[6.595112]], dtype=float32)"
      ]
     },
     "execution_count": 18,
     "metadata": {},
     "output_type": "execute_result"
    }
   ],
   "source": [
    "to = pd.DataFrame(two_dim)\n",
    "score = model.predict(to)\n",
    "score"
   ]
  },
  {
   "cell_type": "code",
   "execution_count": 23,
   "metadata": {},
   "outputs": [
    {
     "name": "stdout",
     "output_type": "stream",
     "text": [
      "The price of house is [[26400.656]]\n"
     ]
    }
   ],
   "source": [
    "original_score = np.expm1(score) * two_dim[-1][-1]\n",
    "print('The price of house is {}'.format(original_score))"
   ]
  },
  {
   "cell_type": "code",
   "execution_count": 22,
   "metadata": {},
   "outputs": [
    {
     "data": {
      "text/plain": [
       "26400.66072086166"
      ]
     },
     "execution_count": 22,
     "metadata": {},
     "output_type": "execute_result"
    }
   ],
   "source": [
    "np.expm1(6.595112) * 36.14"
   ]
  },
  {
   "cell_type": "code",
   "execution_count": 25,
   "metadata": {},
   "outputs": [
    {
     "name": "stdout",
     "output_type": "stream",
     "text": [
      "Enter the value of number_of_rooms : 1\n",
      "Enter the value of floor_on : 3\n",
      "Enter the value of total_floors : 3\n",
      "Enter the value of bedroom : 1\n",
      "Enter the value of pincode : 12203\n",
      "Enter the value of balkon : 1\n",
      "Enter the value of terrasse : 1\n",
      "Enter the value of garten : 0\n",
      "Enter the value of Gaste-WC : 0\n",
      "Enter the value of Aufzug : 1\n",
      "Enter the value of wohung : 1\n",
      "Enter the value of construction_year : 1969\n",
      "living_sq_m236.14\n"
     ]
    }
   ],
   "source": [
    "array = []\n",
    "for i in data.columns[:-2]:\n",
    "    value = float(input('Enter the value of {} : '.format(i)))\n",
    "    array.append(value)\n",
    "sq = float(input('living_sq_m2'))\n",
    "array.append(np.log1p(sq))\n",
    "str_to_float = [[float(i) for i in array]]\n",
    "two_dim1 = str_to_float\n",
    "#sqr_living_m2 = two_dim[-1][0]\n",
    "#(two_dim)\n",
    "#model.predict(two_dim)"
   ]
  },
  {
   "cell_type": "code",
   "execution_count": 28,
   "metadata": {},
   "outputs": [
    {
     "data": {
      "text/plain": [
       "array([[8.467603]], dtype=float32)"
      ]
     },
     "execution_count": 28,
     "metadata": {},
     "output_type": "execute_result"
    }
   ],
   "source": [
    "score = model.predict(pd.DataFrame(two_dim1))\n",
    "score"
   ]
  },
  {
   "cell_type": "code",
   "execution_count": 29,
   "metadata": {},
   "outputs": [
    {
     "name": "stdout",
     "output_type": "stream",
     "text": [
      "The price of house is [[171921.42]]\n"
     ]
    }
   ],
   "source": [
    "original_score = np.expm1(score) * np.expm1(two_dim1[-1][-1])\n",
    "print('The price of house is {}'.format(original_score))"
   ]
  },
  {
   "cell_type": "code",
   "execution_count": 31,
   "metadata": {},
   "outputs": [
    {
     "name": "stdout",
     "output_type": "stream",
     "text": [
      "Enter the value of number_of_rooms : 3\n",
      "Enter the value of floor_on : 2\n",
      "Enter the value of total_floors : 5\n",
      "Enter the value of bedroom : 2\n",
      "Enter the value of pincode : 13405\n",
      "Enter the value of balkon : 1\n",
      "Enter the value of terrasse : 0\n",
      "Enter the value of garten : 0\n",
      "Enter the value of Gaste-WC : 0\n",
      "Enter the value of Aufzug : 0\n",
      "Enter the value of wohung : 1\n",
      "Enter the value of construction_year : 2010\n",
      "living_sq_m2100\n"
     ]
    }
   ],
   "source": [
    "array = []\n",
    "for i in data.columns[:-2]:\n",
    "    value = float(input('Enter the value of {} : '.format(i)))\n",
    "    array.append(value)\n",
    "sq = float(input('living_sq_m2'))\n",
    "array.append(np.log1p(sq))\n",
    "str_to_float = [[float(i) for i in array]]\n",
    "two_dim2 = str_to_float\n",
    "#sqr_living_m2 = two_dim[-1][0]\n",
    "#(two_dim)\n",
    "#model.predict(two_dim)"
   ]
  },
  {
   "cell_type": "code",
   "execution_count": 36,
   "metadata": {},
   "outputs": [
    {
     "data": {
      "text/plain": [
       "[[3.0,\n",
       "  2.0,\n",
       "  5.0,\n",
       "  2.0,\n",
       "  13405.0,\n",
       "  1.0,\n",
       "  0.0,\n",
       "  0.0,\n",
       "  0.0,\n",
       "  0.0,\n",
       "  1.0,\n",
       "  2010.0,\n",
       "  4.61512051684126]]"
      ]
     },
     "execution_count": 36,
     "metadata": {},
     "output_type": "execute_result"
    }
   ],
   "source": [
    "two_dim2"
   ]
  },
  {
   "cell_type": "code",
   "execution_count": 37,
   "metadata": {},
   "outputs": [
    {
     "data": {
      "text/plain": [
       "array([[8.495926]], dtype=float32)"
      ]
     },
     "execution_count": 37,
     "metadata": {},
     "output_type": "execute_result"
    }
   ],
   "source": [
    "score1 = model.predict(pd.DataFrame(two_dim2))\n",
    "score1"
   ]
  },
  {
   "cell_type": "code",
   "execution_count": 38,
   "metadata": {},
   "outputs": [
    {
     "name": "stdout",
     "output_type": "stream",
     "text": [
      "The price of house is [[489378.62]]\n"
     ]
    }
   ],
   "source": [
    "original_score = np.expm1(score1) * np.expm1(two_dim2[-1][-1])\n",
    "print('The price of house is {}'.format(original_score))"
   ]
  },
  {
   "cell_type": "code",
   "execution_count": 40,
   "metadata": {},
   "outputs": [
    {
     "name": "stdout",
     "output_type": "stream",
     "text": [
      "Enter the value of number_of_rooms : 2\n",
      "Enter the value of floor_on : 2\n",
      "Enter the value of total_floors : 5\n",
      "Enter the value of bedroom : 1\n",
      "Enter the value of pincode : 10439\n",
      "Enter the value of balkon : 0\n",
      "Enter the value of terrasse : 0\n",
      "Enter the value of garten : 0\n",
      "Enter the value of Gaste-WC : 0\n",
      "Enter the value of Aufzug : 0\n",
      "Enter the value of wohung : 1\n",
      "Enter the value of construction_year : 1906\n",
      "living_sq_m258.36\n",
      "[[2.0, 2.0, 5.0, 1.0, 10439.0, 0.0, 0.0, 0.0, 0.0, 0.0, 1.0, 1906.0, 4.083620598859125]]\n",
      "The price of house is [[284551.75]]\n"
     ]
    }
   ],
   "source": [
    "array = []\n",
    "for i in data.columns[:-2]:\n",
    "    value = float(input('Enter the value of {} : '.format(i)))\n",
    "    array.append(value)\n",
    "sq = float(input('living_sq_m2'))\n",
    "array.append(np.log1p(sq))\n",
    "str_to_float = [[float(i) for i in array]]\n",
    "two_dim3 = str_to_float\n",
    "print(two_dim3)\n",
    "score3 = model.predict(pd.DataFrame(two_dim3))\n",
    "original_score = np.expm1(score3) * np.expm1(two_dim3[-1][-1])\n",
    "print('The price of house is {}'.format(original_score))"
   ]
  },
  {
   "cell_type": "code",
   "execution_count": null,
   "metadata": {},
   "outputs": [],
   "source": []
  },
  {
   "cell_type": "code",
   "execution_count": null,
   "metadata": {},
   "outputs": [],
   "source": []
  },
  {
   "cell_type": "code",
   "execution_count": null,
   "metadata": {},
   "outputs": [],
   "source": []
  },
  {
   "cell_type": "code",
   "execution_count": null,
   "metadata": {},
   "outputs": [],
   "source": []
  },
  {
   "cell_type": "code",
   "execution_count": null,
   "metadata": {},
   "outputs": [],
   "source": []
  },
  {
   "cell_type": "code",
   "execution_count": null,
   "metadata": {},
   "outputs": [],
   "source": []
  },
  {
   "cell_type": "code",
   "execution_count": null,
   "metadata": {},
   "outputs": [],
   "source": []
  },
  {
   "cell_type": "code",
   "execution_count": null,
   "metadata": {},
   "outputs": [],
   "source": []
  },
  {
   "cell_type": "code",
   "execution_count": null,
   "metadata": {},
   "outputs": [],
   "source": []
  },
  {
   "cell_type": "code",
   "execution_count": null,
   "metadata": {},
   "outputs": [],
   "source": []
  },
  {
   "cell_type": "code",
   "execution_count": 8,
   "metadata": {},
   "outputs": [
    {
     "data": {
      "text/plain": [
       "(array([[8.624985],\n",
       "        [8.448158],\n",
       "        [8.433627],\n",
       "        [7.847938],\n",
       "        [7.717858],\n",
       "        [8.68112 ],\n",
       "        [8.453493],\n",
       "        [8.424903],\n",
       "        [8.629133],\n",
       "        [8.523428]], dtype=float32),\n",
       " array([[8.54500289],\n",
       "        [8.37047041],\n",
       "        [8.69484149],\n",
       "        [7.71760729],\n",
       "        [7.7403941 ],\n",
       "        [8.80751024],\n",
       "        [8.25992587],\n",
       "        [8.85311972],\n",
       "        [8.44308082],\n",
       "        [8.96784072]]))"
      ]
     },
     "execution_count": 8,
     "metadata": {},
     "output_type": "execute_result"
    }
   ],
   "source": [
    "predictions[:10], y_test.to_numpy()[:10]"
   ]
  },
  {
   "cell_type": "code",
   "execution_count": 9,
   "metadata": {},
   "outputs": [
    {
     "data": {
      "text/plain": [
       "(0.09521800298301904, 0.23610756083354892)"
      ]
     },
     "execution_count": 9,
     "metadata": {},
     "output_type": "execute_result"
    }
   ],
   "source": [
    "from sklearn.metrics import mean_squared_error, mean_absolute_error\n",
    "mean_squared_error(predictions, y_test), mean_absolute_error(predictions, y_test)"
   ]
  },
  {
   "cell_type": "code",
   "execution_count": 10,
   "metadata": {},
   "outputs": [
    {
     "data": {
      "text/plain": [
       "[<matplotlib.lines.Line2D at 0x2a65729c708>]"
      ]
     },
     "execution_count": 10,
     "metadata": {},
     "output_type": "execute_result"
    },
    {
     "data": {
      "image/png": "[encoded data removed]",
      "text/plain": [
       "<Figure size 432x288 with 1 Axes>"
      ]
     },
     "metadata": {
      "needs_background": "light"
     },
     "output_type": "display_data"
    }
   ],
   "source": [
    "epochs = 150\n",
    "plt.plot(range(1, len(history.history[\"loss\"])), history.history[\"loss\"][1:])"
   ]
  },
  {
   "cell_type": "code",
   "execution_count": 11,
   "metadata": {},
   "outputs": [
    {
     "data": {
      "text/plain": [
       "[<matplotlib.lines.Line2D at 0x2a65a234608>]"
      ]
     },
     "execution_count": 11,
     "metadata": {},
     "output_type": "execute_result"
    },
    {
     "data": {
      "image/png": "[encoded data removed]",
      "text/plain": [
       "<Figure size 432x288 with 1 Axes>"
      ]
     },
     "metadata": {
      "needs_background": "light"
     },
     "output_type": "display_data"
    }
   ],
   "source": [
    "plt.plot(range(1, len(history.history[\"val_loss\"])), history.history[\"val_loss\"][1:])"
   ]
  },
  {
   "cell_type": "code",
   "execution_count": 12,
   "metadata": {},
   "outputs": [
    {
     "name": "stdout",
     "output_type": "stream",
     "text": [
      "319/319 [==============================] - 0s 122us/sample - loss: 0.0952 - mae: 0.2361\n"
     ]
    },
    {
     "data": {
      "text/plain": [
       "[0.09521800336839636, 0.23610754]"
      ]
     },
     "execution_count": 12,
     "metadata": {},
     "output_type": "execute_result"
    }
   ],
   "source": [
    "model.evaluate(X_test, y_test)"
   ]
  },
  {
   "cell_type": "code",
   "execution_count": 13,
   "metadata": {},
   "outputs": [],
   "source": [
    "sq_ftt = X_test.head(10)\n",
    "sqr_ft = sq_ftt['living_area_m2']"
   ]
  },
  {
   "cell_type": "code",
   "execution_count": 14,
   "metadata": {},
   "outputs": [
    {
     "data": {
      "text/plain": [
       "([[8.545002892000001],\n",
       "  [8.370470412000001],\n",
       "  [8.694841486],\n",
       "  [7.717607289],\n",
       "  [7.740394095],\n",
       "  [8.807510236],\n",
       "  [8.25992587],\n",
       "  [8.853119722],\n",
       "  [8.443080823999999],\n",
       "  [8.967840722]],\n",
       " [[8.624984741210938],\n",
       "  [8.448158264160156],\n",
       "  [8.433627128601074],\n",
       "  [7.847938060760498],\n",
       "  [7.717857837677002],\n",
       "  [8.681119918823242],\n",
       "  [8.453493118286133],\n",
       "  [8.42490291595459],\n",
       "  [8.629133224487305],\n",
       "  [8.523427963256836]])"
      ]
     },
     "execution_count": 14,
     "metadata": {},
     "output_type": "execute_result"
    }
   ],
   "source": [
    "p = predictions[:10]\n",
    "p = p.tolist()\n",
    "y_test = y_test[:10]\n",
    "\n",
    "y_t = y_test.to_numpy().tolist()\n",
    "y_t, p"
   ]
  },
  {
   "cell_type": "code",
   "execution_count": 15,
   "metadata": {},
   "outputs": [
    {
     "name": "stdout",
     "output_type": "stream",
     "text": [
      "true [505103.25009856]\n",
      "pred [547161.88716223]\n",
      "true [263377.66665733]\n",
      "pred [284654.69499346]\n",
      "true [311023.10593111]\n",
      "pred [239523.81485287]\n",
      "true [494466.57537998]\n",
      "pred [563298.86319285]\n",
      "true [427684.37845084]\n",
      "pred [418153.76874746]\n",
      "true [382740.51652174]\n",
      "pred [337298.04291468]\n",
      "true [258931.78743056]\n",
      "pred [314232.10674791]\n",
      "true [457060.51131931]\n",
      "pred [297852.67527026]\n",
      "true [459640.83683441]\n",
      "pred [553630.66541855]\n",
      "true [806948.48014018]\n",
      "pred [517415.93436624]\n"
     ]
    }
   ],
   "source": [
    "for i, j, k in zip(y_t, sqr_ft, p):\n",
    "    print('true',np.exp(i) * np.exp(j))\n",
    "    print('pred',np.exp(k) * np.exp(j))"
   ]
  },
  {
   "cell_type": "code",
   "execution_count": 18,
   "metadata": {},
   "outputs": [
    {
     "name": "stdout",
     "output_type": "stream",
     "text": [
      "Enter the value of number_of_rooms : 2\n",
      "Enter the value of floor_on : 2\n",
      "Enter the value of total_floors : 2\n",
      "Enter the value of bedroom : 2\n",
      "Enter the value of pincode : 12209\n",
      "Enter the value of balkon : 2\n",
      "Enter the value of terrasse : 1\n",
      "Enter the value of garten : 2\n",
      "Enter the value of Gaste-WC : 1\n",
      "Enter the value of Aufzug : 1\n",
      "Enter the value of wohung : 1\n",
      "Enter the value of construction_year : 1980\n",
      "Enter the value of living_area_m2 : 4.04\n",
      "The price of house is [[ 6524.77  ]\n",
      " [ 6524.77  ]\n",
      " [ 6524.77  ]\n",
      " [ 6524.77  ]\n",
      " [ 2157.3552]\n",
      " [ 6524.77  ]\n",
      " [10122.574 ]\n",
      " [ 6524.77  ]\n",
      " [10122.574 ]\n",
      " [10122.574 ]\n",
      " [10122.574 ]\n",
      " [ 2157.3552]\n",
      " [ 3599.7964]]\n"
     ]
    }
   ],
   "source": [
    "array = []\n",
    "for i in data.columns[:-1]:\n",
    "    value = float(input('Enter the value of {} : '.format(i)))\n",
    "    array.append(value)\n",
    "sq = float(input('cs'))\n",
    "array.append(np.log1p(sq))\n",
    "str_to_float = [[float(i) for i in array]]\n",
    "two_dim = str_to_float\n",
    "sqr_living_m2 = two_dim[-1][-1]\n",
    "score = model.predict([[2.0, 2.0, 2.0, 2.0, 12209.0, 2.0, 1.0, 2.0, 1.0, 1.0, 1.0, 1980.0, 4.04]])\n",
    "score\n",
    "original_score = np.expm1(score) * np.expm1(sqr_living_m2)\n",
    "print('The price of house is {}'.format(original_score))"
   ]
  },
  {
   "cell_type": "code",
   "execution_count": 24,
   "metadata": {},
   "outputs": [
    {
     "data": {
      "text/plain": [
       "[[2.0, 2.0, 2.0, 2.0, 12209.0, 2.0, 1.0, 2.0, 1.0, 1.0, 1.0, 1980.0, 4.04]]"
      ]
     },
     "execution_count": 24,
     "metadata": {},
     "output_type": "execute_result"
    }
   ],
   "source": [
    "two_dim"
   ]
  },
  {
   "cell_type": "code",
   "execution_count": 28,
   "metadata": {},
   "outputs": [
    {
     "data": {
      "text/plain": [
       "array([[4.743361 ],\n",
       "       [4.743361 ],\n",
       "       [4.743361 ],\n",
       "       [4.743361 ],\n",
       "       [3.6366384],\n",
       "       [4.743361 ],\n",
       "       [5.1825233],\n",
       "       [4.743361 ],\n",
       "       [5.1825233],\n",
       "       [5.1825233],\n",
       "       [5.1825233],\n",
       "       [3.6366384],\n",
       "       [4.1486325]], dtype=float32)"
      ]
     },
     "execution_count": 28,
     "metadata": {},
     "output_type": "execute_result"
    }
   ],
   "source": [
    "score = model.predict([[2.0, 2.0, 2.0, 2.0, 12209.0, 2.0, 1.0, 2.0, 1.0, 1.0, 1.0, 1980.0, 4.04]])\n",
    "score"
   ]
  },
  {
   "cell_type": "code",
   "execution_count": null,
   "metadata": {},
   "outputs": [],
   "source": []
  }
 ],
 "metadata": {
  "kernelspec": {
   "display_name": "Python 3",
   "language": "python",
   "name": "python3"
  },
  "language_info": {
   "codemirror_mode": {
    "name": "ipython",
    "version": 3
   },
   "file_extension": ".py",
   "mimetype": "text/x-python",
   "name": "python",
   "nbconvert_exporter": "python",
   "pygments_lexer": "ipython3",
   "version": "3.7.7"
  }
 },
 "nbformat": 4,
 "nbformat_minor": 4
}
