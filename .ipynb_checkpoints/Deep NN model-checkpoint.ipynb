{
 "cells": [
  {
   "cell_type": "code",
   "execution_count": 1,
   "metadata": {},
   "outputs": [
    {
     "name": "stderr",
     "output_type": "stream",
     "text": [
      "C:\\Users\\admin\\Anaconda3\\lib\\site-packages\\tensorflow\\python\\framework\\dtypes.py:523: FutureWarning: Passing (type, 1) or '1type' as a synonym of type is deprecated; in a future version of numpy, it will be understood as (type, (1,)) / '(1,)type'.\n",
      "  _np_qint8 = np.dtype([(\"qint8\", np.int8, 1)])\n",
      "C:\\Users\\admin\\Anaconda3\\lib\\site-packages\\tensorflow\\python\\framework\\dtypes.py:524: FutureWarning: Passing (type, 1) or '1type' as a synonym of type is deprecated; in a future version of numpy, it will be understood as (type, (1,)) / '(1,)type'.\n",
      "  _np_quint8 = np.dtype([(\"quint8\", np.uint8, 1)])\n",
      "C:\\Users\\admin\\Anaconda3\\lib\\site-packages\\tensorflow\\python\\framework\\dtypes.py:525: FutureWarning: Passing (type, 1) or '1type' as a synonym of type is deprecated; in a future version of numpy, it will be understood as (type, (1,)) / '(1,)type'.\n",
      "  _np_qint16 = np.dtype([(\"qint16\", np.int16, 1)])\n",
      "C:\\Users\\admin\\Anaconda3\\lib\\site-packages\\tensorflow\\python\\framework\\dtypes.py:526: FutureWarning: Passing (type, 1) or '1type' as a synonym of type is deprecated; in a future version of numpy, it will be understood as (type, (1,)) / '(1,)type'.\n",
      "  _np_quint16 = np.dtype([(\"quint16\", np.uint16, 1)])\n",
      "C:\\Users\\admin\\Anaconda3\\lib\\site-packages\\tensorflow\\python\\framework\\dtypes.py:527: FutureWarning: Passing (type, 1) or '1type' as a synonym of type is deprecated; in a future version of numpy, it will be understood as (type, (1,)) / '(1,)type'.\n",
      "  _np_qint32 = np.dtype([(\"qint32\", np.int32, 1)])\n",
      "C:\\Users\\admin\\Anaconda3\\lib\\site-packages\\tensorflow\\python\\framework\\dtypes.py:532: FutureWarning: Passing (type, 1) or '1type' as a synonym of type is deprecated; in a future version of numpy, it will be understood as (type, (1,)) / '(1,)type'.\n",
      "  np_resource = np.dtype([(\"resource\", np.ubyte, 1)])\n",
      "C:\\Users\\admin\\Anaconda3\\lib\\site-packages\\tensorboard\\compat\\tensorflow_stub\\dtypes.py:541: FutureWarning: Passing (type, 1) or '1type' as a synonym of type is deprecated; in a future version of numpy, it will be understood as (type, (1,)) / '(1,)type'.\n",
      "  _np_qint8 = np.dtype([(\"qint8\", np.int8, 1)])\n",
      "C:\\Users\\admin\\Anaconda3\\lib\\site-packages\\tensorboard\\compat\\tensorflow_stub\\dtypes.py:542: FutureWarning: Passing (type, 1) or '1type' as a synonym of type is deprecated; in a future version of numpy, it will be understood as (type, (1,)) / '(1,)type'.\n",
      "  _np_quint8 = np.dtype([(\"quint8\", np.uint8, 1)])\n",
      "C:\\Users\\admin\\Anaconda3\\lib\\site-packages\\tensorboard\\compat\\tensorflow_stub\\dtypes.py:543: FutureWarning: Passing (type, 1) or '1type' as a synonym of type is deprecated; in a future version of numpy, it will be understood as (type, (1,)) / '(1,)type'.\n",
      "  _np_qint16 = np.dtype([(\"qint16\", np.int16, 1)])\n",
      "C:\\Users\\admin\\Anaconda3\\lib\\site-packages\\tensorboard\\compat\\tensorflow_stub\\dtypes.py:544: FutureWarning: Passing (type, 1) or '1type' as a synonym of type is deprecated; in a future version of numpy, it will be understood as (type, (1,)) / '(1,)type'.\n",
      "  _np_quint16 = np.dtype([(\"quint16\", np.uint16, 1)])\n",
      "C:\\Users\\admin\\Anaconda3\\lib\\site-packages\\tensorboard\\compat\\tensorflow_stub\\dtypes.py:545: FutureWarning: Passing (type, 1) or '1type' as a synonym of type is deprecated; in a future version of numpy, it will be understood as (type, (1,)) / '(1,)type'.\n",
      "  _np_qint32 = np.dtype([(\"qint32\", np.int32, 1)])\n",
      "C:\\Users\\admin\\Anaconda3\\lib\\site-packages\\tensorboard\\compat\\tensorflow_stub\\dtypes.py:550: FutureWarning: Passing (type, 1) or '1type' as a synonym of type is deprecated; in a future version of numpy, it will be understood as (type, (1,)) / '(1,)type'.\n",
      "  np_resource = np.dtype([(\"resource\", np.ubyte, 1)])\n"
     ]
    }
   ],
   "source": [
    "import tensorflow as tf\n",
    "import numpy as np\n",
    "import pandas as pd\n",
    "import numpy as np\n",
    "import pandas as pd\n",
    "import matplotlib.pyplot as plt\n",
    "#import seaborn as sns\n",
    "from scipy import stats\n",
    "from sklearn.ensemble import RandomForestRegressor\n",
    "from sklearn.metrics import mean_squared_error, mean_absolute_error\n",
    "from sklearn.model_selection import train_test_split\n",
    "from sklearn.metrics import r2_score\n",
    "import seaborn as sns"
   ]
  },
  {
   "cell_type": "code",
   "execution_count": 2,
   "metadata": {},
   "outputs": [
    {
     "data": {
      "text/html": [
       "<div>\n",
       "<style scoped>\n",
       "    .dataframe tbody tr th:only-of-type {\n",
       "        vertical-align: middle;\n",
       "    }\n",
       "\n",
       "    .dataframe tbody tr th {\n",
       "        vertical-align: top;\n",
       "    }\n",
       "\n",
       "    .dataframe thead th {\n",
       "        text-align: right;\n",
       "    }\n",
       "</style>\n",
       "<table border=\"1\" class=\"dataframe\">\n",
       "  <thead>\n",
       "    <tr style=\"text-align: right;\">\n",
       "      <th></th>\n",
       "      <th>purchase_price_1</th>\n",
       "      <th>living_space_in_m2</th>\n",
       "      <th>number_of_rooms_1</th>\n",
       "      <th>floor_1</th>\n",
       "      <th>contruction_year_1</th>\n",
       "      <th>lat</th>\n",
       "      <th>lon</th>\n",
       "      <th>pickup cluster</th>\n",
       "      <th>Attikawohnungen</th>\n",
       "      <th>Dachgeschosswohnungen</th>\n",
       "      <th>...</th>\n",
       "      <th>Lofts</th>\n",
       "      <th>Maisonettes</th>\n",
       "      <th>Penthouse</th>\n",
       "      <th>RohdachbÃ¶den</th>\n",
       "      <th>Terrassenwohnungen</th>\n",
       "      <th>Wohnungen</th>\n",
       "      <th>terrasse_1</th>\n",
       "      <th>balkon_1</th>\n",
       "      <th>garten_1</th>\n",
       "      <th>Aufzug_1</th>\n",
       "    </tr>\n",
       "  </thead>\n",
       "  <tbody>\n",
       "    <tr>\n",
       "      <th>25755</th>\n",
       "      <td>279000.0</td>\n",
       "      <td>68.156</td>\n",
       "      <td>2.8</td>\n",
       "      <td>1.0</td>\n",
       "      <td>1898</td>\n",
       "      <td>0.915525</td>\n",
       "      <td>0.232387</td>\n",
       "      <td>0</td>\n",
       "      <td>0</td>\n",
       "      <td>1</td>\n",
       "      <td>...</td>\n",
       "      <td>0</td>\n",
       "      <td>0</td>\n",
       "      <td>0</td>\n",
       "      <td>0</td>\n",
       "      <td>0</td>\n",
       "      <td>0</td>\n",
       "      <td>0</td>\n",
       "      <td>0</td>\n",
       "      <td>0</td>\n",
       "      <td>0</td>\n",
       "    </tr>\n",
       "    <tr>\n",
       "      <th>19800</th>\n",
       "      <td>279000.0</td>\n",
       "      <td>85.000</td>\n",
       "      <td>3.0</td>\n",
       "      <td>1.0</td>\n",
       "      <td>1964</td>\n",
       "      <td>0.917588</td>\n",
       "      <td>0.232521</td>\n",
       "      <td>0</td>\n",
       "      <td>0</td>\n",
       "      <td>0</td>\n",
       "      <td>...</td>\n",
       "      <td>0</td>\n",
       "      <td>0</td>\n",
       "      <td>0</td>\n",
       "      <td>0</td>\n",
       "      <td>0</td>\n",
       "      <td>0</td>\n",
       "      <td>0</td>\n",
       "      <td>1</td>\n",
       "      <td>0</td>\n",
       "      <td>0</td>\n",
       "    </tr>\n",
       "    <tr>\n",
       "      <th>10951</th>\n",
       "      <td>179000.0</td>\n",
       "      <td>32.000</td>\n",
       "      <td>1.0</td>\n",
       "      <td>5.0</td>\n",
       "      <td>1954</td>\n",
       "      <td>0.916437</td>\n",
       "      <td>0.232181</td>\n",
       "      <td>0</td>\n",
       "      <td>0</td>\n",
       "      <td>0</td>\n",
       "      <td>...</td>\n",
       "      <td>0</td>\n",
       "      <td>0</td>\n",
       "      <td>0</td>\n",
       "      <td>0</td>\n",
       "      <td>0</td>\n",
       "      <td>0</td>\n",
       "      <td>0</td>\n",
       "      <td>1</td>\n",
       "      <td>0</td>\n",
       "      <td>1</td>\n",
       "    </tr>\n",
       "  </tbody>\n",
       "</table>\n",
       "<p>3 rows × 22 columns</p>\n",
       "</div>"
      ],
      "text/plain": [
       "       purchase_price_1  living_space_in_m2  number_of_rooms_1  floor_1  \\\n",
       "25755          279000.0              68.156                2.8      1.0   \n",
       "19800          279000.0              85.000                3.0      1.0   \n",
       "10951          179000.0              32.000                1.0      5.0   \n",
       "\n",
       "       contruction_year_1       lat       lon  pickup cluster  \\\n",
       "25755                1898  0.915525  0.232387               0   \n",
       "19800                1964  0.917588  0.232521               0   \n",
       "10951                1954  0.916437  0.232181               0   \n",
       "\n",
       "       Attikawohnungen   Dachgeschosswohnungen  ...  Lofts  Maisonettes  \\\n",
       "25755                 0                      1  ...      0            0   \n",
       "19800                 0                      0  ...      0            0   \n",
       "10951                 0                      0  ...      0            0   \n",
       "\n",
       "       Penthouse  RohdachbÃ¶den  Terrassenwohnungen  Wohnungen  terrasse_1  \\\n",
       "25755          0              0                   0          0           0   \n",
       "19800          0              0                   0          0           0   \n",
       "10951          0              0                   0          0           0   \n",
       "\n",
       "       balkon_1  garten_1  Aufzug_1  \n",
       "25755         0         0         0  \n",
       "19800         1         0         0  \n",
       "10951         1         0         1  \n",
       "\n",
       "[3 rows x 22 columns]"
      ]
     },
     "execution_count": 2,
     "metadata": {},
     "output_type": "execute_result"
    }
   ],
   "source": [
    "data = pd.read_csv(r'F:\\amruth\\norm_price.csv', encoding = 'iso-8859-1')\n",
    "data.sample(3)"
   ]
  },
  {
   "cell_type": "code",
   "execution_count": 3,
   "metadata": {},
   "outputs": [
    {
     "name": "stdout",
     "output_type": "stream",
     "text": [
      "<class 'pandas.core.frame.DataFrame'>\n",
      "RangeIndex: 27604 entries, 0 to 27603\n",
      "Data columns (total 22 columns):\n",
      " #   Column                 Non-Null Count  Dtype  \n",
      "---  ------                 --------------  -----  \n",
      " 0   purchase_price_1       27604 non-null  float64\n",
      " 1   living_space_in_m2     27604 non-null  float64\n",
      " 2   number_of_rooms_1      27604 non-null  float64\n",
      " 3   floor_1                27604 non-null  float64\n",
      " 4   contruction_year_1     27604 non-null  int64  \n",
      " 5   lat                    27604 non-null  float64\n",
      " 6   lon                    27604 non-null  float64\n",
      " 7   pickup cluster         27604 non-null  int64  \n",
      " 8   Attikawohnungen        27604 non-null  int64  \n",
      " 9   Dachgeschosswohnungen  27604 non-null  int64  \n",
      " 10  Erdgeschosswohnungen   27604 non-null  int64  \n",
      " 11  Etagenwohnungen        27604 non-null  int64  \n",
      " 12  Lofts                  27604 non-null  int64  \n",
      " 13  Maisonettes            27604 non-null  int64  \n",
      " 14  Penthouse              27604 non-null  int64  \n",
      " 15  RohdachbÃ¶den          27604 non-null  int64  \n",
      " 16  Terrassenwohnungen     27604 non-null  int64  \n",
      " 17  Wohnungen              27604 non-null  int64  \n",
      " 18  terrasse_1             27604 non-null  int64  \n",
      " 19  balkon_1               27604 non-null  int64  \n",
      " 20  garten_1               27604 non-null  int64  \n",
      " 21  Aufzug_1               27604 non-null  int64  \n",
      "dtypes: float64(6), int64(16)\n",
      "memory usage: 4.6 MB\n"
     ]
    }
   ],
   "source": [
    "data.info()"
   ]
  },
  {
   "cell_type": "code",
   "execution_count": 4,
   "metadata": {},
   "outputs": [
    {
     "data": {
      "text/plain": [
       "((27604, 21), (27604, 1))"
      ]
     },
     "execution_count": 4,
     "metadata": {},
     "output_type": "execute_result"
    }
   ],
   "source": [
    "X = data.iloc[:, 1:]\n",
    "y = data[['purchase_price_1']]\n",
    "X.shape, y.shape"
   ]
  },
  {
   "cell_type": "code",
   "execution_count": 5,
   "metadata": {},
   "outputs": [],
   "source": [
    "XX = X.to_numpy()\n",
    "yy = y.to_numpy()"
   ]
  },
  {
   "cell_type": "code",
   "execution_count": 6,
   "metadata": {},
   "outputs": [
    {
     "data": {
      "text/plain": [
       "((27327, 21), (27327, 1), (277, 21))"
      ]
     },
     "execution_count": 6,
     "metadata": {},
     "output_type": "execute_result"
    }
   ],
   "source": [
    "X_train, X_test, y_train, y_test = train_test_split(X, y, test_size = 0.01, random_state = 0)\n",
    "X_train.shape, y_train.shape, X_test.shape"
   ]
  },
  {
   "cell_type": "code",
   "execution_count": 7,
   "metadata": {},
   "outputs": [],
   "source": [
    "tf.random.set_seed(20)\n",
    "np.random.seed(1)\n",
    "five_layer_model = tf.keras.models.Sequential()\n",
    "five_layer_model.add(tf.keras.layers.Dense(600, activation='relu',input_dim=X.shape[1:][0]))\n",
    "five_layer_model.add(tf.keras.layers.Dense(450,activation='relu'))\n",
    "five_layer_model.add(tf.keras.layers.Dense(300,activation='relu'))\n",
    "five_layer_model.add(tf.keras.layers.Dense(100,activation='relu'))\n",
    "five_layer_model.add(tf.keras.layers.Dense(50,activation='relu'))\n",
    "five_layer_model.add(tf.keras.layers.Dense(1))\n",
    "\n",
    "five_layer_model.compile(loss='mse', optimizer='adam', \n",
    "                         metrics=['mae'])"
   ]
  },
  {
   "cell_type": "code",
   "execution_count": 8,
   "metadata": {},
   "outputs": [
    {
     "name": "stdout",
     "output_type": "stream",
     "text": [
      "Train on 27327 samples, validate on 277 samples\n",
      "Epoch 1/50\n",
      "27327/27327 [==============================] - 8s 299us/sample - loss: 32968155001.8124 - mae: 130572.6719 - val_loss: 11335616737.5018 - val_mae: 81580.7188\n",
      "Epoch 2/50\n",
      "27327/27327 [==============================] - 6s 233us/sample - loss: 17872518460.3394 - mae: 91175.3047 - val_loss: 10581833491.4079 - val_mae: 78743.8594\n",
      "Epoch 3/50\n",
      "27327/27327 [==============================] - 6s 234us/sample - loss: 16171266111.9274 - mae: 87130.7969 - val_loss: 10269009742.5560 - val_mae: 77004.6250\n",
      "Epoch 4/50\n",
      "27327/27327 [==============================] - 6s 232us/sample - loss: 13175428709.3808 - mae: 82264.5469 - val_loss: 10131395861.2563 - val_mae: 75968.7812\n",
      "Epoch 5/50\n",
      "27327/27327 [==============================] - 7s 253us/sample - loss: 12431859738.0618 - mae: 80488.3750 - val_loss: 10055869286.5848 - val_mae: 75364.5234\n",
      "Epoch 6/50\n",
      "27327/27327 [==============================] - 7s 243us/sample - loss: 12420801738.9114 - mae: 80586.7344 - val_loss: 9665362659.3502 - val_mae: 73611.9688\n",
      "Epoch 7/50\n",
      "27327/27327 [==============================] - 7s 238us/sample - loss: 12291042839.2140 - mae: 80021.8594 - val_loss: 9781999826.7148 - val_mae: 74178.6250\n",
      "Epoch 8/50\n",
      "27327/27327 [==============================] - 7s 240us/sample - loss: 12300660061.5397 - mae: 79961.4766 - val_loss: 9626706134.4116 - val_mae: 73684.7734\n",
      "Epoch 9/50\n",
      "27327/27327 [==============================] - 7s 246us/sample - loss: 12212127365.4381 - mae: 79576.4219 - val_loss: 10026545292.4765 - val_mae: 75248.2969\n",
      "Epoch 10/50\n",
      "27327/27327 [==============================] - 7s 243us/sample - loss: 12115042392.0594 - mae: 79226.9453 - val_loss: 9949542156.0144 - val_mae: 74916.7656\n",
      "Epoch 11/50\n",
      "27327/27327 [==============================] - 7s 240us/sample - loss: 12073352304.0978 - mae: 79020.6406 - val_loss: 9599660190.9603 - val_mae: 73223.1797\n",
      "Epoch 12/50\n",
      "27327/27327 [==============================] - 7s 243us/sample - loss: 12095761333.6928 - mae: 79108.8438 - val_loss: 9465293626.2238 - val_mae: 72478.3203\n",
      "Epoch 13/50\n",
      "27327/27327 [==============================] - 7s 244us/sample - loss: 12012556999.4078 - mae: 78952.6719 - val_loss: 9484997809.4440 - val_mae: 72422.6016\n",
      "Epoch 14/50\n",
      "27327/27327 [==============================] - 7s 256us/sample - loss: 11925452151.4704 - mae: 78541.0781 - val_loss: 9758272615.5090 - val_mae: 73792.9922\n",
      "Epoch 15/50\n",
      "27327/27327 [==============================] - 7s 246us/sample - loss: 11972083396.0353 - mae: 78678.6641 - val_loss: 11630402134.8736 - val_mae: 81271.1172\n",
      "Epoch 16/50\n",
      "27327/27327 [==============================] - 7s 245us/sample - loss: 11935944995.4205 - mae: 78719.4141 - val_loss: 9969121427.8700 - val_mae: 74900.5938\n",
      "Epoch 17/50\n",
      "27327/27327 [==============================] - 7s 246us/sample - loss: 11936264552.9312 - mae: 78647.3906 - val_loss: 9801677964.4765 - val_mae: 73947.3281\n",
      "Epoch 18/50\n",
      "27327/27327 [==============================] - 7s 246us/sample - loss: 11924117835.1784 - mae: 78442.5547 - val_loss: 10472878124.3610 - val_mae: 77308.2344\n",
      "Epoch 19/50\n",
      "27327/27327 [==============================] - 7s 250us/sample - loss: 11933998082.6605 - mae: 78451.5781 - val_loss: 9682596701.3430 - val_mae: 73221.8984\n",
      "Epoch 20/50\n",
      "27327/27327 [==============================] - 7s 250us/sample - loss: 11926833880.3077 - mae: 78598.4766 - val_loss: 9655286469.7762 - val_mae: 72964.9375\n",
      "Epoch 21/50\n",
      "27327/27327 [==============================] - 7s 245us/sample - loss: 11854485696.4942 - mae: 78402.0156 - val_loss: 10242233222.0072 - val_mae: 75682.6875\n",
      "Epoch 22/50\n",
      "27327/27327 [==============================] - 7s 245us/sample - loss: 11899755417.0641 - mae: 78433.6641 - val_loss: 10548063477.8339 - val_mae: 78045.4609\n",
      "Epoch 23/50\n",
      "27327/27327 [==============================] - 7s 274us/sample - loss: 11993780504.5161 - mae: 78781.5469 - val_loss: 9425988888.9531 - val_mae: 72144.5469\n",
      "Epoch 24/50\n",
      "27327/27327 [==============================] - 7s 265us/sample - loss: 11845462507.3341 - mae: 78192.6016 - val_loss: 9513724628.5632 - val_mae: 72415.6406\n",
      "Epoch 25/50\n",
      "27327/27327 [==============================] - 7s 254us/sample - loss: 11916642726.0482 - mae: 78591.9531 - val_loss: 9476168103.2780 - val_mae: 72878.3203\n",
      "Epoch 26/50\n",
      "27327/27327 [==============================] - 6s 232us/sample - loss: 11907099395.9252 - mae: 78524.8828 - val_loss: 9865621670.3538 - val_mae: 74614.6641\n",
      "Epoch 27/50\n",
      "27327/27327 [==============================] - 6s 226us/sample - loss: 11883454063.6856 - mae: 78404.3359 - val_loss: 10326561466.6859 - val_mae: 75998.3516\n",
      "Epoch 28/50\n",
      "27327/27327 [==============================] - 6s 228us/sample - loss: 11870608423.1958 - mae: 78348.7656 - val_loss: 9439564648.4332 - val_mae: 73040.8906\n",
      "Epoch 29/50\n",
      "27327/27327 [==============================] - 7s 241us/sample - loss: 11820315191.8147 - mae: 78104.9297 - val_loss: 9515363523.9278 - val_mae: 72824.8672\n",
      "Epoch 30/50\n",
      "27327/27327 [==============================] - 6s 228us/sample - loss: 11808447320.6121 - mae: 78125.2891 - val_loss: 9393794351.1336 - val_mae: 72015.7656\n",
      "Epoch 31/50\n",
      "27327/27327 [==============================] - 6s 229us/sample - loss: 11830231915.1983 - mae: 78386.5078 - val_loss: 9562321180.6498 - val_mae: 72899.8984\n",
      "Epoch 32/50\n",
      "27327/27327 [==============================] - 7s 254us/sample - loss: 11703704098.7179 - mae: 77791.0703 - val_loss: 9334283482.1083 - val_mae: 71842.1562\n",
      "Epoch 33/50\n",
      "27327/27327 [==============================] - 7s 244us/sample - loss: 11822785303.5231 - mae: 78247.8125 - val_loss: 13010600017.3285 - val_mae: 86457.8047\n",
      "Epoch 34/50\n",
      "27327/27327 [==============================] - 7s 244us/sample - loss: 11850693756.9320 - mae: 78406.4062 - val_loss: 11407265710.6715 - val_mae: 80425.1953\n",
      "Epoch 35/50\n",
      "27327/27327 [==============================] - 7s 245us/sample - loss: 11789726316.8002 - mae: 78141.0547 - val_loss: 9428879674.2238 - val_mae: 72139.0469\n",
      "Epoch 36/50\n",
      "27327/27327 [==============================] - 7s 249us/sample - loss: 11822028411.9390 - mae: 78258.4297 - val_loss: 9336928603.4946 - val_mae: 72325.5859\n",
      "Epoch 37/50\n",
      "27327/27327 [==============================] - 7s 262us/sample - loss: 11764370949.4897 - mae: 77961.7266 - val_loss: 9641241784.8375 - val_mae: 73683.4453\n",
      "Epoch 38/50\n",
      "27327/27327 [==============================] - 7s 250us/sample - loss: 11777724025.3534 - mae: 78027.3203 - val_loss: 10359550003.7545 - val_mae: 77038.0312\n",
      "Epoch 39/50\n",
      "27327/27327 [==============================] - 7s 257us/sample - loss: 11757121307.4952 - mae: 77978.6172 - val_loss: 9311129097.2419 - val_mae: 71880.4688\n",
      "Epoch 40/50\n",
      "27327/27327 [==============================] - 7s 249us/sample - loss: 11845171594.3938 - mae: 78320.0078 - val_loss: 9670347135.5379 - val_mae: 73938.4688\n",
      "Epoch 41/50\n",
      "27327/27327 [==============================] - 7s 259us/sample - loss: 11760013483.8283 - mae: 78027.0781 - val_loss: 9369107840.4621 - val_mae: 72217.7266\n",
      "Epoch 42/50\n",
      "27327/27327 [==============================] - 7s 251us/sample - loss: 11691647147.9782 - mae: 77581.5547 - val_loss: 10133990873.1841 - val_mae: 76026.7266\n",
      "Epoch 43/50\n",
      "27327/27327 [==============================] - 7s 250us/sample - loss: 11817881093.5271 - mae: 78173.5312 - val_loss: 9479678964.9097 - val_mae: 72815.4844\n",
      "Epoch 44/50\n",
      "27327/27327 [==============================] - 7s 252us/sample - loss: 11710585061.1793 - mae: 77677.3125 - val_loss: 9566963582.6137 - val_mae: 72798.6406\n",
      "Epoch 45/50\n",
      "27327/27327 [==============================] - 7s 253us/sample - loss: 11762776342.3053 - mae: 77915.2109 - val_loss: 9391710326.2960 - val_mae: 72314.3203\n",
      "Epoch 46/50\n",
      "27327/27327 [==============================] - 7s 252us/sample - loss: 11695704697.0536 - mae: 77648.2578 - val_loss: 9784639286.5271 - val_mae: 74702.8359\n",
      "Epoch 47/50\n",
      "27327/27327 [==============================] - 7s 266us/sample - loss: 11808072729.7433 - mae: 78296.0703 - val_loss: 9341261809.2130 - val_mae: 72303.8750\n",
      "Epoch 48/50\n",
      "27327/27327 [==============================] - 7s 257us/sample - loss: 11725665566.0245 - mae: 77823.5234 - val_loss: 9485294647.4513 - val_mae: 72883.6484\n",
      "Epoch 49/50\n",
      "27327/27327 [==============================] - 7s 255us/sample - loss: 11728136889.2808 - mae: 77764.6094 - val_loss: 9652393795.4657 - val_mae: 73442.2188\n",
      "Epoch 50/50\n",
      "27327/27327 [==============================] - 7s 247us/sample - loss: 11667531980.9630 - mae: 77498.5469 - val_loss: 9464116793.2996 - val_mae: 72464.6328\n"
     ]
    }
   ],
   "source": [
    "history=five_layer_model.fit(X_train,y_train, validation_data = (X_test, y_test), epochs=50, batch_size = 32)\n",
    "predictions = five_layer_model.predict(X_test)\n"
   ]
  },
  {
   "cell_type": "code",
   "execution_count": 10,
   "metadata": {},
   "outputs": [
    {
     "name": "stdout",
     "output_type": "stream",
     "text": [
      "27327/27327 [==============================] - 2s 82us/sample - loss: 11472694590.7002 - mae: 76269.2891\n",
      "277/277 [==============================] - 0s 97us/sample - loss: 9464116911.5957 - mae: 72464.6328\n"
     ]
    },
    {
     "data": {
      "text/plain": [
       "([11472694590.700186, 76269.29], [9464116911.595669, 72464.63])"
      ]
     },
     "execution_count": 10,
     "metadata": {},
     "output_type": "execute_result"
    }
   ],
   "source": [
    "five_layer_model.evaluate(X_train, y_train), five_layer_model.evaluate(X_test, y_test)"
   ]
  },
  {
   "cell_type": "code",
   "execution_count": 11,
   "metadata": {},
   "outputs": [
    {
     "data": {
      "text/plain": [
       "(array([[627156.2 ],\n",
       "        [337804.7 ],\n",
       "        [211145.03],\n",
       "        [692210.  ],\n",
       "        [575070.6 ]], dtype=float32),\n",
       " array([[632247.],\n",
       "        [329000.],\n",
       "        [514000.],\n",
       "        [913541.],\n",
       "        [548000.]]))"
      ]
     },
     "execution_count": 11,
     "metadata": {},
     "output_type": "execute_result"
    }
   ],
   "source": [
    "predictions[:5], y_test.to_numpy()[:5]"
   ]
  },
  {
   "cell_type": "code",
   "execution_count": 12,
   "metadata": {},
   "outputs": [
    {
     "data": {
      "text/plain": [
       "(9464116850.784664, 72464.63526173285)"
      ]
     },
     "execution_count": 12,
     "metadata": {},
     "output_type": "execute_result"
    }
   ],
   "source": [
    "from sklearn.metrics import mean_squared_error, mean_absolute_error\n",
    "mean_squared_error(predictions, y_test), mean_absolute_error(predictions, y_test)"
   ]
  },
  {
   "cell_type": "code",
   "execution_count": 13,
   "metadata": {},
   "outputs": [
    {
     "data": {
      "text/plain": [
       "[<matplotlib.lines.Line2D at 0x1fd19936f88>]"
      ]
     },
     "execution_count": 13,
     "metadata": {},
     "output_type": "execute_result"
    },
    {
     "data": {
      "image/png": "[encoded data removed]",
      "text/plain": [
       "<Figure size 432x288 with 1 Axes>"
      ]
     },
     "metadata": {
      "needs_background": "light"
     },
     "output_type": "display_data"
    }
   ],
   "source": [
    "epochs = 50\n",
    "plt.plot(range(1, len(history.history[\"loss\"])), history.history[\"loss\"][1:])"
   ]
  },
  {
   "cell_type": "code",
   "execution_count": 28,
   "metadata": {},
   "outputs": [
    {
     "name": "stdout",
     "output_type": "stream",
     "text": [
      "Enter the value of living_space_in_m2 : 58.93\n",
      "Enter the value of number_of_rooms_1 : 2\n",
      "Enter the value of floor_1 : 1\n",
      "Enter the value of contruction_year_1 : 2000\n",
      "Enter the value of lat : 0.9151\n",
      "Enter the value of lon : 0.2364\n",
      "Enter the value of pickup cluster : 0\n",
      "Enter the value of Attikawohnungen  : 0\n",
      "Enter the value of Dachgeschosswohnungen : 0\n",
      "Enter the value of Erdgeschosswohnungen : 0\n",
      "Enter the value of Etagenwohnungen : 1\n",
      "Enter the value of Lofts : 0\n",
      "Enter the value of Maisonettes : 0\n",
      "Enter the value of Penthouse : 0\n",
      "Enter the value of RohdachbÃ¶den : 0\n",
      "Enter the value of Terrassenwohnungen : 0\n",
      "Enter the value of Wohnungen : 0\n",
      "Enter the value of terrasse_1 : 1\n",
      "Enter the value of balkon_1 : 1\n",
      "Enter the value of garten_1 : 0\n",
      "Enter the value of Aufzug_1 : 1\n"
     ]
    },
    {
     "data": {
      "text/plain": [
       "array([[319362.12]], dtype=float32)"
      ]
     },
     "execution_count": 28,
     "metadata": {},
     "output_type": "execute_result"
    }
   ],
   "source": [
    "array = []\n",
    "for i in data.columns[1:]:\n",
    "    value = float(input('Enter the value of {} : '.format(i)))\n",
    "    array.append(value)\n",
    "#sq = float(input('cs'))\n",
    "#array.append(np.log1p(sq))\n",
    "str_to_float = [[float(i) for i in array]]\n",
    "two_dim = str_to_float\n",
    "#sqr_living_m2 = two_dim[-1][0]\n",
    "to = pd.DataFrame(two_dim)\n",
    "five_layer_model.predict(to)"
   ]
  },
  {
   "cell_type": "code",
   "execution_count": 29,
   "metadata": {},
   "outputs": [
    {
     "name": "stdout",
     "output_type": "stream",
     "text": [
      "Enter the value of living_space_in_m2 : 58.93\n",
      "Enter the value of number_of_rooms_1 : 2\n",
      "Enter the value of floor_1 : 1\n",
      "Enter the value of contruction_year_1 : 2000\n",
      "Enter the value of lat : 0.91685\n",
      "Enter the value of lon : 0.23361\n",
      "Enter the value of pickup cluster : 0\n",
      "Enter the value of Attikawohnungen  : 0\n",
      "Enter the value of Dachgeschosswohnungen : 0\n",
      "Enter the value of Erdgeschosswohnungen : 0\n",
      "Enter the value of Etagenwohnungen : 1\n",
      "Enter the value of Lofts : 0\n",
      "Enter the value of Maisonettes : 0\n",
      "Enter the value of Penthouse : 0\n",
      "Enter the value of RohdachbÃ¶den : 0\n",
      "Enter the value of Terrassenwohnungen : 0\n",
      "Enter the value of Wohnungen : 0\n",
      "Enter the value of terrasse_1 : 1\n",
      "Enter the value of balkon_1 : 1\n",
      "Enter the value of garten_1 : 0\n",
      "Enter the value of Aufzug_1 : 1\n"
     ]
    },
    {
     "data": {
      "text/plain": [
       "array([[319360.78]], dtype=float32)"
      ]
     },
     "execution_count": 29,
     "metadata": {},
     "output_type": "execute_result"
    }
   ],
   "source": [
    "array = []\n",
    "for i in data.columns[1:]:\n",
    "    value = float(input('Enter the value of {} : '.format(i)))\n",
    "    array.append(value)\n",
    "#sq = float(input('cs'))\n",
    "#array.append(np.log1p(sq))\n",
    "str_to_float = [[float(i) for i in array]]\n",
    "two_dim = str_to_float\n",
    "#sqr_living_m2 = two_dim[-1][0]\n",
    "to = pd.DataFrame(two_dim)\n",
    "five_layer_model.predict(to)"
   ]
  },
  {
   "cell_type": "code",
   "execution_count": 30,
   "metadata": {},
   "outputs": [
    {
     "name": "stdout",
     "output_type": "stream",
     "text": [
      "Enter the value of living_space_in_m2 : 58.93\n",
      "Enter the value of number_of_rooms_1 : 2\n",
      "Enter the value of floor_1 : 1\n",
      "Enter the value of contruction_year_1 : 2000\n",
      "Enter the value of lat : 0.9171356153379803\n",
      "Enter the value of lon : 0.236696317167715\n",
      "Enter the value of pickup cluster : 0\n",
      "Enter the value of Attikawohnungen  : 0\n",
      "Enter the value of Dachgeschosswohnungen : 0\n",
      "Enter the value of Erdgeschosswohnungen : 0\n",
      "Enter the value of Etagenwohnungen : 1\n",
      "Enter the value of Lofts : 0\n",
      "Enter the value of Maisonettes : 0\n",
      "Enter the value of Penthouse : 0\n",
      "Enter the value of RohdachbÃ¶den : 0\n",
      "Enter the value of Terrassenwohnungen : 0\n",
      "Enter the value of Wohnungen : 0\n",
      "Enter the value of terrasse_1 : 1\n",
      "Enter the value of balkon_1 : 1\n",
      "Enter the value of garten_1 : 0\n",
      "Enter the value of Aufzug_1 : 1\n"
     ]
    },
    {
     "data": {
      "text/plain": [
       "array([[319359.62]], dtype=float32)"
      ]
     },
     "execution_count": 30,
     "metadata": {},
     "output_type": "execute_result"
    }
   ],
   "source": [
    "array = []\n",
    "for i in data.columns[1:]:\n",
    "    value = float(input('Enter the value of {} : '.format(i)))\n",
    "    array.append(value)\n",
    "#sq = float(input('cs'))\n",
    "#array.append(np.log1p(sq))\n",
    "str_to_float = [[float(i) for i in array]]\n",
    "two_dim = str_to_float\n",
    "#sqr_living_m2 = two_dim[-1][0]\n",
    "to = pd.DataFrame(two_dim)\n",
    "five_layer_model.predict(to)"
   ]
  },
  {
   "cell_type": "code",
   "execution_count": 33,
   "metadata": {},
   "outputs": [
    {
     "name": "stdout",
     "output_type": "stream",
     "text": [
      "Enter the value of living_space_in_m2 : 36.14\n",
      "Enter the value of number_of_rooms_1 : 1\n",
      "Enter the value of floor_1 : 3\n",
      "Enter the value of contruction_year_1 : 1969\n",
      "Enter the value of lat : 0.9152960383063783\n",
      "Enter the value of lon : 0.23230855942820125\n",
      "Enter the value of pickup cluster : 0\n",
      "Enter the value of Attikawohnungen  : 0\n",
      "Enter the value of Dachgeschosswohnungen : 0\n",
      "Enter the value of Erdgeschosswohnungen : 0\n",
      "Enter the value of Etagenwohnungen : 1\n",
      "Enter the value of Lofts : 0\n",
      "Enter the value of Maisonettes : 0\n",
      "Enter the value of Penthouse : 0\n",
      "Enter the value of RohdachbÃ¶den : 0\n",
      "Enter the value of Terrassenwohnungen : 0\n",
      "Enter the value of Wohnungen : 0\n",
      "Enter the value of terrasse_1 : 0\n",
      "Enter the value of balkon_1 : 1\n",
      "Enter the value of garten_1 : 1\n",
      "Enter the value of Aufzug_1 : 1\n"
     ]
    },
    {
     "data": {
      "text/plain": [
       "array([[230122.52]], dtype=float32)"
      ]
     },
     "execution_count": 33,
     "metadata": {},
     "output_type": "execute_result"
    }
   ],
   "source": [
    "array = []\n",
    "for i in data.columns[1:]:\n",
    "    value = float(input('Enter the value of {} : '.format(i)))\n",
    "    array.append(value)\n",
    "#sq = float(input('cs'))\n",
    "#array.append(np.log1p(sq))\n",
    "str_to_float = [[float(i) for i in array]]\n",
    "two_dim = str_to_float\n",
    "#sqr_living_m2 = two_dim[-1][0]\n",
    "to = pd.DataFrame(two_dim)\n",
    "five_layer_model.predict(to)"
   ]
  },
  {
   "cell_type": "code",
   "execution_count": 34,
   "metadata": {},
   "outputs": [
    {
     "name": "stdout",
     "output_type": "stream",
     "text": [
      "Enter the value of living_space_in_m2 : 36.14\n",
      "Enter the value of number_of_rooms_1 : 1\n",
      "Enter the value of floor_1 : 3\n",
      "Enter the value of contruction_year_1 : 1969\n",
      "Enter the value of lat : 0.9152960383063783\n",
      "Enter the value of lon : 0.23230855942820125\n",
      "Enter the value of pickup cluster : 0\n",
      "Enter the value of Attikawohnungen  : 0\n",
      "Enter the value of Dachgeschosswohnungen : 0\n",
      "Enter the value of Erdgeschosswohnungen : 0\n",
      "Enter the value of Etagenwohnungen : 0\n",
      "Enter the value of Lofts : 0\n",
      "Enter the value of Maisonettes : 0\n",
      "Enter the value of Penthouse : 0\n",
      "Enter the value of RohdachbÃ¶den : 0\n",
      "Enter the value of Terrassenwohnungen : 0\n",
      "Enter the value of Wohnungen : 1\n",
      "Enter the value of terrasse_1 : 0\n",
      "Enter the value of balkon_1 : 1\n",
      "Enter the value of garten_1 : 0\n",
      "Enter the value of Aufzug_1 : 1\n"
     ]
    },
    {
     "data": {
      "text/plain": [
       "array([[218307.81]], dtype=float32)"
      ]
     },
     "execution_count": 34,
     "metadata": {},
     "output_type": "execute_result"
    }
   ],
   "source": [
    "array = []\n",
    "for i in data.columns[1:]:\n",
    "    value = float(input('Enter the value of {} : '.format(i)))\n",
    "    array.append(value)\n",
    "#sq = float(input('cs'))\n",
    "#array.append(np.log1p(sq))\n",
    "str_to_float = [[float(i) for i in array]]\n",
    "two_dim = str_to_float\n",
    "#sqr_living_m2 = two_dim[-1][0]\n",
    "to = pd.DataFrame(two_dim)\n",
    "five_layer_model.predict(to)"
   ]
  },
  {
   "cell_type": "code",
   "execution_count": 35,
   "metadata": {},
   "outputs": [
    {
     "name": "stdout",
     "output_type": "stream",
     "text": [
      "Enter the value of living_space_in_m2 : 90\n",
      "Enter the value of number_of_rooms_1 : 3\n",
      "Enter the value of floor_1 : 1\n",
      "Enter the value of contruction_year_1 : 1905\n",
      "Enter the value of lat : 0.9173153842509357\n",
      "Enter the value of lon : 0.23229983278194127\n",
      "Enter the value of pickup cluster : 0\n",
      "Enter the value of Attikawohnungen  : 0\n",
      "Enter the value of Dachgeschosswohnungen : 0\n",
      "Enter the value of Erdgeschosswohnungen : 0\n",
      "Enter the value of Etagenwohnungen : 0\n",
      "Enter the value of Lofts : 0\n",
      "Enter the value of Maisonettes : 0\n",
      "Enter the value of Penthouse : 0\n",
      "Enter the value of RohdachbÃ¶den : 0\n",
      "Enter the value of Terrassenwohnungen : 0\n",
      "Enter the value of Wohnungen : 1\n",
      "Enter the value of terrasse_1 : 0\n",
      "Enter the value of balkon_1 : 1\n",
      "Enter the value of garten_1 : 0\n",
      "Enter the value of Aufzug_1 : 0\n"
     ]
    },
    {
     "data": {
      "text/plain": [
       "array([[440445.44]], dtype=float32)"
      ]
     },
     "execution_count": 35,
     "metadata": {},
     "output_type": "execute_result"
    }
   ],
   "source": [
    "array = []\n",
    "for i in data.columns[1:]:\n",
    "    value = float(input('Enter the value of {} : '.format(i)))\n",
    "    array.append(value)\n",
    "#sq = float(input('cs'))\n",
    "#array.append(np.log1p(sq))\n",
    "str_to_float = [[float(i) for i in array]]\n",
    "two_dim = str_to_float\n",
    "#sqr_living_m2 = two_dim[-1][0]\n",
    "to = pd.DataFrame(two_dim)\n",
    "five_layer_model.predict(to)"
   ]
  },
  {
   "cell_type": "code",
   "execution_count": null,
   "metadata": {},
   "outputs": [],
   "source": []
  },
  {
   "cell_type": "code",
   "execution_count": null,
   "metadata": {},
   "outputs": [],
   "source": []
  },
  {
   "cell_type": "code",
   "execution_count": null,
   "metadata": {},
   "outputs": [],
   "source": []
  },
  {
   "cell_type": "code",
   "execution_count": null,
   "metadata": {},
   "outputs": [],
   "source": []
  },
  {
   "cell_type": "code",
   "execution_count": null,
   "metadata": {},
   "outputs": [],
   "source": []
  },
  {
   "cell_type": "code",
   "execution_count": null,
   "metadata": {},
   "outputs": [],
   "source": []
  },
  {
   "cell_type": "code",
   "execution_count": null,
   "metadata": {},
   "outputs": [],
   "source": []
  },
  {
   "cell_type": "code",
   "execution_count": null,
   "metadata": {},
   "outputs": [],
   "source": []
  },
  {
   "cell_type": "code",
   "execution_count": null,
   "metadata": {},
   "outputs": [],
   "source": []
  },
  {
   "cell_type": "code",
   "execution_count": null,
   "metadata": {},
   "outputs": [],
   "source": []
  },
  {
   "cell_type": "code",
   "execution_count": null,
   "metadata": {},
   "outputs": [],
   "source": []
  },
  {
   "cell_type": "code",
   "execution_count": null,
   "metadata": {},
   "outputs": [],
   "source": []
  },
  {
   "cell_type": "code",
   "execution_count": null,
   "metadata": {},
   "outputs": [],
   "source": []
  },
  {
   "cell_type": "code",
   "execution_count": null,
   "metadata": {},
   "outputs": [],
   "source": []
  },
  {
   "cell_type": "code",
   "execution_count": 10,
   "metadata": {},
   "outputs": [
    {
     "data": {
      "text/plain": [
       "[<matplotlib.lines.Line2D at 0x1ac8d32cb48>]"
      ]
     },
     "execution_count": 10,
     "metadata": {},
     "output_type": "execute_result"
    },
    {
     "data": {
      "image/png": "[encoded data removed]",
      "text/plain": [
       "<Figure size 432x288 with 1 Axes>"
      ]
     },
     "metadata": {
      "needs_background": "light"
     },
     "output_type": "display_data"
    }
   ],
   "source": [
    "epochs = 50\n",
    "plt.plot(range(1, len(history.history[\"loss\"])), history.history[\"loss\"][1:])"
   ]
  },
  {
   "cell_type": "code",
   "execution_count": null,
   "metadata": {},
   "outputs": [],
   "source": []
  }
 ],
 "metadata": {
  "kernelspec": {
   "display_name": "Python 3",
   "language": "python",
   "name": "python3"
  },
  "language_info": {
   "codemirror_mode": {
    "name": "ipython",
    "version": 3
   },
   "file_extension": ".py",
   "mimetype": "text/x-python",
   "name": "python",
   "nbconvert_exporter": "python",
   "pygments_lexer": "ipython3",
   "version": "3.7.7"
  }
 },
 "nbformat": 4,
 "nbformat_minor": 4
}
