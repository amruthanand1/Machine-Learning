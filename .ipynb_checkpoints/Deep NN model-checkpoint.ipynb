{
 "cells": [
  {
   "cell_type": "code",
   "execution_count": 1,
   "metadata": {},
   "outputs": [],
   "source": [
    "import tensorflow as tf\n",
    "import numpy as np\n",
    "import pandas as pd\n",
    "import numpy as np\n",
    "import pandas as pd\n",
    "import matplotlib.pyplot as plt\n",
    "#import seaborn as sns\n",
    "from scipy import stats\n",
    "from sklearn.ensemble import RandomForestRegressor\n",
    "from sklearn.metrics import mean_squared_error, mean_absolute_error\n",
    "from sklearn.model_selection import train_test_split\n",
    "from sklearn.metrics import r2_score\n",
    "import seaborn as sns"
   ]
  },
  {
   "cell_type": "code",
   "execution_count": 2,
   "metadata": {},
   "outputs": [
    {
     "data": {
      "text/html": [
       "<div>\n",
       "<style scoped>\n",
       "    .dataframe tbody tr th:only-of-type {\n",
       "        vertical-align: middle;\n",
       "    }\n",
       "\n",
       "    .dataframe tbody tr th {\n",
       "        vertical-align: top;\n",
       "    }\n",
       "\n",
       "    .dataframe thead th {\n",
       "        text-align: right;\n",
       "    }\n",
       "</style>\n",
       "<table border=\"1\" class=\"dataframe\">\n",
       "  <thead>\n",
       "    <tr style=\"text-align: right;\">\n",
       "      <th></th>\n",
       "      <th>number_of_rooms</th>\n",
       "      <th>floor_on</th>\n",
       "      <th>total_floors</th>\n",
       "      <th>bedroom</th>\n",
       "      <th>pincode</th>\n",
       "      <th>balkon</th>\n",
       "      <th>terrasse</th>\n",
       "      <th>garten</th>\n",
       "      <th>Gaste-WC</th>\n",
       "      <th>Aufzug</th>\n",
       "      <th>wohung</th>\n",
       "      <th>construction_year</th>\n",
       "      <th>living_area_m2</th>\n",
       "      <th>transform_price</th>\n",
       "    </tr>\n",
       "  </thead>\n",
       "  <tbody>\n",
       "    <tr>\n",
       "      <th>8899</th>\n",
       "      <td>2.0</td>\n",
       "      <td>1</td>\n",
       "      <td>4</td>\n",
       "      <td>1</td>\n",
       "      <td>13189</td>\n",
       "      <td>1</td>\n",
       "      <td>1</td>\n",
       "      <td>1</td>\n",
       "      <td>0</td>\n",
       "      <td>1</td>\n",
       "      <td>1</td>\n",
       "      <td>1910</td>\n",
       "      <td>4.204245</td>\n",
       "      <td>8.302299</td>\n",
       "    </tr>\n",
       "    <tr>\n",
       "      <th>7494</th>\n",
       "      <td>2.5</td>\n",
       "      <td>2</td>\n",
       "      <td>4</td>\n",
       "      <td>1</td>\n",
       "      <td>12357</td>\n",
       "      <td>1</td>\n",
       "      <td>1</td>\n",
       "      <td>1</td>\n",
       "      <td>0</td>\n",
       "      <td>0</td>\n",
       "      <td>1</td>\n",
       "      <td>1963</td>\n",
       "      <td>4.216710</td>\n",
       "      <td>8.178454</td>\n",
       "    </tr>\n",
       "    <tr>\n",
       "      <th>9100</th>\n",
       "      <td>5.0</td>\n",
       "      <td>0</td>\n",
       "      <td>2</td>\n",
       "      <td>3</td>\n",
       "      <td>15345</td>\n",
       "      <td>0</td>\n",
       "      <td>1</td>\n",
       "      <td>1</td>\n",
       "      <td>1</td>\n",
       "      <td>0</td>\n",
       "      <td>0</td>\n",
       "      <td>2019</td>\n",
       "      <td>5.141664</td>\n",
       "      <td>8.557737</td>\n",
       "    </tr>\n",
       "  </tbody>\n",
       "</table>\n",
       "</div>"
      ],
      "text/plain": [
       "      number_of_rooms  floor_on  total_floors  bedroom  pincode  balkon  \\\n",
       "8899              2.0         1             4        1    13189       1   \n",
       "7494              2.5         2             4        1    12357       1   \n",
       "9100              5.0         0             2        3    15345       0   \n",
       "\n",
       "      terrasse  garten  Gaste-WC  Aufzug  wohung  construction_year  \\\n",
       "8899         1       1         0       1       1               1910   \n",
       "7494         1       1         0       0       1               1963   \n",
       "9100         1       1         1       0       0               2019   \n",
       "\n",
       "      living_area_m2  transform_price  \n",
       "8899        4.204245         8.302299  \n",
       "7494        4.216710         8.178454  \n",
       "9100        5.141664         8.557737  "
      ]
     },
     "execution_count": 2,
     "metadata": {},
     "output_type": "execute_result"
    }
   ],
   "source": [
    "data = pd.read_csv(r'C:\\Users\\amrut\\Downloads\\after_preprocess_data.csv', encoding = 'iso-8859-1')\n",
    "data.sample(3)"
   ]
  },
  {
   "cell_type": "code",
   "execution_count": 3,
   "metadata": {},
   "outputs": [
    {
     "name": "stdout",
     "output_type": "stream",
     "text": [
      "<class 'pandas.core.frame.DataFrame'>\n",
      "RangeIndex: 12743 entries, 0 to 12742\n",
      "Data columns (total 14 columns):\n",
      " #   Column             Non-Null Count  Dtype  \n",
      "---  ------             --------------  -----  \n",
      " 0   number_of_rooms    12743 non-null  float64\n",
      " 1   floor_on           12743 non-null  int64  \n",
      " 2   total_floors       12743 non-null  int64  \n",
      " 3   bedroom            12743 non-null  int64  \n",
      " 4   pincode            12743 non-null  int64  \n",
      " 5   balkon             12743 non-null  int64  \n",
      " 6   terrasse           12743 non-null  int64  \n",
      " 7   garten             12743 non-null  int64  \n",
      " 8   Gaste-WC           12743 non-null  int64  \n",
      " 9   Aufzug             12743 non-null  int64  \n",
      " 10  wohung             12743 non-null  int64  \n",
      " 11  construction_year  12743 non-null  int64  \n",
      " 12  living_area_m2     12743 non-null  float64\n",
      " 13  transform_price    12743 non-null  float64\n",
      "dtypes: float64(3), int64(11)\n",
      "memory usage: 1.4 MB\n"
     ]
    }
   ],
   "source": [
    "data.info()"
   ]
  },
  {
   "cell_type": "code",
   "execution_count": 4,
   "metadata": {},
   "outputs": [
    {
     "data": {
      "text/plain": [
       "((12743, 13), (12743, 1))"
      ]
     },
     "execution_count": 4,
     "metadata": {},
     "output_type": "execute_result"
    }
   ],
   "source": [
    "X = data.iloc[:, :-1]\n",
    "y = data[['transform_price']]\n",
    "X.shape, y.shape"
   ]
  },
  {
   "cell_type": "code",
   "execution_count": 5,
   "metadata": {},
   "outputs": [],
   "source": [
    "XX = X.to_numpy()\n",
    "yy = y.to_numpy()"
   ]
  },
  {
   "cell_type": "code",
   "execution_count": 6,
   "metadata": {},
   "outputs": [
    {
     "data": {
      "text/plain": [
       "((12615, 13), (12615, 1), (128, 13))"
      ]
     },
     "execution_count": 6,
     "metadata": {},
     "output_type": "execute_result"
    }
   ],
   "source": [
    "X_train, X_test, y_train, y_test = train_test_split(X, y, test_size = 0.01, random_state = 0)\n",
    "X_train.shape, y_train.shape, X_test.shape"
   ]
  },
  {
   "cell_type": "code",
   "execution_count": 7,
   "metadata": {},
   "outputs": [],
   "source": [
    "tf.random.set_seed(20)\n",
    "np.random.seed(1)\n",
    "five_layer_model = tf.keras.models.Sequential()\n",
    "five_layer_model.add(tf.keras.layers.Dense(600, activation='relu',input_dim=X.shape[1:][0]))\n",
    "five_layer_model.add(tf.keras.layers.Dense(450,activation='relu'))\n",
    "five_layer_model.add(tf.keras.layers.Dense(300,activation='relu'))\n",
    "five_layer_model.add(tf.keras.layers.Dense(100,activation='relu'))\n",
    "five_layer_model.add(tf.keras.layers.Dense(50,activation='relu'))\n",
    "five_layer_model.add(tf.keras.layers.Dense(1))\n",
    "\n",
    "five_layer_model.compile(loss='mse', optimizer='adam', \n",
    "                         metrics=['mae'])"
   ]
  },
  {
   "cell_type": "code",
   "execution_count": 8,
   "metadata": {},
   "outputs": [
    {
     "name": "stdout",
     "output_type": "stream",
     "text": [
      "Epoch 1/50\n",
      "395/395 [==============================] - 3s 7ms/step - loss: 1621.2147 - mae: 15.9392 - val_loss: 67.4196 - val_mae: 8.0036\n",
      "Epoch 2/50\n",
      "395/395 [==============================] - 3s 7ms/step - loss: 174.1481 - mae: 8.0283 - val_loss: 1844.8572 - val_mae: 41.2542\n",
      "Epoch 3/50\n",
      "395/395 [==============================] - 3s 8ms/step - loss: 83.6688 - mae: 5.4805 - val_loss: 2.4477 - val_mae: 1.4185\n",
      "Epoch 4/50\n",
      "395/395 [==============================] - 3s 7ms/step - loss: 6.7529 - mae: 1.7624 - val_loss: 7.4870 - val_mae: 2.5756\n",
      "Epoch 5/50\n",
      "395/395 [==============================] - 3s 7ms/step - loss: 6.3958 - mae: 1.6662 - val_loss: 3262.9353 - val_mae: 54.5953\n",
      "Epoch 6/50\n",
      "395/395 [==============================] - 3s 7ms/step - loss: 68.1320 - mae: 2.8500 - val_loss: 1.2512 - val_mae: 0.9447\n",
      "Epoch 7/50\n",
      "395/395 [==============================] - 3s 7ms/step - loss: 3.2927 - mae: 1.1868 - val_loss: 0.7573 - val_mae: 0.6063\n",
      "Epoch 8/50\n",
      "395/395 [==============================] - 3s 7ms/step - loss: 4.3152 - mae: 1.4607 - val_loss: 2.4957 - val_mae: 1.3184\n",
      "Epoch 9/50\n",
      "395/395 [==============================] - 3s 8ms/step - loss: 5.2258 - mae: 1.6122 - val_loss: 1.8013 - val_mae: 1.1423\n",
      "Epoch 10/50\n",
      "395/395 [==============================] - 4s 10ms/step - loss: 3.2531 - mae: 1.2356 - val_loss: 2.9538 - val_mae: 1.5991\n",
      "Epoch 11/50\n",
      "395/395 [==============================] - 3s 8ms/step - loss: 4.0619 - mae: 1.2887 - val_loss: 11.7843 - val_mae: 3.2472\n",
      "Epoch 12/50\n",
      "395/395 [==============================] - 3s 7ms/step - loss: 3.6266 - mae: 1.1998 - val_loss: 0.3880 - val_mae: 0.4143\n",
      "Epoch 13/50\n",
      "395/395 [==============================] - 3s 7ms/step - loss: 2.5831 - mae: 0.9926 - val_loss: 2.0734 - val_mae: 1.2286\n",
      "Epoch 14/50\n",
      "395/395 [==============================] - 3s 7ms/step - loss: 5.0321 - mae: 1.3552 - val_loss: 0.4819 - val_mae: 0.5244\n",
      "Epoch 15/50\n",
      "395/395 [==============================] - 3s 7ms/step - loss: 1.9554 - mae: 0.9386 - val_loss: 0.4316 - val_mae: 0.5017\n",
      "Epoch 16/50\n",
      "395/395 [==============================] - 3s 7ms/step - loss: 1.4706 - mae: 0.7810 - val_loss: 4.7431 - val_mae: 1.9317\n",
      "Epoch 17/50\n",
      "395/395 [==============================] - 3s 7ms/step - loss: 1.4507 - mae: 0.7533 - val_loss: 0.5327 - val_mae: 0.5173\n",
      "Epoch 18/50\n",
      "395/395 [==============================] - 4s 11ms/step - loss: 2.8649 - mae: 1.0587 - val_loss: 5.3287 - val_mae: 2.1687\n",
      "Epoch 19/50\n",
      "395/395 [==============================] - 3s 7ms/step - loss: 1.4569 - mae: 0.7775 - val_loss: 1.7939 - val_mae: 1.2138\n",
      "Epoch 20/50\n",
      "395/395 [==============================] - 3s 7ms/step - loss: 0.9826 - mae: 0.5937 - val_loss: 0.3185 - val_mae: 0.3734\n",
      "Epoch 21/50\n",
      "395/395 [==============================] - 3s 7ms/step - loss: 1.0671 - mae: 0.6368 - val_loss: 0.3346 - val_mae: 0.3836\n",
      "Epoch 22/50\n",
      "395/395 [==============================] - 3s 7ms/step - loss: 1.1537 - mae: 0.6743 - val_loss: 0.6159 - val_mae: 0.6912\n",
      "Epoch 23/50\n",
      "395/395 [==============================] - 3s 7ms/step - loss: 248.7093 - mae: 4.2508 - val_loss: 0.4140 - val_mae: 0.4795\n",
      "Epoch 24/50\n",
      "395/395 [==============================] - 3s 7ms/step - loss: 1.7359 - mae: 0.8101 - val_loss: 0.6709 - val_mae: 0.5208\n",
      "Epoch 25/50\n",
      "395/395 [==============================] - 3s 7ms/step - loss: 1.3257 - mae: 0.6900 - val_loss: 0.7252 - val_mae: 0.6795\n",
      "Epoch 26/50\n",
      "395/395 [==============================] - 3s 7ms/step - loss: 1.1374 - mae: 0.6512 - val_loss: 0.6103 - val_mae: 0.5753\n",
      "Epoch 27/50\n",
      "395/395 [==============================] - 3s 7ms/step - loss: 1.0778 - mae: 0.6405 - val_loss: 1.8422 - val_mae: 1.0089\n",
      "Epoch 28/50\n",
      "395/395 [==============================] - 3s 7ms/step - loss: 1.1672 - mae: 0.6642 - val_loss: 0.2968 - val_mae: 0.3500\n",
      "Epoch 29/50\n",
      "395/395 [==============================] - 3s 7ms/step - loss: 1.0530 - mae: 0.6192 - val_loss: 0.6602 - val_mae: 0.6427\n",
      "Epoch 30/50\n",
      "395/395 [==============================] - 3s 7ms/step - loss: 1.0076 - mae: 0.6105 - val_loss: 0.7527 - val_mae: 0.7349\n",
      "Epoch 31/50\n",
      "395/395 [==============================] - 4s 11ms/step - loss: 0.8521 - mae: 0.5380 - val_loss: 0.3484 - val_mae: 0.3998\n",
      "Epoch 32/50\n",
      "395/395 [==============================] - 5s 12ms/step - loss: 0.9609 - mae: 0.5864 - val_loss: 0.3889 - val_mae: 0.4460\n",
      "Epoch 33/50\n",
      "395/395 [==============================] - 3s 8ms/step - loss: 0.9189 - mae: 0.5795 - val_loss: 0.3126 - val_mae: 0.3659\n",
      "Epoch 34/50\n",
      "395/395 [==============================] - 3s 7ms/step - loss: 0.8399 - mae: 0.5355 - val_loss: 0.4530 - val_mae: 0.4759\n",
      "Epoch 35/50\n",
      "395/395 [==============================] - 3s 8ms/step - loss: 0.7401 - mae: 0.4995 - val_loss: 0.6544 - val_mae: 0.5714\n",
      "Epoch 36/50\n",
      "395/395 [==============================] - 3s 7ms/step - loss: 0.7622 - mae: 0.5171 - val_loss: 0.3389 - val_mae: 0.3769\n",
      "Epoch 37/50\n",
      "395/395 [==============================] - 3s 7ms/step - loss: 0.7661 - mae: 0.5155 - val_loss: 0.4854 - val_mae: 0.5999\n",
      "Epoch 38/50\n",
      "395/395 [==============================] - 3s 7ms/step - loss: 0.6412 - mae: 0.4543 - val_loss: 0.4445 - val_mae: 0.4149\n",
      "Epoch 39/50\n",
      "395/395 [==============================] - 3s 7ms/step - loss: 0.5557 - mae: 0.4260 - val_loss: 2.0033 - val_mae: 1.2090\n",
      "Epoch 40/50\n",
      "395/395 [==============================] - 3s 8ms/step - loss: 0.8088 - mae: 0.5291 - val_loss: 0.2454 - val_mae: 0.3397\n",
      "Epoch 41/50\n",
      "395/395 [==============================] - 3s 8ms/step - loss: 0.5602 - mae: 0.4597 - val_loss: 0.2447 - val_mae: 0.3300\n",
      "Epoch 42/50\n",
      "395/395 [==============================] - 3s 8ms/step - loss: 0.4919 - mae: 0.4308 - val_loss: 0.3109 - val_mae: 0.3362\n",
      "Epoch 43/50\n",
      "395/395 [==============================] - 3s 7ms/step - loss: 0.4002 - mae: 0.3921 - val_loss: 0.2592 - val_mae: 0.3439\n",
      "Epoch 44/50\n",
      "395/395 [==============================] - 3s 8ms/step - loss: 0.3712 - mae: 0.3917 - val_loss: 0.2771 - val_mae: 0.3889\n",
      "Epoch 45/50\n",
      "395/395 [==============================] - 3s 8ms/step - loss: 0.3110 - mae: 0.3687 - val_loss: 0.1912 - val_mae: 0.2777\n",
      "Epoch 46/50\n",
      "395/395 [==============================] - 3s 7ms/step - loss: 0.2771 - mae: 0.3460 - val_loss: 0.3558 - val_mae: 0.4519\n",
      "Epoch 47/50\n",
      "395/395 [==============================] - 3s 7ms/step - loss: 0.2343 - mae: 0.3283 - val_loss: 0.2006 - val_mae: 0.2791\n",
      "Epoch 48/50\n",
      "395/395 [==============================] - 3s 7ms/step - loss: 0.1989 - mae: 0.3086 - val_loss: 0.1899 - val_mae: 0.2976\n",
      "Epoch 49/50\n",
      "395/395 [==============================] - 3s 8ms/step - loss: 0.1688 - mae: 0.2869 - val_loss: 0.1959 - val_mae: 0.3130\n",
      "Epoch 50/50\n",
      "395/395 [==============================] - 3s 8ms/step - loss: 0.1505 - mae: 0.2782 - val_loss: 0.1771 - val_mae: 0.2712\n"
     ]
    }
   ],
   "source": [
    "history=five_layer_model.fit(X_train,y_train, validation_data = (X_test, y_test), epochs=50, batch_size = 32)\n",
    "predictions = five_layer_model.predict(X_test)\n"
   ]
  },
  {
   "cell_type": "code",
   "execution_count": 9,
   "metadata": {},
   "outputs": [
    {
     "name": "stdout",
     "output_type": "stream",
     "text": [
      "395/395 [==============================] - 2s 4ms/step - loss: 0.1452 - mae: 0.2688\n",
      "4/4 [==============================] - 0s 4ms/step - loss: 0.1771 - mae: 0.2712\n"
     ]
    },
    {
     "data": {
      "text/plain": [
       "([0.1451958864927292, 0.26876363158226013],\n",
       " [0.17712491750717163, 0.2712053060531616])"
      ]
     },
     "execution_count": 9,
     "metadata": {},
     "output_type": "execute_result"
    }
   ],
   "source": [
    "five_layer_model.evaluate(X_train, y_train), five_layer_model.evaluate(X_test, y_test)"
   ]
  },
  {
   "cell_type": "code",
   "execution_count": 10,
   "metadata": {},
   "outputs": [
    {
     "data": {
      "text/plain": [
       "(array([[8.584684 ],\n",
       "        [8.283779 ],\n",
       "        [8.577081 ],\n",
       "        [7.7771664],\n",
       "        [7.6519117]], dtype=float32),\n",
       " array([[8.54500289],\n",
       "        [8.37047041],\n",
       "        [8.69484149],\n",
       "        [7.71760729],\n",
       "        [7.7403941 ]]))"
      ]
     },
     "execution_count": 10,
     "metadata": {},
     "output_type": "execute_result"
    }
   ],
   "source": [
    "predictions[:5], y_test.to_numpy()[:5]"
   ]
  },
  {
   "cell_type": "code",
   "execution_count": 11,
   "metadata": {},
   "outputs": [
    {
     "data": {
      "text/plain": [
       "(0.17712484631386854, 0.27120526816619495)"
      ]
     },
     "execution_count": 11,
     "metadata": {},
     "output_type": "execute_result"
    }
   ],
   "source": [
    "from sklearn.metrics import mean_squared_error, mean_absolute_error\n",
    "mean_squared_error(predictions, y_test), mean_absolute_error(predictions, y_test)"
   ]
  },
  {
   "cell_type": "code",
   "execution_count": 12,
   "metadata": {},
   "outputs": [
    {
     "data": {
      "text/plain": [
       "[<matplotlib.lines.Line2D at 0x286de530220>]"
      ]
     },
     "execution_count": 12,
     "metadata": {},
     "output_type": "execute_result"
    },
    {
     "data": {
      "image/png": "[encoded data removed]",
      "text/plain": [
       "<Figure size 432x288 with 1 Axes>"
      ]
     },
     "metadata": {
      "needs_background": "light"
     },
     "output_type": "display_data"
    }
   ],
   "source": [
    "epochs = 50\n",
    "plt.plot(range(1, len(history.history[\"loss\"])), history.history[\"loss\"][1:])"
   ]
  },
  {
   "cell_type": "code",
   "execution_count": 35,
   "metadata": {},
   "outputs": [
    {
     "name": "stdout",
     "output_type": "stream",
     "text": [
      "Enter the value of number_of_rooms : 1\n",
      "Enter the value of floor_on : 1\n",
      "Enter the value of total_floors : 1\n",
      "Enter the value of bedroom : 1\n",
      "Enter the value of pincode : 12489\n",
      "Enter the value of balkon : 1\n",
      "Enter the value of terrasse : 1\n",
      "Enter the value of garten : 1\n",
      "Enter the value of Gaste-WC : 1\n",
      "Enter the value of Aufzug : 1\n",
      "Enter the value of wohung : 1\n",
      "Enter the value of construction_year : 1990\n",
      "living_area_m2100\n"
     ]
    },
    {
     "data": {
      "text/plain": [
       "array([[486392.78]], dtype=float32)"
      ]
     },
     "execution_count": 35,
     "metadata": {},
     "output_type": "execute_result"
    }
   ],
   "source": [
    "array = []\n",
    "for i in data.columns[:-2]:\n",
    "    value = float(input('Enter the value of {} : '.format(i)))\n",
    "    array.append(value)\n",
    "sq = float(input('living_area_m2'))\n",
    "array.append(np.log1p(sq))\n",
    "str_to_float = [[float(i) for i in array]]\n",
    "two_dim = str_to_float\n",
    "to = pd.DataFrame(two_dim)\n",
    "np.expm1(five_layer_model.predict(to)) * np.expm1(two_dim[-1][-1])"
   ]
  },
  {
   "cell_type": "code",
   "execution_count": 36,
   "metadata": {},
   "outputs": [
    {
     "name": "stdout",
     "output_type": "stream",
     "text": [
      "Enter the value of number_of_rooms : 1\n",
      "Enter the value of floor_on : 1\n",
      "Enter the value of total_floors : 1\n",
      "Enter the value of bedroom : 1\n",
      "Enter the value of pincode : 10178\n",
      "Enter the value of balkon : 1\n",
      "Enter the value of terrasse : 1\n",
      "Enter the value of garten : 1\n",
      "Enter the value of Gaste-WC : 1\n",
      "Enter the value of Aufzug : 1\n",
      "Enter the value of wohung : 1\n",
      "Enter the value of construction_year : 1990\n",
      "living_area_m2100\n"
     ]
    },
    {
     "data": {
      "text/plain": [
       "array([[613561.06]], dtype=float32)"
      ]
     },
     "execution_count": 36,
     "metadata": {},
     "output_type": "execute_result"
    }
   ],
   "source": [
    "array = []\n",
    "for i in data.columns[:-2]:\n",
    "    value = float(input('Enter the value of {} : '.format(i)))\n",
    "    array.append(value)\n",
    "sq = float(input('living_area_m2'))\n",
    "array.append(np.log1p(sq))\n",
    "str_to_float = [[float(i) for i in array]]\n",
    "two_dim = str_to_float\n",
    "to = pd.DataFrame(two_dim)\n",
    "np.expm1(five_layer_model.predict(to)) * np.expm1(two_dim[-1][-1])"
   ]
  },
  {
   "cell_type": "code",
   "execution_count": null,
   "metadata": {},
   "outputs": [],
   "source": [
    "array = []\n",
    "for i in data.columns[1:]:\n",
    "    value = float(input('Enter the value of {} : '.format(i)))\n",
    "    array.append(value)\n",
    "#sq = float(input('cs'))\n",
    "#array.append(np.log1p(sq))\n",
    "str_to_float = [[float(i) for i in array]]\n",
    "two_dim = str_to_float\n",
    "#sqr_living_m2 = two_dim[-1][0]\n",
    "to = pd.DataFrame(two_dim)\n",
    "five_layer_model.predict(to)"
   ]
  },
  {
   "cell_type": "code",
   "execution_count": null,
   "metadata": {},
   "outputs": [],
   "source": [
    "array = []\n",
    "for i in data.columns[1:]:\n",
    "    value = float(input('Enter the value of {} : '.format(i)))\n",
    "    array.append(value)\n",
    "#sq = float(input('cs'))\n",
    "#array.append(np.log1p(sq))\n",
    "str_to_float = [[float(i) for i in array]]\n",
    "two_dim = str_to_float\n",
    "#sqr_living_m2 = two_dim[-1][0]\n",
    "to = pd.DataFrame(two_dim)\n",
    "five_layer_model.predict(to)"
   ]
  },
  {
   "cell_type": "code",
   "execution_count": null,
   "metadata": {},
   "outputs": [],
   "source": [
    "array = []\n",
    "for i in data.columns[1:]:\n",
    "    value = float(input('Enter the value of {} : '.format(i)))\n",
    "    array.append(value)\n",
    "#sq = float(input('cs'))\n",
    "#array.append(np.log1p(sq))\n",
    "str_to_float = [[float(i) for i in array]]\n",
    "two_dim = str_to_float\n",
    "#sqr_living_m2 = two_dim[-1][0]\n",
    "to = pd.DataFrame(two_dim)\n",
    "five_layer_model.predict(to)"
   ]
  },
  {
   "cell_type": "code",
   "execution_count": null,
   "metadata": {},
   "outputs": [],
   "source": [
    "array = []\n",
    "for i in data.columns[1:]:\n",
    "    value = float(input('Enter the value of {} : '.format(i)))\n",
    "    array.append(value)\n",
    "#sq = float(input('cs'))\n",
    "#array.append(np.log1p(sq))\n",
    "str_to_float = [[float(i) for i in array]]\n",
    "two_dim = str_to_float\n",
    "#sqr_living_m2 = two_dim[-1][0]\n",
    "to = pd.DataFrame(two_dim)\n",
    "five_layer_model.predict(to)"
   ]
  },
  {
   "cell_type": "code",
   "execution_count": null,
   "metadata": {},
   "outputs": [],
   "source": []
  },
  {
   "cell_type": "code",
   "execution_count": null,
   "metadata": {},
   "outputs": [],
   "source": []
  },
  {
   "cell_type": "code",
   "execution_count": null,
   "metadata": {},
   "outputs": [],
   "source": []
  },
  {
   "cell_type": "code",
   "execution_count": null,
   "metadata": {},
   "outputs": [],
   "source": []
  },
  {
   "cell_type": "code",
   "execution_count": null,
   "metadata": {},
   "outputs": [],
   "source": []
  },
  {
   "cell_type": "code",
   "execution_count": null,
   "metadata": {},
   "outputs": [],
   "source": []
  },
  {
   "cell_type": "code",
   "execution_count": null,
   "metadata": {},
   "outputs": [],
   "source": []
  },
  {
   "cell_type": "code",
   "execution_count": null,
   "metadata": {},
   "outputs": [],
   "source": []
  },
  {
   "cell_type": "code",
   "execution_count": null,
   "metadata": {},
   "outputs": [],
   "source": []
  },
  {
   "cell_type": "code",
   "execution_count": null,
   "metadata": {},
   "outputs": [],
   "source": []
  },
  {
   "cell_type": "code",
   "execution_count": null,
   "metadata": {},
   "outputs": [],
   "source": []
  },
  {
   "cell_type": "code",
   "execution_count": null,
   "metadata": {},
   "outputs": [],
   "source": []
  },
  {
   "cell_type": "code",
   "execution_count": null,
   "metadata": {},
   "outputs": [],
   "source": []
  },
  {
   "cell_type": "code",
   "execution_count": null,
   "metadata": {},
   "outputs": [],
   "source": []
  },
  {
   "cell_type": "code",
   "execution_count": null,
   "metadata": {},
   "outputs": [],
   "source": [
    "epochs = 50\n",
    "plt.plot(range(1, len(history.history[\"loss\"])), history.history[\"loss\"][1:])"
   ]
  },
  {
   "cell_type": "code",
   "execution_count": null,
   "metadata": {},
   "outputs": [],
   "source": []
  }
 ],
 "metadata": {
  "kernelspec": {
   "display_name": "Python 3",
   "language": "python",
   "name": "python3"
  },
  "language_info": {
   "codemirror_mode": {
    "name": "ipython",
    "version": 3
   },
   "file_extension": ".py",
   "mimetype": "text/x-python",
   "name": "python",
   "nbconvert_exporter": "python",
   "pygments_lexer": "ipython3",
   "version": "3.8.8"
  }
 },
 "nbformat": 4,
 "nbformat_minor": 4
}
