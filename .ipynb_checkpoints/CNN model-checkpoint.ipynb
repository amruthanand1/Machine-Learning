{
 "cells": [
  {
   "cell_type": "code",
   "execution_count": 1,
   "metadata": {},
   "outputs": [
    {
     "name": "stderr",
     "output_type": "stream",
     "text": [
      "C:\\Users\\admin\\Anaconda3\\lib\\site-packages\\tensorflow\\python\\framework\\dtypes.py:523: FutureWarning: Passing (type, 1) or '1type' as a synonym of type is deprecated; in a future version of numpy, it will be understood as (type, (1,)) / '(1,)type'.\n",
      "  _np_qint8 = np.dtype([(\"qint8\", np.int8, 1)])\n",
      "C:\\Users\\admin\\Anaconda3\\lib\\site-packages\\tensorflow\\python\\framework\\dtypes.py:524: FutureWarning: Passing (type, 1) or '1type' as a synonym of type is deprecated; in a future version of numpy, it will be understood as (type, (1,)) / '(1,)type'.\n",
      "  _np_quint8 = np.dtype([(\"quint8\", np.uint8, 1)])\n",
      "C:\\Users\\admin\\Anaconda3\\lib\\site-packages\\tensorflow\\python\\framework\\dtypes.py:525: FutureWarning: Passing (type, 1) or '1type' as a synonym of type is deprecated; in a future version of numpy, it will be understood as (type, (1,)) / '(1,)type'.\n",
      "  _np_qint16 = np.dtype([(\"qint16\", np.int16, 1)])\n",
      "C:\\Users\\admin\\Anaconda3\\lib\\site-packages\\tensorflow\\python\\framework\\dtypes.py:526: FutureWarning: Passing (type, 1) or '1type' as a synonym of type is deprecated; in a future version of numpy, it will be understood as (type, (1,)) / '(1,)type'.\n",
      "  _np_quint16 = np.dtype([(\"quint16\", np.uint16, 1)])\n",
      "C:\\Users\\admin\\Anaconda3\\lib\\site-packages\\tensorflow\\python\\framework\\dtypes.py:527: FutureWarning: Passing (type, 1) or '1type' as a synonym of type is deprecated; in a future version of numpy, it will be understood as (type, (1,)) / '(1,)type'.\n",
      "  _np_qint32 = np.dtype([(\"qint32\", np.int32, 1)])\n",
      "C:\\Users\\admin\\Anaconda3\\lib\\site-packages\\tensorflow\\python\\framework\\dtypes.py:532: FutureWarning: Passing (type, 1) or '1type' as a synonym of type is deprecated; in a future version of numpy, it will be understood as (type, (1,)) / '(1,)type'.\n",
      "  np_resource = np.dtype([(\"resource\", np.ubyte, 1)])\n",
      "C:\\Users\\admin\\Anaconda3\\lib\\site-packages\\tensorboard\\compat\\tensorflow_stub\\dtypes.py:541: FutureWarning: Passing (type, 1) or '1type' as a synonym of type is deprecated; in a future version of numpy, it will be understood as (type, (1,)) / '(1,)type'.\n",
      "  _np_qint8 = np.dtype([(\"qint8\", np.int8, 1)])\n",
      "C:\\Users\\admin\\Anaconda3\\lib\\site-packages\\tensorboard\\compat\\tensorflow_stub\\dtypes.py:542: FutureWarning: Passing (type, 1) or '1type' as a synonym of type is deprecated; in a future version of numpy, it will be understood as (type, (1,)) / '(1,)type'.\n",
      "  _np_quint8 = np.dtype([(\"quint8\", np.uint8, 1)])\n",
      "C:\\Users\\admin\\Anaconda3\\lib\\site-packages\\tensorboard\\compat\\tensorflow_stub\\dtypes.py:543: FutureWarning: Passing (type, 1) or '1type' as a synonym of type is deprecated; in a future version of numpy, it will be understood as (type, (1,)) / '(1,)type'.\n",
      "  _np_qint16 = np.dtype([(\"qint16\", np.int16, 1)])\n",
      "C:\\Users\\admin\\Anaconda3\\lib\\site-packages\\tensorboard\\compat\\tensorflow_stub\\dtypes.py:544: FutureWarning: Passing (type, 1) or '1type' as a synonym of type is deprecated; in a future version of numpy, it will be understood as (type, (1,)) / '(1,)type'.\n",
      "  _np_quint16 = np.dtype([(\"quint16\", np.uint16, 1)])\n",
      "C:\\Users\\admin\\Anaconda3\\lib\\site-packages\\tensorboard\\compat\\tensorflow_stub\\dtypes.py:545: FutureWarning: Passing (type, 1) or '1type' as a synonym of type is deprecated; in a future version of numpy, it will be understood as (type, (1,)) / '(1,)type'.\n",
      "  _np_qint32 = np.dtype([(\"qint32\", np.int32, 1)])\n",
      "C:\\Users\\admin\\Anaconda3\\lib\\site-packages\\tensorboard\\compat\\tensorflow_stub\\dtypes.py:550: FutureWarning: Passing (type, 1) or '1type' as a synonym of type is deprecated; in a future version of numpy, it will be understood as (type, (1,)) / '(1,)type'.\n",
      "  np_resource = np.dtype([(\"resource\", np.ubyte, 1)])\n"
     ]
    }
   ],
   "source": [
    "import tensorflow as tf\n",
    "import numpy as np\n",
    "import pandas as pd\n",
    "#import numpy as np\n",
    "#import pandas as pd\n",
    "import matplotlib.pyplot as plt\n",
    "#import seaborn as sns\n",
    "from scipy import stats\n",
    "#from sklearn.ensemble import RandomForestRegressor\n",
    "from sklearn.metrics import mean_squared_error, mean_absolute_error\n",
    "from sklearn.model_selection import train_test_split\n",
    "from sklearn.metrics import r2_score\n",
    "import seaborn as sns"
   ]
  },
  {
   "cell_type": "code",
   "execution_count": 2,
   "metadata": {},
   "outputs": [
    {
     "data": {
      "text/html": [
       "<div>\n",
       "<style scoped>\n",
       "    .dataframe tbody tr th:only-of-type {\n",
       "        vertical-align: middle;\n",
       "    }\n",
       "\n",
       "    .dataframe tbody tr th {\n",
       "        vertical-align: top;\n",
       "    }\n",
       "\n",
       "    .dataframe thead th {\n",
       "        text-align: right;\n",
       "    }\n",
       "</style>\n",
       "<table border=\"1\" class=\"dataframe\">\n",
       "  <thead>\n",
       "    <tr style=\"text-align: right;\">\n",
       "      <th></th>\n",
       "      <th>purchase_price_1</th>\n",
       "      <th>living_space_in_m2</th>\n",
       "      <th>number_of_rooms_1</th>\n",
       "      <th>floor_1</th>\n",
       "      <th>contruction_year_1</th>\n",
       "      <th>lat</th>\n",
       "      <th>lon</th>\n",
       "      <th>pickup cluster</th>\n",
       "      <th>Attikawohnungen</th>\n",
       "      <th>Dachgeschosswohnungen</th>\n",
       "      <th>...</th>\n",
       "      <th>Lofts</th>\n",
       "      <th>Maisonettes</th>\n",
       "      <th>Penthouse</th>\n",
       "      <th>RohdachbÃ¶den</th>\n",
       "      <th>Terrassenwohnungen</th>\n",
       "      <th>Wohnungen</th>\n",
       "      <th>terrasse_1</th>\n",
       "      <th>balkon_1</th>\n",
       "      <th>garten_1</th>\n",
       "      <th>Aufzug_1</th>\n",
       "    </tr>\n",
       "  </thead>\n",
       "  <tbody>\n",
       "    <tr>\n",
       "      <th>25580</th>\n",
       "      <td>139000.0</td>\n",
       "      <td>32.67</td>\n",
       "      <td>1.0</td>\n",
       "      <td>2.0</td>\n",
       "      <td>1906</td>\n",
       "      <td>0.915720</td>\n",
       "      <td>0.234394</td>\n",
       "      <td>2</td>\n",
       "      <td>0</td>\n",
       "      <td>0</td>\n",
       "      <td>...</td>\n",
       "      <td>0</td>\n",
       "      <td>0</td>\n",
       "      <td>0</td>\n",
       "      <td>0</td>\n",
       "      <td>0</td>\n",
       "      <td>0</td>\n",
       "      <td>0</td>\n",
       "      <td>0</td>\n",
       "      <td>0</td>\n",
       "      <td>0</td>\n",
       "    </tr>\n",
       "    <tr>\n",
       "      <th>21432</th>\n",
       "      <td>340900.0</td>\n",
       "      <td>49.00</td>\n",
       "      <td>1.0</td>\n",
       "      <td>1.6</td>\n",
       "      <td>1921</td>\n",
       "      <td>0.917209</td>\n",
       "      <td>0.234087</td>\n",
       "      <td>2</td>\n",
       "      <td>0</td>\n",
       "      <td>0</td>\n",
       "      <td>...</td>\n",
       "      <td>0</td>\n",
       "      <td>0</td>\n",
       "      <td>0</td>\n",
       "      <td>0</td>\n",
       "      <td>0</td>\n",
       "      <td>1</td>\n",
       "      <td>0</td>\n",
       "      <td>0</td>\n",
       "      <td>0</td>\n",
       "      <td>0</td>\n",
       "    </tr>\n",
       "    <tr>\n",
       "      <th>7630</th>\n",
       "      <td>465282.0</td>\n",
       "      <td>61.02</td>\n",
       "      <td>2.0</td>\n",
       "      <td>1.0</td>\n",
       "      <td>2003</td>\n",
       "      <td>0.915361</td>\n",
       "      <td>0.230429</td>\n",
       "      <td>0</td>\n",
       "      <td>0</td>\n",
       "      <td>0</td>\n",
       "      <td>...</td>\n",
       "      <td>0</td>\n",
       "      <td>0</td>\n",
       "      <td>0</td>\n",
       "      <td>0</td>\n",
       "      <td>0</td>\n",
       "      <td>0</td>\n",
       "      <td>0</td>\n",
       "      <td>1</td>\n",
       "      <td>1</td>\n",
       "      <td>0</td>\n",
       "    </tr>\n",
       "  </tbody>\n",
       "</table>\n",
       "<p>3 rows × 22 columns</p>\n",
       "</div>"
      ],
      "text/plain": [
       "       purchase_price_1  living_space_in_m2  number_of_rooms_1  floor_1  \\\n",
       "25580          139000.0               32.67                1.0      2.0   \n",
       "21432          340900.0               49.00                1.0      1.6   \n",
       "7630           465282.0               61.02                2.0      1.0   \n",
       "\n",
       "       contruction_year_1       lat       lon  pickup cluster  \\\n",
       "25580                1906  0.915720  0.234394               2   \n",
       "21432                1921  0.917209  0.234087               2   \n",
       "7630                 2003  0.915361  0.230429               0   \n",
       "\n",
       "       Attikawohnungen   Dachgeschosswohnungen  ...  Lofts  Maisonettes  \\\n",
       "25580                 0                      0  ...      0            0   \n",
       "21432                 0                      0  ...      0            0   \n",
       "7630                  0                      0  ...      0            0   \n",
       "\n",
       "       Penthouse  RohdachbÃ¶den  Terrassenwohnungen  Wohnungen  terrasse_1  \\\n",
       "25580          0              0                   0          0           0   \n",
       "21432          0              0                   0          1           0   \n",
       "7630           0              0                   0          0           0   \n",
       "\n",
       "       balkon_1  garten_1  Aufzug_1  \n",
       "25580         0         0         0  \n",
       "21432         0         0         0  \n",
       "7630          1         1         0  \n",
       "\n",
       "[3 rows x 22 columns]"
      ]
     },
     "execution_count": 2,
     "metadata": {},
     "output_type": "execute_result"
    }
   ],
   "source": [
    "data = pd.read_csv(r'F:\\amruth\\norm_price.csv', encoding = 'iso-8859-1')\n",
    "data.sample(3)"
   ]
  },
  {
   "cell_type": "code",
   "execution_count": 3,
   "metadata": {},
   "outputs": [
    {
     "data": {
      "text/plain": [
       "Index(['living_space_in_m2', 'number_of_rooms_1', 'floor_1',\n",
       "       'contruction_year_1', 'lat', 'lon', 'pickup cluster',\n",
       "       'Attikawohnungen ', 'Dachgeschosswohnungen', 'Erdgeschosswohnungen',\n",
       "       'Etagenwohnungen', 'Lofts', 'Maisonettes', 'Penthouse', 'RohdachbÃ¶den',\n",
       "       'Terrassenwohnungen', 'Wohnungen', 'terrasse_1', 'balkon_1', 'garten_1',\n",
       "       'Aufzug_1'],\n",
       "      dtype='object')"
      ]
     },
     "execution_count": 3,
     "metadata": {},
     "output_type": "execute_result"
    }
   ],
   "source": [
    "X = data.iloc[:, 1:]\n",
    "y = data[['purchase_price_1']]\n",
    "X.columns"
   ]
  },
  {
   "cell_type": "code",
   "execution_count": 4,
   "metadata": {},
   "outputs": [
    {
     "data": {
      "text/plain": [
       "((20703, 21), (20703, 1), (6901, 21))"
      ]
     },
     "execution_count": 4,
     "metadata": {},
     "output_type": "execute_result"
    }
   ],
   "source": [
    "X_train, X_test, y_train, y_test = train_test_split(X, y, test_size = 0.25, random_state = 0)\n",
    "X_train.shape, y_train.shape, X_test.shape"
   ]
  },
  {
   "cell_type": "code",
   "execution_count": 7,
   "metadata": {},
   "outputs": [],
   "source": [
    "tf.random.set_seed(42)\n",
    "model = tf.keras.models.Sequential([\n",
    "    tf.keras.layers.Lambda(lambda x: tf.expand_dims(x, axis = -1), input_shape = [None]),\n",
    "    tf.keras.layers.Conv1D(filters = 128, kernel_size = 5, strides = 1, padding = 'same', activation = 'relu'),\n",
    "    #tf.keras.layers.Lambda(lambda x: tf.expand_dims(x, axis = -1)),\n",
    "    tf.keras.layers.LSTM(128, return_sequences = True),\n",
    "    tf.keras.layers.LSTM(64, return_sequences = True),\n",
    "    tf.keras.layers.SimpleRNN(80, return_sequences = True),\n",
    "    tf.keras.layers.SimpleRNN(40),\n",
    "    tf.keras.layers.Dense(100, activation = 'relu'),\n",
    "    tf.keras.layers.Dense(50,activation = 'relu'),\n",
    "    tf.keras.layers.Dense(20,activation = 'relu'),\n",
    "    tf.keras.layers.Dense(1)])\n",
    "lr_schedule = tf.keras.callbacks.LearningRateScheduler(\n",
    "    lambda epochs: 1e-5 * 10**(epochs / 20))\n",
    "model.compile(loss = 'mse', optimizer = tf.keras.optimizers.Adam(learning_rate = 1e-5), metrics = ['mae'])"
   ]
  },
  {
   "cell_type": "code",
   "execution_count": 8,
   "metadata": {},
   "outputs": [
    {
     "name": "stdout",
     "output_type": "stream",
     "text": [
      "Train on 20703 samples, validate on 6901 samples\n",
      "Epoch 1/50\n",
      "20703/20703 [==============================] - 31s 1ms/sample - loss: 205460078290.4831 - mae: 402645.5625 - val_loss: 208246882572.2788 - val_mae: 405312.8125\n",
      "Epoch 2/50\n",
      "20703/20703 [==============================] - 27s 1ms/sample - loss: 205459866047.9227 - mae: 402645.2500 - val_loss: 208246695555.8394 - val_mae: 405312.6250\n",
      "Epoch 3/50\n",
      "20703/20703 [==============================] - 24s 1ms/sample - loss: 205459647052.4921 - mae: 402645.0625 - val_loss: 208246421935.2047 - val_mae: 405312.5000\n",
      "Epoch 4/50\n",
      "11520/20703 [===============>..............] - ETA: 7s - loss: 204095809854.5778 - mae: 400975.9062"
     ]
    },
    {
     "ename": "KeyboardInterrupt",
     "evalue": "",
     "output_type": "error",
     "traceback": [
      "\u001b[1;31m---------------------------------------------------------------------------\u001b[0m",
      "\u001b[1;31mKeyboardInterrupt\u001b[0m                         Traceback (most recent call last)",
      "\u001b[1;32m<ipython-input-8-e35dbbc1e615>\u001b[0m in \u001b[0;36m<module>\u001b[1;34m\u001b[0m\n\u001b[0;32m      1\u001b[0m history=model.fit(X_train,y_train, validation_data = (X_test, y_test), \n\u001b[1;32m----> 2\u001b[1;33m                   batch_size  =256, epochs=50, callbacks = [lr_schedule])\n\u001b[0m",
      "\u001b[1;32m~\\Anaconda3\\lib\\site-packages\\tensorflow\\python\\keras\\engine\\training.py\u001b[0m in \u001b[0;36mfit\u001b[1;34m(self, x, y, batch_size, epochs, verbose, callbacks, validation_split, validation_data, shuffle, class_weight, sample_weight, initial_epoch, steps_per_epoch, validation_steps, validation_freq, max_queue_size, workers, use_multiprocessing, **kwargs)\u001b[0m\n\u001b[0;32m    871\u001b[0m           \u001b[0mvalidation_steps\u001b[0m\u001b[1;33m=\u001b[0m\u001b[0mvalidation_steps\u001b[0m\u001b[1;33m,\u001b[0m\u001b[1;33m\u001b[0m\u001b[1;33m\u001b[0m\u001b[0m\n\u001b[0;32m    872\u001b[0m           \u001b[0mvalidation_freq\u001b[0m\u001b[1;33m=\u001b[0m\u001b[0mvalidation_freq\u001b[0m\u001b[1;33m,\u001b[0m\u001b[1;33m\u001b[0m\u001b[1;33m\u001b[0m\u001b[0m\n\u001b[1;32m--> 873\u001b[1;33m           steps_name='steps_per_epoch')\n\u001b[0m\u001b[0;32m    874\u001b[0m \u001b[1;33m\u001b[0m\u001b[0m\n\u001b[0;32m    875\u001b[0m   def evaluate(self,\n",
      "\u001b[1;32m~\\Anaconda3\\lib\\site-packages\\tensorflow\\python\\keras\\engine\\training_arrays.py\u001b[0m in \u001b[0;36mmodel_iteration\u001b[1;34m(model, inputs, targets, sample_weights, batch_size, epochs, verbose, callbacks, val_inputs, val_targets, val_sample_weights, shuffle, initial_epoch, steps_per_epoch, validation_steps, validation_freq, mode, validation_in_fit, prepared_feed_values_from_dataset, steps_name, **kwargs)\u001b[0m\n\u001b[0;32m    350\u001b[0m \u001b[1;33m\u001b[0m\u001b[0m\n\u001b[0;32m    351\u001b[0m         \u001b[1;31m# Get outputs.\u001b[0m\u001b[1;33m\u001b[0m\u001b[1;33m\u001b[0m\u001b[1;33m\u001b[0m\u001b[0m\n\u001b[1;32m--> 352\u001b[1;33m         \u001b[0mbatch_outs\u001b[0m \u001b[1;33m=\u001b[0m \u001b[0mf\u001b[0m\u001b[1;33m(\u001b[0m\u001b[0mins_batch\u001b[0m\u001b[1;33m)\u001b[0m\u001b[1;33m\u001b[0m\u001b[1;33m\u001b[0m\u001b[0m\n\u001b[0m\u001b[0;32m    353\u001b[0m         \u001b[1;32mif\u001b[0m \u001b[1;32mnot\u001b[0m \u001b[0misinstance\u001b[0m\u001b[1;33m(\u001b[0m\u001b[0mbatch_outs\u001b[0m\u001b[1;33m,\u001b[0m \u001b[0mlist\u001b[0m\u001b[1;33m)\u001b[0m\u001b[1;33m:\u001b[0m\u001b[1;33m\u001b[0m\u001b[1;33m\u001b[0m\u001b[0m\n\u001b[0;32m    354\u001b[0m           \u001b[0mbatch_outs\u001b[0m \u001b[1;33m=\u001b[0m \u001b[1;33m[\u001b[0m\u001b[0mbatch_outs\u001b[0m\u001b[1;33m]\u001b[0m\u001b[1;33m\u001b[0m\u001b[1;33m\u001b[0m\u001b[0m\n",
      "\u001b[1;32m~\\Anaconda3\\lib\\site-packages\\tensorflow\\python\\keras\\backend.py\u001b[0m in \u001b[0;36m__call__\u001b[1;34m(self, inputs)\u001b[0m\n\u001b[0;32m   3215\u001b[0m         \u001b[0mvalue\u001b[0m \u001b[1;33m=\u001b[0m \u001b[0mmath_ops\u001b[0m\u001b[1;33m.\u001b[0m\u001b[0mcast\u001b[0m\u001b[1;33m(\u001b[0m\u001b[0mvalue\u001b[0m\u001b[1;33m,\u001b[0m \u001b[0mtensor\u001b[0m\u001b[1;33m.\u001b[0m\u001b[0mdtype\u001b[0m\u001b[1;33m)\u001b[0m\u001b[1;33m\u001b[0m\u001b[1;33m\u001b[0m\u001b[0m\n\u001b[0;32m   3216\u001b[0m       \u001b[0mconverted_inputs\u001b[0m\u001b[1;33m.\u001b[0m\u001b[0mappend\u001b[0m\u001b[1;33m(\u001b[0m\u001b[0mvalue\u001b[0m\u001b[1;33m)\u001b[0m\u001b[1;33m\u001b[0m\u001b[1;33m\u001b[0m\u001b[0m\n\u001b[1;32m-> 3217\u001b[1;33m     \u001b[0moutputs\u001b[0m \u001b[1;33m=\u001b[0m \u001b[0mself\u001b[0m\u001b[1;33m.\u001b[0m\u001b[0m_graph_fn\u001b[0m\u001b[1;33m(\u001b[0m\u001b[1;33m*\u001b[0m\u001b[0mconverted_inputs\u001b[0m\u001b[1;33m)\u001b[0m\u001b[1;33m\u001b[0m\u001b[1;33m\u001b[0m\u001b[0m\n\u001b[0m\u001b[0;32m   3218\u001b[0m     return nest.pack_sequence_as(self._outputs_structure,\n\u001b[0;32m   3219\u001b[0m                                  [x.numpy() for x in outputs])\n",
      "\u001b[1;32m~\\Anaconda3\\lib\\site-packages\\tensorflow\\python\\eager\\function.py\u001b[0m in \u001b[0;36m__call__\u001b[1;34m(self, *args, **kwargs)\u001b[0m\n\u001b[0;32m    556\u001b[0m       raise TypeError(\"Keyword arguments {} unknown. Expected {}.\".format(\n\u001b[0;32m    557\u001b[0m           list(kwargs.keys()), list(self._arg_keywords)))\n\u001b[1;32m--> 558\u001b[1;33m     \u001b[1;32mreturn\u001b[0m \u001b[0mself\u001b[0m\u001b[1;33m.\u001b[0m\u001b[0m_call_flat\u001b[0m\u001b[1;33m(\u001b[0m\u001b[0margs\u001b[0m\u001b[1;33m)\u001b[0m\u001b[1;33m\u001b[0m\u001b[1;33m\u001b[0m\u001b[0m\n\u001b[0m\u001b[0;32m    559\u001b[0m \u001b[1;33m\u001b[0m\u001b[0m\n\u001b[0;32m    560\u001b[0m   \u001b[1;32mdef\u001b[0m \u001b[0m_filtered_call\u001b[0m\u001b[1;33m(\u001b[0m\u001b[0mself\u001b[0m\u001b[1;33m,\u001b[0m \u001b[0margs\u001b[0m\u001b[1;33m,\u001b[0m \u001b[0mkwargs\u001b[0m\u001b[1;33m)\u001b[0m\u001b[1;33m:\u001b[0m\u001b[1;33m\u001b[0m\u001b[1;33m\u001b[0m\u001b[0m\n",
      "\u001b[1;32m~\\Anaconda3\\lib\\site-packages\\tensorflow\\python\\eager\\function.py\u001b[0m in \u001b[0;36m_call_flat\u001b[1;34m(self, args)\u001b[0m\n\u001b[0;32m    625\u001b[0m     \u001b[1;31m# Only need to override the gradient in graph mode and when we have outputs.\u001b[0m\u001b[1;33m\u001b[0m\u001b[1;33m\u001b[0m\u001b[1;33m\u001b[0m\u001b[0m\n\u001b[0;32m    626\u001b[0m     \u001b[1;32mif\u001b[0m \u001b[0mcontext\u001b[0m\u001b[1;33m.\u001b[0m\u001b[0mexecuting_eagerly\u001b[0m\u001b[1;33m(\u001b[0m\u001b[1;33m)\u001b[0m \u001b[1;32mor\u001b[0m \u001b[1;32mnot\u001b[0m \u001b[0mself\u001b[0m\u001b[1;33m.\u001b[0m\u001b[0moutputs\u001b[0m\u001b[1;33m:\u001b[0m\u001b[1;33m\u001b[0m\u001b[1;33m\u001b[0m\u001b[0m\n\u001b[1;32m--> 627\u001b[1;33m       \u001b[0moutputs\u001b[0m \u001b[1;33m=\u001b[0m \u001b[0mself\u001b[0m\u001b[1;33m.\u001b[0m\u001b[0m_inference_function\u001b[0m\u001b[1;33m.\u001b[0m\u001b[0mcall\u001b[0m\u001b[1;33m(\u001b[0m\u001b[0mctx\u001b[0m\u001b[1;33m,\u001b[0m \u001b[0margs\u001b[0m\u001b[1;33m)\u001b[0m\u001b[1;33m\u001b[0m\u001b[1;33m\u001b[0m\u001b[0m\n\u001b[0m\u001b[0;32m    628\u001b[0m     \u001b[1;32melse\u001b[0m\u001b[1;33m:\u001b[0m\u001b[1;33m\u001b[0m\u001b[1;33m\u001b[0m\u001b[0m\n\u001b[0;32m    629\u001b[0m       \u001b[0mself\u001b[0m\u001b[1;33m.\u001b[0m\u001b[0m_register_gradient\u001b[0m\u001b[1;33m(\u001b[0m\u001b[1;33m)\u001b[0m\u001b[1;33m\u001b[0m\u001b[1;33m\u001b[0m\u001b[0m\n",
      "\u001b[1;32m~\\Anaconda3\\lib\\site-packages\\tensorflow\\python\\eager\\function.py\u001b[0m in \u001b[0;36mcall\u001b[1;34m(self, ctx, args)\u001b[0m\n\u001b[0;32m    413\u001b[0m             attrs=(\"executor_type\", executor_type,\n\u001b[0;32m    414\u001b[0m                    \"config_proto\", config),\n\u001b[1;32m--> 415\u001b[1;33m             ctx=ctx)\n\u001b[0m\u001b[0;32m    416\u001b[0m       \u001b[1;31m# Replace empty list with None\u001b[0m\u001b[1;33m\u001b[0m\u001b[1;33m\u001b[0m\u001b[1;33m\u001b[0m\u001b[0m\n\u001b[0;32m    417\u001b[0m       \u001b[0moutputs\u001b[0m \u001b[1;33m=\u001b[0m \u001b[0moutputs\u001b[0m \u001b[1;32mor\u001b[0m \u001b[1;32mNone\u001b[0m\u001b[1;33m\u001b[0m\u001b[1;33m\u001b[0m\u001b[0m\n",
      "\u001b[1;32m~\\Anaconda3\\lib\\site-packages\\tensorflow\\python\\eager\\execute.py\u001b[0m in \u001b[0;36mquick_execute\u001b[1;34m(op_name, num_outputs, inputs, attrs, ctx, name)\u001b[0m\n\u001b[0;32m     58\u001b[0m     tensors = pywrap_tensorflow.TFE_Py_Execute(ctx._handle, device_name,\n\u001b[0;32m     59\u001b[0m                                                \u001b[0mop_name\u001b[0m\u001b[1;33m,\u001b[0m \u001b[0minputs\u001b[0m\u001b[1;33m,\u001b[0m \u001b[0mattrs\u001b[0m\u001b[1;33m,\u001b[0m\u001b[1;33m\u001b[0m\u001b[1;33m\u001b[0m\u001b[0m\n\u001b[1;32m---> 60\u001b[1;33m                                                num_outputs)\n\u001b[0m\u001b[0;32m     61\u001b[0m   \u001b[1;32mexcept\u001b[0m \u001b[0mcore\u001b[0m\u001b[1;33m.\u001b[0m\u001b[0m_NotOkStatusException\u001b[0m \u001b[1;32mas\u001b[0m \u001b[0me\u001b[0m\u001b[1;33m:\u001b[0m\u001b[1;33m\u001b[0m\u001b[1;33m\u001b[0m\u001b[0m\n\u001b[0;32m     62\u001b[0m     \u001b[1;32mif\u001b[0m \u001b[0mname\u001b[0m \u001b[1;32mis\u001b[0m \u001b[1;32mnot\u001b[0m \u001b[1;32mNone\u001b[0m\u001b[1;33m:\u001b[0m\u001b[1;33m\u001b[0m\u001b[1;33m\u001b[0m\u001b[0m\n",
      "\u001b[1;31mKeyboardInterrupt\u001b[0m: "
     ]
    }
   ],
   "source": [
    "history=model.fit(X_train,y_train, validation_data = (X_test, y_test), \n",
    "                  batch_size  =256, epochs=50, callbacks = [lr_schedule])\n"
   ]
  },
  {
   "cell_type": "code",
   "execution_count": 7,
   "metadata": {},
   "outputs": [
    {
     "data": {
      "text/plain": [
       "[<matplotlib.lines.Line2D at 0x207baf55ac8>]"
      ]
     },
     "execution_count": 7,
     "metadata": {},
     "output_type": "execute_result"
    },
    {
     "data": {
      "image/png": "[encoded data removed]",
      "text/plain": [
       "<Figure size 432x288 with 1 Axes>"
      ]
     },
     "metadata": {
      "needs_background": "light"
     },
     "output_type": "display_data"
    }
   ],
   "source": [
    "lrs = 1e-5 * (10 ** (np.arange(50) / 20))\n",
    "plt.semilogx(lrs, history.history[\"loss\"])\n"
   ]
  },
  {
   "cell_type": "code",
   "execution_count": 8,
   "metadata": {},
   "outputs": [
    {
     "name": "stdout",
     "output_type": "stream",
     "text": [
      "Train on 12424 samples, validate on 319 samples\n",
      "Epoch 1/100\n",
      "12424/12424 [==============================] - 3s 253us/sample - loss: 64.1464 - mae: 7.9943 - val_loss: 56.4359 - val_mae: 7.4985\n",
      "Epoch 2/100\n",
      "12424/12424 [==============================] - 2s 185us/sample - loss: 46.8545 - mae: 6.8192 - val_loss: 36.3683 - val_mae: 6.0134\n",
      "Epoch 3/100\n",
      "12424/12424 [==============================] - 2s 186us/sample - loss: 29.4815 - mae: 5.4011 - val_loss: 22.8278 - val_mae: 4.7550\n",
      "Epoch 4/100\n",
      "12424/12424 [==============================] - 2s 191us/sample - loss: 18.3071 - mae: 4.2445 - val_loss: 13.7061 - val_mae: 3.6714\n",
      "Epoch 5/100\n",
      "12424/12424 [==============================] - 2s 192us/sample - loss: 10.9034 - mae: 3.2620 - val_loss: 8.0397 - val_mae: 2.7942\n",
      "Epoch 6/100\n",
      "12424/12424 [==============================] - 3s 216us/sample - loss: 6.2774 - mae: 2.4534 - val_loss: 4.4268 - val_mae: 2.0499\n",
      "Epoch 7/100\n",
      "12424/12424 [==============================] - 3s 235us/sample - loss: 3.3446 - mae: 1.7603 - val_loss: 2.2419 - val_mae: 1.4215\n",
      "Epoch 8/100\n",
      "12424/12424 [==============================] - 3s 230us/sample - loss: 1.5860 - mae: 1.1728 - val_loss: 1.0093 - val_mae: 0.9202\n",
      "Epoch 9/100\n",
      "12424/12424 [==============================] - 3s 235us/sample - loss: 0.7568 - mae: 0.7840 - val_loss: 0.5158 - val_mae: 0.6315\n",
      "Epoch 10/100\n",
      "12424/12424 [==============================] - 3s 222us/sample - loss: 0.4044 - mae: 0.5531 - val_loss: 0.3181 - val_mae: 0.4676\n",
      "Epoch 11/100\n",
      "12424/12424 [==============================] - 3s 231us/sample - loss: 0.2670 - mae: 0.4289 - val_loss: 0.2515 - val_mae: 0.3925\n",
      "Epoch 12/100\n",
      "12424/12424 [==============================] - 3s 221us/sample - loss: 0.2194 - mae: 0.3711 - val_loss: 0.2320 - val_mae: 0.3618\n",
      "Epoch 13/100\n",
      "12424/12424 [==============================] - 3s 219us/sample - loss: 0.2028 - mae: 0.3463 - val_loss: 0.2248 - val_mae: 0.3489\n",
      "Epoch 14/100\n",
      "12424/12424 [==============================] - 3s 224us/sample - loss: 0.1942 - mae: 0.3335 - val_loss: 0.2177 - val_mae: 0.3406\n",
      "Epoch 15/100\n",
      "12424/12424 [==============================] - 3s 225us/sample - loss: 0.1855 - mae: 0.3239 - val_loss: 0.2092 - val_mae: 0.3336\n",
      "Epoch 16/100\n",
      "12424/12424 [==============================] - 3s 236us/sample - loss: 0.1782 - mae: 0.3159 - val_loss: 0.2032 - val_mae: 0.3281\n",
      "Epoch 17/100\n",
      "12424/12424 [==============================] - 3s 279us/sample - loss: 0.1727 - mae: 0.3104 - val_loss: 0.1982 - val_mae: 0.3233\n",
      "Epoch 18/100\n",
      "12424/12424 [==============================] - 3s 259us/sample - loss: 0.1677 - mae: 0.3053 - val_loss: 0.1933 - val_mae: 0.3189\n",
      "Epoch 19/100\n",
      "12424/12424 [==============================] - 3s 255us/sample - loss: 0.1630 - mae: 0.3007 - val_loss: 0.1886 - val_mae: 0.3154\n",
      "Epoch 20/100\n",
      "12424/12424 [==============================] - 3s 237us/sample - loss: 0.1590 - mae: 0.2970 - val_loss: 0.1858 - val_mae: 0.3131\n",
      "Epoch 21/100\n",
      "12424/12424 [==============================] - 3s 216us/sample - loss: 0.1572 - mae: 0.2946 - val_loss: 0.1855 - val_mae: 0.3128\n",
      "Epoch 22/100\n",
      "12424/12424 [==============================] - 3s 215us/sample - loss: 0.1567 - mae: 0.2937 - val_loss: 0.1852 - val_mae: 0.3128\n",
      "Epoch 23/100\n",
      "12424/12424 [==============================] - 3s 216us/sample - loss: 0.1566 - mae: 0.2933 - val_loss: 0.1850 - val_mae: 0.3127\n",
      "Epoch 24/100\n",
      "12424/12424 [==============================] - 3s 245us/sample - loss: 0.1564 - mae: 0.2931 - val_loss: 0.1848 - val_mae: 0.3127\n",
      "Epoch 25/100\n",
      "12424/12424 [==============================] - 3s 222us/sample - loss: 0.1563 - mae: 0.2930 - val_loss: 0.1848 - val_mae: 0.3124\n",
      "Epoch 26/100\n",
      "12424/12424 [==============================] - 3s 224us/sample - loss: 0.1560 - mae: 0.2927 - val_loss: 0.1843 - val_mae: 0.3121\n",
      "Epoch 27/100\n",
      "12424/12424 [==============================] - 3s 230us/sample - loss: 0.1556 - mae: 0.2925 - val_loss: 0.1838 - val_mae: 0.3115\n",
      "Epoch 28/100\n",
      "12424/12424 [==============================] - 3s 235us/sample - loss: 0.1551 - mae: 0.2919 - val_loss: 0.1831 - val_mae: 0.3107\n",
      "Epoch 29/100\n",
      "12424/12424 [==============================] - 3s 234us/sample - loss: 0.1545 - mae: 0.2915 - val_loss: 0.1814 - val_mae: 0.3091\n",
      "Epoch 30/100\n",
      "12424/12424 [==============================] - 3s 225us/sample - loss: 0.1533 - mae: 0.2905 - val_loss: 0.1807 - val_mae: 0.3083\n",
      "Epoch 31/100\n",
      "12424/12424 [==============================] - 3s 222us/sample - loss: 0.1523 - mae: 0.2894 - val_loss: 0.1790 - val_mae: 0.3072\n",
      "Epoch 32/100\n",
      "12424/12424 [==============================] - 3s 221us/sample - loss: 0.1512 - mae: 0.2883 - val_loss: 0.1770 - val_mae: 0.3050\n",
      "Epoch 33/100\n",
      "12424/12424 [==============================] - 3s 222us/sample - loss: 0.1495 - mae: 0.2866 - val_loss: 0.1750 - val_mae: 0.3031\n",
      "Epoch 34/100\n",
      "12424/12424 [==============================] - 3s 237us/sample - loss: 0.1479 - mae: 0.2848 - val_loss: 0.1726 - val_mae: 0.3008\n",
      "Epoch 35/100\n",
      "12424/12424 [==============================] - 3s 238us/sample - loss: 0.1461 - mae: 0.2830 - val_loss: 0.1704 - val_mae: 0.2986\n",
      "Epoch 36/100\n",
      "12424/12424 [==============================] - 3s 247us/sample - loss: 0.1444 - mae: 0.2812 - val_loss: 0.1672 - val_mae: 0.2990\n",
      "Epoch 37/100\n",
      "12424/12424 [==============================] - 3s 234us/sample - loss: 0.1425 - mae: 0.2792 - val_loss: 0.1642 - val_mae: 0.2934\n",
      "Epoch 38/100\n",
      "12424/12424 [==============================] - 3s 250us/sample - loss: 0.1410 - mae: 0.2773 - val_loss: 0.1626 - val_mae: 0.2911\n",
      "Epoch 39/100\n",
      "12424/12424 [==============================] - 3s 236us/sample - loss: 0.1386 - mae: 0.2750 - val_loss: 0.1607 - val_mae: 0.2883\n",
      "Epoch 40/100\n",
      "12424/12424 [==============================] - 3s 259us/sample - loss: 0.1356 - mae: 0.2717 - val_loss: 0.1544 - val_mae: 0.2831\n",
      "Epoch 41/100\n",
      "12424/12424 [==============================] - 3s 279us/sample - loss: 0.1275 - mae: 0.2645 - val_loss: 0.1356 - val_mae: 0.2661\n",
      "Epoch 42/100\n",
      "12424/12424 [==============================] - 3s 267us/sample - loss: 0.1186 - mae: 0.2555 - val_loss: 0.1204 - val_mae: 0.2530\n",
      "Epoch 43/100\n",
      "12424/12424 [==============================] - 3s 265us/sample - loss: 0.1154 - mae: 0.2523 - val_loss: 0.1193 - val_mae: 0.2516\n",
      "Epoch 44/100\n",
      "12424/12424 [==============================] - 3s 231us/sample - loss: 0.1137 - mae: 0.2502 - val_loss: 0.1149 - val_mae: 0.2472\n",
      "Epoch 45/100\n",
      "12424/12424 [==============================] - 3s 244us/sample - loss: 0.1126 - mae: 0.2489 - val_loss: 0.1137 - val_mae: 0.2456\n",
      "Epoch 46/100\n",
      "12424/12424 [==============================] - 3s 259us/sample - loss: 0.1119 - mae: 0.2479 - val_loss: 0.1121 - val_mae: 0.2445\n",
      "Epoch 47/100\n",
      "12424/12424 [==============================] - 3s 269us/sample - loss: 0.1117 - mae: 0.2475 - val_loss: 0.1124 - val_mae: 0.2442\n",
      "Epoch 48/100\n",
      "12424/12424 [==============================] - 4s 284us/sample - loss: 0.1110 - mae: 0.2466 - val_loss: 0.1108 - val_mae: 0.2424\n",
      "Epoch 49/100\n",
      "12424/12424 [==============================] - 3s 258us/sample - loss: 0.1104 - mae: 0.2457 - val_loss: 0.1099 - val_mae: 0.2421\n",
      "Epoch 50/100\n",
      "12424/12424 [==============================] - 3s 254us/sample - loss: 0.1100 - mae: 0.2452 - val_loss: 0.1103 - val_mae: 0.2420\n",
      "Epoch 51/100\n",
      "12424/12424 [==============================] - 3s 252us/sample - loss: 0.1098 - mae: 0.2451 - val_loss: 0.1117 - val_mae: 0.2433\n",
      "Epoch 52/100\n",
      "12424/12424 [==============================] - 3s 247us/sample - loss: 0.1094 - mae: 0.2443 - val_loss: 0.1094 - val_mae: 0.2410\n",
      "Epoch 53/100\n",
      "12424/12424 [==============================] - 3s 245us/sample - loss: 0.1092 - mae: 0.2442 - val_loss: 0.1082 - val_mae: 0.2394\n",
      "Epoch 54/100\n",
      "12424/12424 [==============================] - 3s 245us/sample - loss: 0.1090 - mae: 0.2434 - val_loss: 0.1078 - val_mae: 0.2388\n",
      "Epoch 55/100\n",
      "12424/12424 [==============================] - 3s 246us/sample - loss: 0.1085 - mae: 0.2429 - val_loss: 0.1069 - val_mae: 0.2385\n",
      "Epoch 56/100\n",
      "12424/12424 [==============================] - 3s 244us/sample - loss: 0.1085 - mae: 0.2427 - val_loss: 0.1079 - val_mae: 0.2391\n",
      "Epoch 57/100\n",
      "12424/12424 [==============================] - 3s 244us/sample - loss: 0.1082 - mae: 0.2424 - val_loss: 0.1063 - val_mae: 0.2380\n",
      "Epoch 58/100\n",
      "12424/12424 [==============================] - 3s 245us/sample - loss: 0.1079 - mae: 0.2420 - val_loss: 0.1067 - val_mae: 0.2376\n",
      "Epoch 59/100\n",
      "12424/12424 [==============================] - 3s 244us/sample - loss: 0.1078 - mae: 0.2418 - val_loss: 0.1068 - val_mae: 0.2376\n",
      "Epoch 60/100\n",
      "12424/12424 [==============================] - 3s 246us/sample - loss: 0.1078 - mae: 0.2417 - val_loss: 0.1058 - val_mae: 0.2369\n",
      "Epoch 61/100\n",
      "12424/12424 [==============================] - 3s 252us/sample - loss: 0.1075 - mae: 0.2416 - val_loss: 0.1077 - val_mae: 0.2434\n",
      "Epoch 62/100\n",
      "12424/12424 [==============================] - 3s 244us/sample - loss: 0.1075 - mae: 0.2412 - val_loss: 0.1047 - val_mae: 0.2373\n",
      "Epoch 63/100\n",
      "12424/12424 [==============================] - 3s 248us/sample - loss: 0.1068 - mae: 0.2404 - val_loss: 0.1037 - val_mae: 0.2383\n",
      "Epoch 64/100\n",
      "12424/12424 [==============================] - 3s 255us/sample - loss: 0.1069 - mae: 0.2408 - val_loss: 0.1035 - val_mae: 0.2373\n",
      "Epoch 65/100\n",
      "12424/12424 [==============================] - 3s 213us/sample - loss: 0.1067 - mae: 0.2401 - val_loss: 0.1033 - val_mae: 0.2364\n",
      "Epoch 66/100\n",
      "12424/12424 [==============================] - 2s 197us/sample - loss: 0.1065 - mae: 0.2398 - val_loss: 0.1039 - val_mae: 0.2378\n",
      "Epoch 67/100\n",
      "12424/12424 [==============================] - 3s 233us/sample - loss: 0.1065 - mae: 0.2397 - val_loss: 0.1038 - val_mae: 0.2353\n",
      "Epoch 68/100\n",
      "12424/12424 [==============================] - 3s 219us/sample - loss: 0.1062 - mae: 0.2394 - val_loss: 0.1048 - val_mae: 0.2361\n",
      "Epoch 69/100\n",
      "12424/12424 [==============================] - 3s 220us/sample - loss: 0.1061 - mae: 0.2388 - val_loss: 0.1029 - val_mae: 0.2358\n",
      "Epoch 70/100\n",
      "12424/12424 [==============================] - 3s 215us/sample - loss: 0.1062 - mae: 0.2390 - val_loss: 0.1041 - val_mae: 0.2387\n",
      "Epoch 71/100\n",
      "12424/12424 [==============================] - 3s 212us/sample - loss: 0.1060 - mae: 0.2387 - val_loss: 0.1032 - val_mae: 0.2343\n",
      "Epoch 72/100\n",
      "12424/12424 [==============================] - 3s 216us/sample - loss: 0.1057 - mae: 0.2384 - val_loss: 0.1029 - val_mae: 0.2339\n",
      "Epoch 73/100\n",
      "12424/12424 [==============================] - 3s 217us/sample - loss: 0.1059 - mae: 0.2387 - val_loss: 0.1026 - val_mae: 0.2337\n",
      "Epoch 74/100\n",
      "12424/12424 [==============================] - 3s 218us/sample - loss: 0.1057 - mae: 0.2382 - val_loss: 0.1025 - val_mae: 0.2338\n",
      "Epoch 75/100\n",
      "12424/12424 [==============================] - 3s 217us/sample - loss: 0.1056 - mae: 0.2380 - val_loss: 0.1027 - val_mae: 0.2336\n",
      "Epoch 76/100\n",
      "12424/12424 [==============================] - 3s 215us/sample - loss: 0.1054 - mae: 0.2375 - val_loss: 0.1034 - val_mae: 0.2340\n",
      "Epoch 77/100\n",
      "12424/12424 [==============================] - 3s 218us/sample - loss: 0.1057 - mae: 0.2378 - val_loss: 0.1023 - val_mae: 0.2334\n",
      "Epoch 78/100\n",
      "12424/12424 [==============================] - 3s 217us/sample - loss: 0.1053 - mae: 0.2375 - val_loss: 0.1060 - val_mae: 0.2365\n",
      "Epoch 79/100\n",
      "12424/12424 [==============================] - 3s 216us/sample - loss: 0.1054 - mae: 0.2374 - val_loss: 0.1028 - val_mae: 0.2332\n",
      "Epoch 80/100\n",
      "12424/12424 [==============================] - 3s 216us/sample - loss: 0.1052 - mae: 0.2372 - val_loss: 0.1036 - val_mae: 0.2338\n",
      "Epoch 81/100\n",
      "12424/12424 [==============================] - 3s 215us/sample - loss: 0.1052 - mae: 0.2371 - val_loss: 0.1026 - val_mae: 0.2338\n",
      "Epoch 82/100\n",
      "12424/12424 [==============================] - 3s 216us/sample - loss: 0.1050 - mae: 0.2369 - val_loss: 0.1056 - val_mae: 0.2352\n",
      "Epoch 83/100\n",
      "12424/12424 [==============================] - 3s 220us/sample - loss: 0.1058 - mae: 0.2379 - val_loss: 0.1032 - val_mae: 0.2334\n",
      "Epoch 84/100\n",
      "12424/12424 [==============================] - 3s 225us/sample - loss: 0.1049 - mae: 0.2363 - val_loss: 0.1016 - val_mae: 0.2324\n",
      "Epoch 85/100\n",
      "12424/12424 [==============================] - 3s 228us/sample - loss: 0.1049 - mae: 0.2365 - val_loss: 0.1018 - val_mae: 0.2327\n",
      "Epoch 86/100\n",
      "12424/12424 [==============================] - 3s 215us/sample - loss: 0.1047 - mae: 0.2363 - val_loss: 0.1021 - val_mae: 0.2326\n",
      "Epoch 87/100\n",
      "12424/12424 [==============================] - 3s 222us/sample - loss: 0.1048 - mae: 0.2359 - val_loss: 0.1015 - val_mae: 0.2328\n",
      "Epoch 88/100\n",
      "12424/12424 [==============================] - 3s 221us/sample - loss: 0.1047 - mae: 0.2360 - val_loss: 0.1017 - val_mae: 0.2327\n",
      "Epoch 89/100\n",
      "12424/12424 [==============================] - 3s 232us/sample - loss: 0.1046 - mae: 0.2358 - val_loss: 0.1013 - val_mae: 0.2321\n",
      "Epoch 90/100\n",
      "12424/12424 [==============================] - 3s 223us/sample - loss: 0.1046 - mae: 0.2358 - val_loss: 0.1025 - val_mae: 0.2328\n",
      "Epoch 91/100\n",
      "12424/12424 [==============================] - 3s 218us/sample - loss: 0.1045 - mae: 0.2357 - val_loss: 0.1015 - val_mae: 0.2319\n",
      "Epoch 92/100\n",
      "12424/12424 [==============================] - 3s 221us/sample - loss: 0.1043 - mae: 0.2353 - val_loss: 0.1024 - val_mae: 0.2326\n",
      "Epoch 93/100\n",
      "12424/12424 [==============================] - 3s 215us/sample - loss: 0.1045 - mae: 0.2354 - val_loss: 0.1017 - val_mae: 0.2327\n",
      "Epoch 94/100\n",
      "12424/12424 [==============================] - 3s 213us/sample - loss: 0.1043 - mae: 0.2354 - val_loss: 0.1018 - val_mae: 0.2323\n",
      "Epoch 95/100\n",
      "12424/12424 [==============================] - 3s 212us/sample - loss: 0.1042 - mae: 0.2352 - val_loss: 0.1035 - val_mae: 0.2339\n",
      "Epoch 96/100\n",
      "12424/12424 [==============================] - 3s 216us/sample - loss: 0.1040 - mae: 0.2349 - val_loss: 0.1013 - val_mae: 0.2320\n",
      "Epoch 97/100\n",
      "12424/12424 [==============================] - 3s 225us/sample - loss: 0.1042 - mae: 0.2347 - val_loss: 0.1013 - val_mae: 0.2323\n",
      "Epoch 98/100\n",
      "12424/12424 [==============================] - 3s 220us/sample - loss: 0.1041 - mae: 0.2349 - val_loss: 0.1019 - val_mae: 0.2352\n",
      "Epoch 99/100\n",
      "12424/12424 [==============================] - 3s 225us/sample - loss: 0.1039 - mae: 0.2349 - val_loss: 0.1038 - val_mae: 0.2350\n",
      "Epoch 100/100\n",
      "12424/12424 [==============================] - 3s 235us/sample - loss: 0.1041 - mae: 0.2348 - val_loss: 0.1012 - val_mae: 0.2327\n"
     ]
    }
   ],
   "source": [
    "tf.random.set_seed(0)\n",
    "model1 = tf.keras.models.Sequential([\n",
    "    tf.keras.layers.Lambda(lambda x: tf.expand_dims(x, axis = -1), input_shape = [None]),\n",
    "    tf.keras.layers.Conv1D(filters = 32, kernel_size = 5, strides = 1, padding = 'same', activation = 'relu'),\n",
    "    #tf.keras.layers.Lambda(lambda x: tf.expand_dims(x, axis = -1)),\n",
    "    tf.keras.layers.LSTM(32, return_sequences = True),\n",
    "    tf.keras.layers.LSTM(16),\n",
    "    #tf.keras.layers.SimpleRNN(40, return_sequences = True),\n",
    "    #tf.keras.layers.SimpleRNN(20),\n",
    "    tf.keras.layers.Dense(10, activation = 'relu'),\n",
    "    tf.keras.layers.Dense(5,activation = 'relu'),\n",
    "    tf.keras.layers.Dense(1)])\n",
    "model1.compile(loss = 'mse', optimizer = tf.keras.optimizers.Adam(learning_rate = 5e-5), metrics = ['mae'])\n",
    "history1 = model1.fit(X_train,y_train, validation_data = (X_test, y_test), epochs=100, batch_size = 64)"
   ]
  },
  {
   "cell_type": "code",
   "execution_count": 9,
   "metadata": {},
   "outputs": [
    {
     "data": {
      "text/plain": [
       "(array([[8.593707],\n",
       "        [8.417801],\n",
       "        [8.381887],\n",
       "        [7.864384],\n",
       "        [7.711547]], dtype=float32),\n",
       " array([[8.54500289],\n",
       "        [8.37047041],\n",
       "        [8.69484149],\n",
       "        [7.71760729],\n",
       "        [7.7403941 ]]))"
      ]
     },
     "execution_count": 9,
     "metadata": {},
     "output_type": "execute_result"
    }
   ],
   "source": [
    "predictions = model1.predict(X_test)\n",
    "predictions[:5], y_test.to_numpy()[:5]"
   ]
  },
  {
   "cell_type": "code",
   "execution_count": 10,
   "metadata": {},
   "outputs": [
    {
     "data": {
      "text/plain": [
       "(0.10117423587019198, 0.23267485336582064)"
      ]
     },
     "execution_count": 10,
     "metadata": {},
     "output_type": "execute_result"
    }
   ],
   "source": [
    "from sklearn.metrics import mean_squared_error, mean_absolute_error\n",
    "mean_squared_error(predictions, y_test), mean_absolute_error(predictions, y_test)"
   ]
  },
  {
   "cell_type": "code",
   "execution_count": 11,
   "metadata": {},
   "outputs": [
    {
     "data": {
      "text/plain": [
       "[<matplotlib.lines.Line2D at 0x207be802288>]"
      ]
     },
     "execution_count": 11,
     "metadata": {},
     "output_type": "execute_result"
    },
    {
     "data": {
      "image/png": "[encoded data removed]",
      "text/plain": [
       "<Figure size 432x288 with 1 Axes>"
      ]
     },
     "metadata": {
      "needs_background": "light"
     },
     "output_type": "display_data"
    }
   ],
   "source": [
    "plt.plot(range(1, len(history.history[\"loss\"])), history.history[\"loss\"][1:])\n",
    "plt.plot(range(1, len(history.history[\"val_loss\"])), history.history[\"val_loss\"][1:])"
   ]
  },
  {
   "cell_type": "code",
   "execution_count": 12,
   "metadata": {},
   "outputs": [],
   "source": [
    "sq_ftt = X_test.head(10)\n",
    "sqr_ft = sq_ftt['living_area_m2']"
   ]
  },
  {
   "cell_type": "code",
   "execution_count": 13,
   "metadata": {},
   "outputs": [
    {
     "name": "stdout",
     "output_type": "stream",
     "text": [
      "true [505103.25009856]\n",
      "pred [530312.81884788]\n",
      "true [263377.66665733]\n",
      "pred [276143.1769676]\n",
      "true [311023.10593111]\n",
      "pred [227446.06990606]\n",
      "true [494466.57537998]\n",
      "pred [572639.53865109]\n",
      "true [427684.37845084]\n",
      "pred [415523.13510674]\n",
      "true [382740.51652174]\n",
      "pred [375099.37838924]\n",
      "true [258931.78743056]\n",
      "pred [331610.82022896]\n",
      "true [457060.51131931]\n",
      "pred [285090.92620771]\n",
      "true [459640.83683441]\n",
      "pred [547249.03708035]\n",
      "true [806948.48014018]\n",
      "pred [504201.87983239]\n"
     ]
    }
   ],
   "source": [
    "p = predictions[:10]\n",
    "p = p.tolist()\n",
    "y_test = y_test[:10]\n",
    "\n",
    "y_t = y_test.to_numpy().tolist()\n",
    "y_t, p\n",
    "for i, j, k in zip(y_t, sqr_ft, p):\n",
    "    print('true',np.exp(i) * np.exp(j))\n",
    "    print('pred',np.exp(k) * np.exp(j))"
   ]
  },
  {
   "cell_type": "code",
   "execution_count": 1,
   "metadata": {},
   "outputs": [
    {
     "ename": "NameError",
     "evalue": "name 'model1' is not defined",
     "output_type": "error",
     "traceback": [
      "\u001b[1;31m---------------------------------------------------------------------------\u001b[0m",
      "\u001b[1;31mNameError\u001b[0m                                 Traceback (most recent call last)",
      "\u001b[1;32m<ipython-input-1-1948b5cfee7a>\u001b[0m in \u001b[0;36m<module>\u001b[1;34m\u001b[0m\n\u001b[1;32m----> 1\u001b[1;33m \u001b[0mscore\u001b[0m \u001b[1;33m=\u001b[0m \u001b[0mmodel1\u001b[0m\u001b[1;33m.\u001b[0m\u001b[0mpredict\u001b[0m\u001b[1;33m(\u001b[0m\u001b[1;33m[\u001b[0m\u001b[1;33m[\u001b[0m\u001b[1;36m2.0\u001b[0m\u001b[1;33m,\u001b[0m \u001b[1;36m2.0\u001b[0m\u001b[1;33m,\u001b[0m \u001b[1;36m2.0\u001b[0m\u001b[1;33m,\u001b[0m \u001b[1;36m2.0\u001b[0m\u001b[1;33m,\u001b[0m \u001b[1;36m12209.0\u001b[0m\u001b[1;33m,\u001b[0m \u001b[1;36m2.0\u001b[0m\u001b[1;33m,\u001b[0m \u001b[1;36m1.0\u001b[0m\u001b[1;33m,\u001b[0m \u001b[1;36m2.0\u001b[0m\u001b[1;33m,\u001b[0m \u001b[1;36m1.0\u001b[0m\u001b[1;33m,\u001b[0m \u001b[1;36m1.0\u001b[0m\u001b[1;33m,\u001b[0m \u001b[1;36m1.0\u001b[0m\u001b[1;33m,\u001b[0m \u001b[1;36m1980.0\u001b[0m\u001b[1;33m,\u001b[0m \u001b[1;36m4.04\u001b[0m\u001b[1;33m]\u001b[0m\u001b[1;33m]\u001b[0m\u001b[1;33m)\u001b[0m\u001b[1;33m\u001b[0m\u001b[1;33m\u001b[0m\u001b[0m\n\u001b[0m\u001b[0;32m      2\u001b[0m \u001b[0mscore\u001b[0m\u001b[1;33m\u001b[0m\u001b[1;33m\u001b[0m\u001b[0m\n",
      "\u001b[1;31mNameError\u001b[0m: name 'model1' is not defined"
     ]
    }
   ],
   "source": [
    "score = model1.predict([[2.0, 2.0, 2.0, 2.0, 12209.0, 2.0, 1.0, 2.0, 1.0, 1.0, 1.0, 1980.0, 4.04]])\n",
    "score"
   ]
  },
  {
   "cell_type": "code",
   "execution_count": null,
   "metadata": {},
   "outputs": [],
   "source": []
  }
 ],
 "metadata": {
  "kernelspec": {
   "display_name": "Python 3",
   "language": "python",
   "name": "python3"
  },
  "language_info": {
   "codemirror_mode": {
    "name": "ipython",
    "version": 3
   },
   "file_extension": ".py",
   "mimetype": "text/x-python",
   "name": "python",
   "nbconvert_exporter": "python",
   "pygments_lexer": "ipython3",
   "version": "3.7.7"
  }
 },
 "nbformat": 4,
 "nbformat_minor": 4
}
