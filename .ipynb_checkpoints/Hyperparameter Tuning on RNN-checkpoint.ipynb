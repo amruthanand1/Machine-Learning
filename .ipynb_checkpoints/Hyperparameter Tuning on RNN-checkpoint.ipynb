{
 "cells": [
  {
   "cell_type": "code",
   "execution_count": 1,
   "metadata": {},
   "outputs": [
    {
     "name": "stderr",
     "output_type": "stream",
     "text": [
      "C:\\Users\\admin\\Anaconda3\\lib\\site-packages\\tensorflow\\python\\framework\\dtypes.py:523: FutureWarning: Passing (type, 1) or '1type' as a synonym of type is deprecated; in a future version of numpy, it will be understood as (type, (1,)) / '(1,)type'.\n",
      "  _np_qint8 = np.dtype([(\"qint8\", np.int8, 1)])\n",
      "C:\\Users\\admin\\Anaconda3\\lib\\site-packages\\tensorflow\\python\\framework\\dtypes.py:524: FutureWarning: Passing (type, 1) or '1type' as a synonym of type is deprecated; in a future version of numpy, it will be understood as (type, (1,)) / '(1,)type'.\n",
      "  _np_quint8 = np.dtype([(\"quint8\", np.uint8, 1)])\n",
      "C:\\Users\\admin\\Anaconda3\\lib\\site-packages\\tensorflow\\python\\framework\\dtypes.py:525: FutureWarning: Passing (type, 1) or '1type' as a synonym of type is deprecated; in a future version of numpy, it will be understood as (type, (1,)) / '(1,)type'.\n",
      "  _np_qint16 = np.dtype([(\"qint16\", np.int16, 1)])\n",
      "C:\\Users\\admin\\Anaconda3\\lib\\site-packages\\tensorflow\\python\\framework\\dtypes.py:526: FutureWarning: Passing (type, 1) or '1type' as a synonym of type is deprecated; in a future version of numpy, it will be understood as (type, (1,)) / '(1,)type'.\n",
      "  _np_quint16 = np.dtype([(\"quint16\", np.uint16, 1)])\n",
      "C:\\Users\\admin\\Anaconda3\\lib\\site-packages\\tensorflow\\python\\framework\\dtypes.py:527: FutureWarning: Passing (type, 1) or '1type' as a synonym of type is deprecated; in a future version of numpy, it will be understood as (type, (1,)) / '(1,)type'.\n",
      "  _np_qint32 = np.dtype([(\"qint32\", np.int32, 1)])\n",
      "C:\\Users\\admin\\Anaconda3\\lib\\site-packages\\tensorflow\\python\\framework\\dtypes.py:532: FutureWarning: Passing (type, 1) or '1type' as a synonym of type is deprecated; in a future version of numpy, it will be understood as (type, (1,)) / '(1,)type'.\n",
      "  np_resource = np.dtype([(\"resource\", np.ubyte, 1)])\n",
      "C:\\Users\\admin\\Anaconda3\\lib\\site-packages\\tensorboard\\compat\\tensorflow_stub\\dtypes.py:541: FutureWarning: Passing (type, 1) or '1type' as a synonym of type is deprecated; in a future version of numpy, it will be understood as (type, (1,)) / '(1,)type'.\n",
      "  _np_qint8 = np.dtype([(\"qint8\", np.int8, 1)])\n",
      "C:\\Users\\admin\\Anaconda3\\lib\\site-packages\\tensorboard\\compat\\tensorflow_stub\\dtypes.py:542: FutureWarning: Passing (type, 1) or '1type' as a synonym of type is deprecated; in a future version of numpy, it will be understood as (type, (1,)) / '(1,)type'.\n",
      "  _np_quint8 = np.dtype([(\"quint8\", np.uint8, 1)])\n",
      "C:\\Users\\admin\\Anaconda3\\lib\\site-packages\\tensorboard\\compat\\tensorflow_stub\\dtypes.py:543: FutureWarning: Passing (type, 1) or '1type' as a synonym of type is deprecated; in a future version of numpy, it will be understood as (type, (1,)) / '(1,)type'.\n",
      "  _np_qint16 = np.dtype([(\"qint16\", np.int16, 1)])\n",
      "C:\\Users\\admin\\Anaconda3\\lib\\site-packages\\tensorboard\\compat\\tensorflow_stub\\dtypes.py:544: FutureWarning: Passing (type, 1) or '1type' as a synonym of type is deprecated; in a future version of numpy, it will be understood as (type, (1,)) / '(1,)type'.\n",
      "  _np_quint16 = np.dtype([(\"quint16\", np.uint16, 1)])\n",
      "C:\\Users\\admin\\Anaconda3\\lib\\site-packages\\tensorboard\\compat\\tensorflow_stub\\dtypes.py:545: FutureWarning: Passing (type, 1) or '1type' as a synonym of type is deprecated; in a future version of numpy, it will be understood as (type, (1,)) / '(1,)type'.\n",
      "  _np_qint32 = np.dtype([(\"qint32\", np.int32, 1)])\n",
      "C:\\Users\\admin\\Anaconda3\\lib\\site-packages\\tensorboard\\compat\\tensorflow_stub\\dtypes.py:550: FutureWarning: Passing (type, 1) or '1type' as a synonym of type is deprecated; in a future version of numpy, it will be understood as (type, (1,)) / '(1,)type'.\n",
      "  np_resource = np.dtype([(\"resource\", np.ubyte, 1)])\n"
     ]
    }
   ],
   "source": [
    "import tensorflow as tf\n",
    "import numpy as np\n",
    "import pandas as pd\n",
    "#import numpy as np\n",
    "#import pandas as pd\n",
    "import matplotlib.pyplot as plt\n",
    "#import seaborn as sns\n",
    "from scipy import stats\n",
    "#from sklearn.ensemble import RandomForestRegressor\n",
    "from sklearn.metrics import mean_squared_error, mean_absolute_error\n",
    "from sklearn.model_selection import train_test_split\n",
    "from sklearn.metrics import r2_score\n",
    "import seaborn as sns"
   ]
  },
  {
   "cell_type": "code",
   "execution_count": 2,
   "metadata": {},
   "outputs": [
    {
     "data": {
      "text/html": [
       "<div>\n",
       "<style scoped>\n",
       "    .dataframe tbody tr th:only-of-type {\n",
       "        vertical-align: middle;\n",
       "    }\n",
       "\n",
       "    .dataframe tbody tr th {\n",
       "        vertical-align: top;\n",
       "    }\n",
       "\n",
       "    .dataframe thead th {\n",
       "        text-align: right;\n",
       "    }\n",
       "</style>\n",
       "<table border=\"1\" class=\"dataframe\">\n",
       "  <thead>\n",
       "    <tr style=\"text-align: right;\">\n",
       "      <th></th>\n",
       "      <th>number_of_rooms</th>\n",
       "      <th>floor_on</th>\n",
       "      <th>total_floors</th>\n",
       "      <th>bedroom</th>\n",
       "      <th>pincode</th>\n",
       "      <th>balkon</th>\n",
       "      <th>terrasse</th>\n",
       "      <th>garten</th>\n",
       "      <th>Gaste-WC</th>\n",
       "      <th>Aufzug</th>\n",
       "      <th>wohung</th>\n",
       "      <th>construction_year</th>\n",
       "      <th>living_area_m2</th>\n",
       "      <th>transform_price</th>\n",
       "    </tr>\n",
       "  </thead>\n",
       "  <tbody>\n",
       "    <tr>\n",
       "      <th>7742</th>\n",
       "      <td>4.0</td>\n",
       "      <td>0</td>\n",
       "      <td>1</td>\n",
       "      <td>3</td>\n",
       "      <td>15732</td>\n",
       "      <td>0</td>\n",
       "      <td>0</td>\n",
       "      <td>1</td>\n",
       "      <td>1</td>\n",
       "      <td>0</td>\n",
       "      <td>0</td>\n",
       "      <td>0</td>\n",
       "      <td>4.875197</td>\n",
       "      <td>8.001561</td>\n",
       "    </tr>\n",
       "    <tr>\n",
       "      <th>8530</th>\n",
       "      <td>3.0</td>\n",
       "      <td>4</td>\n",
       "      <td>4</td>\n",
       "      <td>2</td>\n",
       "      <td>13403</td>\n",
       "      <td>1</td>\n",
       "      <td>1</td>\n",
       "      <td>0</td>\n",
       "      <td>0</td>\n",
       "      <td>1</td>\n",
       "      <td>1</td>\n",
       "      <td>2002</td>\n",
       "      <td>4.401339</td>\n",
       "      <td>8.102552</td>\n",
       "    </tr>\n",
       "    <tr>\n",
       "      <th>10188</th>\n",
       "      <td>5.0</td>\n",
       "      <td>3</td>\n",
       "      <td>3</td>\n",
       "      <td>4</td>\n",
       "      <td>12307</td>\n",
       "      <td>1</td>\n",
       "      <td>1</td>\n",
       "      <td>0</td>\n",
       "      <td>1</td>\n",
       "      <td>1</td>\n",
       "      <td>1</td>\n",
       "      <td>1906</td>\n",
       "      <td>5.017280</td>\n",
       "      <td>8.294133</td>\n",
       "    </tr>\n",
       "  </tbody>\n",
       "</table>\n",
       "</div>"
      ],
      "text/plain": [
       "       number_of_rooms  floor_on  total_floors  bedroom  pincode  balkon  \\\n",
       "7742               4.0         0             1        3    15732       0   \n",
       "8530               3.0         4             4        2    13403       1   \n",
       "10188              5.0         3             3        4    12307       1   \n",
       "\n",
       "       terrasse  garten  Gaste-WC  Aufzug  wohung  construction_year  \\\n",
       "7742          0       1         1       0       0                  0   \n",
       "8530          1       0         0       1       1               2002   \n",
       "10188         1       0         1       1       1               1906   \n",
       "\n",
       "       living_area_m2  transform_price  \n",
       "7742         4.875197         8.001561  \n",
       "8530         4.401339         8.102552  \n",
       "10188        5.017280         8.294133  "
      ]
     },
     "execution_count": 2,
     "metadata": {},
     "output_type": "execute_result"
    }
   ],
   "source": [
    "data = pd.read_csv(r'F:\\amruth\\after_preprocess_data.csv', encoding = 'iso-8859-1')\n",
    "data.sample(3)"
   ]
  },
  {
   "cell_type": "code",
   "execution_count": 3,
   "metadata": {},
   "outputs": [],
   "source": [
    "X = data.iloc[:, :-1]\n",
    "y = data[['transform_price']]"
   ]
  },
  {
   "cell_type": "code",
   "execution_count": 4,
   "metadata": {},
   "outputs": [
    {
     "data": {
      "text/plain": [
       "((12424, 13), (12424, 1), (319, 13))"
      ]
     },
     "execution_count": 4,
     "metadata": {},
     "output_type": "execute_result"
    }
   ],
   "source": [
    "X_train, X_test, y_train, y_test = train_test_split(X, y, test_size = 0.025, random_state = 0)\n",
    "X_train.shape, y_train.shape, X_test.shape"
   ]
  },
  {
   "cell_type": "code",
   "execution_count": 5,
   "metadata": {},
   "outputs": [],
   "source": [
    "tf.random.set_seed(12)\n",
    "model = tf.keras.models.Sequential([\n",
    "    tf.keras.layers.Lambda(lambda x: tf.expand_dims(x, axis = -1), input_shape = [None]),\n",
    "    tf.keras.layers.SimpleRNN(60, return_sequences = True),\n",
    "    tf.keras.layers.SimpleRNN(40, return_sequences = True),\n",
    "    tf.keras.layers.SimpleRNN(20),\n",
    "    tf.keras.layers.Dense(1)\n",
    "])\n",
    "lr_schedule = tf.keras.callbacks.LearningRateScheduler(\n",
    "    lambda epochs: 1e-5 * 10**(epochs / 20))\n",
    "model.compile(loss = 'mse', optimizer = tf.keras.optimizers.Adam(learning_rate = 1e-5), metrics = ['mae'])"
   ]
  },
  {
   "cell_type": "code",
   "execution_count": 6,
   "metadata": {},
   "outputs": [
    {
     "name": "stdout",
     "output_type": "stream",
     "text": [
      "Epoch 1/50\n",
      "12424/12424 [==============================] - 6s 498us/sample - loss: 57.1094 - mae: 7.4982\n",
      "Epoch 2/50\n",
      "12424/12424 [==============================] - 5s 388us/sample - loss: 30.8222 - mae: 5.5203\n",
      "Epoch 3/50\n",
      "12424/12424 [==============================] - 5s 368us/sample - loss: 21.0542 - mae: 4.5625\n",
      "Epoch 4/50\n",
      "12424/12424 [==============================] - 4s 347us/sample - loss: 16.4895 - mae: 4.0388\n",
      "Epoch 5/50\n",
      "12424/12424 [==============================] - 5s 376us/sample - loss: 14.1362 - mae: 3.7377\n",
      "Epoch 6/50\n",
      "12424/12424 [==============================] - 4s 342us/sample - loss: 12.3960 - mae: 3.4973\n",
      "Epoch 7/50\n",
      "12424/12424 [==============================] - 5s 372us/sample - loss: 10.9236 - mae: 3.2799\n",
      "Epoch 8/50\n",
      "12424/12424 [==============================] - 4s 358us/sample - loss: 9.5885 - mae: 3.0696\n",
      "Epoch 9/50\n",
      "12424/12424 [==============================] - 4s 348us/sample - loss: 8.3323 - mae: 2.8572\n",
      "Epoch 10/50\n",
      "12424/12424 [==============================] - 5s 371us/sample - loss: 7.1292 - mae: 2.6381\n",
      "Epoch 11/50\n",
      "12424/12424 [==============================] - 5s 424us/sample - loss: 5.9729 - mae: 2.4085\n",
      "Epoch 12/50\n",
      "12424/12424 [==============================] - 5s 381us/sample - loss: 4.8685 - mae: 2.1669\n",
      "Epoch 13/50\n",
      "12424/12424 [==============================] - 5s 387us/sample - loss: 3.8313 - mae: 1.9122\n",
      "Epoch 14/50\n",
      "12424/12424 [==============================] - 5s 373us/sample - loss: 2.8836 - mae: 1.6460\n",
      "Epoch 15/50\n",
      "12424/12424 [==============================] - 5s 395us/sample - loss: 2.0520 - mae: 1.3715\n",
      "Epoch 16/50\n",
      "12424/12424 [==============================] - 5s 376us/sample - loss: 1.3652 - mae: 1.0963\n",
      "Epoch 17/50\n",
      "12424/12424 [==============================] - 5s 405us/sample - loss: 0.8436 - mae: 0.8386\n",
      "Epoch 18/50\n",
      "12424/12424 [==============================] - 5s 372us/sample - loss: 0.4936 - mae: 0.6196\n",
      "Epoch 19/50\n",
      "12424/12424 [==============================] - 4s 305us/sample - loss: 0.2965 - mae: 0.4601\n",
      "Epoch 20/50\n",
      "12424/12424 [==============================] - 4s 301us/sample - loss: 0.2097 - mae: 0.3673\n",
      "Epoch 21/50\n",
      "12424/12424 [==============================] - 4s 304us/sample - loss: 0.1825 - mae: 0.3280\n",
      "Epoch 22/50\n",
      "12424/12424 [==============================] - 4s 302us/sample - loss: 0.1579 - mae: 0.2989\n",
      "Epoch 23/50\n",
      "12424/12424 [==============================] - 4s 311us/sample - loss: 0.1389 - mae: 0.2763\n",
      "Epoch 24/50\n",
      "12424/12424 [==============================] - 4s 318us/sample - loss: 0.1225 - mae: 0.2612\n",
      "Epoch 25/50\n",
      "12424/12424 [==============================] - 4s 328us/sample - loss: 0.1156 - mae: 0.2538\n",
      "Epoch 26/50\n",
      "12424/12424 [==============================] - 4s 309us/sample - loss: 0.1117 - mae: 0.2481\n",
      "Epoch 27/50\n",
      "12424/12424 [==============================] - 4s 311us/sample - loss: 0.1105 - mae: 0.2464\n",
      "Epoch 28/50\n",
      "12424/12424 [==============================] - 4s 312us/sample - loss: 0.1091 - mae: 0.2437\n",
      "Epoch 29/50\n",
      "12424/12424 [==============================] - 4s 317us/sample - loss: 0.1088 - mae: 0.2442\n",
      "Epoch 30/50\n",
      "12424/12424 [==============================] - 4s 343us/sample - loss: 0.1059 - mae: 0.2400\n",
      "Epoch 31/50\n",
      "12424/12424 [==============================] - 5s 377us/sample - loss: 0.1059 - mae: 0.2400\n",
      "Epoch 32/50\n",
      "12424/12424 [==============================] - 5s 366us/sample - loss: 0.1041 - mae: 0.2378\n",
      "Epoch 33/50\n",
      "12424/12424 [==============================] - 4s 360us/sample - loss: 0.1040 - mae: 0.2372\n",
      "Epoch 34/50\n",
      "12424/12424 [==============================] - 5s 366us/sample - loss: 0.1039 - mae: 0.2367\n",
      "Epoch 35/50\n",
      "12424/12424 [==============================] - 4s 361us/sample - loss: 0.1029 - mae: 0.2356\n",
      "Epoch 36/50\n",
      "12424/12424 [==============================] - 4s 350us/sample - loss: 0.1035 - mae: 0.2356\n",
      "Epoch 37/50\n",
      "12424/12424 [==============================] - 4s 312us/sample - loss: 0.1035 - mae: 0.2359\n",
      "Epoch 38/50\n",
      "12424/12424 [==============================] - 4s 350us/sample - loss: 0.1024 - mae: 0.2356\n",
      "Epoch 39/50\n",
      "12424/12424 [==============================] - 4s 304us/sample - loss: 0.1031 - mae: 0.2354\n",
      "Epoch 40/50\n",
      "12424/12424 [==============================] - 4s 310us/sample - loss: 0.1035 - mae: 0.2365\n",
      "Epoch 41/50\n",
      "12424/12424 [==============================] - 4s 318us/sample - loss: 0.1034 - mae: 0.2361\n",
      "Epoch 42/50\n",
      "12424/12424 [==============================] - 4s 310us/sample - loss: 0.1038 - mae: 0.2368\n",
      "Epoch 43/50\n",
      "12424/12424 [==============================] - 4s 323us/sample - loss: 0.1044 - mae: 0.2375\n",
      "Epoch 44/50\n",
      "12424/12424 [==============================] - 4s 315us/sample - loss: 0.1054 - mae: 0.2391\n",
      "Epoch 45/50\n",
      "12424/12424 [==============================] - 3s 276us/sample - loss: 0.1037 - mae: 0.2370\n",
      "Epoch 46/50\n",
      "12424/12424 [==============================] - 4s 295us/sample - loss: 0.1061 - mae: 0.2404\n",
      "Epoch 47/50\n",
      "12424/12424 [==============================] - 4s 314us/sample - loss: 0.1075 - mae: 0.2430\n",
      "Epoch 48/50\n",
      "12424/12424 [==============================] - 4s 319us/sample - loss: 0.1056 - mae: 0.2398\n",
      "Epoch 49/50\n",
      "12424/12424 [==============================] - 4s 284us/sample - loss: 0.1044 - mae: 0.2384\n",
      "Epoch 50/50\n",
      "12424/12424 [==============================] - 4s 307us/sample - loss: 0.1082 - mae: 0.2434\n"
     ]
    }
   ],
   "source": [
    "history=model.fit(X_train,y_train, epochs=50, callbacks = [lr_schedule])\n"
   ]
  },
  {
   "cell_type": "code",
   "execution_count": 7,
   "metadata": {},
   "outputs": [],
   "source": [
    "#predictions[:5], y_test.to_numpy()[:5]"
   ]
  },
  {
   "cell_type": "code",
   "execution_count": 8,
   "metadata": {},
   "outputs": [],
   "source": [
    "#from sklearn.metrics import mean_squared_error, mean_absolute_error\n",
    "#mean_squared_error(predictions, y_test), mean_absolute_error(predictions, y_test)"
   ]
  },
  {
   "cell_type": "code",
   "execution_count": 9,
   "metadata": {},
   "outputs": [
    {
     "data": {
      "text/plain": [
       "[<matplotlib.lines.Line2D at 0x17b354d0308>]"
      ]
     },
     "execution_count": 9,
     "metadata": {},
     "output_type": "execute_result"
    },
    {
     "data": {
      "image/png": "[encoded data removed]",
      "text/plain": [
       "<Figure size 432x288 with 1 Axes>"
      ]
     },
     "metadata": {
      "needs_background": "light"
     },
     "output_type": "display_data"
    }
   ],
   "source": [
    "lrs = 1e-5 * (10 ** (np.arange(50) / 20))\n",
    "plt.semilogx(lrs, history.history[\"loss\"])\n"
   ]
  },
  {
   "cell_type": "code",
   "execution_count": 10,
   "metadata": {},
   "outputs": [],
   "source": [
    "model1 = tf.keras.models.Sequential([\n",
    "    tf.keras.layers.Lambda(lambda x: tf.expand_dims(x, axis = -1), input_shape = [None]),\n",
    "    tf.keras.layers.SimpleRNN(60, return_sequences = True),\n",
    "    tf.keras.layers.SimpleRNN(40, return_sequences = True),\n",
    "    tf.keras.layers.SimpleRNN(20),\n",
    "    tf.keras.layers.Dense(1)\n",
    "])\n",
    "lr_schedule = tf.keras.callbacks.LearningRateScheduler(\n",
    "    lambda epochs: 1e-5 * 10**(epochs / 20))\n",
    "model1.compile(loss = 'mse', optimizer = tf.keras.optimizers.Adam(learning_rate = 7e-05), metrics = ['mae'])"
   ]
  },
  {
   "cell_type": "code",
   "execution_count": 11,
   "metadata": {},
   "outputs": [
    {
     "name": "stdout",
     "output_type": "stream",
     "text": [
      "Epoch 1/100\n",
      "12424/12424 [==============================] - 4s 316us/sample - loss: 22.2391 - mae: 4.5872\n",
      "Epoch 2/100\n",
      "12424/12424 [==============================] - 3s 280us/sample - loss: 10.5328 - mae: 3.2143\n",
      "Epoch 3/100\n",
      "12424/12424 [==============================] - 4s 320us/sample - loss: 7.0861 - mae: 2.6260\n",
      "Epoch 4/100\n",
      "12424/12424 [==============================] - 4s 338us/sample - loss: 4.7368 - mae: 2.1331s - loss:\n",
      "Epoch 5/100\n",
      "12424/12424 [==============================] - 4s 352us/sample - loss: 3.0798 - mae: 1.7027\n",
      "Epoch 6/100\n",
      "12424/12424 [==============================] - 4s 336us/sample - loss: 1.9275 - mae: 1.3242\n",
      "Epoch 7/100\n",
      "12424/12424 [==============================] - 4s 324us/sample - loss: 1.1598 - mae: 1.0008\n",
      "Epoch 8/100\n",
      "12424/12424 [==============================] - 4s 341us/sample - loss: 0.6802 - mae: 0.7431\n",
      "Epoch 9/100\n",
      "12424/12424 [==============================] - 4s 299us/sample - loss: 0.4058 - mae: 0.5546\n",
      "Epoch 10/100\n",
      "12424/12424 [==============================] - 4s 299us/sample - loss: 0.2669 - mae: 0.4317\n",
      "Epoch 11/100\n",
      "12424/12424 [==============================] - 4s 313us/sample - loss: 0.2061 - mae: 0.3628\n",
      "Epoch 12/100\n",
      "12424/12424 [==============================] - 4s 309us/sample - loss: 0.1822 - mae: 0.3299\n",
      "Epoch 13/100\n",
      "12424/12424 [==============================] - 4s 304us/sample - loss: 0.1547 - mae: 0.2982\n",
      "Epoch 14/100\n",
      "12424/12424 [==============================] - 4s 304us/sample - loss: 0.1399 - mae: 0.2780\n",
      "Epoch 15/100\n",
      "12424/12424 [==============================] - 4s 321us/sample - loss: 0.1348 - mae: 0.2711\n",
      "Epoch 16/100\n",
      "12424/12424 [==============================] - 4s 335us/sample - loss: 0.1250 - mae: 0.2622\n",
      "Epoch 17/100\n",
      "12424/12424 [==============================] - 4s 350us/sample - loss: 0.1168 - mae: 0.2548\n",
      "Epoch 18/100\n",
      "12424/12424 [==============================] - 5s 405us/sample - loss: 0.1137 - mae: 0.2509\n",
      "Epoch 19/100\n",
      "12424/12424 [==============================] - 5s 365us/sample - loss: 0.1120 - mae: 0.2484\n",
      "Epoch 20/100\n",
      "12424/12424 [==============================] - 4s 350us/sample - loss: 0.1103 - mae: 0.2463\n",
      "Epoch 21/100\n",
      "12424/12424 [==============================] - 4s 350us/sample - loss: 0.1089 - mae: 0.2441\n",
      "Epoch 22/100\n",
      "12424/12424 [==============================] - 4s 328us/sample - loss: 0.1078 - mae: 0.2428\n",
      "Epoch 23/100\n",
      "12424/12424 [==============================] - 4s 332us/sample - loss: 0.1069 - mae: 0.2419\n",
      "Epoch 24/100\n",
      "12424/12424 [==============================] - 4s 328us/sample - loss: 0.1067 - mae: 0.2414\n",
      "Epoch 25/100\n",
      "12424/12424 [==============================] - 4s 325us/sample - loss: 0.1049 - mae: 0.2390\n",
      "Epoch 26/100\n",
      "12424/12424 [==============================] - 4s 324us/sample - loss: 0.1045 - mae: 0.2386\n",
      "Epoch 27/100\n",
      "12424/12424 [==============================] - 4s 297us/sample - loss: 0.1039 - mae: 0.2373\n",
      "Epoch 28/100\n",
      "12424/12424 [==============================] - 4s 297us/sample - loss: 0.1036 - mae: 0.2367\n",
      "Epoch 29/100\n",
      "12424/12424 [==============================] - 4s 322us/sample - loss: 0.1028 - mae: 0.2357\n",
      "Epoch 30/100\n",
      "12424/12424 [==============================] - 4s 306us/sample - loss: 0.1028 - mae: 0.2356s - loss: 0.1052\n",
      "Epoch 31/100\n",
      "12424/12424 [==============================] - 4s 304us/sample - loss: 0.1021 - mae: 0.2352\n",
      "Epoch 32/100\n",
      "12424/12424 [==============================] - 4s 305us/sample - loss: 0.1012 - mae: 0.2337\n",
      "Epoch 33/100\n",
      "12424/12424 [==============================] - 4s 341us/sample - loss: 0.1010 - mae: 0.2336\n",
      "Epoch 34/100\n",
      "12424/12424 [==============================] - 4s 283us/sample - loss: 0.1007 - mae: 0.2330\n",
      "Epoch 35/100\n",
      "12424/12424 [==============================] - 3s 277us/sample - loss: 0.1008 - mae: 0.2333\n",
      "Epoch 36/100\n",
      "12424/12424 [==============================] - 3s 278us/sample - loss: 0.0999 - mae: 0.2317\n",
      "Epoch 37/100\n",
      "12424/12424 [==============================] - 3s 276us/sample - loss: 0.1003 - mae: 0.2326\n",
      "Epoch 38/100\n",
      "12424/12424 [==============================] - 3s 275us/sample - loss: 0.0996 - mae: 0.2314\n",
      "Epoch 39/100\n",
      "12424/12424 [==============================] - 4s 287us/sample - loss: 0.0997 - mae: 0.2312\n",
      "Epoch 40/100\n",
      "12424/12424 [==============================] - 4s 286us/sample - loss: 0.0991 - mae: 0.2302\n",
      "Epoch 41/100\n",
      "12424/12424 [==============================] - 4s 323us/sample - loss: 0.0989 - mae: 0.2305\n",
      "Epoch 42/100\n",
      "12424/12424 [==============================] - 4s 327us/sample - loss: 0.0985 - mae: 0.2296\n",
      "Epoch 43/100\n",
      "12424/12424 [==============================] - 4s 330us/sample - loss: 0.0987 - mae: 0.2289\n",
      "Epoch 44/100\n",
      "12424/12424 [==============================] - 4s 308us/sample - loss: 0.0989 - mae: 0.2298\n",
      "Epoch 45/100\n",
      "12424/12424 [==============================] - 4s 306us/sample - loss: 0.0986 - mae: 0.2295\n",
      "Epoch 46/100\n",
      "12424/12424 [==============================] - 4s 311us/sample - loss: 0.0982 - mae: 0.2287s - l\n",
      "Epoch 47/100\n",
      "12424/12424 [==============================] - 4s 295us/sample - loss: 0.0981 - mae: 0.2290\n",
      "Epoch 48/100\n",
      "12424/12424 [==============================] - 4s 300us/sample - loss: 0.0980 - mae: 0.2287\n",
      "Epoch 49/100\n",
      "12424/12424 [==============================] - 4s 336us/sample - loss: 0.0976 - mae: 0.2280\n",
      "Epoch 50/100\n",
      "12424/12424 [==============================] - 4s 298us/sample - loss: 0.0975 - mae: 0.2281\n",
      "Epoch 51/100\n",
      "12424/12424 [==============================] - 4s 297us/sample - loss: 0.0976 - mae: 0.2279\n",
      "Epoch 52/100\n",
      "12424/12424 [==============================] - 4s 321us/sample - loss: 0.0975 - mae: 0.2278s - loss: 0.0980 - mae: 0\n",
      "Epoch 53/100\n",
      "12424/12424 [==============================] - 4s 321us/sample - loss: 0.0976 - mae: 0.2279\n",
      "Epoch 54/100\n",
      "12424/12424 [==============================] - 4s 299us/sample - loss: 0.0972 - mae: 0.2271\n",
      "Epoch 55/100\n",
      "12424/12424 [==============================] - 4s 293us/sample - loss: 0.0971 - mae: 0.2273\n",
      "Epoch 56/100\n",
      "12424/12424 [==============================] - 4s 307us/sample - loss: 0.0971 - mae: 0.2274\n",
      "Epoch 57/100\n",
      "12424/12424 [==============================] - 4s 347us/sample - loss: 0.0969 - mae: 0.2270\n",
      "Epoch 58/100\n",
      "12424/12424 [==============================] - 5s 367us/sample - loss: 0.0968 - mae: 0.2269\n",
      "Epoch 59/100\n",
      "12424/12424 [==============================] - 4s 355us/sample - loss: 0.0965 - mae: 0.2263s - loss: 0.0965 - mae: 0.226\n",
      "Epoch 60/100\n",
      "12424/12424 [==============================] - 4s 332us/sample - loss: 0.0962 - mae: 0.2259\n",
      "Epoch 61/100\n",
      "12424/12424 [==============================] - 4s 333us/sample - loss: 0.0970 - mae: 0.2274\n",
      "Epoch 62/100\n",
      "12424/12424 [==============================] - 4s 334us/sample - loss: 0.0963 - mae: 0.2260\n",
      "Epoch 63/100\n",
      "12424/12424 [==============================] - 4s 314us/sample - loss: 0.0962 - mae: 0.2260\n",
      "Epoch 64/100\n",
      "12424/12424 [==============================] - 4s 319us/sample - loss: 0.0962 - mae: 0.2262\n",
      "Epoch 65/100\n",
      "12424/12424 [==============================] - 4s 298us/sample - loss: 0.0958 - mae: 0.2255\n",
      "Epoch 66/100\n",
      "12424/12424 [==============================] - 4s 299us/sample - loss: 0.0960 - mae: 0.2258\n",
      "Epoch 67/100\n",
      "12424/12424 [==============================] - 4s 298us/sample - loss: 0.0959 - mae: 0.2256\n",
      "Epoch 68/100\n",
      "12424/12424 [==============================] - 4s 324us/sample - loss: 0.0957 - mae: 0.2255s - loss: 0.089\n",
      "Epoch 69/100\n",
      "12424/12424 [==============================] - 4s 315us/sample - loss: 0.0958 - mae: 0.2254\n",
      "Epoch 70/100\n",
      "12424/12424 [==============================] - 4s 326us/sample - loss: 0.0953 - mae: 0.2250\n",
      "Epoch 71/100\n",
      "12424/12424 [==============================] - 4s 310us/sample - loss: 0.0952 - mae: 0.2252\n",
      "Epoch 72/100\n",
      "12424/12424 [==============================] - 4s 332us/sample - loss: 0.0959 - mae: 0.2257\n",
      "Epoch 73/100\n",
      "12424/12424 [==============================] - 5s 393us/sample - loss: 0.0953 - mae: 0.2251\n",
      "Epoch 74/100\n",
      "12424/12424 [==============================] - 5s 371us/sample - loss: 0.0952 - mae: 0.2246\n",
      "Epoch 75/100\n",
      "12424/12424 [==============================] - 4s 332us/sample - loss: 0.0955 - mae: 0.2254\n",
      "Epoch 76/100\n",
      "12424/12424 [==============================] - 4s 341us/sample - loss: 0.0950 - mae: 0.2244\n",
      "Epoch 77/100\n",
      "12424/12424 [==============================] - 4s 345us/sample - loss: 0.0953 - mae: 0.2252\n",
      "Epoch 78/100\n",
      "12424/12424 [==============================] - 5s 377us/sample - loss: 0.0948 - mae: 0.2244\n",
      "Epoch 79/100\n",
      "12424/12424 [==============================] - 4s 358us/sample - loss: 0.0945 - mae: 0.2245s - loss: 0.09\n",
      "Epoch 80/100\n",
      "12424/12424 [==============================] - 5s 377us/sample - loss: 0.0948 - mae: 0.2241\n",
      "Epoch 81/100\n",
      "12424/12424 [==============================] - 5s 380us/sample - loss: 0.0943 - mae: 0.2236\n",
      "Epoch 82/100\n",
      "12424/12424 [==============================] - 5s 370us/sample - loss: 0.0943 - mae: 0.2238\n",
      "Epoch 83/100\n",
      "12424/12424 [==============================] - 5s 376us/sample - loss: 0.0943 - mae: 0.2238\n",
      "Epoch 84/100\n",
      "12424/12424 [==============================] - 5s 372us/sample - loss: 0.0943 - mae: 0.2240\n",
      "Epoch 85/100\n",
      "12424/12424 [==============================] - 5s 375us/sample - loss: 0.0945 - mae: 0.2242\n",
      "Epoch 86/100\n",
      "12424/12424 [==============================] - 5s 376us/sample - loss: 0.0941 - mae: 0.2233\n",
      "Epoch 87/100\n",
      "12424/12424 [==============================] - 5s 377us/sample - loss: 0.0942 - mae: 0.2244\n",
      "Epoch 88/100\n",
      "12424/12424 [==============================] - 5s 368us/sample - loss: 0.0939 - mae: 0.2231\n",
      "Epoch 89/100\n",
      "12424/12424 [==============================] - 5s 384us/sample - loss: 0.0937 - mae: 0.2230s - loss: 0\n",
      "Epoch 90/100\n",
      "12424/12424 [==============================] - 5s 373us/sample - loss: 0.0940 - mae: 0.2235\n",
      "Epoch 91/100\n",
      "12424/12424 [==============================] - 5s 408us/sample - loss: 0.0937 - mae: 0.2234\n",
      "Epoch 92/100\n",
      "12424/12424 [==============================] - 5s 394us/sample - loss: 0.0938 - mae: 0.2235s - loss: 0.09\n",
      "Epoch 93/100\n",
      "12424/12424 [==============================] - 5s 378us/sample - loss: 0.0935 - mae: 0.2228\n",
      "Epoch 94/100\n",
      "12424/12424 [==============================] - 5s 391us/sample - loss: 0.0938 - mae: 0.2232s - loss\n",
      "Epoch 95/100\n",
      "12424/12424 [==============================] - 5s 377us/sample - loss: 0.0936 - mae: 0.2232\n",
      "Epoch 96/100\n",
      "12424/12424 [==============================] - 5s 386us/sample - loss: 0.0935 - mae: 0.2226\n",
      "Epoch 97/100\n",
      "12424/12424 [==============================] - 5s 393us/sample - loss: 0.0934 - mae: 0.2226\n",
      "Epoch 98/100\n",
      "12424/12424 [==============================] - 5s 376us/sample - loss: 0.0931 - mae: 0.2223s - loss - ETA: 0s - loss: 0.0931 - mae: 0.2\n",
      "Epoch 99/100\n",
      "12424/12424 [==============================] - 5s 388us/sample - loss: 0.0937 - mae: 0.2233\n",
      "Epoch 100/100\n",
      "12424/12424 [==============================] - 5s 376us/sample - loss: 0.0937 - mae: 0.2232\n"
     ]
    }
   ],
   "source": [
    "history=model1.fit(X_train,y_train, epochs=100)\n"
   ]
  },
  {
   "cell_type": "code",
   "execution_count": 12,
   "metadata": {},
   "outputs": [],
   "source": [
    "predictions = model1.predict(X_test)"
   ]
  },
  {
   "cell_type": "code",
   "execution_count": 13,
   "metadata": {},
   "outputs": [
    {
     "data": {
      "text/plain": [
       "(array([[8.545142 ],\n",
       "        [8.237812 ],\n",
       "        [8.3565645],\n",
       "        [7.935999 ],\n",
       "        [7.757515 ]], dtype=float32),\n",
       " array([[8.54500289],\n",
       "        [8.37047041],\n",
       "        [8.69484149],\n",
       "        [7.71760729],\n",
       "        [7.7403941 ]]))"
      ]
     },
     "execution_count": 13,
     "metadata": {},
     "output_type": "execute_result"
    }
   ],
   "source": [
    "predictions[:5], y_test.to_numpy()[:5]"
   ]
  },
  {
   "cell_type": "code",
   "execution_count": 14,
   "metadata": {},
   "outputs": [
    {
     "data": {
      "text/plain": [
       "(0.08832267721779229, 0.22189556422064344)"
      ]
     },
     "execution_count": 14,
     "metadata": {},
     "output_type": "execute_result"
    }
   ],
   "source": [
    "from sklearn.metrics import mean_squared_error, mean_absolute_error\n",
    "mean_squared_error(predictions, y_test), mean_absolute_error(predictions, y_test)"
   ]
  },
  {
   "cell_type": "code",
   "execution_count": 15,
   "metadata": {},
   "outputs": [
    {
     "data": {
      "text/plain": [
       "[<matplotlib.lines.Line2D at 0x17b3f706188>]"
      ]
     },
     "execution_count": 15,
     "metadata": {},
     "output_type": "execute_result"
    },
    {
     "data": {
      "image/png": "[encoded data removed]",
      "text/plain": [
       "<Figure size 432x288 with 1 Axes>"
      ]
     },
     "metadata": {
      "needs_background": "light"
     },
     "output_type": "display_data"
    }
   ],
   "source": [
    "plt.plot(range(0, len(history.history[\"loss\"])), history.history[\"loss\"][0:])"
   ]
  },
  {
   "cell_type": "code",
   "execution_count": 18,
   "metadata": {},
   "outputs": [
    {
     "name": "stdout",
     "output_type": "stream",
     "text": [
      "Enter the value of number_of_rooms : 1\n",
      "Enter the value of floor_on : 23\n",
      "Enter the value of total_floors : 4\n",
      "Enter the value of bedroom : 2\n",
      "Enter the value of pincode : 32\n",
      "Enter the value of balkon : 3\n",
      "Enter the value of terrasse : 32\n",
      "Enter the value of garten : 31\n",
      "Enter the value of Gaste-WC : 1\n",
      "Enter the value of Aufzug : 21\n",
      "Enter the value of wohung : 32\n",
      "Enter the value of construction_year : 3\n",
      "Enter the value of living_area_m2 : 21\n"
     ]
    },
    {
     "data": {
      "text/plain": [
       "21.0"
      ]
     },
     "execution_count": 18,
     "metadata": {},
     "output_type": "execute_result"
    }
   ],
   "source": [
    "array = []\n",
    "for i in data.columns[:-1]:\n",
    "    value = input('Enter the value of {} : '.format(i))\n",
    "    array.append(value)\n",
    "str_to_float = [[float(i) for i in array]]\n",
    "two_dim = str_to_float\n",
    "sqr_living_m2 = two_dim[-1][-1]\n"
   ]
  },
  {
   "cell_type": "code",
   "execution_count": 22,
   "metadata": {},
   "outputs": [
    {
     "data": {
      "text/plain": [
       "[[1.0, 23.0, 4.0, 2.0, 32.0, 3.0, 32.0, 31.0, 1.0, 21.0, 32.0, 3.0, 21.0]]"
      ]
     },
     "execution_count": 22,
     "metadata": {},
     "output_type": "execute_result"
    }
   ],
   "source": [
    "two_dim"
   ]
  },
  {
   "cell_type": "code",
   "execution_count": 23,
   "metadata": {},
   "outputs": [
    {
     "data": {
      "text/plain": [
       "array([[2.3155463],\n",
       "       [1.9558703],\n",
       "       [2.4588456],\n",
       "       [2.634372 ],\n",
       "       [1.9779726],\n",
       "       [2.5668533],\n",
       "       [1.9779726],\n",
       "       [1.9748706],\n",
       "       [2.3155463],\n",
       "       [1.9551295],\n",
       "       [1.9779726],\n",
       "       [2.5668533],\n",
       "       [1.9551296]], dtype=float32)"
      ]
     },
     "execution_count": 23,
     "metadata": {},
     "output_type": "execute_result"
    }
   ],
   "source": [
    "model1.predict([1.0, 23.0, 4.0, 2.0, 32.0, 3.0, 32.0, 31.0, 1.0, 21.0, 32.0, 3.0, 21.0])"
   ]
  },
  {
   "cell_type": "code",
   "execution_count": 16,
   "metadata": {},
   "outputs": [
    {
     "name": "stdout",
     "output_type": "stream",
     "text": [
      "true [505103.25009856]\n",
      "pred [505173.60667137]\n",
      "true [263377.66665733]\n",
      "pred [230656.73905724]\n",
      "true [311023.10593111]\n",
      "pred [221758.78582427]\n",
      "true [494466.57537998]\n",
      "pred [615153.10229396]\n",
      "true [427684.37845084]\n",
      "pred [435069.74372139]\n",
      "true [382740.51652174]\n",
      "pred [376059.659897]\n",
      "true [258931.78743056]\n",
      "pred [366180.03395551]\n",
      "true [457060.51131931]\n",
      "pred [305131.01791131]\n",
      "true [459640.83683441]\n",
      "pred [538648.10580322]\n",
      "true [806948.48014018]\n",
      "pred [607942.32336381]\n"
     ]
    }
   ],
   "source": [
    "sq_ftt = X_test.head(10)\n",
    "sqr_ft = sq_ftt['living_area_m2']\n",
    "p = predictions[:10]\n",
    "p = p.tolist()\n",
    "y_test = y_test[:10]\n",
    "\n",
    "y_t = y_test.to_numpy().tolist()\n",
    "y_t, p\n",
    "for i, j, k in zip(y_t, sqr_ft, p):\n",
    "    print('true_value: ',np.exp(i) * np.exp(j))\n",
    "    print('predicted_value: ',np.exp(k) * np.exp(j))"
   ]
  },
  {
   "cell_type": "code",
   "execution_count": 28,
   "metadata": {},
   "outputs": [
    {
     "data": {
      "text/plain": [
       "array([[2.6218798],\n",
       "       [2.5233035],\n",
       "       [2.0127587],\n",
       "       [1.9896942],\n",
       "       [2.0347533],\n",
       "       [2.2186034],\n",
       "       [2.0313203],\n",
       "       [2.0969284],\n",
       "       [1.9973221],\n",
       "       [1.9959071],\n",
       "       [2.0173995],\n",
       "       [1.9586998],\n",
       "       [2.634372 ]], dtype=float32)"
      ]
     },
     "execution_count": 28,
     "metadata": {},
     "output_type": "execute_result"
    }
   ],
   "source": [
    "model1.predict([[2.4,3.4,43.9,35.75,54.3,345.4,52.4,123.5,13.6,13.7,45.8,24.9,2.0]])"
   ]
  },
  {
   "cell_type": "code",
   "execution_count": null,
   "metadata": {},
   "outputs": [],
   "source": []
  }
 ],
 "metadata": {
  "kernelspec": {
   "display_name": "Python 3",
   "language": "python",
   "name": "python3"
  },
  "language_info": {
   "codemirror_mode": {
    "name": "ipython",
    "version": 3
   },
   "file_extension": ".py",
   "mimetype": "text/x-python",
   "name": "python",
   "nbconvert_exporter": "python",
   "pygments_lexer": "ipython3",
   "version": "3.7.7"
  }
 },
 "nbformat": 4,
 "nbformat_minor": 4
}
