{
 "cells": [
  {
   "cell_type": "code",
   "execution_count": 1,
   "metadata": {},
   "outputs": [
    {
     "name": "stderr",
     "output_type": "stream",
     "text": [
      "C:\\Users\\admin\\Anaconda3\\lib\\site-packages\\tensorflow\\python\\framework\\dtypes.py:523: FutureWarning: Passing (type, 1) or '1type' as a synonym of type is deprecated; in a future version of numpy, it will be understood as (type, (1,)) / '(1,)type'.\n",
      "  _np_qint8 = np.dtype([(\"qint8\", np.int8, 1)])\n",
      "C:\\Users\\admin\\Anaconda3\\lib\\site-packages\\tensorflow\\python\\framework\\dtypes.py:524: FutureWarning: Passing (type, 1) or '1type' as a synonym of type is deprecated; in a future version of numpy, it will be understood as (type, (1,)) / '(1,)type'.\n",
      "  _np_quint8 = np.dtype([(\"quint8\", np.uint8, 1)])\n",
      "C:\\Users\\admin\\Anaconda3\\lib\\site-packages\\tensorflow\\python\\framework\\dtypes.py:525: FutureWarning: Passing (type, 1) or '1type' as a synonym of type is deprecated; in a future version of numpy, it will be understood as (type, (1,)) / '(1,)type'.\n",
      "  _np_qint16 = np.dtype([(\"qint16\", np.int16, 1)])\n",
      "C:\\Users\\admin\\Anaconda3\\lib\\site-packages\\tensorflow\\python\\framework\\dtypes.py:526: FutureWarning: Passing (type, 1) or '1type' as a synonym of type is deprecated; in a future version of numpy, it will be understood as (type, (1,)) / '(1,)type'.\n",
      "  _np_quint16 = np.dtype([(\"quint16\", np.uint16, 1)])\n",
      "C:\\Users\\admin\\Anaconda3\\lib\\site-packages\\tensorflow\\python\\framework\\dtypes.py:527: FutureWarning: Passing (type, 1) or '1type' as a synonym of type is deprecated; in a future version of numpy, it will be understood as (type, (1,)) / '(1,)type'.\n",
      "  _np_qint32 = np.dtype([(\"qint32\", np.int32, 1)])\n",
      "C:\\Users\\admin\\Anaconda3\\lib\\site-packages\\tensorflow\\python\\framework\\dtypes.py:532: FutureWarning: Passing (type, 1) or '1type' as a synonym of type is deprecated; in a future version of numpy, it will be understood as (type, (1,)) / '(1,)type'.\n",
      "  np_resource = np.dtype([(\"resource\", np.ubyte, 1)])\n",
      "C:\\Users\\admin\\Anaconda3\\lib\\site-packages\\tensorboard\\compat\\tensorflow_stub\\dtypes.py:541: FutureWarning: Passing (type, 1) or '1type' as a synonym of type is deprecated; in a future version of numpy, it will be understood as (type, (1,)) / '(1,)type'.\n",
      "  _np_qint8 = np.dtype([(\"qint8\", np.int8, 1)])\n",
      "C:\\Users\\admin\\Anaconda3\\lib\\site-packages\\tensorboard\\compat\\tensorflow_stub\\dtypes.py:542: FutureWarning: Passing (type, 1) or '1type' as a synonym of type is deprecated; in a future version of numpy, it will be understood as (type, (1,)) / '(1,)type'.\n",
      "  _np_quint8 = np.dtype([(\"quint8\", np.uint8, 1)])\n",
      "C:\\Users\\admin\\Anaconda3\\lib\\site-packages\\tensorboard\\compat\\tensorflow_stub\\dtypes.py:543: FutureWarning: Passing (type, 1) or '1type' as a synonym of type is deprecated; in a future version of numpy, it will be understood as (type, (1,)) / '(1,)type'.\n",
      "  _np_qint16 = np.dtype([(\"qint16\", np.int16, 1)])\n",
      "C:\\Users\\admin\\Anaconda3\\lib\\site-packages\\tensorboard\\compat\\tensorflow_stub\\dtypes.py:544: FutureWarning: Passing (type, 1) or '1type' as a synonym of type is deprecated; in a future version of numpy, it will be understood as (type, (1,)) / '(1,)type'.\n",
      "  _np_quint16 = np.dtype([(\"quint16\", np.uint16, 1)])\n",
      "C:\\Users\\admin\\Anaconda3\\lib\\site-packages\\tensorboard\\compat\\tensorflow_stub\\dtypes.py:545: FutureWarning: Passing (type, 1) or '1type' as a synonym of type is deprecated; in a future version of numpy, it will be understood as (type, (1,)) / '(1,)type'.\n",
      "  _np_qint32 = np.dtype([(\"qint32\", np.int32, 1)])\n",
      "C:\\Users\\admin\\Anaconda3\\lib\\site-packages\\tensorboard\\compat\\tensorflow_stub\\dtypes.py:550: FutureWarning: Passing (type, 1) or '1type' as a synonym of type is deprecated; in a future version of numpy, it will be understood as (type, (1,)) / '(1,)type'.\n",
      "  np_resource = np.dtype([(\"resource\", np.ubyte, 1)])\n"
     ]
    }
   ],
   "source": [
    "import tensorflow as tf\n",
    "import numpy as np\n",
    "import pandas as pd\n",
    "#import numpy as np\n",
    "#import pandas as pd\n",
    "import matplotlib.pyplot as plt\n",
    "#import seaborn as sns\n",
    "from scipy import stats\n",
    "#from sklearn.ensemble import RandomForestRegressor\n",
    "from sklearn.metrics import mean_squared_error, mean_absolute_error\n",
    "from sklearn.model_selection import train_test_split\n",
    "from sklearn.metrics import r2_score\n",
    "import seaborn as sns"
   ]
  },
  {
   "cell_type": "code",
   "execution_count": 2,
   "metadata": {},
   "outputs": [
    {
     "data": {
      "text/html": [
       "<div>\n",
       "<style scoped>\n",
       "    .dataframe tbody tr th:only-of-type {\n",
       "        vertical-align: middle;\n",
       "    }\n",
       "\n",
       "    .dataframe tbody tr th {\n",
       "        vertical-align: top;\n",
       "    }\n",
       "\n",
       "    .dataframe thead th {\n",
       "        text-align: right;\n",
       "    }\n",
       "</style>\n",
       "<table border=\"1\" class=\"dataframe\">\n",
       "  <thead>\n",
       "    <tr style=\"text-align: right;\">\n",
       "      <th></th>\n",
       "      <th>number_of_rooms</th>\n",
       "      <th>floor_on</th>\n",
       "      <th>total_floors</th>\n",
       "      <th>bedroom</th>\n",
       "      <th>pincode</th>\n",
       "      <th>balkon</th>\n",
       "      <th>terrasse</th>\n",
       "      <th>garten</th>\n",
       "      <th>Gaste-WC</th>\n",
       "      <th>Aufzug</th>\n",
       "      <th>wohung</th>\n",
       "      <th>construction_year</th>\n",
       "      <th>living_area_m2</th>\n",
       "      <th>transform_price</th>\n",
       "    </tr>\n",
       "  </thead>\n",
       "  <tbody>\n",
       "    <tr>\n",
       "      <th>12673</th>\n",
       "      <td>8.0</td>\n",
       "      <td>0</td>\n",
       "      <td>0</td>\n",
       "      <td>3</td>\n",
       "      <td>15754</td>\n",
       "      <td>0</td>\n",
       "      <td>1</td>\n",
       "      <td>1</td>\n",
       "      <td>1</td>\n",
       "      <td>0</td>\n",
       "      <td>0</td>\n",
       "      <td>1981</td>\n",
       "      <td>5.017280</td>\n",
       "      <td>8.698570</td>\n",
       "    </tr>\n",
       "    <tr>\n",
       "      <th>7895</th>\n",
       "      <td>1.0</td>\n",
       "      <td>6</td>\n",
       "      <td>8</td>\n",
       "      <td>1</td>\n",
       "      <td>10717</td>\n",
       "      <td>1</td>\n",
       "      <td>1</td>\n",
       "      <td>0</td>\n",
       "      <td>0</td>\n",
       "      <td>1</td>\n",
       "      <td>1</td>\n",
       "      <td>1963</td>\n",
       "      <td>3.681351</td>\n",
       "      <td>8.707402</td>\n",
       "    </tr>\n",
       "    <tr>\n",
       "      <th>3380</th>\n",
       "      <td>5.0</td>\n",
       "      <td>0</td>\n",
       "      <td>0</td>\n",
       "      <td>0</td>\n",
       "      <td>15711</td>\n",
       "      <td>0</td>\n",
       "      <td>0</td>\n",
       "      <td>0</td>\n",
       "      <td>1</td>\n",
       "      <td>0</td>\n",
       "      <td>0</td>\n",
       "      <td>2018</td>\n",
       "      <td>4.812184</td>\n",
       "      <td>8.316585</td>\n",
       "    </tr>\n",
       "  </tbody>\n",
       "</table>\n",
       "</div>"
      ],
      "text/plain": [
       "       number_of_rooms  floor_on  total_floors  bedroom  pincode  balkon  \\\n",
       "12673              8.0         0             0        3    15754       0   \n",
       "7895               1.0         6             8        1    10717       1   \n",
       "3380               5.0         0             0        0    15711       0   \n",
       "\n",
       "       terrasse  garten  Gaste-WC  Aufzug  wohung  construction_year  \\\n",
       "12673         1       1         1       0       0               1981   \n",
       "7895          1       0         0       1       1               1963   \n",
       "3380          0       0         1       0       0               2018   \n",
       "\n",
       "       living_area_m2  transform_price  \n",
       "12673        5.017280         8.698570  \n",
       "7895         3.681351         8.707402  \n",
       "3380         4.812184         8.316585  "
      ]
     },
     "execution_count": 2,
     "metadata": {},
     "output_type": "execute_result"
    }
   ],
   "source": [
    "data = pd.read_csv(r'F:\\amruth\\after_preprocess_data.csv', encoding = 'iso-8859-1')\n",
    "data.sample(3)"
   ]
  },
  {
   "cell_type": "code",
   "execution_count": 3,
   "metadata": {},
   "outputs": [],
   "source": [
    "X = data.iloc[:, :-1]\n",
    "y = data[['transform_price']]"
   ]
  },
  {
   "cell_type": "code",
   "execution_count": 4,
   "metadata": {},
   "outputs": [
    {
     "data": {
      "text/plain": [
       "((12424, 13), (12424, 1), (319, 13))"
      ]
     },
     "execution_count": 4,
     "metadata": {},
     "output_type": "execute_result"
    }
   ],
   "source": [
    "X_train, X_test, y_train, y_test = train_test_split(X, y, test_size = 0.025, random_state = 0)\n",
    "X_train.shape, y_train.shape, X_test.shape"
   ]
  },
  {
   "cell_type": "code",
   "execution_count": 5,
   "metadata": {},
   "outputs": [],
   "source": [
    "tf.random.set_seed(12)\n",
    "model = tf.keras.models.Sequential([\n",
    "    tf.keras.layers.Lambda(lambda x: tf.expand_dims(x, axis = -1), input_shape = [None]),\n",
    "    tf.keras.layers.SimpleRNN(40, return_sequences = True),\n",
    "    tf.keras.layers.SimpleRNN(20),\n",
    "    tf.keras.layers.Dense(1)\n",
    "])\n",
    "lr_schedule = tf.keras.callbacks.LearningRateScheduler(\n",
    "    lambda epochs: 1e-5 * 10**(epochs / 20))\n",
    "model.compile(loss = 'mse', optimizer = tf.keras.optimizers.Adam(learning_rate = 1e-5), metrics = ['mae'])"
   ]
  },
  {
   "cell_type": "code",
   "execution_count": 6,
   "metadata": {},
   "outputs": [
    {
     "name": "stdout",
     "output_type": "stream",
     "text": [
      "Epoch 1/50\n",
      "12424/12424 [==============================] - 3s 245us/sample - loss: 42.5819 - mae: 6.4822\n",
      "Epoch 2/50\n",
      "12424/12424 [==============================] - 3s 215us/sample - loss: 26.6629 - mae: 5.1085\n",
      "Epoch 3/50\n",
      "12424/12424 [==============================] - 3s 218us/sample - loss: 16.7585 - mae: 4.0456\n",
      "Epoch 4/50\n",
      "12424/12424 [==============================] - 3s 221us/sample - loss: 11.7117 - mae: 3.3797\n",
      "Epoch 5/50\n",
      "12424/12424 [==============================] - 3s 225us/sample - loss: 9.0525 - mae: 2.9692\n",
      "Epoch 6/50\n",
      "12424/12424 [==============================] - 3s 217us/sample - loss: 7.2150 - mae: 2.6482\n",
      "Epoch 7/50\n",
      "12424/12424 [==============================] - 3s 210us/sample - loss: 5.7637 - mae: 2.3625\n",
      "Epoch 8/50\n",
      "12424/12424 [==============================] - 2s 199us/sample - loss: 4.5613 - mae: 2.0951\n",
      "Epoch 9/50\n",
      "12424/12424 [==============================] - 3s 218us/sample - loss: 3.5226 - mae: 1.8320\n",
      "Epoch 10/50\n",
      "12424/12424 [==============================] - 3s 224us/sample - loss: 2.6359 - mae: 1.5727\n",
      "Epoch 11/50\n",
      "12424/12424 [==============================] - 3s 229us/sample - loss: 1.9163 - mae: 1.3264\n",
      "Epoch 12/50\n",
      "12424/12424 [==============================] - 3s 208us/sample - loss: 1.3442 - mae: 1.0931\n",
      "Epoch 13/50\n",
      "12424/12424 [==============================] - 3s 208us/sample - loss: 0.9008 - mae: 0.8744\n",
      "Epoch 14/50\n",
      "12424/12424 [==============================] - 3s 219us/sample - loss: 0.5777 - mae: 0.6774\n",
      "Epoch 15/50\n",
      "12424/12424 [==============================] - 2s 185us/sample - loss: 0.3645 - mae: 0.5182\n",
      "Epoch 16/50\n",
      "12424/12424 [==============================] - 3s 233us/sample - loss: 0.2435 - mae: 0.4051\n",
      "Epoch 17/50\n",
      "12424/12424 [==============================] - 2s 195us/sample - loss: 0.1880 - mae: 0.3407\n",
      "Epoch 18/50\n",
      "12424/12424 [==============================] - 2s 188us/sample - loss: 0.1673 - mae: 0.3115\n",
      "Epoch 19/50\n",
      "12424/12424 [==============================] - 3s 223us/sample - loss: 0.1576 - mae: 0.2974\n",
      "Epoch 20/50\n",
      "12424/12424 [==============================] - 3s 203us/sample - loss: 0.1519 - mae: 0.2896\n",
      "Epoch 21/50\n",
      "12424/12424 [==============================] - 3s 217us/sample - loss: 0.1480 - mae: 0.2847\n",
      "Epoch 22/50\n",
      "12424/12424 [==============================] - 2s 191us/sample - loss: 0.1447 - mae: 0.2808\n",
      "Epoch 23/50\n",
      "12424/12424 [==============================] - 2s 187us/sample - loss: 0.1391 - mae: 0.2752\n",
      "Epoch 24/50\n",
      "12424/12424 [==============================] - 2s 198us/sample - loss: 0.1287 - mae: 0.2649\n",
      "Epoch 25/50\n",
      "12424/12424 [==============================] - 2s 192us/sample - loss: 0.1190 - mae: 0.2550\n",
      "Epoch 26/50\n",
      "12424/12424 [==============================] - 2s 190us/sample - loss: 0.1143 - mae: 0.2499\n",
      "Epoch 27/50\n",
      "12424/12424 [==============================] - 3s 204us/sample - loss: 0.1125 - mae: 0.2480\n",
      "Epoch 28/50\n",
      "12424/12424 [==============================] - 2s 195us/sample - loss: 0.1107 - mae: 0.2462\n",
      "Epoch 29/50\n",
      "12424/12424 [==============================] - 2s 198us/sample - loss: 0.1102 - mae: 0.2458\n",
      "Epoch 30/50\n",
      "12424/12424 [==============================] - 2s 195us/sample - loss: 0.1093 - mae: 0.2450\n",
      "Epoch 31/50\n",
      "12424/12424 [==============================] - 2s 189us/sample - loss: 0.1081 - mae: 0.2431\n",
      "Epoch 32/50\n",
      "12424/12424 [==============================] - 2s 189us/sample - loss: 0.1091 - mae: 0.2451\n",
      "Epoch 33/50\n",
      "12424/12424 [==============================] - 2s 189us/sample - loss: 0.1081 - mae: 0.2442\n",
      "Epoch 34/50\n",
      "12424/12424 [==============================] - 2s 189us/sample - loss: 0.1075 - mae: 0.2431\n",
      "Epoch 35/50\n",
      "12424/12424 [==============================] - 2s 194us/sample - loss: 0.1076 - mae: 0.2428\n",
      "Epoch 36/50\n",
      "12424/12424 [==============================] - 3s 216us/sample - loss: 0.1071 - mae: 0.2422\n",
      "Epoch 37/50\n",
      "12424/12424 [==============================] - 2s 190us/sample - loss: 0.1066 - mae: 0.2421\n",
      "Epoch 38/50\n",
      "12424/12424 [==============================] - 3s 206us/sample - loss: 0.1078 - mae: 0.2434\n",
      "Epoch 39/50\n",
      "12424/12424 [==============================] - 3s 202us/sample - loss: 0.1073 - mae: 0.2429\n",
      "Epoch 40/50\n",
      "12424/12424 [==============================] - 3s 220us/sample - loss: 0.1067 - mae: 0.2417\n",
      "Epoch 41/50\n",
      "12424/12424 [==============================] - 3s 223us/sample - loss: 0.1058 - mae: 0.2408\n",
      "Epoch 42/50\n",
      "12424/12424 [==============================] - 3s 242us/sample - loss: 0.1059 - mae: 0.2414\n",
      "Epoch 43/50\n",
      "12424/12424 [==============================] - 3s 248us/sample - loss: 0.1048 - mae: 0.2398\n",
      "Epoch 44/50\n",
      "12424/12424 [==============================] - 3s 217us/sample - loss: 0.1057 - mae: 0.2405\n",
      "Epoch 45/50\n",
      "12424/12424 [==============================] - 3s 231us/sample - loss: 0.1056 - mae: 0.2405\n",
      "Epoch 46/50\n",
      "12424/12424 [==============================] - 3s 223us/sample - loss: 0.1069 - mae: 0.2427\n",
      "Epoch 47/50\n",
      "12424/12424 [==============================] - 3s 223us/sample - loss: 0.1064 - mae: 0.2411\n",
      "Epoch 48/50\n",
      "12424/12424 [==============================] - 3s 219us/sample - loss: 0.1051 - mae: 0.2401\n",
      "Epoch 49/50\n",
      "12424/12424 [==============================] - 3s 219us/sample - loss: 0.1075 - mae: 0.2425\n",
      "Epoch 50/50\n",
      "12424/12424 [==============================] - 3s 229us/sample - loss: 0.1064 - mae: 0.2412\n"
     ]
    }
   ],
   "source": [
    "history=model.fit(X_train,y_train, epochs=50, callbacks = [lr_schedule])\n"
   ]
  },
  {
   "cell_type": "code",
   "execution_count": 25,
   "metadata": {},
   "outputs": [],
   "source": [
    "#predictions[:5], y_test.to_numpy()[:5]"
   ]
  },
  {
   "cell_type": "code",
   "execution_count": 26,
   "metadata": {},
   "outputs": [],
   "source": [
    "#from sklearn.metrics import mean_squared_error, mean_absolute_error\n",
    "#mean_squared_error(predictions, y_test), mean_absolute_error(predictions, y_test)"
   ]
  },
  {
   "cell_type": "code",
   "execution_count": 7,
   "metadata": {},
   "outputs": [
    {
     "data": {
      "text/plain": [
       "[<matplotlib.lines.Line2D at 0x26a8251c248>]"
      ]
     },
     "execution_count": 7,
     "metadata": {},
     "output_type": "execute_result"
    },
    {
     "data": {
      "image/png": "[encoded data removed]",
      "text/plain": [
       "<Figure size 432x288 with 1 Axes>"
      ]
     },
     "metadata": {
      "needs_background": "light"
     },
     "output_type": "display_data"
    }
   ],
   "source": [
    "lrs = 1e-5 * (10 ** (np.arange(50) / 20))\n",
    "plt.semilogx(lrs, history.history[\"loss\"])\n"
   ]
  },
  {
   "cell_type": "code",
   "execution_count": 8,
   "metadata": {},
   "outputs": [],
   "source": [
    "model1 = tf.keras.models.Sequential([\n",
    "    tf.keras.layers.Lambda(lambda x: tf.expand_dims(x, axis = -1), input_shape = [None]),\n",
    "    tf.keras.layers.SimpleRNN(40, return_sequences = True),\n",
    "    tf.keras.layers.SimpleRNN(20),\n",
    "    tf.keras.layers.Dense(1)\n",
    "])\n",
    "lr_schedule = tf.keras.callbacks.LearningRateScheduler(\n",
    "    lambda epochs: 1e-8 * 10**(epochs / 20))\n",
    "model1.compile(loss = 'mse', optimizer = tf.keras.optimizers.Adam(learning_rate = 7e-05), metrics = ['mae'])"
   ]
  },
  {
   "cell_type": "code",
   "execution_count": 9,
   "metadata": {},
   "outputs": [
    {
     "name": "stdout",
     "output_type": "stream",
     "text": [
      "Epoch 1/100\n",
      "12424/12424 [==============================] - 3s 234us/sample - loss: 25.6952 - mae: 4.9055\n",
      "Epoch 2/100\n",
      "12424/12424 [==============================] - 3s 207us/sample - loss: 9.4878 - mae: 3.0414\n",
      "Epoch 3/100\n",
      "12424/12424 [==============================] - 3s 206us/sample - loss: 5.7329 - mae: 2.3563\n",
      "Epoch 4/100\n",
      "12424/12424 [==============================] - 3s 211us/sample - loss: 3.5557 - mae: 1.8396\n",
      "Epoch 5/100\n",
      "12424/12424 [==============================] - 3s 207us/sample - loss: 2.1326 - mae: 1.4021\n",
      "Epoch 6/100\n",
      "12424/12424 [==============================] - 3s 231us/sample - loss: 1.2331 - mae: 1.0391\n",
      "Epoch 7/100\n",
      "12424/12424 [==============================] - 3s 215us/sample - loss: 0.6964 - mae: 0.7540\n",
      "Epoch 8/100\n",
      "12424/12424 [==============================] - 3s 233us/sample - loss: 0.4003 - mae: 0.5485\n",
      "Epoch 9/100\n",
      "12424/12424 [==============================] - 3s 216us/sample - loss: 0.2542 - mae: 0.4181\n",
      "Epoch 10/100\n",
      "12424/12424 [==============================] - 3s 209us/sample - loss: 0.1885 - mae: 0.3436\n",
      "Epoch 11/100\n",
      "12424/12424 [==============================] - 2s 199us/sample - loss: 0.1591 - mae: 0.3047\n",
      "Epoch 12/100\n",
      "12424/12424 [==============================] - 2s 196us/sample - loss: 0.1471 - mae: 0.2865\n",
      "Epoch 13/100\n",
      "12424/12424 [==============================] - 2s 195us/sample - loss: 0.1425 - mae: 0.2793\n",
      "Epoch 14/100\n",
      "12424/12424 [==============================] - 3s 231us/sample - loss: 0.1403 - mae: 0.2764\n",
      "Epoch 15/100\n",
      "12424/12424 [==============================] - 3s 229us/sample - loss: 0.1384 - mae: 0.2741\n",
      "Epoch 16/100\n",
      "12424/12424 [==============================] - 3s 234us/sample - loss: 0.1332 - mae: 0.2691\n",
      "Epoch 17/100\n",
      "12424/12424 [==============================] - 2s 200us/sample - loss: 0.1283 - mae: 0.2638\n",
      "Epoch 18/100\n",
      "12424/12424 [==============================] - 2s 200us/sample - loss: 0.1221 - mae: 0.2574\n",
      "Epoch 19/100\n",
      "12424/12424 [==============================] - 3s 203us/sample - loss: 0.1171 - mae: 0.2519\n",
      "Epoch 20/100\n",
      "12424/12424 [==============================] - 3s 211us/sample - loss: 0.1141 - mae: 0.2489\n",
      "Epoch 21/100\n",
      "12424/12424 [==============================] - 3s 218us/sample - loss: 0.1118 - mae: 0.2465\n",
      "Epoch 22/100\n",
      "12424/12424 [==============================] - 3s 231us/sample - loss: 0.1106 - mae: 0.2452\n",
      "Epoch 23/100\n",
      "12424/12424 [==============================] - 3s 229us/sample - loss: 0.1098 - mae: 0.2449\n",
      "Epoch 24/100\n",
      "12424/12424 [==============================] - 3s 245us/sample - loss: 0.1094 - mae: 0.2441\n",
      "Epoch 25/100\n",
      "12424/12424 [==============================] - 3s 235us/sample - loss: 0.1088 - mae: 0.2439\n",
      "Epoch 26/100\n",
      "12424/12424 [==============================] - 4s 284us/sample - loss: 0.1086 - mae: 0.2437\n",
      "Epoch 27/100\n",
      "12424/12424 [==============================] - 4s 309us/sample - loss: 0.1079 - mae: 0.2430\n",
      "Epoch 28/100\n",
      "12424/12424 [==============================] - 3s 251us/sample - loss: 0.1078 - mae: 0.2431\n",
      "Epoch 29/100\n",
      "12424/12424 [==============================] - 3s 224us/sample - loss: 0.1073 - mae: 0.2423\n",
      "Epoch 30/100\n",
      "12424/12424 [==============================] - 3s 229us/sample - loss: 0.1072 - mae: 0.2425\n",
      "Epoch 31/100\n",
      "12424/12424 [==============================] - 3s 209us/sample - loss: 0.1068 - mae: 0.2420\n",
      "Epoch 32/100\n",
      "12424/12424 [==============================] - 3s 214us/sample - loss: 0.1064 - mae: 0.2418\n",
      "Epoch 33/100\n",
      "12424/12424 [==============================] - 3s 207us/sample - loss: 0.1064 - mae: 0.2418\n",
      "Epoch 34/100\n",
      "12424/12424 [==============================] - 3s 224us/sample - loss: 0.1059 - mae: 0.2411\n",
      "Epoch 35/100\n",
      "12424/12424 [==============================] - 3s 245us/sample - loss: 0.1059 - mae: 0.2412\n",
      "Epoch 36/100\n",
      "12424/12424 [==============================] - 3s 224us/sample - loss: 0.1058 - mae: 0.2409\n",
      "Epoch 37/100\n",
      "12424/12424 [==============================] - 3s 219us/sample - loss: 0.1057 - mae: 0.2408\n",
      "Epoch 38/100\n",
      "12424/12424 [==============================] - 3s 231us/sample - loss: 0.1056 - mae: 0.2405\n",
      "Epoch 39/100\n",
      "12424/12424 [==============================] - 3s 248us/sample - loss: 0.1055 - mae: 0.2407\n",
      "Epoch 40/100\n",
      "12424/12424 [==============================] - 3s 243us/sample - loss: 0.1052 - mae: 0.2402\n",
      "Epoch 41/100\n",
      "12424/12424 [==============================] - 3s 232us/sample - loss: 0.1051 - mae: 0.2402\n",
      "Epoch 42/100\n",
      "12424/12424 [==============================] - 3s 212us/sample - loss: 0.1048 - mae: 0.2400\n",
      "Epoch 43/100\n",
      "12424/12424 [==============================] - 3s 214us/sample - loss: 0.1048 - mae: 0.2401\n",
      "Epoch 44/100\n",
      "12424/12424 [==============================] - 3s 218us/sample - loss: 0.1045 - mae: 0.2394\n",
      "Epoch 45/100\n",
      "12424/12424 [==============================] - 3s 260us/sample - loss: 0.1043 - mae: 0.2393\n",
      "Epoch 46/100\n",
      "12424/12424 [==============================] - 3s 232us/sample - loss: 0.1042 - mae: 0.2392\n",
      "Epoch 47/100\n",
      "12424/12424 [==============================] - 3s 216us/sample - loss: 0.1041 - mae: 0.2393\n",
      "Epoch 48/100\n",
      "12424/12424 [==============================] - 3s 220us/sample - loss: 0.1041 - mae: 0.2390\n",
      "Epoch 49/100\n",
      "12424/12424 [==============================] - 3s 209us/sample - loss: 0.1037 - mae: 0.2388\n",
      "Epoch 50/100\n",
      "12424/12424 [==============================] - 3s 228us/sample - loss: 0.1036 - mae: 0.2387\n",
      "Epoch 51/100\n",
      "12424/12424 [==============================] - 3s 225us/sample - loss: 0.1036 - mae: 0.2388\n",
      "Epoch 52/100\n",
      "12424/12424 [==============================] - 2s 196us/sample - loss: 0.1034 - mae: 0.2383\n",
      "Epoch 53/100\n",
      "12424/12424 [==============================] - 3s 212us/sample - loss: 0.1031 - mae: 0.2380\n",
      "Epoch 54/100\n",
      "12424/12424 [==============================] - 3s 237us/sample - loss: 0.1031 - mae: 0.2381\n",
      "Epoch 55/100\n",
      "12424/12424 [==============================] - 2s 193us/sample - loss: 0.1029 - mae: 0.2378\n",
      "Epoch 56/100\n",
      "12424/12424 [==============================] - 3s 203us/sample - loss: 0.1029 - mae: 0.2377s - loss: 0.1035 - mae: \n",
      "Epoch 57/100\n",
      "12424/12424 [==============================] - 3s 261us/sample - loss: 0.1027 - mae: 0.2374\n",
      "Epoch 58/100\n",
      "12424/12424 [==============================] - 3s 213us/sample - loss: 0.1024 - mae: 0.2370\n",
      "Epoch 59/100\n",
      "12424/12424 [==============================] - 2s 194us/sample - loss: 0.1026 - mae: 0.2373\n",
      "Epoch 60/100\n",
      "12424/12424 [==============================] - 3s 235us/sample - loss: 0.1023 - mae: 0.2369\n",
      "Epoch 61/100\n",
      "12424/12424 [==============================] - 3s 219us/sample - loss: 0.1021 - mae: 0.2369\n",
      "Epoch 62/100\n",
      "12424/12424 [==============================] - 3s 207us/sample - loss: 0.1020 - mae: 0.2367\n",
      "Epoch 63/100\n",
      "12424/12424 [==============================] - 3s 221us/sample - loss: 0.1020 - mae: 0.2365\n",
      "Epoch 64/100\n",
      "12424/12424 [==============================] - 3s 209us/sample - loss: 0.1020 - mae: 0.2370\n",
      "Epoch 65/100\n",
      "12424/12424 [==============================] - 3s 226us/sample - loss: 0.1019 - mae: 0.2363\n",
      "Epoch 66/100\n",
      "12424/12424 [==============================] - 3s 228us/sample - loss: 0.1018 - mae: 0.2362\n",
      "Epoch 67/100\n",
      "12424/12424 [==============================] - 3s 219us/sample - loss: 0.1016 - mae: 0.2363\n",
      "Epoch 68/100\n",
      "12424/12424 [==============================] - 3s 210us/sample - loss: 0.1015 - mae: 0.2358\n",
      "Epoch 69/100\n",
      "12424/12424 [==============================] - 3s 217us/sample - loss: 0.1015 - mae: 0.2361\n",
      "Epoch 70/100\n",
      "12424/12424 [==============================] - 3s 235us/sample - loss: 0.1013 - mae: 0.2357\n",
      "Epoch 71/100\n",
      "12424/12424 [==============================] - 3s 236us/sample - loss: 0.1013 - mae: 0.2354\n",
      "Epoch 72/100\n",
      "12424/12424 [==============================] - 3s 230us/sample - loss: 0.1011 - mae: 0.2355\n",
      "Epoch 73/100\n",
      "12424/12424 [==============================] - 3s 236us/sample - loss: 0.1011 - mae: 0.2357\n",
      "Epoch 74/100\n",
      "12424/12424 [==============================] - 3s 214us/sample - loss: 0.1009 - mae: 0.2353\n",
      "Epoch 75/100\n",
      "12424/12424 [==============================] - 3s 229us/sample - loss: 0.1009 - mae: 0.2349\n",
      "Epoch 76/100\n",
      "12424/12424 [==============================] - 3s 216us/sample - loss: 0.1008 - mae: 0.2351\n",
      "Epoch 77/100\n",
      "12424/12424 [==============================] - 3s 213us/sample - loss: 0.1008 - mae: 0.2350\n",
      "Epoch 78/100\n"
     ]
    },
    {
     "name": "stdout",
     "output_type": "stream",
     "text": [
      "12424/12424 [==============================] - 3s 222us/sample - loss: 0.1007 - mae: 0.2349\n",
      "Epoch 79/100\n",
      "12424/12424 [==============================] - 3s 234us/sample - loss: 0.1006 - mae: 0.2350\n",
      "Epoch 80/100\n",
      "12424/12424 [==============================] - 3s 233us/sample - loss: 0.1003 - mae: 0.2344\n",
      "Epoch 81/100\n",
      "12424/12424 [==============================] - 3s 209us/sample - loss: 0.1001 - mae: 0.2339\n",
      "Epoch 82/100\n",
      "12424/12424 [==============================] - 3s 243us/sample - loss: 0.1000 - mae: 0.2341\n",
      "Epoch 83/100\n",
      "12424/12424 [==============================] - 3s 210us/sample - loss: 0.1000 - mae: 0.2334\n",
      "Epoch 84/100\n",
      "12424/12424 [==============================] - 3s 224us/sample - loss: 0.0996 - mae: 0.2333\n",
      "Epoch 85/100\n",
      "12424/12424 [==============================] - 3s 223us/sample - loss: 0.0996 - mae: 0.2332\n",
      "Epoch 86/100\n",
      "12424/12424 [==============================] - 3s 260us/sample - loss: 0.0995 - mae: 0.2329\n",
      "Epoch 87/100\n",
      "12424/12424 [==============================] - 3s 263us/sample - loss: 0.0992 - mae: 0.2327\n",
      "Epoch 88/100\n",
      "12424/12424 [==============================] - 3s 227us/sample - loss: 0.0990 - mae: 0.2319\n",
      "Epoch 89/100\n",
      "12424/12424 [==============================] - 3s 227us/sample - loss: 0.0992 - mae: 0.2324\n",
      "Epoch 90/100\n",
      "12424/12424 [==============================] - 3s 229us/sample - loss: 0.0986 - mae: 0.2315\n",
      "Epoch 91/100\n",
      "12424/12424 [==============================] - 3s 236us/sample - loss: 0.0988 - mae: 0.2312\n",
      "Epoch 92/100\n",
      "12424/12424 [==============================] - 3s 238us/sample - loss: 0.0984 - mae: 0.2309\n",
      "Epoch 93/100\n",
      "12424/12424 [==============================] - 3s 219us/sample - loss: 0.0984 - mae: 0.2307\n",
      "Epoch 94/100\n",
      "12424/12424 [==============================] - 3s 217us/sample - loss: 0.0983 - mae: 0.2304\n",
      "Epoch 95/100\n",
      "12424/12424 [==============================] - 3s 216us/sample - loss: 0.0983 - mae: 0.2301\n",
      "Epoch 96/100\n",
      "12424/12424 [==============================] - 3s 211us/sample - loss: 0.0982 - mae: 0.2298\n",
      "Epoch 97/100\n",
      "12424/12424 [==============================] - 3s 219us/sample - loss: 0.0980 - mae: 0.2298\n",
      "Epoch 98/100\n",
      "12424/12424 [==============================] - 3s 229us/sample - loss: 0.0979 - mae: 0.2297\n",
      "Epoch 99/100\n",
      "12424/12424 [==============================] - 3s 225us/sample - loss: 0.0980 - mae: 0.2296\n",
      "Epoch 100/100\n",
      "12424/12424 [==============================] - 3s 239us/sample - loss: 0.0979 - mae: 0.2292\n"
     ]
    }
   ],
   "source": [
    "history=model1.fit(X_train,y_train, epochs=100)\n"
   ]
  },
  {
   "cell_type": "code",
   "execution_count": 10,
   "metadata": {},
   "outputs": [],
   "source": [
    "predictions = model1.predict(X_test)"
   ]
  },
  {
   "cell_type": "code",
   "execution_count": 11,
   "metadata": {},
   "outputs": [
    {
     "data": {
      "text/plain": [
       "(array([[8.610559 ],\n",
       "        [8.3773155],\n",
       "        [8.444077 ],\n",
       "        [7.970634 ],\n",
       "        [7.7517114]], dtype=float32),\n",
       " array([[8.54500289],\n",
       "        [8.37047041],\n",
       "        [8.69484149],\n",
       "        [7.71760729],\n",
       "        [7.7403941 ]]))"
      ]
     },
     "execution_count": 11,
     "metadata": {},
     "output_type": "execute_result"
    }
   ],
   "source": [
    "predictions[:5], y_test.to_numpy()[:5]"
   ]
  },
  {
   "cell_type": "code",
   "execution_count": 12,
   "metadata": {},
   "outputs": [
    {
     "data": {
      "text/plain": [
       "(0.09245670679444783, 0.2286776151137619)"
      ]
     },
     "execution_count": 12,
     "metadata": {},
     "output_type": "execute_result"
    }
   ],
   "source": [
    "from sklearn.metrics import mean_squared_error, mean_absolute_error\n",
    "mean_squared_error(predictions, y_test), mean_absolute_error(predictions, y_test)"
   ]
  },
  {
   "cell_type": "code",
   "execution_count": 13,
   "metadata": {},
   "outputs": [
    {
     "data": {
      "text/plain": [
       "[<matplotlib.lines.Line2D at 0x26a8574d448>]"
      ]
     },
     "execution_count": 13,
     "metadata": {},
     "output_type": "execute_result"
    },
    {
     "data": {
      "image/png": "[encoded data removed]",
      "text/plain": [
       "<Figure size 432x288 with 1 Axes>"
      ]
     },
     "metadata": {
      "needs_background": "light"
     },
     "output_type": "display_data"
    }
   ],
   "source": [
    "plt.plot(range(0, len(history.history[\"loss\"])), history.history[\"loss\"][0:])"
   ]
  },
  {
   "cell_type": "code",
   "execution_count": null,
   "metadata": {},
   "outputs": [],
   "source": []
  }
 ],
 "metadata": {
  "kernelspec": {
   "display_name": "Python 3",
   "language": "python",
   "name": "python3"
  },
  "language_info": {
   "codemirror_mode": {
    "name": "ipython",
    "version": 3
   },
   "file_extension": ".py",
   "mimetype": "text/x-python",
   "name": "python",
   "nbconvert_exporter": "python",
   "pygments_lexer": "ipython3",
   "version": "3.7.7"
  }
 },
 "nbformat": 4,
 "nbformat_minor": 4
}
